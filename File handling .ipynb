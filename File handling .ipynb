{
 "cells": [
  {
   "cell_type": "markdown",
   "id": "99daf0f2-d916-4216-96be-c2f3c20dc42c",
   "metadata": {},
   "source": [
    "### **File Handling with Data Processing**  \n",
    "Write a Python program that:\n",
    "1. Reads data from a text file containing multiple lines, where each line contains a name and a score (e.g., `John, 89`).\n",
    "```\n",
    "John, 98\n",
    "Hari, 33\n",
    "Andrew, 43\n",
    "Saimon, 66\n",
    "July, 32\n",
    "Hari, 62\n",
    "```\n",
    "3. Stores the data in a dictionary and sorts the dictionary by score.\n",
    "4. Writes the sorted data back into a new file, where the highest scores appear first.\n"
   ]
  },
  {
   "cell_type": "code",
   "execution_count": 2,
   "id": "3ce25f36-e38f-438e-a41b-1c273f8fd8bd",
   "metadata": {},
   "outputs": [
    {
     "data": {
      "text/plain": [
       "{'john': 98, 'Hari': 62, 'Andrew': 43, 'Saimon': 66, 'July': 32}"
      ]
     },
     "execution_count": 2,
     "metadata": {},
     "output_type": "execute_result"
    }
   ],
   "source": [
    "scores_dict = dict()\n",
    "with open(\"scores.txt\", \"r\") as file:\n",
    "    for line in file:\n",
    "        name, score = line.strip().split(\", \")\n",
    "        scores_dict[name] = int(score)\n",
    "\n",
    "scores_dict"
   ]
  },
  {
   "cell_type": "code",
   "execution_count": 3,
   "id": "e039a879-98d7-4226-865d-c37cf935d151",
   "metadata": {},
   "outputs": [
    {
     "data": {
      "text/plain": [
       "[('john', 98), ('Saimon', 66), ('Hari', 62), ('Andrew', 43), ('July', 32)]"
      ]
     },
     "execution_count": 3,
     "metadata": {},
     "output_type": "execute_result"
    }
   ],
   "source": [
    "sorted_dict = sorted(scores_dict.items(), key = lambda x : x[1], reverse=True)\n",
    "sorted_dict"
   ]
  },
  {
   "cell_type": "code",
   "execution_count": 4,
   "id": "86c6d136-13d8-417e-9534-276b91b2862a",
   "metadata": {},
   "outputs": [],
   "source": [
    "with open(\"score_sort.txt\", \"w\") as file:\n",
    "   (file.write(f\"{name}, {score} \\n\") for name, score in sorted_dict)"
   ]
  },
  {
   "cell_type": "markdown",
   "id": "5e634b35-9bad-4547-8562-fb98d3311cfc",
   "metadata": {},
   "source": [
    "## Uses the `reduce` function to find the **greatest common divisor (GCD)** of a list of integers."
   ]
  },
  {
   "cell_type": "code",
   "execution_count": 5,
   "id": "609a97aa-3731-4e16-b6c1-fdedf9c1a6bd",
   "metadata": {},
   "outputs": [],
   "source": [
    "from functools import reduce\n",
    "from math import gcd"
   ]
  },
  {
   "cell_type": "code",
   "execution_count": 6,
   "id": "be2465f6-0c88-4818-b9c6-bdf7579257df",
   "metadata": {},
   "outputs": [
    {
     "data": {
      "text/plain": [
       "16"
      ]
     },
     "execution_count": 6,
     "metadata": {},
     "output_type": "execute_result"
    }
   ],
   "source": [
    "reduce(gcd, [48,64, 32, 16])"
   ]
  },
  {
   "cell_type": "code",
   "execution_count": null,
   "id": "e571b66b-c97e-45dd-bbd9-012525382a68",
   "metadata": {},
   "outputs": [],
   "source": []
  }
 ],
 "metadata": {
  "kernelspec": {
   "display_name": "Python 3 (ipykernel)",
   "language": "python",
   "name": "python3"
  },
  "language_info": {
   "codemirror_mode": {
    "name": "ipython",
    "version": 3
   },
   "file_extension": ".py",
   "mimetype": "text/x-python",
   "name": "python",
   "nbconvert_exporter": "python",
   "pygments_lexer": "ipython3",
   "version": "3.13.0"
  }
 },
 "nbformat": 4,
 "nbformat_minor": 5
}
