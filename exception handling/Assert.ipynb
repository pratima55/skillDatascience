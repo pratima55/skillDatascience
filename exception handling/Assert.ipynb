{
 "cells": [
  {
   "cell_type": "markdown",
   "id": "ed3d6878-8c2e-4194-9f71-299fe513ecd8",
   "metadata": {},
   "source": [
    "# Python `assert` Statement\n",
    "\n",
    "In Python, `assert` is a debugging aid that tests a condition, and triggers an error if the condition is not true. It is commonly used to debug the code during development, by ensuring that assumptions about the code's behavior are met.\n",
    "\n",
    "The assert statement has the following syntax:\n",
    "\n",
    "```python\n",
    "assert condition, message\n",
    "```\n",
    "\n",
    "Here, `condition` is the expression to be tested and `message` is an optional error message string to be displayed if the condition is not true.\n",
    "\n",
    "When the `assert` statement is executed, Python evaluates the `condition`. If it is true, the program continues to execute normally. If it is false, Python raises an `AssertionError` with the optional error message `message`."
   ]
  },
  {
   "cell_type": "code",
   "execution_count": null,
   "id": "42a234c4-8bcd-4b01-a737-1d1ad4ed8fb2",
   "metadata": {},
   "outputs": [],
   "source": [
    "def divide(x,y):\n",
    "    assert y!=0, \"Cannot divide by zero\"\n",
    "    return x / y\n",
    "    "
   ]
  },
  {
   "cell_type": "code",
   "execution_count": null,
   "id": "4307d794-65bb-477d-95e5-7b833ec27a37",
   "metadata": {},
   "outputs": [],
   "source": [
    "divide(4,2)"
   ]
  },
  {
   "cell_type": "code",
   "execution_count": null,
   "id": "88c5ea43-b327-4a64-8f88-ed307530a8d4",
   "metadata": {},
   "outputs": [],
   "source": [
    "assert len([1,2,3,4,5]) ==4, \"Logic Error\""
   ]
  },
  {
   "cell_type": "code",
   "execution_count": null,
   "id": "38432128-2b8d-4bd4-9f67-e29c209756c5",
   "metadata": {},
   "outputs": [],
   "source": []
  },
  {
   "cell_type": "markdown",
   "id": "6ce2166d-ccc2-4caf-97a0-ff05e0d7f7c3",
   "metadata": {},
   "source": [
    "### **Exception Handling and Debugging**  \n",
    "Write a Python program that:\n",
    "1. Takes a string input from the user and tries to convert it into an integer.\n",
    "2. Raises a **custom exception** called `InvalidInputError` if the string contains non-numeric characters.\n"
   ]
  },
  {
   "cell_type": "code",
   "execution_count": null,
   "id": "4f0e4e07-9209-4b86-a4ab-338f28f260a4",
   "metadata": {},
   "outputs": [],
   "source": [
    "class InvalidInputError(Exception):\n",
    "    def __init__(self):\n",
    "        self.message = \"Input contains non-numeric characters\"\n",
    "        super().__init__(self.message)"
   ]
  },
  {
   "cell_type": "code",
   "execution_count": null,
   "id": "6fcd5d3e-e721-47dd-80a6-940735d1005f",
   "metadata": {},
   "outputs": [],
   "source": [
    "user_input = input(\"Enter a number..\")\n",
    "if user_input.isnumeric():\n",
    "    print(int(user_input))\n",
    "else:\n",
    "    raise InvalidInputError"
   ]
  },
  {
   "cell_type": "code",
   "execution_count": null,
   "id": "b99bd4a6-9da5-4e64-bda7-54028c1d4e3d",
   "metadata": {},
   "outputs": [],
   "source": []
  }
 ],
 "metadata": {
  "kernelspec": {
   "display_name": "Python 3 (ipykernel)",
   "language": "python",
   "name": "python3"
  },
  "language_info": {
   "codemirror_mode": {
    "name": "ipython",
    "version": 3
   },
   "file_extension": ".py",
   "mimetype": "text/x-python",
   "name": "python",
   "nbconvert_exporter": "python",
   "pygments_lexer": "ipython3",
   "version": "3.13.0"
  }
 },
 "nbformat": 4,
 "nbformat_minor": 5
}
