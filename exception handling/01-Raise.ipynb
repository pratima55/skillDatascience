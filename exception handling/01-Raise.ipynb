{
 "cells": [
  {
   "cell_type": "markdown",
   "id": "b4364e79-e51e-47e4-ab82-06783eab9ad0",
   "metadata": {},
   "source": [
    "## Python raise statement"
   ]
  },
  {
   "cell_type": "code",
   "execution_count": null,
   "id": "dffaf053-97f9-4ccd-89fa-5848beee7fcc",
   "metadata": {},
   "outputs": [],
   "source": []
  },
  {
   "cell_type": "code",
   "execution_count": null,
   "id": "40020e02-5150-41e8-83cf-b39dff8a70da",
   "metadata": {},
   "outputs": [],
   "source": []
  },
  {
   "cell_type": "code",
   "execution_count": 3,
   "id": "1f0aa14e-b4bf-4bd1-8014-8a9a304ecf4f",
   "metadata": {},
   "outputs": [
    {
     "ename": "ValueError",
     "evalue": "y should be greater than o",
     "output_type": "error",
     "traceback": [
      "\u001b[1;31m---------------------------------------------------------------------------\u001b[0m",
      "\u001b[1;31mValueError\u001b[0m                                Traceback (most recent call last)",
      "Cell \u001b[1;32mIn[3], line 4\u001b[0m\n\u001b[0;32m      2\u001b[0m y\u001b[38;5;241m=\u001b[39m\u001b[38;5;241m0\u001b[39m\n\u001b[0;32m      3\u001b[0m \u001b[38;5;28;01mif\u001b[39;00m y\u001b[38;5;241m==\u001b[39m\u001b[38;5;241m0\u001b[39m:\n\u001b[1;32m----> 4\u001b[0m     \u001b[38;5;28;01mraise\u001b[39;00m \u001b[38;5;167;01mValueError\u001b[39;00m(\u001b[38;5;124m\"\u001b[39m\u001b[38;5;124my should be greater than o\u001b[39m\u001b[38;5;124m\"\u001b[39m)\n\u001b[0;32m      5\u001b[0m x\u001b[38;5;241m/\u001b[39my    \n",
      "\u001b[1;31mValueError\u001b[0m: y should be greater than o"
     ]
    }
   ],
   "source": [
    "x=2\n",
    "y=0\n",
    "if y==0:\n",
    "    raise ValueError(\"y should be greater than o\")\n",
    "x/y    "
   ]
  },
  {
   "cell_type": "markdown",
   "id": "2997666b-8ecf-40cc-9b28-4bdb0e235ffd",
   "metadata": {},
   "source": [
    "## User define exception\n"
   ]
  },
  {
   "cell_type": "markdown",
   "id": "af30f45f-3eda-4e30-845b-b7f432538b4b",
   "metadata": {},
   "source": [
    "class MyException(Exception):\n",
    "    pass"
   ]
  },
  {
   "cell_type": "code",
   "execution_count": null,
   "id": "89e2b5c6-6885-4681-b656-b9d39258feab",
   "metadata": {},
   "outputs": [],
   "source": [
    "class UserNotFound(Exception):\n",
    "    pass"
   ]
  },
  {
   "cell_type": "code",
   "execution_count": 7,
   "id": "536946cc-90b8-4191-a015-68f97f355a8e",
   "metadata": {},
   "outputs": [],
   "source": [
    "def get_user(user_id):\n",
    "    \"\"\"\n",
    "    ..\n",
    "    ..\n",
    "    \"\"\"\n",
    "    raise UserNotFound(f\"No user with id {user_id}\")\n",
    "    "
   ]
  },
  {
   "cell_type": "code",
   "execution_count": 8,
   "id": "da55ec59-c6be-4327-ac1f-e97a8830459c",
   "metadata": {},
   "outputs": [
    {
     "ename": "NameError",
     "evalue": "name 'UserNotFound' is not defined",
     "output_type": "error",
     "traceback": [
      "\u001b[1;31m---------------------------------------------------------------------------\u001b[0m",
      "\u001b[1;31mNameError\u001b[0m                                 Traceback (most recent call last)",
      "Cell \u001b[1;32mIn[8], line 1\u001b[0m\n\u001b[1;32m----> 1\u001b[0m \u001b[43mget_user\u001b[49m\u001b[43m(\u001b[49m\u001b[38;5;241;43m44\u001b[39;49m\u001b[43m)\u001b[49m\n",
      "Cell \u001b[1;32mIn[7], line 6\u001b[0m, in \u001b[0;36mget_user\u001b[1;34m(user_id)\u001b[0m\n\u001b[0;32m      1\u001b[0m \u001b[38;5;28;01mdef\u001b[39;00m \u001b[38;5;21mget_user\u001b[39m(user_id):\n\u001b[0;32m      2\u001b[0m \u001b[38;5;250m    \u001b[39m\u001b[38;5;124;03m\"\"\"\u001b[39;00m\n\u001b[0;32m      3\u001b[0m \u001b[38;5;124;03m    ..\u001b[39;00m\n\u001b[0;32m      4\u001b[0m \u001b[38;5;124;03m    ..\u001b[39;00m\n\u001b[0;32m      5\u001b[0m \u001b[38;5;124;03m    \"\"\"\u001b[39;00m\n\u001b[1;32m----> 6\u001b[0m     \u001b[38;5;28;01mraise\u001b[39;00m \u001b[43mUserNotFound\u001b[49m(\u001b[38;5;124mf\u001b[39m\u001b[38;5;124m\"\u001b[39m\u001b[38;5;124mNo user with id \u001b[39m\u001b[38;5;132;01m{\u001b[39;00muser_id\u001b[38;5;132;01m}\u001b[39;00m\u001b[38;5;124m\"\u001b[39m)\n",
      "\u001b[1;31mNameError\u001b[0m: name 'UserNotFound' is not defined"
     ]
    }
   ],
   "source": [
    "get_user(44)"
   ]
  },
  {
   "cell_type": "code",
   "execution_count": null,
   "id": "26b89ff4-d3f3-4154-8bea-0835d17a6589",
   "metadata": {},
   "outputs": [],
   "source": []
  }
 ],
 "metadata": {
  "kernelspec": {
   "display_name": "Python 3 (ipykernel)",
   "language": "python",
   "name": "python3"
  },
  "language_info": {
   "codemirror_mode": {
    "name": "ipython",
    "version": 3
   },
   "file_extension": ".py",
   "mimetype": "text/x-python",
   "name": "python",
   "nbconvert_exporter": "python",
   "pygments_lexer": "ipython3",
   "version": "3.13.0"
  }
 },
 "nbformat": 4,
 "nbformat_minor": 5
}
