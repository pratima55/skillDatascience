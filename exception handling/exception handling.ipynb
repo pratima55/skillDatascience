{
 "cells": [
  {
   "cell_type": "markdown",
   "id": "f330146d-2089-4806-84d5-04c7cae653cc",
   "metadata": {},
   "source": [
    "## Basic Exception Handling in Python\n",
    "\n",
    "\n",
    "try: \n",
    "\n",
    "  #code that may raise an exception\n",
    "\n",
    "except ExceprionType:\n",
    "\n",
    "   #code to handle the excepton\n",
    "  "
   ]
  },
  {
   "cell_type": "code",
   "execution_count": 1,
   "id": "e79ca661-6ece-4395-8ce6-98a1ddc95fb1",
   "metadata": {},
   "outputs": [
    {
     "name": "stdin",
     "output_type": "stream",
     "text": [
      "enter a number o\n"
     ]
    },
    {
     "name": "stdout",
     "output_type": "stream",
     "text": [
      "invalid input\n"
     ]
    }
   ],
   "source": [
    "try:\n",
    "    num = int(input(\"enter a number\"))\n",
    "    print(num)\n",
    "\n",
    "except ValueError:\n",
    "    print(\"invalid input\")"
   ]
  },
  {
   "cell_type": "markdown",
   "id": "0e9f73bd-2ca3-41a1-be35-01bbb82c8321",
   "metadata": {},
   "source": [
    "## Catching Multiple Exceptions\n",
    "\n",
    "syntax:  \n",
    "\n",
    "try:\n",
    "\n",
    "    #code\n",
    "\n",
    "except ExceptionType1:\n",
    "\n",
    "    #code\n",
    "\n",
    "except ExceptionType2:\n",
    "\n",
    "    #code"
   ]
  },
  {
   "cell_type": "code",
   "execution_count": 3,
   "id": "0d38cb99-ee59-452c-9cac-5f9770148d52",
   "metadata": {},
   "outputs": [
    {
     "name": "stdin",
     "output_type": "stream",
     "text": [
      "enter a number 4\n",
      "enter another number 0\n"
     ]
    },
    {
     "name": "stdout",
     "output_type": "stream",
     "text": [
      "Cannot divide by zero\n",
      "1\n"
     ]
    }
   ],
   "source": [
    "try:\n",
    "    x= int(input(\"enter a number\"))\n",
    "    y= int(input(\"enter another number\"))\n",
    "    result = x/y\n",
    "\n",
    "except ValueError:\n",
    "    print(\"invalid input\")\n",
    "    result = 1\n",
    "\n",
    "except ZeroDivisionError:\n",
    "    print(\"Cannot divide by zero\")\n",
    "    result = 1\n",
    "\n",
    "print(result)    \n",
    "    "
   ]
  },
  {
   "cell_type": "code",
   "execution_count": 4,
   "id": "c21d9e28-b901-4749-b1fa-d00d08b8586f",
   "metadata": {},
   "outputs": [
    {
     "name": "stdout",
     "output_type": "stream",
     "text": [
      "cannot convert to int\n"
     ]
    }
   ],
   "source": [
    "value = \"abcd\"\n",
    "try:\n",
    "    print(int(value))\n",
    "\n",
    "except( ValueError, TypeError):\n",
    "    print(\"cannot convert to int\")"
   ]
  },
  {
   "cell_type": "code",
   "execution_count": 5,
   "id": "6931650c-399d-4523-bebf-95d6080f7873",
   "metadata": {},
   "outputs": [
    {
     "name": "stdout",
     "output_type": "stream",
     "text": [
      "cannot convert to int\n"
     ]
    }
   ],
   "source": [
    "value = \"abcd\"\n",
    "try:\n",
    "    print(int(value))\n",
    "\n",
    "except Exception:\n",
    "    print(\"cannot convert to int\")"
   ]
  },
  {
   "cell_type": "code",
   "execution_count": 8,
   "id": "13b7e520-fc42-427e-880a-7c59846d496c",
   "metadata": {},
   "outputs": [
    {
     "name": "stdin",
     "output_type": "stream",
     "text": [
      "enter the index 4\n"
     ]
    },
    {
     "name": "stdout",
     "output_type": "stream",
     "text": [
      "list out of range\n",
      "a\n"
     ]
    }
   ],
   "source": [
    "lst = [\"a\",\"b\",\"c\",\"d\"]\n",
    "try:\n",
    "    idx = int(input(\"enter the index\"))\n",
    "    print(lst[idx])\n",
    "\n",
    "except IndexError:\n",
    "    print(\"list out of range\")\n",
    "    print (lst[0])"
   ]
  },
  {
   "cell_type": "markdown",
   "id": "5108b1c0-626a-4663-ad92-5158d43f4df5",
   "metadata": {},
   "source": [
    "## The else Block"
   ]
  },
  {
   "cell_type": "code",
   "execution_count": 11,
   "id": "bd8ebec5-c1cb-418d-a703-3e1d77b62d31",
   "metadata": {},
   "outputs": [
    {
     "name": "stdin",
     "output_type": "stream",
     "text": [
      "enter a number 45\n",
      "enter another number 96\n"
     ]
    },
    {
     "name": "stdout",
     "output_type": "stream",
     "text": [
      "else block\n",
      "0.46875\n",
      "0.46875\n"
     ]
    }
   ],
   "source": [
    "try:\n",
    "    x= int(input(\"enter a number\"))\n",
    "    y= int(input(\"enter another number\"))\n",
    "    result = x/y\n",
    "\n",
    "except ValueError:\n",
    "    print(\"invalid input\")\n",
    "    result = 1\n",
    "\n",
    "except ZeroDivisionError:\n",
    "    print(\"Cannot divide by zero\")\n",
    "    result = 1\n",
    "else :\n",
    "    print(\"else block\")\n",
    "    print(result)\n",
    "print(result)    "
   ]
  },
  {
   "cell_type": "markdown",
   "id": "9d980198-74c3-4ea5-8542-b91a03c6ef5b",
   "metadata": {},
   "source": [
    "## The finally Block"
   ]
  },
  {
   "cell_type": "code",
   "execution_count": 12,
   "id": "56c96a92-6df3-4bb3-aca2-e782d6ed0e04",
   "metadata": {},
   "outputs": [
    {
     "name": "stdin",
     "output_type": "stream",
     "text": [
      "enter a number 4\n",
      "enter another number 1\n"
     ]
    },
    {
     "name": "stdout",
     "output_type": "stream",
     "text": [
      "the result is 2\n",
      "this block always execute\n",
      "4.0\n"
     ]
    }
   ],
   "source": [
    "try:\n",
    "    x= int(input(\"enter a number\"))\n",
    "    y= int(input(\"enter another number\"))\n",
    "    result = x/y\n",
    "\n",
    "except ValueError:\n",
    "    print(\"invalid input\")\n",
    "    result = 1\n",
    "\n",
    "except ZeroDivisionError:\n",
    "    print(\"Cannot divide by zero\")\n",
    "    result = 1\n",
    "\n",
    "else:\n",
    "    print(\"the result is 2\")\n",
    "\n",
    "finally:\n",
    "    print(\"this block always execute\")\n",
    "          \n",
    "\n",
    "print(result)    "
   ]
  },
  {
   "cell_type": "markdown",
   "id": "9eedc149-9aba-4b04-9eeb-22ec8d469ed4",
   "metadata": {},
   "source": [
    "## Custom error handling"
   ]
  },
  {
   "cell_type": "code",
   "execution_count": 14,
   "id": "eb2b06e7-442d-4094-8676-a1d1af806e42",
   "metadata": {},
   "outputs": [],
   "source": [
    "class UserNotFound(Exception):\n",
    "    pass\n",
    "    "
   ]
  },
  {
   "cell_type": "code",
   "execution_count": 15,
   "id": "ab7241cc-12d9-44dd-858c-8c0294f63baa",
   "metadata": {},
   "outputs": [
    {
     "ename": "NameError",
     "evalue": "name 'user_id' is not defined",
     "output_type": "error",
     "traceback": [
      "\u001b[1;31m---------------------------------------------------------------------------\u001b[0m",
      "\u001b[1;31mNameError\u001b[0m                                 Traceback (most recent call last)",
      "Cell \u001b[1;32mIn[15], line 1\u001b[0m\n\u001b[1;32m----> 1\u001b[0m \u001b[38;5;28;01mclass\u001b[39;00m \u001b[38;5;21;01mget_user\u001b[39;00m(\u001b[43muser_id\u001b[49m):\n\u001b[0;32m      2\u001b[0m \u001b[38;5;250m    \u001b[39m\u001b[38;5;124;03m\"\"\"\u001b[39;00m\n\u001b[0;32m      3\u001b[0m \u001b[38;5;124;03m    Exception:\u001b[39;00m\n\u001b[0;32m      4\u001b[0m \u001b[38;5;124;03m    usernotfound\u001b[39;00m\n\u001b[0;32m      5\u001b[0m \n\u001b[0;32m      6\u001b[0m \u001b[38;5;124;03m    \"\"\"\u001b[39;00m\n\u001b[0;32m      8\u001b[0m     \u001b[38;5;28;01mraise\u001b[39;00m UserNotFound(\u001b[38;5;124mf\u001b[39m\u001b[38;5;124m\"\u001b[39m\u001b[38;5;124mno user with id \u001b[39m\u001b[38;5;132;01m{\u001b[39;00muser_id\u001b[38;5;132;01m}\u001b[39;00m\u001b[38;5;124m\"\u001b[39m)\n",
      "\u001b[1;31mNameError\u001b[0m: name 'user_id' is not defined"
     ]
    }
   ],
   "source": [
    "class get_user(user_id):\n",
    "    \"\"\"\n",
    "    Exception:\n",
    "    usernotfound\n",
    "\n",
    "    \"\"\"\n",
    "\n",
    "    raise UserNotFound(f\"no user with id {user_id}\")\n",
    "    "
   ]
  },
  {
   "cell_type": "code",
   "execution_count": 16,
   "id": "b3aa23bd-c58a-4ce9-b032-fb8ee806f936",
   "metadata": {},
   "outputs": [
    {
     "ename": "NameError",
     "evalue": "name 'get_user' is not defined",
     "output_type": "error",
     "traceback": [
      "\u001b[1;31m---------------------------------------------------------------------------\u001b[0m",
      "\u001b[1;31mNameError\u001b[0m                                 Traceback (most recent call last)",
      "Cell \u001b[1;32mIn[16], line 2\u001b[0m\n\u001b[0;32m      1\u001b[0m \u001b[38;5;28;01mtry\u001b[39;00m: \n\u001b[1;32m----> 2\u001b[0m     \u001b[43mget_user\u001b[49m(\u001b[38;5;241m3\u001b[39m)\n\u001b[0;32m      3\u001b[0m \u001b[38;5;28;01mexcept\u001b[39;00m UserNotFound:\n\u001b[0;32m      4\u001b[0m     \u001b[38;5;28mprint\u001b[39m(\u001b[38;5;124m\"\u001b[39m\u001b[38;5;124mNot Found\u001b[39m\u001b[38;5;124m\"\u001b[39m)\n",
      "\u001b[1;31mNameError\u001b[0m: name 'get_user' is not defined"
     ]
    }
   ],
   "source": [
    "try: \n",
    "    get_user(3)\n",
    "except UserNotFound:\n",
    "    print(\"Not Found\")"
   ]
  },
  {
   "cell_type": "markdown",
   "id": "cee4e342-90d2-446e-93f9-6e9792aa3307",
   "metadata": {},
   "source": [
    "## Nested Error Handling"
   ]
  },
  {
   "cell_type": "code",
   "execution_count": null,
   "id": "af45ac7e-a5bf-41a8-ac4f-cf00579c614c",
   "metadata": {},
   "outputs": [],
   "source": [
    "def divide(x,y):\n",
    "    \"\"\"\n",
    "    the script will add 50 to the list and divide the individual value in the list by 3 and display the result\n",
    "    \"\"\"\n",
    "    try:\n",
    "        value=50\n",
    "        x.append(value)\n",
    "\n",
    "    except AttrubuteError as atr_err:\n",
    "        print(atr_err)\n",
    "\n",
    "        "
   ]
  }
 ],
 "metadata": {
  "kernelspec": {
   "display_name": "Python 3 (ipykernel)",
   "language": "python",
   "name": "python3"
  },
  "language_info": {
   "codemirror_mode": {
    "name": "ipython",
    "version": 3
   },
   "file_extension": ".py",
   "mimetype": "text/x-python",
   "name": "python",
   "nbconvert_exporter": "python",
   "pygments_lexer": "ipython3",
   "version": "3.13.0"
  }
 },
 "nbformat": 4,
 "nbformat_minor": 5
}
