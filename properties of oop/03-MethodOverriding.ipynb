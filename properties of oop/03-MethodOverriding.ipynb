{
 "cells": [
  {
   "cell_type": "markdown",
   "id": "d43200ad-3946-4bc8-8df1-8276aa1866f4",
   "metadata": {},
   "source": [
    "## Method Overridding"
   ]
  },
  {
   "cell_type": "code",
   "execution_count": 6,
   "id": "ee88d542-4013-4fab-a888-348cb7952dcb",
   "metadata": {},
   "outputs": [
    {
     "name": "stdout",
     "output_type": "stream",
     "text": [
      "Making animal sound...\n",
      "Making animal sound...\n",
      "Dog makes woof sound!\n"
     ]
    }
   ],
   "source": [
    "class Animal:\n",
    "    def sound(self):\n",
    "        print(\"Making animal sound...\")\n",
    "\n",
    "class Dog(Animal):\n",
    "    \n",
    "    def sound(self, soundd):\n",
    "        super().sound()\n",
    "        print(f\"Dog makes {soundd} sound!\")\n",
    "\n",
    "a= Animal()\n",
    "d= Dog()\n",
    "\n",
    "a.sound()\n",
    "d.sound(\"woof\")"
   ]
  },
  {
   "cell_type": "markdown",
   "id": "cff3978b-4601-4592-9999-198f102ff44b",
   "metadata": {},
   "source": [
    "## Problem 1: Control Flow with Nested Loops and Complex Logic\n",
    "Write a Python program that simulates a **number guessing game**:\n",
    "1. The program should generate a random number between 1 and 100 and give the user 7 attempts to guess it.\n",
    "2. After each wrong guess, the program should provide a hint whether the guess was too high or too low.\n",
    "3. If the user fails to guess the number within the attempts, the program should reveal the number and ask if they would like to play again.\n",
    " \n",
    "\n",
    " "
   ]
  },
  {
   "cell_type": "code",
   "execution_count": 16,
   "id": "78ffaaad-aa25-4ff8-8825-e0c9f642ecfc",
   "metadata": {},
   "outputs": [
    {
     "name": "stdin",
     "output_type": "stream",
     "text": [
      "enter your guess:  12\n"
     ]
    },
    {
     "name": "stdout",
     "output_type": "stream",
     "text": [
      "Too low\n"
     ]
    },
    {
     "name": "stdin",
     "output_type": "stream",
     "text": [
      "enter your guess:  45\n"
     ]
    },
    {
     "name": "stdout",
     "output_type": "stream",
     "text": [
      "Too high\n"
     ]
    },
    {
     "name": "stdin",
     "output_type": "stream",
     "text": [
      "enter your guess:  25\n"
     ]
    },
    {
     "name": "stdout",
     "output_type": "stream",
     "text": [
      "Too low\n"
     ]
    },
    {
     "name": "stdin",
     "output_type": "stream",
     "text": [
      "enter your guess:  35\n"
     ]
    },
    {
     "name": "stdout",
     "output_type": "stream",
     "text": [
      "Too low\n"
     ]
    },
    {
     "name": "stdin",
     "output_type": "stream",
     "text": [
      "enter your guess:  40\n"
     ]
    },
    {
     "name": "stdout",
     "output_type": "stream",
     "text": [
      "Too low\n"
     ]
    },
    {
     "name": "stdin",
     "output_type": "stream",
     "text": [
      "enter your guess:  41\n"
     ]
    },
    {
     "name": "stdout",
     "output_type": "stream",
     "text": [
      "congratulation! you've guessed the number 41 in 6 attempt\n"
     ]
    },
    {
     "name": "stdin",
     "output_type": "stream",
     "text": [
      "Do you want to play again(yes/no):  yes\n",
      "enter your guess:  65\n"
     ]
    },
    {
     "name": "stdout",
     "output_type": "stream",
     "text": [
      "Too high\n"
     ]
    },
    {
     "name": "stdin",
     "output_type": "stream",
     "text": [
      "enter your guess:  45\n"
     ]
    },
    {
     "name": "stdout",
     "output_type": "stream",
     "text": [
      "Too high\n"
     ]
    },
    {
     "name": "stdin",
     "output_type": "stream",
     "text": [
      "enter your guess:  35\n"
     ]
    },
    {
     "name": "stdout",
     "output_type": "stream",
     "text": [
      "Too high\n"
     ]
    },
    {
     "name": "stdin",
     "output_type": "stream",
     "text": [
      "enter your guess:  41\n"
     ]
    },
    {
     "name": "stdout",
     "output_type": "stream",
     "text": [
      "Too high\n"
     ]
    },
    {
     "name": "stdin",
     "output_type": "stream",
     "text": [
      "enter your guess:  25\n"
     ]
    },
    {
     "name": "stdout",
     "output_type": "stream",
     "text": [
      "Too low\n"
     ]
    },
    {
     "name": "stdin",
     "output_type": "stream",
     "text": [
      "enter your guess:  30\n"
     ]
    },
    {
     "name": "stdout",
     "output_type": "stream",
     "text": [
      "Too high\n"
     ]
    },
    {
     "name": "stdin",
     "output_type": "stream",
     "text": [
      "enter your guess:  29\n"
     ]
    },
    {
     "name": "stdout",
     "output_type": "stream",
     "text": [
      "congratulation! you've guessed the number 29 in 7 attempt\n"
     ]
    },
    {
     "name": "stdin",
     "output_type": "stream",
     "text": [
      "Do you want to play again(yes/no):  no\n"
     ]
    }
   ],
   "source": [
    "from random import randint\n",
    "\n",
    "while True:\n",
    "    secret_number = randint(1,100)\n",
    "    for i in range(1,8) :\n",
    "        guessed_number = int(input(\"enter your guess: \"))\n",
    "        if secret_number == guessed_number:\n",
    "            print(f\"congratulation! you've guessed the number {secret_number} in {i} attempt\")\n",
    "            break\n",
    "        elif  guessed_number> secret_number:\n",
    "            print(\"Too high\")\n",
    "        else:\n",
    "            print(\"Too low\")\n",
    "    else:\n",
    "        print(f\"sorry, you've used all your attempts. The secret number was {secret_number}\")\n",
    "    \n",
    "    play_again =input(\"Do you want to play again(yes/no): \").strip().lower()\n",
    "    if play_again != \"yes\":\n",
    "        break\n",
    "            "
   ]
  },
  {
   "cell_type": "code",
   "execution_count": null,
   "id": "7c628a07-b1be-4283-abe3-b8a3704da350",
   "metadata": {},
   "outputs": [],
   "source": []
  }
 ],
 "metadata": {
  "kernelspec": {
   "display_name": "Python 3 (ipykernel)",
   "language": "python",
   "name": "python3"
  },
  "language_info": {
   "codemirror_mode": {
    "name": "ipython",
    "version": 3
   },
   "file_extension": ".py",
   "mimetype": "text/x-python",
   "name": "python",
   "nbconvert_exporter": "python",
   "pygments_lexer": "ipython3",
   "version": "3.13.0"
  }
 },
 "nbformat": 4,
 "nbformat_minor": 5
}
