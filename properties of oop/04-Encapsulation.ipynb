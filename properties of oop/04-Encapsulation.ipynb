{
 "cells": [
  {
   "cell_type": "markdown",
   "id": "89eb17ea-a6c8-45fe-b249-56808829f3aa",
   "metadata": {},
   "source": [
    "## Encapsulation in Python"
   ]
  },
  {
   "cell_type": "markdown",
   "id": "dfc1b93f-164d-40f7-a980-1436aae16bc6",
   "metadata": {},
   "source": [
    "1. Private : (__)\n",
    "\n",
    "2. Protected : (_)\n",
    "\n",
    "3. Public"
   ]
  },
  {
   "cell_type": "code",
   "execution_count": 16,
   "id": "5c7a1aa2-265e-4788-88e3-04c1c9590cdc",
   "metadata": {},
   "outputs": [],
   "source": [
    "class Example:\n",
    "    def __init__(self):\n",
    "        self.public_var = 1\n",
    "        self.__private_var = 2\n",
    "        self._protected_var= 3\n",
    "\n",
    "    def public_method(self):\n",
    "        print(\"THis is public\")\n",
    "\n",
    "    def __private_method(self):\n",
    "        print(\"This is private\")\n",
    "\n",
    "    def _protected_method(self):\n",
    "         print(\"This is protected\")\n",
    "\n",
    "        "
   ]
  },
  {
   "cell_type": "code",
   "execution_count": 5,
   "id": "fa8eae7e-0106-4581-9227-0f527bb786d6",
   "metadata": {},
   "outputs": [],
   "source": [
    "obj = Example()"
   ]
  },
  {
   "cell_type": "code",
   "execution_count": 17,
   "id": "309ce38d-089b-43df-81aa-8806c87e5de7",
   "metadata": {},
   "outputs": [
    {
     "ename": "AttributeError",
     "evalue": "'Example' object has no attribute 'public_var'",
     "output_type": "error",
     "traceback": [
      "\u001b[1;31m---------------------------------------------------------------------------\u001b[0m",
      "\u001b[1;31mAttributeError\u001b[0m                            Traceback (most recent call last)",
      "Cell \u001b[1;32mIn[17], line 1\u001b[0m\n\u001b[1;32m----> 1\u001b[0m \u001b[43mobj\u001b[49m\u001b[38;5;241;43m.\u001b[39;49m\u001b[43mpublic_var\u001b[49m\n",
      "\u001b[1;31mAttributeError\u001b[0m: 'Example' object has no attribute 'public_var'"
     ]
    }
   ],
   "source": [
    "obj.public_var\n"
   ]
  },
  {
   "cell_type": "code",
   "execution_count": 18,
   "id": "5c6979a4-a5de-476c-921d-2b9c61d7811e",
   "metadata": {},
   "outputs": [
    {
     "ename": "AttributeError",
     "evalue": "'Example' object has no attribute '_private_method'",
     "output_type": "error",
     "traceback": [
      "\u001b[1;31m---------------------------------------------------------------------------\u001b[0m",
      "\u001b[1;31mAttributeError\u001b[0m                            Traceback (most recent call last)",
      "Cell \u001b[1;32mIn[18], line 1\u001b[0m\n\u001b[1;32m----> 1\u001b[0m \u001b[43mobj\u001b[49m\u001b[38;5;241;43m.\u001b[39;49m\u001b[43m_private_method\u001b[49m()\n",
      "\u001b[1;31mAttributeError\u001b[0m: 'Example' object has no attribute '_private_method'"
     ]
    }
   ],
   "source": [
    "obj._private_method()"
   ]
  },
  {
   "cell_type": "code",
   "execution_count": 19,
   "id": "004a6bd3-ddce-4b94-a40d-533eb6bc65be",
   "metadata": {},
   "outputs": [
    {
     "ename": "AttributeError",
     "evalue": "'Example' object has no attribute 'public_method'",
     "output_type": "error",
     "traceback": [
      "\u001b[1;31m---------------------------------------------------------------------------\u001b[0m",
      "\u001b[1;31mAttributeError\u001b[0m                            Traceback (most recent call last)",
      "Cell \u001b[1;32mIn[19], line 1\u001b[0m\n\u001b[1;32m----> 1\u001b[0m \u001b[43mobj\u001b[49m\u001b[38;5;241;43m.\u001b[39;49m\u001b[43mpublic_method\u001b[49m()\n",
      "\u001b[1;31mAttributeError\u001b[0m: 'Example' object has no attribute 'public_method'"
     ]
    }
   ],
   "source": [
    "obj.public_method()"
   ]
  },
  {
   "cell_type": "code",
   "execution_count": null,
   "id": "6c318cee-1927-438e-9e0f-b7ef9e6c2a50",
   "metadata": {},
   "outputs": [],
   "source": []
  },
  {
   "cell_type": "code",
   "execution_count": null,
   "id": "377cf155-5884-43d5-903c-c2967383819e",
   "metadata": {},
   "outputs": [],
   "source": []
  }
 ],
 "metadata": {
  "kernelspec": {
   "display_name": "Python 3 (ipykernel)",
   "language": "python",
   "name": "python3"
  },
  "language_info": {
   "codemirror_mode": {
    "name": "ipython",
    "version": 3
   },
   "file_extension": ".py",
   "mimetype": "text/x-python",
   "name": "python",
   "nbconvert_exporter": "python",
   "pygments_lexer": "ipython3",
   "version": "3.13.0"
  }
 },
 "nbformat": 4,
 "nbformat_minor": 5
}
