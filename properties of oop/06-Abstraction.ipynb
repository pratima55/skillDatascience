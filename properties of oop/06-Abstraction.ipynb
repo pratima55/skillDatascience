{
 "cells": [
  {
   "cell_type": "markdown",
   "id": "2e55c8db-3155-4005-ac83-6c2f6ef570b6",
   "metadata": {},
   "source": [
    "## Abstraction in Python"
   ]
  },
  {
   "cell_type": "code",
   "execution_count": 22,
   "id": "9d74e26b-9199-4cbc-b095-0e1b2357802e",
   "metadata": {},
   "outputs": [],
   "source": [
    "from abc import ABC, abstractmethod\n",
    "\n",
    "class Shape(ABC):\n",
    "\n",
    "    @abstractmethod\n",
    "    def area(self):\n",
    "        pass\n",
    "\n",
    "    @abstractmethod\n",
    "    def perimeter(self):\n",
    "        pass\n",
    "\n",
    "    def volume(self):\n",
    "         return \"Not applicable for given shape\""
   ]
  },
  {
   "cell_type": "code",
   "execution_count": null,
   "id": "71bea2f8-e381-42bb-b374-297380b5fd05",
   "metadata": {},
   "outputs": [],
   "source": [
    "shape = Shape()"
   ]
  },
  {
   "cell_type": "code",
   "execution_count": 23,
   "id": "ca791e47-5a74-4bc3-bf91-08350c7c3f99",
   "metadata": {},
   "outputs": [],
   "source": [
    "class Rectangle(Shape):\n",
    "    def __init__(self, width, length):\n",
    "        self.w = width\n",
    "        self.l= length\n",
    "\n",
    "    def area(self):\n",
    "         return self.w *self.l\n",
    "\n",
    "    def perimeter(self):\n",
    "         return 2*(self.w +self.l)"
   ]
  },
  {
   "cell_type": "code",
   "execution_count": 24,
   "id": "457e6c54-5e53-43a1-afb6-345997bf948c",
   "metadata": {},
   "outputs": [],
   "source": [
    "rect = Rectangle(32,34)"
   ]
  },
  {
   "cell_type": "code",
   "execution_count": 25,
   "id": "222ca4f1-8ec7-408d-b295-1204c7111337",
   "metadata": {},
   "outputs": [
    {
     "data": {
      "text/plain": [
       "1088"
      ]
     },
     "execution_count": 25,
     "metadata": {},
     "output_type": "execute_result"
    }
   ],
   "source": [
    "rect.area()"
   ]
  },
  {
   "cell_type": "code",
   "execution_count": 26,
   "id": "9b6f8814-112f-4816-ab10-f58aaa43f3ca",
   "metadata": {},
   "outputs": [
    {
     "data": {
      "text/plain": [
       "132"
      ]
     },
     "execution_count": 26,
     "metadata": {},
     "output_type": "execute_result"
    }
   ],
   "source": [
    "rect.perimeter()"
   ]
  },
  {
   "cell_type": "code",
   "execution_count": 28,
   "id": "6d45b3e6-4f79-4230-a566-a294efc0fb3e",
   "metadata": {},
   "outputs": [],
   "source": [
    "class Cube(Shape):\n",
    "    def __init__(self, length):\n",
    "        self.length= length\n",
    "        \n",
    "    def area(self):\n",
    "        return 6*(self.length ** 2)\n",
    "\n",
    "    def perimeter(self):\n",
    "        return 12*lenghth\n",
    "\n",
    "    def volume(self):\n",
    "        return self.length **3\n",
    "    "
   ]
  },
  {
   "cell_type": "code",
   "execution_count": null,
   "id": "f78c63eb-eb83-46a5-ae07-c6820e1a663b",
   "metadata": {},
   "outputs": [],
   "source": []
  },
  {
   "cell_type": "markdown",
   "id": "5551b146-c74f-4c17-9da3-952380458a00",
   "metadata": {},
   "source": [
    "OOP Concepts\n",
    "\n",
    "**Create a class `BankAccount` that:**\n",
    "1. Allows a user to create an account by providing a **name** and an initial **balance**.\n",
    "2. Includes methods to **deposit**, **withdraw**, and **check balance**. The withdrawal should not allow an account to go negative.\n",
    "3. Overloads the `+` operator to allow merging of two accounts (sum of their balances) and returns a new account.\n",
    "4. Uses **Inheritance** to create a subclass `SavingsAccount` that adds an interest rate. Implement a method to calculate interest on the balance and update it accordingly.\n",
    "    "
   ]
  },
  {
   "cell_type": "code",
   "execution_count": 31,
   "id": "809018ea-de42-4093-9783-223d1df42dc5",
   "metadata": {},
   "outputs": [],
   "source": [
    "class BankAccount:\n",
    "    def __init__(self,name,initial_balance):\n",
    "        self.name = name\n",
    "        self.initial_balance = max(0.0, initial_balance)\n",
    "\n",
    "\n",
    "    def __repr__(self):\n",
    "        return f\" Account (ACC Name: {self.name}\"\n",
    "\n",
    "        \n",
    "\n",
    "    def deposite(self, amount=0):  \n",
    "        self.initial_balance = self.initial_balance + amount\n",
    "        return self.check_balance()\n",
    "\n",
    "        \n",
    "\n",
    "    def withdraw( self, amount=0):\n",
    "       if amount > self.initial_balance:\n",
    "            print(\"Insufficient fund to  withdraw\")\n",
    "\n",
    "       else:\n",
    "            amount = self.initial_balance - amount\n",
    "            print(f\"New balance is {amount}\")\n",
    "\n",
    "    def check_balance(self):\n",
    "         print(f\" Hello {self.name}, you have {self.initial_balance}\")\n",
    "\n",
    "\n",
    "    def __add__(self, other):\n",
    "        if not isinstance(other, BankAccount):\n",
    "            print(\"Invalid operation!\")\n",
    "            return None\n",
    "        return BankAccount(\n",
    "            f\"{self.name} & {other.name}\",\n",
    "            self.initial_balance + other.initial_balance\n",
    "        )\n",
    "                \n",
    "            "
   ]
  },
  {
   "cell_type": "code",
   "execution_count": 43,
   "id": "f6042afa-9c42-477c-9c86-a96ed869a8ef",
   "metadata": {},
   "outputs": [],
   "source": [
    "class SavingsAccount(BankAccount):\n",
    "    def __init__(self,name, initial_balance,rate=5):\n",
    "        super().__init__(name, initial_balance)\n",
    "        self.rate= max(0.0,rate)\n",
    "        \n",
    "    def calculate_interest (self):\n",
    "        interest = self.initial_balance * (self.rate/100)\n",
    "        self.initial_balance += interest\n",
    "        return self.check_balance()"
   ]
  },
  {
   "cell_type": "code",
   "execution_count": null,
   "id": "ff05203b-ee36-4045-877a-8f9d736bc049",
   "metadata": {},
   "outputs": [],
   "source": [
    "acc1 = BankAccount(\"Pratima\", 1000)\n",
    "acc2 = BankAccount(\"Aanshi\", 500)"
   ]
  },
  {
   "cell_type": "code",
   "execution_count": 34,
   "id": "5c0425b2-3067-4fef-a757-3170be0b2543",
   "metadata": {},
   "outputs": [],
   "source": [
    "sav_acc = SavingsAccount(\"Riju\", 123)"
   ]
  },
  {
   "cell_type": "code",
   "execution_count": 35,
   "id": "b95340fa-2cfa-4d8d-ad94-aab2af6133d7",
   "metadata": {},
   "outputs": [
    {
     "name": "stdout",
     "output_type": "stream",
     "text": [
      " Hello Pratima, you have 1100\n"
     ]
    }
   ],
   "source": [
    "acc1.deposite(100)"
   ]
  },
  {
   "cell_type": "code",
   "execution_count": 36,
   "id": "4e45fdf9-38ec-443f-a2f4-8d2ea8bd7025",
   "metadata": {},
   "outputs": [
    {
     "name": "stdout",
     "output_type": "stream",
     "text": [
      "New balance is 900\n"
     ]
    }
   ],
   "source": [
    "acc1.withdraw(200)"
   ]
  },
  {
   "cell_type": "code",
   "execution_count": null,
   "id": "26c6c995-3d96-4f1d-aef0-8a10c4e4f187",
   "metadata": {},
   "outputs": [],
   "source": []
  },
  {
   "cell_type": "code",
   "execution_count": 37,
   "id": "cc2c97ac-f7d2-414a-91be-99527eaa8b25",
   "metadata": {},
   "outputs": [
    {
     "name": "stdout",
     "output_type": "stream",
     "text": [
      " Hello Riju, you have 129.15\n"
     ]
    }
   ],
   "source": [
    "sav_acc.calculate_interest()"
   ]
  },
  {
   "cell_type": "code",
   "execution_count": 38,
   "id": "bc66bf21-1d5c-4095-a40d-0962df831ec2",
   "metadata": {},
   "outputs": [],
   "source": [
    "joint_acc = acc1 + acc2"
   ]
  },
  {
   "cell_type": "code",
   "execution_count": 39,
   "id": "87c96de7-2609-423d-81df-7c93da011b8c",
   "metadata": {},
   "outputs": [
    {
     "name": "stdout",
     "output_type": "stream",
     "text": [
      " Hello Pratima & Aanshi, you have 1600\n"
     ]
    }
   ],
   "source": [
    "joint_acc.check_balance()"
   ]
  },
  {
   "cell_type": "code",
   "execution_count": 41,
   "id": "983215d0-fcca-4ef2-aa1c-74c7c54cdbce",
   "metadata": {},
   "outputs": [
    {
     "name": "stdout",
     "output_type": "stream",
     "text": [
      "New balance is 978\n"
     ]
    }
   ],
   "source": [
    "acc1.withdraw(122)"
   ]
  },
  {
   "cell_type": "code",
   "execution_count": 42,
   "id": "498f43cb-a62b-4afb-8973-7990e712b27a",
   "metadata": {},
   "outputs": [
    {
     "name": "stdout",
     "output_type": "stream",
     "text": [
      "New balance is 1080\n"
     ]
    }
   ],
   "source": [
    "acc1.withdraw(20)"
   ]
  },
  {
   "cell_type": "code",
   "execution_count": null,
   "id": "85764d4e-1eb8-4bd0-bc32-9bcf754481b7",
   "metadata": {},
   "outputs": [],
   "source": []
  }
 ],
 "metadata": {
  "kernelspec": {
   "display_name": "Python 3 (ipykernel)",
   "language": "python",
   "name": "python3"
  },
  "language_info": {
   "codemirror_mode": {
    "name": "ipython",
    "version": 3
   },
   "file_extension": ".py",
   "mimetype": "text/x-python",
   "name": "python",
   "nbconvert_exporter": "python",
   "pygments_lexer": "ipython3",
   "version": "3.13.0"
  }
 },
 "nbformat": 4,
 "nbformat_minor": 5
}
