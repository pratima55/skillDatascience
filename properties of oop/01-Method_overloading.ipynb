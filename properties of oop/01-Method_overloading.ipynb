{
 "cells": [
  {
   "cell_type": "markdown",
   "id": "9d42f8c8-ebdc-4154-a0ce-68b5d762d0ae",
   "metadata": {},
   "source": [
    "## Method overloading in python"
   ]
  },
  {
   "cell_type": "code",
   "execution_count": 1,
   "id": "e5a792c7-695d-4c02-bcc1-1d4deceff118",
   "metadata": {},
   "outputs": [],
   "source": [
    "class Example:\n",
    "    def add(self, a, b=0, c=0):\n",
    "        return a+b+c"
   ]
  },
  {
   "cell_type": "code",
   "execution_count": 2,
   "id": "9dbc77d6-c21e-44ca-83c8-7c303f7dd6f1",
   "metadata": {},
   "outputs": [],
   "source": [
    "class Example:\n",
    "    def add(self, *args):\n",
    "        if len(args) ==1:\n",
    "            return args[0]\n",
    "        elif len(args) == 2:\n",
    "            return args[0] + args[1]\n",
    "        else:\n",
    "            return \"length mismatch\"\n"
   ]
  },
  {
   "cell_type": "code",
   "execution_count": 3,
   "id": "9b5b66cf-9f49-4c8f-9cf9-ee640198f44e",
   "metadata": {},
   "outputs": [
    {
     "data": {
      "text/plain": [
       "'length mismatch'"
      ]
     },
     "execution_count": 3,
     "metadata": {},
     "output_type": "execute_result"
    }
   ],
   "source": [
    "ex = Example()\n",
    "ex.add(1,2,3)"
   ]
  },
  {
   "cell_type": "code",
   "execution_count": 4,
   "id": "b3d5ac11-e256-433e-b0a3-8ddad808bf43",
   "metadata": {},
   "outputs": [
    {
     "data": {
      "text/plain": [
       "3"
      ]
     },
     "execution_count": 4,
     "metadata": {},
     "output_type": "execute_result"
    }
   ],
   "source": [
    "ex.add(1,2)"
   ]
  },
  {
   "cell_type": "code",
   "execution_count": null,
   "id": "1b44ac98-2e10-4e4d-a300-1f0f96feada5",
   "metadata": {},
   "outputs": [],
   "source": []
  }
 ],
 "metadata": {
  "kernelspec": {
   "display_name": "Python 3 (ipykernel)",
   "language": "python",
   "name": "python3"
  },
  "language_info": {
   "codemirror_mode": {
    "name": "ipython",
    "version": 3
   },
   "file_extension": ".py",
   "mimetype": "text/x-python",
   "name": "python",
   "nbconvert_exporter": "python",
   "pygments_lexer": "ipython3",
   "version": "3.13.0"
  }
 },
 "nbformat": 4,
 "nbformat_minor": 5
}
