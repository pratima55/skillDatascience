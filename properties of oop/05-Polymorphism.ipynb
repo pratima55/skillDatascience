{
 "cells": [
  {
   "cell_type": "markdown",
   "id": "88df4896-f367-4b1f-be9a-2416fbcc0fad",
   "metadata": {},
   "source": [
    "## Polymorphism in Python\n"
   ]
  },
  {
   "cell_type": "markdown",
   "id": "a603463b-1ae6-4b56-a607-dabd9a73fb0d",
   "metadata": {},
   "source": [
    "** Polymorphism xan be implemented using four different   technique:**\n",
    "\n",
    "1. Method overloading\n",
    "2. method overriding\n",
    "3. operator overloading\n",
    "4. Duck typing"
   ]
  },
  {
   "cell_type": "code",
   "execution_count": 7,
   "id": "7fe2d4bf-dd90-4a89-a194-24b40a6149c1",
   "metadata": {},
   "outputs": [],
   "source": [
    "class Car:\n",
    "    def drive(self):\n",
    "        print(\"driving a car\")\n",
    "\n",
    "class Bike:\n",
    "    def drive(self):\n",
    "        print(\"riding a bike\")"
   ]
  },
  {
   "cell_type": "code",
   "execution_count": 10,
   "id": "ade4ee04-94b6-4f2f-8abd-853f516c1277",
   "metadata": {},
   "outputs": [],
   "source": [
    "def start_driving(vehicle):\n",
    "    vehicle.drive()\n",
    "    "
   ]
  },
  {
   "cell_type": "code",
   "execution_count": 11,
   "id": "d3d6903b-5fd0-4edb-b61d-9eb650894845",
   "metadata": {},
   "outputs": [
    {
     "name": "stdout",
     "output_type": "stream",
     "text": [
      "driving a car\n",
      "riding a bike\n"
     ]
    }
   ],
   "source": [
    "car = Car()\n",
    "bike = Bike()\n",
    "\n",
    "start_driving(car)\n",
    "start_driving(bike)"
   ]
  },
  {
   "cell_type": "code",
   "execution_count": null,
   "id": "ebf62b7a-04fc-46b9-a6cf-90a4b326369e",
   "metadata": {},
   "outputs": [],
   "source": []
  },
  {
   "cell_type": "code",
   "execution_count": null,
   "id": "b55974ff-7839-4617-996b-46ebbb756224",
   "metadata": {},
   "outputs": [],
   "source": []
  }
 ],
 "metadata": {
  "kernelspec": {
   "display_name": "Python 3 (ipykernel)",
   "language": "python",
   "name": "python3"
  },
  "language_info": {
   "codemirror_mode": {
    "name": "ipython",
    "version": 3
   },
   "file_extension": ".py",
   "mimetype": "text/x-python",
   "name": "python",
   "nbconvert_exporter": "python",
   "pygments_lexer": "ipython3",
   "version": "3.13.0"
  }
 },
 "nbformat": 4,
 "nbformat_minor": 5
}
