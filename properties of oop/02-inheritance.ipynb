{
 "cells": [
  {
   "cell_type": "markdown",
   "id": "750f608a-e461-4525-bf3a-e7fa98446dc3",
   "metadata": {},
   "source": [
    "## Inheritance in python"
   ]
  },
  {
   "cell_type": "markdown",
   "id": "c570dc54-eadc-4c9e-a76b-caf106f68df9",
   "metadata": {},
   "source": [
    "## 1. single inheritance\n",
    "\n",
    "syntax :\n",
    "\n",
    "class DerivedClassName(BaseClassName)"
   ]
  },
  {
   "cell_type": "code",
   "execution_count": 1,
   "id": "3c581ba2-7402-4e0b-b0cd-53c8ca3948f8",
   "metadata": {},
   "outputs": [],
   "source": [
    "#baseclass\n",
    "class Animal:\n",
    "    def __init__(self, name, age):\n",
    "        self.name= name\n",
    "        self.age = age\n",
    "\n",
    "    def intro(self):\n",
    "        print(f\"My name is {self.name}\")"
   ]
  },
  {
   "cell_type": "code",
   "execution_count": 2,
   "id": "acbb55c2-ebb2-4c4f-a77c-d5557a758df4",
   "metadata": {},
   "outputs": [
    {
     "name": "stdout",
     "output_type": "stream",
     "text": [
      "My name is Fluffy\n"
     ]
    }
   ],
   "source": [
    "animal = Animal(\"Fluffy\", 2)\n",
    "animal.intro()"
   ]
  },
  {
   "cell_type": "code",
   "execution_count": 14,
   "id": "d3e62559-6353-4f4b-963e-f9e26dfcf3b4",
   "metadata": {},
   "outputs": [],
   "source": [
    "#derivedclass\n",
    "class Cat(Animal):\n",
    "    def __init__(self, name, age,color):\n",
    "        super().__init__(name,age)\n",
    "        self.color = color\n",
    "    def speak(self):\n",
    "        print(\"meow\")\n",
    "        \n",
    "    "
   ]
  },
  {
   "cell_type": "code",
   "execution_count": 15,
   "id": "daecc5c1-d302-434a-9772-845d6fb5cfbf",
   "metadata": {},
   "outputs": [
    {
     "name": "stdout",
     "output_type": "stream",
     "text": [
      "meow\n"
     ]
    }
   ],
   "source": [
    "cat = Cat(\"lucy\",2, \"grey\")\n",
    "cat.speak()\n"
   ]
  },
  {
   "cell_type": "code",
   "execution_count": 16,
   "id": "8cab4715-cae0-4669-96e6-d0c325ff2ea2",
   "metadata": {},
   "outputs": [
    {
     "name": "stdout",
     "output_type": "stream",
     "text": [
      "My name is lucy\n"
     ]
    }
   ],
   "source": [
    "cat.intro()"
   ]
  },
  {
   "cell_type": "code",
   "execution_count": 7,
   "id": "9ba44b78-f268-4107-a383-cdeb9826fd54",
   "metadata": {},
   "outputs": [
    {
     "data": {
      "text/plain": [
       "['__class__',\n",
       " '__delattr__',\n",
       " '__dict__',\n",
       " '__dir__',\n",
       " '__doc__',\n",
       " '__eq__',\n",
       " '__firstlineno__',\n",
       " '__format__',\n",
       " '__ge__',\n",
       " '__getattribute__',\n",
       " '__getstate__',\n",
       " '__gt__',\n",
       " '__hash__',\n",
       " '__init__',\n",
       " '__init_subclass__',\n",
       " '__le__',\n",
       " '__lt__',\n",
       " '__module__',\n",
       " '__ne__',\n",
       " '__new__',\n",
       " '__reduce__',\n",
       " '__reduce_ex__',\n",
       " '__repr__',\n",
       " '__setattr__',\n",
       " '__sizeof__',\n",
       " '__static_attributes__',\n",
       " '__str__',\n",
       " '__subclasshook__',\n",
       " '__weakref__',\n",
       " 'age',\n",
       " 'intro',\n",
       " 'name']"
      ]
     },
     "execution_count": 7,
     "metadata": {},
     "output_type": "execute_result"
    }
   ],
   "source": [
    "dir(cat)"
   ]
  },
  {
   "cell_type": "markdown",
   "id": "1d7da073-0919-4096-a8e2-79995bb421d4",
   "metadata": {},
   "source": [
    "## 02. Multiple inheritance\n",
    "\n",
    "class Myclass(Parent1, Parent2,...):\n",
    "\n",
    "    pass"
   ]
  },
  {
   "cell_type": "code",
   "execution_count": 26,
   "id": "8d92e058-cdf5-4e8e-909f-3c676f7170ca",
   "metadata": {},
   "outputs": [],
   "source": [
    "class Parent1:\n",
    "    def func1(self):\n",
    "        print(\"this is parent 1\")\n",
    "class Parent2:\n",
    "    def func2(self):\n",
    "        print(\"this is parent 2\")\n",
    "class Parent3:\n",
    "    def func3(self):\n",
    "        print(\"this is parent 3\")\n",
    "        \n",
    "class Child(Parent1, Parent2, Parent3):\n",
    "    def func4(self):\n",
    "        print(\"this is child function\")"
   ]
  },
  {
   "cell_type": "code",
   "execution_count": 27,
   "id": "c92ed8a3-c7b9-416f-9c23-c86d3c96bb61",
   "metadata": {},
   "outputs": [],
   "source": [
    "obj = Child()"
   ]
  },
  {
   "cell_type": "code",
   "execution_count": 28,
   "id": "66657958-6820-4e5b-99a5-2f857b0dd8a1",
   "metadata": {},
   "outputs": [
    {
     "name": "stdout",
     "output_type": "stream",
     "text": [
      "this is parent 1\n",
      "this is parent 2\n",
      "this is parent 3\n",
      "this is child function\n"
     ]
    }
   ],
   "source": [
    "obj.func1()\n",
    "obj.func2()\n",
    "obj.func3()\n",
    "obj.func4()"
   ]
  },
  {
   "cell_type": "markdown",
   "id": "8f7dcb5f-98b9-4c5b-a3f2-71c354a6759b",
   "metadata": {},
   "source": [
    "## 03. Multi-level inheritance\n",
    "\n",
    "Multilevel inheritance refers to the inheritance of a derived class from a base, where the base class itself is derived from another base class. This means that a subclass will inherit from a superclass that has already inherited from another class.\n",
    "\n"
   ]
  },
  {
   "cell_type": "code",
   "execution_count": 31,
   "id": "a03524f9-55dd-4585-9cf1-37fcaa6a7e59",
   "metadata": {},
   "outputs": [],
   "source": [
    "class A:\n",
    "    def method_a(self):\n",
    "        print(\"this is method from Class A\")\n",
    "class B(A):\n",
    "    def method_b(self):\n",
    "        print(\"this is meyhod from Class B\")\n",
    "class C(B):\n",
    "    def method_c(self):\n",
    "        print(\"this is meyhod from Class c\")\n",
    "        "
   ]
  },
  {
   "cell_type": "code",
   "execution_count": 32,
   "id": "3cc5e688-f0dd-42ca-86bf-6eb4da7f41b9",
   "metadata": {},
   "outputs": [
    {
     "name": "stdout",
     "output_type": "stream",
     "text": [
      "this is method from Class A\n",
      "this is meyhod from Class B\n",
      "this is meyhod from Class c\n"
     ]
    }
   ],
   "source": [
    "obj = C()\n",
    "obj.method_a()\n",
    "obj.method_b()\n",
    "obj.method_c()"
   ]
  },
  {
   "cell_type": "markdown",
   "id": "2de1e413-4624-4f60-947d-4b9e069c86cb",
   "metadata": {},
   "source": [
    "## 04 Hierarchical inheritance\n",
    "\n",
    "It is a type of inheritance in which more than one derived class inherits from single base or parent class. In other words, it is a relationship between classes in chich one class serves as a superclass for multiple subclasses.\n"
   ]
  },
  {
   "cell_type": "code",
   "execution_count": 38,
   "id": "a76a4318-eddc-435a-9820-10cb90d2b973",
   "metadata": {},
   "outputs": [],
   "source": [
    "class Animal:\n",
    "    def __init__(self,name):\n",
    "        self.name= name\n",
    "    def intro(self):\n",
    "        print(f\"Hello , I am {self.name}\")"
   ]
  },
  {
   "cell_type": "code",
   "execution_count": 39,
   "id": "10e0df4c-a233-4e11-861e-f5f7c2d82388",
   "metadata": {},
   "outputs": [],
   "source": [
    "class Cat(Animal):\n",
    "    def speak(self):\n",
    "        return \"Meow\"\n",
    "class Dog(Animal):\n",
    "    def speak(self):\n",
    "        return \"Woof\"\n",
    "class Lion(Animal):\n",
    "    def speak(self):\n",
    "        return \"roar\""
   ]
  },
  {
   "cell_type": "code",
   "execution_count": 40,
   "id": "20fe1afc-5c4b-4797-bf96-7603834ead09",
   "metadata": {},
   "outputs": [],
   "source": [
    "cat = Cat(\"Fluffy\")\n",
    "dog = Dog(\"Fido\")\n",
    "lion = Lion(\"Simba\")"
   ]
  },
  {
   "cell_type": "code",
   "execution_count": 41,
   "id": "654c8b9e-7d7c-4f8d-be1e-901224b19c50",
   "metadata": {},
   "outputs": [
    {
     "name": "stdout",
     "output_type": "stream",
     "text": [
      "Hello , I am Fluffy\n"
     ]
    }
   ],
   "source": [
    "cat.intro()"
   ]
  },
  {
   "cell_type": "code",
   "execution_count": 42,
   "id": "c8a22899-3e14-4086-b040-ff5ee939975b",
   "metadata": {},
   "outputs": [
    {
     "data": {
      "text/plain": [
       "'Woof'"
      ]
     },
     "execution_count": 42,
     "metadata": {},
     "output_type": "execute_result"
    }
   ],
   "source": [
    "dog.speak()"
   ]
  },
  {
   "cell_type": "markdown",
   "id": "4b60d7e8-a1fd-45bb-bc89-7b8e360b7232",
   "metadata": {},
   "source": [
    "## 5. Hybrid inheritance"
   ]
  },
  {
   "cell_type": "code",
   "execution_count": 43,
   "id": "6afdc10a-2df4-4cf1-8119-fc19faefce70",
   "metadata": {},
   "outputs": [],
   "source": [
    "class Animal:\n",
    "    def __init__(self,name):\n",
    "        self.name= name\n",
    "    def intro(self):\n",
    "        print(f\"Hello , I am {self.name}\")"
   ]
  },
  {
   "cell_type": "code",
   "execution_count": 45,
   "id": "5c2e0537-0a8b-4501-b0f7-1781620bb8e7",
   "metadata": {},
   "outputs": [],
   "source": [
    "class Mammal (Animal):\n",
    "    def __init__(self, name,fur):\n",
    "        super().__init__(name)\n",
    "        self.fur = True\n",
    "\n",
    "    def birth(self):\n",
    "        print(f\"{self.name} give birth to live ones!\")\n",
    "\n",
    "class Birds(Animal):\n",
    "    def fly(self):\n",
    "        print(f\"{self.name} can fly!\")\n",
    "        "
   ]
  },
  {
   "cell_type": "code",
   "execution_count": 51,
   "id": "7c64a085-1272-4572-9c4b-e85d883e21d1",
   "metadata": {},
   "outputs": [],
   "source": [
    "class Bat(Mammal, Birds):\n",
    "   pass\n",
    "    "
   ]
  },
  {
   "cell_type": "code",
   "execution_count": 52,
   "id": "3514f2c1-2299-4bb4-bf44-881eed6bfed2",
   "metadata": {},
   "outputs": [],
   "source": [
    "b= Bat(\"Bruce\",False)"
   ]
  },
  {
   "cell_type": "code",
   "execution_count": 53,
   "id": "e239b085-abe5-4b83-bf9f-19585f197be6",
   "metadata": {},
   "outputs": [
    {
     "name": "stdout",
     "output_type": "stream",
     "text": [
      "Hello , I am Bruce\n",
      "Bruce can fly!\n"
     ]
    }
   ],
   "source": [
    "b.intro()\n",
    "b.fly()\n"
   ]
  },
  {
   "cell_type": "markdown",
   "id": "804bdb84-9d26-4c34-8ccc-e2514af309d8",
   "metadata": {},
   "source": [
    "Question:\n",
    "Question:You are tasked with designing a system for an online bookstore. Create a base class Book with the following attributes and methods:\n",
    "Attributes:\n",
    "title (string)\n",
    "author (string)\n",
    "price (float)\n",
    "Methods:\n",
    "__init__() to initialize the attributes.\n",
    "display_info() to print the details of the book in the format:\n",
    "\"Title: [title], Author: [author], Price: $[price]\"\n",
    "Now, create a derived class EBook that inherits from the Book class with the following additional attribute and method:\n",
    "Additional Attribute:\n",
    "file_size (float in MB)\n",
    "Method:\n",
    "__init__() to initialize all attributes of EBook, including those inherited from the Book class.\n",
    "Override the display_info() method to include the file size in the format:\n",
    "\"Title: [title], Author: [author], Price: $[price], File Size: [file_size] MB\"\n",
    "Finally, demonstrate the usage of both classes by creating:\n",
    "An object of Book and displaying its information.\n",
    "An object of EBook and displaying its information.\n"
   ]
  },
  {
   "cell_type": "code",
   "execution_count": 2,
   "id": "53bebc69-9023-4cb9-8039-586802fa671e",
   "metadata": {},
   "outputs": [],
   "source": [
    "class Book:\n",
    "    def __init__(self, title: str, author: str , price: float):\n",
    "        self.title = title\n",
    "        self.author = author\n",
    "        self.price = price\n",
    "\n",
    "    def display_info(self):\n",
    "        print(f\"Title : {self.title}, Author : {self.author}, Price: ${self.price}\")\n",
    "        "
   ]
  },
  {
   "cell_type": "code",
   "execution_count": 4,
   "id": "4eef0d7d-fc74-4c78-a0c8-f23695f97ffb",
   "metadata": {},
   "outputs": [],
   "source": [
    "class Ebook(Book):\n",
    "    def __init__(self,title: str, author: str ,price: float, file_size: float):\n",
    "        super().__init__(title, author, price)\n",
    "        self.file_size = file_size\n",
    "\n",
    "    def display_info(self):\n",
    "        print(f\"Title : {self.title}, Author : {self.author}, Price: ${self.price}, File size : {self.file_size}MB\")\n",
    "            "
   ]
  },
  {
   "cell_type": "code",
   "execution_count": 5,
   "id": "2bac0451-5630-4b77-9e25-7cb463aee6c3",
   "metadata": {},
   "outputs": [],
   "source": [
    "book = Book(\"The one Dollar Horse\", \"Lauren St. john\", 10)\n",
    "ebook = Ebook(\"1984\", \"George Orwell\", 5.99, 1.2)"
   ]
  },
  {
   "cell_type": "code",
   "execution_count": 6,
   "id": "782f09d6-5ee2-4e0c-9ea1-6e9c30d2bc22",
   "metadata": {},
   "outputs": [
    {
     "name": "stdout",
     "output_type": "stream",
     "text": [
      "Title : The one Dollar Horse, Author : Lauren St. john, Price: $10\n",
      "Title : 1984, Author : George Orwell, Price: $5.99, File size : 1.2MB\n"
     ]
    }
   ],
   "source": [
    "book.display_info()\n",
    "ebook.display_info()"
   ]
  },
  {
   "cell_type": "code",
   "execution_count": null,
   "id": "dc71b19b-6b05-4c57-8c1e-b07f6c0bdb69",
   "metadata": {},
   "outputs": [],
   "source": []
  },
  {
   "cell_type": "code",
   "execution_count": null,
   "id": "fb230dbe-45cf-46fb-9c18-02818817633b",
   "metadata": {},
   "outputs": [],
   "source": []
  }
 ],
 "metadata": {
  "kernelspec": {
   "display_name": "Python 3 (ipykernel)",
   "language": "python",
   "name": "python3"
  },
  "language_info": {
   "codemirror_mode": {
    "name": "ipython",
    "version": 3
   },
   "file_extension": ".py",
   "mimetype": "text/x-python",
   "name": "python",
   "nbconvert_exporter": "python",
   "pygments_lexer": "ipython3",
   "version": "3.13.0"
  }
 },
 "nbformat": 4,
 "nbformat_minor": 5
}
