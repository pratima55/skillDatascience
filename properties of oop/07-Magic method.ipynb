{
 "cells": [
  {
   "cell_type": "markdown",
   "id": "10a3192f-3b4e-4ce2-8ad8-774d04c15a31",
   "metadata": {},
   "source": [
    "## Magic method in python\n"
   ]
  },
  {
   "cell_type": "code",
   "execution_count": 10,
   "id": "04970ceb-dfce-47b0-a128-8784f8d99941",
   "metadata": {},
   "outputs": [],
   "source": [
    "class Person:\n",
    "    def __init__(self, name, age):\n",
    "        self.name = name\n",
    "        self.age = age\n",
    "\n",
    "    def __str__(self):\n",
    "        return f\"Person{self.name}is {self.age} years old\"\n",
    "\n",
    "    def __repr__(self):\n",
    "        return f\"Person({self.name},{self.age})\"\n",
    "\n",
    "    def __len__(self):\n",
    "        return self.age\n",
    "\n",
    "    def __call__(self): #<- callable method for object\n",
    "        return f\" {self.name} is being called!\""
   ]
  },
  {
   "cell_type": "code",
   "execution_count": 11,
   "id": "20f4dddd-1575-4dd9-9036-d76ff3d7824b",
   "metadata": {},
   "outputs": [],
   "source": [
    "person = Person(\"Hamilton\",32)"
   ]
  },
  {
   "cell_type": "code",
   "execution_count": 12,
   "id": "e7cfad02-1bce-455f-be45-1705d8b4719e",
   "metadata": {},
   "outputs": [
    {
     "name": "stdout",
     "output_type": "stream",
     "text": [
      "PersonHamiltonis 32 years old\n"
     ]
    }
   ],
   "source": [
    "print(person) #<- __str__\n"
   ]
  },
  {
   "cell_type": "code",
   "execution_count": 13,
   "id": "0a0d145f-62e6-42da-ad90-dd3ec45029ba",
   "metadata": {},
   "outputs": [
    {
     "data": {
      "text/plain": [
       "Person(Hamilton,32)"
      ]
     },
     "execution_count": 13,
     "metadata": {},
     "output_type": "execute_result"
    }
   ],
   "source": [
    "person #<- __repr__"
   ]
  },
  {
   "cell_type": "code",
   "execution_count": 15,
   "id": "0d8411f0-85a9-4c37-868e-142dea7effb8",
   "metadata": {},
   "outputs": [
    {
     "data": {
      "text/plain": [
       "' Hamilton is being called!'"
      ]
     },
     "execution_count": 15,
     "metadata": {},
     "output_type": "execute_result"
    }
   ],
   "source": [
    "person() #<- __call__"
   ]
  },
  {
   "cell_type": "code",
   "execution_count": null,
   "id": "523a824a-5c6b-4dfb-b179-8a358d52a9bd",
   "metadata": {},
   "outputs": [],
   "source": []
  },
  {
   "cell_type": "markdown",
   "id": "d33cd545-46c7-4551-8fd0-30ab67919789",
   "metadata": {},
   "source": [
    "## Operator overlaoding\n"
   ]
  },
  {
   "cell_type": "code",
   "execution_count": 59,
   "id": "81245d46-4d08-410f-948d-7a4728c1fbb5",
   "metadata": {},
   "outputs": [],
   "source": [
    "class Point:\n",
    "    \"\"\"\n",
    "    Operator on 2D points.\n",
    "    \"\"\"\n",
    "    def __init__(self,x,y):\n",
    "        self.x = x\n",
    "        self.y = y\n",
    "\n",
    "    def __repr__(self):\n",
    "        return f\"POint2D({self.x},{self.y})\"\n",
    "\n",
    "    def __add__(self,other):\n",
    "        x=self.x + other.x\n",
    "        y = self.y + other.y\n",
    "        return Point(x,y)\n",
    "\n",
    "        \n",
    "    def __sub__(self,other):\n",
    "        x=self.x - other.x\n",
    "        y = self.y - other.y\n",
    "        return Point(x,y)\n",
    "\n",
    "\n",
    "    def __pow__(self, exp): \n",
    "        x = self.x ** exp\n",
    "        y = self.y ** exp\n",
    "        return Point(x,y)\n",
    "        \n",
    "\n",
    "    def __eq__(self,other):\n",
    "         return self.x == other.x and self.y == other.y\n",
    "        "
   ]
  },
  {
   "cell_type": "code",
   "execution_count": 60,
   "id": "d83b34de-5694-4bd9-8f88-9c548eb1e02b",
   "metadata": {},
   "outputs": [],
   "source": [
    "point1 = Point(3,4)\n",
    "point2 = Point(4,6)"
   ]
  },
  {
   "cell_type": "code",
   "execution_count": 61,
   "id": "a3e2515d-7755-4af7-856d-fdfea92ca895",
   "metadata": {},
   "outputs": [
    {
     "name": "stdout",
     "output_type": "stream",
     "text": [
      "Operation in POint2D(3,4)\n"
     ]
    }
   ],
   "source": [
    "print(\"Operation in\", point1)"
   ]
  },
  {
   "cell_type": "code",
   "execution_count": 62,
   "id": "a3629041-e247-47c5-884a-e3e8463a2822",
   "metadata": {},
   "outputs": [],
   "source": [
    "added_point = point1 + point2"
   ]
  },
  {
   "cell_type": "code",
   "execution_count": 63,
   "id": "081094b9-a70e-428e-a976-354dacf06def",
   "metadata": {},
   "outputs": [
    {
     "data": {
      "text/plain": [
       "POint2D(7,10)"
      ]
     },
     "execution_count": 63,
     "metadata": {},
     "output_type": "execute_result"
    }
   ],
   "source": [
    "added_point"
   ]
  },
  {
   "cell_type": "code",
   "execution_count": 64,
   "id": "837bd614-a293-44cb-9204-4e276eaec1bb",
   "metadata": {},
   "outputs": [
    {
     "data": {
      "text/plain": [
       "POint2D(1,2)"
      ]
     },
     "execution_count": 64,
     "metadata": {},
     "output_type": "execute_result"
    }
   ],
   "source": [
    "sub_point = point2 - point1\n",
    "sub_point"
   ]
  },
  {
   "cell_type": "code",
   "execution_count": 65,
   "id": "35921c92-77f6-4fd7-a091-7b5821dec6da",
   "metadata": {},
   "outputs": [
    {
     "data": {
      "text/plain": [
       "False"
      ]
     },
     "execution_count": 65,
     "metadata": {},
     "output_type": "execute_result"
    }
   ],
   "source": [
    "point1 == point2\n"
   ]
  },
  {
   "cell_type": "code",
   "execution_count": 66,
   "id": "ba4981fd-9f6e-40c1-9e38-672f31e53ff8",
   "metadata": {},
   "outputs": [
    {
     "data": {
      "text/plain": [
       "POint2D(9,16)"
      ]
     },
     "execution_count": 66,
     "metadata": {},
     "output_type": "execute_result"
    }
   ],
   "source": [
    "point1 ** 2"
   ]
  },
  {
   "cell_type": "code",
   "execution_count": 67,
   "id": "f6e9a237-3253-4f3c-bd8f-07db40fe2f1b",
   "metadata": {},
   "outputs": [
    {
     "data": {
      "text/plain": [
       "'\\nOperator on 2D points.\\n'"
      ]
     },
     "execution_count": 67,
     "metadata": {},
     "output_type": "execute_result"
    }
   ],
   "source": [
    "point1.__doc__ # print documentation"
   ]
  },
  {
   "cell_type": "code",
   "execution_count": 68,
   "id": "e0a82e50-c70b-411e-b374-553023745c69",
   "metadata": {},
   "outputs": [
    {
     "name": "stdout",
     "output_type": "stream",
     "text": [
      "POint2D(9,16)\n"
     ]
    }
   ],
   "source": [
    "print(point1 ** 2)"
   ]
  },
  {
   "cell_type": "code",
   "execution_count": null,
   "id": "b937fee7-8adf-4b9a-b6e5-b55041835ac2",
   "metadata": {},
   "outputs": [],
   "source": []
  },
  {
   "cell_type": "code",
   "execution_count": null,
   "id": "dedda4ca-ae64-4950-a82e-b9e3b632ae0a",
   "metadata": {},
   "outputs": [],
   "source": []
  }
 ],
 "metadata": {
  "kernelspec": {
   "display_name": "Python 3 (ipykernel)",
   "language": "python",
   "name": "python3"
  },
  "language_info": {
   "codemirror_mode": {
    "name": "ipython",
    "version": 3
   },
   "file_extension": ".py",
   "mimetype": "text/x-python",
   "name": "python",
   "nbconvert_exporter": "python",
   "pygments_lexer": "ipython3",
   "version": "3.13.0"
  }
 },
 "nbformat": 4,
 "nbformat_minor": 5
}
