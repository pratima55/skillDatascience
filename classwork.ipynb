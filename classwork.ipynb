{
 "cells": [
  {
   "cell_type": "markdown",
   "id": "f475200e-d07d-4414-ad18-af9f5c72fa3d",
   "metadata": {},
   "source": [
    "**File Handling with Data Processing** \n",
    " \n",
    "Write a Python program that:\n",
    "1. Reads data from a text file containing multiple lines, where each line contains a name and a score (e.g., `John, 89`).\n",
    "2. \n",
    "John, 98\n",
    "\n",
    "Hari, 33\n",
    "\n",
    "Andrew, 43\n",
    "\n",
    "Saimon, 66\n",
    "\n",
    "July, 32\n",
    "\n",
    "hari, 62\n",
    "\n",
    "4. Stores the data in a dictionary and sorts the dictionary by score.\n",
    "5. Writes the sorted data back into a new file, where the highest scores appear first.\n",
    " \n",
    " "
   ]
  },
  {
   "cell_type": "code",
   "execution_count": 1,
   "id": "9fc60e90-fba2-4cbe-9177-b1698a860e31",
   "metadata": {},
   "outputs": [],
   "source": [
    "scores_dict = {}\n",
    "with open (\"score.txt\", \"r\") as file:\n",
    "    for line in file:\n",
    "        name, score = line.strip().split(\", \")\n",
    "        scores_dict[name] = int(score)\n",
    "    \n",
    "\n",
    "sorted_dict = sorted(scores_dict.items(), key = lambda x: x[1], reverse= True)\n",
    "\n",
    "with open (\"score.txt\", \"w\") as file:\n",
    "    for name, score in sorted_dict:\n",
    "        file.write(f\"{name},{score}\\n\")\n",
    "    "
   ]
  },
  {
   "cell_type": "code",
   "execution_count": 2,
   "id": "8b97cb59-5ddf-4b2e-a5ba-e8184c0c34c1",
   "metadata": {},
   "outputs": [],
   "source": [
    "with open (\"score.txt\", \"r\") as file:\n",
    "    for line in file:\n",
    "        name, score = line.strip().split(\", \")\n",
    "        print(name, score)"
   ]
  },
  {
   "cell_type": "code",
   "execution_count": null,
   "id": "c02e5b08-7cdb-4493-8055-7af763e56649",
   "metadata": {},
   "outputs": [],
   "source": []
  }
 ],
 "metadata": {
  "kernelspec": {
   "display_name": "Python 3 (ipykernel)",
   "language": "python",
   "name": "python3"
  },
  "language_info": {
   "codemirror_mode": {
    "name": "ipython",
    "version": 3
   },
   "file_extension": ".py",
   "mimetype": "text/x-python",
   "name": "python",
   "nbconvert_exporter": "python",
   "pygments_lexer": "ipython3",
   "version": "3.13.0"
  }
 },
 "nbformat": 4,
 "nbformat_minor": 5
}
