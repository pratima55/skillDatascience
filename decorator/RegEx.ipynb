{
 "cells": [
  {
   "cell_type": "markdown",
   "id": "18ca8a7e-32cb-4c07-b2a4-6e8cad079464",
   "metadata": {},
   "source": [
    "# Regular Expression in Python\n",
    "\n",
    "Regular expressions (also known as regex or regexp) are a powerful tool for searching and manipulating text. They allow you to define a pattern or set of rules that describe a particular string of characters, and then search for or manipulate any text that matches that pattern.\n",
    "\n",
    "Regular expressions are commonly used in programming, particularly for tasks like data validation, searching and replacing text, and parsing strings. They are also useful in text editors, command-line tools, and other applications that involve working with text.\n",
    "\n",
    "Some of the benefits of using regular expressions include:\n",
    "\n",
    "- **Flexibility:** Regular expressions are incredibly flexible and can match a wide range of patterns, from simple strings to complex sequences of characters.\n",
    "- **Efficiency:** Regular expressions are often faster than alternative methods for text processing, particularly for large amounts of data.\n",
    "- **Accuracy:** Regular expressions are very precise and can be used to match specific patterns, ensuring that you only work with the data that you need.\n",
    "- **Standardization:** Regular expressions are a widely accepted standard for working with text, making it easier to share and collaborate on code that involves text processing.\n",
    "\n",
    "```\n",
    "https://regexr.com/\n",
    "```"
   ]
  },
  {
   "cell_type": "markdown",
   "id": "c5d13860-3ce9-48d2-a197-5c7aef650948",
   "metadata": {},
   "source": [
    "## Python RegEx Methods\n",
    "\n",
    "Python provides a powerful module called `re` for working with regular expressions. This module provides various methods for working with regular expressions in Python, including:\n",
    "\n",
    "### 1. re.search(pattern, string, flags=0) \n",
    "\n",
    "The `re.search()` function is used to search for a pattern in a string and return the first occurrence of the pattern. It returns `None` if the match is not found. This is equivalent to `in` operator used with python string. Since the result is either some value or None, depending on whether a match was found or not, the result can be used with conditional expressions as well.\n",
    "\n",
    "- `pattern`: The regular expression pattern to search for\n",
    "- `string`: The string to search in\n",
    "- `flags (optional)`: A set of flags that modify the behavior of the search\n",
    "\n",
    "It's a good idea to use raw strings (represented as `r'...'`) to define regular expression patterns. This will make more sense later on.\n",
    "\n",
    "The match object contains information about the match. Some of the useful methods and attributes of the match object are:\n",
    "\n",
    "- `group()`: Returns the matched string\n",
    "- `start()`: Returns the starting index of the match\n",
    "- `end()`: Returns the ending index of the match\n",
    "- `span()`: Returns a tuple containing the starting and ending indices of the match"
   ]
  },
  {
   "cell_type": "code",
   "execution_count": 1,
   "id": "92de07a2-6a83-40fe-b888-9530e3cf2b3e",
   "metadata": {},
   "outputs": [],
   "source": [
    "import re"
   ]
  },
  {
   "cell_type": "code",
   "execution_count": 2,
   "id": "fac6eafe-0d4b-47a5-801c-5b63acede9ce",
   "metadata": {},
   "outputs": [],
   "source": [
    "string = \"The quice brown fox jumps over the lazy dog.\"\n",
    "pattern = r\"he\"\n",
    "\n",
    "match = re.search(pattern, string)"
   ]
  },
  {
   "cell_type": "code",
   "execution_count": 3,
   "id": "5cb0aaf2-9fd0-4188-bc94-3e0683c09030",
   "metadata": {},
   "outputs": [
    {
     "name": "stdout",
     "output_type": "stream",
     "text": [
      "Match Object: <re.Match object; span=(1, 3), match='he'>\n",
      "Match Group: he\n",
      "Match Start: 1\n",
      "Match End: 3\n",
      "Match Span: (1, 3)\n"
     ]
    }
   ],
   "source": [
    "# Using re.search() with conditional expressions\n",
    "if match:\n",
    "    print(\"Match Object:\", match)\n",
    "    print(\"Match Group:\", match.group())\n",
    "    print(\"Match Start:\", match.start())\n",
    "    print(\"Match End:\", match.end())\n",
    "    print(\"Match Span:\", match.span())\n",
    "else:\n",
    "    print(\"No match found.\")"
   ]
  },
  {
   "cell_type": "markdown",
   "id": "18cbf08b-caca-4a55-9e6f-1ad70165fa6e",
   "metadata": {},
   "source": [
    "In the expression `<re.Match object; span=(1, 3), match='he'>` above, `re.Match` is the data type of the object, `match='he'` is the string that has been matched and `span=(1, 3)` is the index of start and end of the matched pattern `pattern` within the entire text `string`, where indexing starts from `0` as in regular python.\n"
   ]
  },
  {
   "cell_type": "markdown",
   "id": "50dca900-068c-4d39-80bd-ab5eab81a8ef",
   "metadata": {},
   "source": [
    "### 2. re.findall(pattern, string, flags=0)\n",
    "\n",
    "The `re.findall()` function is used to find all occurrences of a regular expression pattern in a string. All the parameters are same as that used with `re.search()`. The result of `re.findall()` is a list of all the matches found. The result in the example below is quite simple, we will discuss the pattern design later to draw more insights on the upcoming topic. "
   ]
  },
  {
   "cell_type": "code",
   "execution_count": 4,
   "id": "57459921-179d-4b62-a9ee-8482f4d9a664",
   "metadata": {},
   "outputs": [],
   "source": [
    "string = \"The quice brown fox jumps over the lazy dog.\"\n",
    "pattern = r\"[A-Z]he\"\n",
    "\n",
    "match = re.findall(pattern, string)"
   ]
  },
  {
   "cell_type": "code",
   "execution_count": 5,
   "id": "442eb545-eedc-4dbc-9648-d10b883d6ccf",
   "metadata": {},
   "outputs": [
    {
     "name": "stdout",
     "output_type": "stream",
     "text": [
      "['The']\n"
     ]
    }
   ],
   "source": [
    "print(match)\n"
   ]
  },
  {
   "cell_type": "markdown",
   "id": "0efd15a0-945c-476e-ad96-825bff1ed577",
   "metadata": {},
   "source": [
    "### 3. re.match(pattern, string, flags=0)\n",
    "\n",
    "`re.match()` is a method that searches for a pattern in the beginning of a string. It returns a match object if it finds a match, and None if it does not. All the parameters are same as that used with `re.search()` and `re.findall()`. Similar to `re.search()` object, `re.match()` object also has methods like `group()`, `start()`, `end()`, `span()`."
   ]
  },
  {
   "cell_type": "code",
   "execution_count": 6,
   "id": "43c78834-84e5-4a30-a6b0-114e7473b98b",
   "metadata": {},
   "outputs": [],
   "source": [
    "string = \"The quice brown fox jumps over the lazy dog.\"\n",
    "pattern = r\"[A-Z]he\"\n",
    "\n",
    "match = re.match(pattern, string)"
   ]
  },
  {
   "cell_type": "code",
   "execution_count": 7,
   "id": "8a8bfda7-0bc2-4179-95e1-814d54cec0f4",
   "metadata": {},
   "outputs": [
    {
     "name": "stdout",
     "output_type": "stream",
     "text": [
      "Match Object: <re.Match object; span=(0, 3), match='The'>\n",
      "Match Group: The\n",
      "Match Start: 0\n",
      "Match End: 3\n",
      "Match Span: (0, 3)\n"
     ]
    }
   ],
   "source": [
    "# Using re.match() with conditional expressions\n",
    "if match:\n",
    "    print(\"Match Object:\", match)\n",
    "    print(\"Match Group:\", match.group())\n",
    "    print(\"Match Start:\", match.start())\n",
    "    print(\"Match End:\", match.end())\n",
    "    print(\"Match Span:\", match.span())\n",
    "else:\n",
    "    print(\"No match found.\")"
   ]
  },
  {
   "cell_type": "markdown",
   "id": "c668b39a-9124-49b1-ab7b-f81446d5d33d",
   "metadata": {},
   "source": [
    "### 4. re.sub(pattern, repl, string, count=0, flags=0)\n",
    "\n",
    "`re.sub()` is a method that is used to replace occurrences of a pattern in a string with a replacement string. It returns a new string with the replacements made. Here are the parameters used:\n",
    "\n",
    "- `pattern`: The regular expression pattern to search for\n",
    "- `repl`: replacement string that you want to use in place of matched pattern\n",
    "- `string`: The string to search in\n",
    "- `count`: Maximum number of replacements to make\n",
    "- `flags (optional)`: A set of flags that modify the behavior of the search"
   ]
  },
  {
   "cell_type": "code",
   "execution_count": 8,
   "id": "29347446-9fb2-4cbc-b38f-df833530de06",
   "metadata": {},
   "outputs": [],
   "source": [
    "string = \"The quice brown fox jumps over the lazy dog.\"\n",
    "pattern = r\"[a-z]he\"\n",
    "repl = \"The\"\n",
    "\n",
    "match = re.sub(pattern, repl, string, count=1)\n"
   ]
  },
  {
   "cell_type": "code",
   "execution_count": 9,
   "id": "5a929b1b-7f2a-47b0-af94-71a78534e4f6",
   "metadata": {},
   "outputs": [
    {
     "data": {
      "text/plain": [
       "'The quice brown fox jumps over The lazy dog.'"
      ]
     },
     "execution_count": 9,
     "metadata": {},
     "output_type": "execute_result"
    }
   ],
   "source": [
    "match"
   ]
  },
  {
   "cell_type": "markdown",
   "id": "3e133f48-2730-4aa4-ab3e-f404010edefa",
   "metadata": {},
   "source": [
    "### 5. re.split(pattern, string, maxsplit=0, flags=0)\n",
    "\n",
    "`re.split()` is a method that is used to split a string into a list of substrings based on a regular expression pattern. It returns a list of the substrings. It is similar to Python's `split()` method use with Python `str` objects. Let's see how each parameter works:\n",
    "\n",
    "- `pattern`: The regular expression pattern to search for\n",
    "- `string`: The string to search in\n",
    "- `maxsplit`: Maximum number of splits to make\n",
    "- `flags (optional)`: A set of flags that modify the behavior of the search"
   ]
  },
  {
   "cell_type": "code",
   "execution_count": 10,
   "id": "ad03d6a2-46ac-407b-a0da-af50df4a6b70",
   "metadata": {},
   "outputs": [],
   "source": [
    "string = \"The quice brown fox 1 <div> over the 2 lazy dog.\"\n",
    "pattern = r\"<[a-z]\\w+>\"\n",
    "\n",
    "segements = re.split(pattern, string)"
   ]
  },
  {
   "cell_type": "code",
   "execution_count": 11,
   "id": "a409083d-1c47-45ea-968e-cebbeb5f344e",
   "metadata": {},
   "outputs": [
    {
     "data": {
      "text/plain": [
       "['The quice brown fox 1 ', ' over the 2 lazy dog.']"
      ]
     },
     "execution_count": 11,
     "metadata": {},
     "output_type": "execute_result"
    }
   ],
   "source": [
    "segements"
   ]
  },
  {
   "cell_type": "markdown",
   "id": "eb63b2ca-4285-4d06-b641-7489967c5b85",
   "metadata": {},
   "source": [
    "### 6. re.compile(pattern, flags=0)\n",
    "\n",
    "`re.compile()` is a method that is used to compile a regular expression pattern into a regular expression object. This regular expression object can then be used for matching, searching, or replacing patterns in strings.\n",
    "\n",
    "**Is it worth compiling regular expression patterns?**\n",
    "\n",
    "Here are some reasons why defining a regular expression pattern with re.compile might be worth it:\n",
    "\n",
    "- `Improved performance`: When a pattern is compiled using `re.compile`, the regular expression engine performs some optimizations to the pattern that can improve the performance of matching, searching, or replacing operations. The compiled pattern can be reused multiple times, which can be faster than recompiling the pattern each time it is used.\n",
    "- `Easier debugging`: If you have a regular expression pattern that is not working as expected, defining the pattern using `re.compile` can make it easier to debug your code. You can print the compiled pattern to see what it looks like, and you can also inspect the regular expression object to see its attributes and methods.\n",
    "\n",
    "If you get more curious, you might like to see this: [Is it worth using Python's re.compile?](https://stackoverflow.com/questions/452104/is-it-worth-using-pythons-re-compile)"
   ]
  },
  {
   "cell_type": "code",
   "execution_count": 12,
   "id": "7a3f7bf9-deab-44d4-bcd5-8f1f28ee4a5d",
   "metadata": {},
   "outputs": [],
   "source": [
    "pattern = re.compile('[A-Z]he')"
   ]
  },
  {
   "cell_type": "code",
   "execution_count": 13,
   "id": "75ffb25b-6b23-4523-9f25-5d900fa1ed2f",
   "metadata": {},
   "outputs": [
    {
     "data": {
      "text/plain": [
       "['The']"
      ]
     },
     "execution_count": 13,
     "metadata": {},
     "output_type": "execute_result"
    }
   ],
   "source": [
    "pattern.findall(\"The quick fox\")\n"
   ]
  },
  {
   "cell_type": "code",
   "execution_count": 14,
   "id": "0f52ede7-a5db-4dd1-83df-e4ee0c625835",
   "metadata": {},
   "outputs": [
    {
     "data": {
      "text/plain": [
       "'the quick fox'"
      ]
     },
     "execution_count": 14,
     "metadata": {},
     "output_type": "execute_result"
    }
   ],
   "source": [
    "pattern.sub(\"the\", \"The quick fox\")"
   ]
  },
  {
   "cell_type": "markdown",
   "id": "ff21627a-e2dd-4069-816e-bda0ca85a116",
   "metadata": {},
   "source": [
    "## Metacharacters\n",
    "\n",
    "Metacharacters are special characters in regular expressions that have a special meaning and are used to match specific patterns in a string. Here are some of the most commonly used metacharacters in Python's `re` module:\n",
    "\n",
    "- `. (dot)`: Matches any single character except newline.\n",
    "- `^ (caret)`: Matches the beginning of a string.\n",
    "- `$ (dollar)`: Matches the end of a string.\n",
    "- `* (asterisk)`: Matches zero or more occurrences of the preceding character.\n",
    "- `+ (plus)`: Matches one or more occurrences of the preceding character.\n",
    "- `? (question mark)`: Matches zero or one occurrence of the preceding character.\n",
    "- `{m} (curly braces)`: Matches exactly m occurrences of the preceding character.\n",
    "- `{m,n} (curly braces)`: Matches between m and n occurrences of the preceding character.\n",
    "- `[] (square brackets)`: Matches any one of the characters enclosed in the brackets.\n",
    "- `| (pipe)`: Matches either the expression before or after the pipe.\n",
    "- `\\ (backslash)`: Used to escape metacharacters and match literal characters. For example, \\. matches a period and \\\\ matches a backslash.\n",
    "\n",
    "Here are some examples of how to use metacharacters in regular expressions:"
   ]
  },
  {
   "cell_type": "code",
   "execution_count": 16,
   "id": "daa581c8-e311-4a6d-90f6-b3ab38070524",
   "metadata": {},
   "outputs": [
    {
     "name": "stdout",
     "output_type": "stream",
     "text": [
      "hello\n",
      "world\n",
      "python\n",
      "aabbb\n",
      "cat\n",
      "http://\n"
     ]
    }
   ],
   "source": [
    "import re\n",
    "\n",
    "# Matches any string that starts with 'hello'\n",
    "pattern = r'^hello'\n",
    "string = 'hello world'\n",
    "match = re.match(pattern, string)\n",
    "print(match.group())\n",
    "\n",
    "# Matches any string that ends with 'world'\n",
    "pattern = 'world$'\n",
    "string = 'hello world'\n",
    "match = re.search(pattern, string)\n",
    "print(match.group())\n",
    "\n",
    "# Matches any string that contains 'python'\n",
    "pattern = r'python'\n",
    "string = 'I love python'\n",
    "match = re.search(pattern, string)\n",
    "print(match.group())\n",
    "\n",
    "# Matches any string that starts with 'a' followed by zero or more 'b's\n",
    "pattern = r'^a*b*'\n",
    "string = 'aabbb'\n",
    "match = re.match(pattern, string, flags = re.IGNORECASE)\n",
    "print(match.group())\n",
    "\n",
    "# Matches any string that contains 'cat' or 'dog'\n",
    "pattern = r'cat|dog'\n",
    "string = 'I have a cat and a dog'\n",
    "match = re.search(pattern, string)\n",
    "print(match.group())\n",
    "\n",
    "# Matches any string that starts with 'http://' or 'https://'\n",
    "pattern = r'^https?://'\n",
    "string = 'http://www.google.com'\n",
    "match = re.match(pattern, string)\n",
    "print(match.group())"
   ]
  },
  {
   "cell_type": "markdown",
   "id": "7923e9dc-8722-48d5-82ca-0f39d21c8eb9",
   "metadata": {},
   "source": [
    "hese are just a few examples of how to use metacharacters in regular expressions. By combining metacharacters and literal characters, you can create complex regular expressions that can match specific patterns in strings.\n",
    "\n",
    "## Special Sequences\n",
    "\n",
    "Special sequences in Python's re module are sequences of characters that represent a special type of pattern. Here are some of the most commonly used special sequences:\n",
    "\n",
    "- `\\d`: Matches any digit (0-9).\n",
    "- `\\D`: Matches any non-digit character.\n",
    "- `\\s`: Matches any whitespace character (space, tab, newline, etc.).\n",
    "- `\\S`: Matches any non-whitespace character.\n",
    "- `\\w`: Matches any alphanumeric character (a-z, A-Z, 0-9, _).\n",
    "- `\\W`: Matches any non-alphanumeric character.\n",
    "- `\\b`: Matches the boundary between a word character and a non-word character.\n",
    "- `\\B`: Matches the boundary between two word characters or two non-word characters.\n",
    "- `\\A`: Matches the beginning of the string. It works the same as the caret (^) metacharacter.\n",
    "- `\\Z`: Matches the end of the string. It works the same as the dollar ($) metacharacter.\n",
    "\n",
    "Here are some examples of how to use these special sequences:"
   ]
  },
  {
   "cell_type": "code",
   "execution_count": 18,
   "id": "a76f45ce-c2c2-4077-9d3c-f84562a16cee",
   "metadata": {},
   "outputs": [
    {
     "name": "stdout",
     "output_type": "stream",
     "text": [
      "['123', '45']\n",
      "[', ', '!']\n",
      "world\n"
     ]
    }
   ],
   "source": [
    "import re\n",
    "\n",
    "# Match any digit\n",
    "pattern = re.compile(r'\\d+')\n",
    "string = 'The price is $123.45'\n",
    "matches = pattern.findall(string)\n",
    "print(matches)\n",
    "\n",
    "# Match any non-word character\n",
    "pattern = re.compile(r'\\W+')\n",
    "string = 'Hello, World!'\n",
    "matches = pattern.findall(string)\n",
    "print(matches)\n",
    "\n",
    "# Match the boundary between a word character and a non-word character\n",
    "pattern = re.compile(r'\\bworld\\b')\n",
    "string = 'Hello, world!'\n",
    "match = pattern.search(string)\n",
    "print(match.group())"
   ]
  },
  {
   "cell_type": "markdown",
   "id": "cd683050-3365-4c55-8fa1-febb7d56172d",
   "metadata": {},
   "source": [
    "## Python RegEx Flags\n",
    "\n",
    "Flags in Python's `re` module are optional arguments that modify the behavior of regular expression functions. These flags allow you to control how regular expressions are matched and interpreted. Here are some of the most commonly used flags:\n",
    "\n",
    "- `re.IGNORECASE`: Ignores case when matching characters. For example, the pattern r'cat' would match the string \"cat\", \"Cat\", and \"CAT\" with this flag.\n",
    "- `re.MULTILINE`: Allows the pattern to match multiple lines in a string. This flag changes the meaning of the `^` and `$` metacharacters to match the beginning and end of each line, rather than just the beginning and end of the entire string.\n",
    "- `re.DOTALL`: Allows the dot (`.`) metacharacter to match any character, including newline characters.\n",
    "- `re.VERBOSE`: Allows you to add comments and whitespace to your regular expression pattern, making it easier to read and understand.\n",
    "- `re.ASCII`: Makes `\\w`, `\\W`, `\\b`, `\\B`, `\\d`, `\\D`, `\\s` and `\\S` perform ASCII-only matching instead of Unicode matching.\n",
    "- `re.UNICODE`: Makes `\\w`, `\\W`, `\\b`, `\\B`, `\\d` and `\\D` perform Unicode matching instead of ASCII-only matching.\n",
    "- `re.LOCALE`: Makes `\\w`, `\\W`, `\\b`, `\\B`, `\\d` and `\\D` perform matching according to the current locale.\n",
    "- `re.DEBUG`: Enable debug output for the regular expression engine.\n",
    "- `re.A`: This is an alias for `re.ASCII`.\n",
    "- `re.I`: This is an alias for `re.IGNORECASE`.\n",
    "- `re.M`: This is an alias for `re.MULTILINE`.\n",
    "- `re.S`: This is an alias for `re.DOTALL`.\n",
    "- `re.X`: This is an alias for `re.VERBOSE`.\n",
    "- `re.U`: This is an alias for `re.UNICODE`.\n",
    "- `re.L`: This is an alias for `re.LOCALE`."
   ]
  },
  {
   "cell_type": "code",
   "execution_count": null,
   "id": "61b35b7a-d3d7-4461-88e9-65027e894278",
   "metadata": {},
   "outputs": [],
   "source": []
  }
 ],
 "metadata": {
  "kernelspec": {
   "display_name": "Python 3 (ipykernel)",
   "language": "python",
   "name": "python3"
  },
  "language_info": {
   "codemirror_mode": {
    "name": "ipython",
    "version": 3
   },
   "file_extension": ".py",
   "mimetype": "text/x-python",
   "name": "python",
   "nbconvert_exporter": "python",
   "pygments_lexer": "ipython3",
   "version": "3.13.0"
  }
 },
 "nbformat": 4,
 "nbformat_minor": 5
}
