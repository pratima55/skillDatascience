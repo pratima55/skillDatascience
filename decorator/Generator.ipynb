{
 "cells": [
  {
   "cell_type": "markdown",
   "id": "145fe2ed-b2a5-41a0-a6a9-0ad9a82c59da",
   "metadata": {},
   "source": [
    "# Python Generators\n",
    "\n",
    "A generator in Python is a type of iterator that generates values on-the-fly as they are requested. This means that generators are a more memory-efficient way of generating large sequences of values, as they only generate the values as they are needed, rather than generating them all at once and storing them in memory.\n",
    "\n",
    "Here's a step-by-step tutorial on how to create and use generators in Python:"
   ]
  },
  {
   "cell_type": "markdown",
   "id": "f5780ead-2cf0-4b71-93d3-6f9dd5b037a4",
   "metadata": {},
   "source": [
    "### Step 1: Define a generator function using the `yield` keyword\n",
    "\n",
    "A generator function is a special type of function that uses the `yield` keyword to generate values. The `yield` keyword suspends the function's execution and returns a value to the caller, but it also remembers the function's state so that it can resume execution where it left off the next time it is called.\n",
    "\n",
    "For example, here's a simple generator function that generates a sequence of numbers:"
   ]
  },
  {
   "cell_type": "code",
   "execution_count": 2,
   "id": "ace41f62-987d-40ca-8be7-d33041c3fcbd",
   "metadata": {},
   "outputs": [],
   "source": [
    "def number_generator(start, end):\n",
    "    for num in range(start, end+1):\n",
    "        yield num"
   ]
  },
  {
   "cell_type": "markdown",
   "id": "45b5df0d-8fa9-4149-9d39-e1c2fa1cc57c",
   "metadata": {},
   "source": [
    "In this example, the `number_generator()` function takes two arguments, `start` and `end`, and generates a sequence of numbers from start to end. The `yield` keyword is used to return each number in the sequence, and to remember the function's state so that it can resume execution where it left off the next time it is called.\n",
    "\n",
    "### Step 2: Create a generator object using the generator function\n",
    "\n",
    "To create a generator object, we simply call the generator function. This returns a generator object, which we can use to generate the values on-the-fly."
   ]
  },
  {
   "cell_type": "code",
   "execution_count": 5,
   "id": "da695f39-8abf-4b31-8161-4c496939abaa",
   "metadata": {},
   "outputs": [],
   "source": [
    "gen = number_generator(10,23)"
   ]
  },
  {
   "cell_type": "code",
   "execution_count": 6,
   "id": "f1afe65b-aef0-4e27-9d61-9b6874d5cd61",
   "metadata": {},
   "outputs": [
    {
     "data": {
      "text/plain": [
       "<generator object number_generator at 0x0000021072FF3CA0>"
      ]
     },
     "execution_count": 6,
     "metadata": {},
     "output_type": "execute_result"
    }
   ],
   "source": [
    "gen"
   ]
  },
  {
   "cell_type": "markdown",
   "id": "62290820-3b94-4095-b716-a458f1aae518",
   "metadata": {},
   "source": [
    "In this example, we create a generator object called `gen` by calling the `number_generator()` function with `start=10` and `end=23`.\n",
    "\n",
    "### Step 3: Use the generator object to generate the values on-the-fly\n",
    "\n",
    "We can use the `next()` function to generate the next value in the sequence on-the-fly. Each time we call `next()` on the generator object, the generator function resumes execution where it left off and generates the next value in the sequence."
   ]
  },
  {
   "cell_type": "code",
   "execution_count": 10,
   "id": "772a26ae-89d7-45af-bc15-26717cad9545",
   "metadata": {},
   "outputs": [
    {
     "name": "stdout",
     "output_type": "stream",
     "text": [
      "13\n"
     ]
    }
   ],
   "source": [
    "print(next(gen))"
   ]
  },
  {
   "cell_type": "markdown",
   "id": "aae54362-c9ba-4205-a91b-5a6a5dbf649b",
   "metadata": {},
   "source": [
    "In this example, we use the `next()` function to generate each value in the sequence on-the-fly, and print it to the console.\n",
    "\n",
    "### Step 4: Use a for loop to generate all the values in the sequence\n",
    "\n",
    "We can use a `for` loop to generate all the values in the sequence without having to use the `next()` function explicitly."
   ]
  },
  {
   "cell_type": "code",
   "execution_count": 11,
   "id": "2636b469-3399-4e43-ac91-47d0098bce38",
   "metadata": {},
   "outputs": [
    {
     "name": "stdout",
     "output_type": "stream",
     "text": [
      "1\n",
      "2\n",
      "3\n",
      "4\n",
      "5\n",
      "6\n"
     ]
    }
   ],
   "source": [
    "my_gen = number_generator(1,6)\n",
    "for num in my_gen:\n",
    "    print(num)"
   ]
  },
  {
   "cell_type": "markdown",
   "id": "9d79bdf1-6b95-4610-9bf4-7c7655cac2ce",
   "metadata": {},
   "source": [
    "## Generator , Alternative"
   ]
  },
  {
   "cell_type": "code",
   "execution_count": 12,
   "id": "681dc290-2f62-47bf-83b5-4c1c017002de",
   "metadata": {},
   "outputs": [],
   "source": [
    "gen = (i for i in range(1,5))"
   ]
  },
  {
   "cell_type": "code",
   "execution_count": 13,
   "id": "7ea23f94-d342-43ad-9ebb-7d36af37d714",
   "metadata": {},
   "outputs": [
    {
     "data": {
      "text/plain": [
       "<generator object <genexpr> at 0x0000021072E565C0>"
      ]
     },
     "execution_count": 13,
     "metadata": {},
     "output_type": "execute_result"
    }
   ],
   "source": [
    "gen"
   ]
  },
  {
   "cell_type": "code",
   "execution_count": 14,
   "id": "5444a113-b1b8-405c-945e-9e592e9e466f",
   "metadata": {},
   "outputs": [],
   "source": [
    "## Prepare a generator than generate prime numbers\n",
    "\n",
    "def is_prime(n):\n",
    "    if n <= 1:\n",
    "        return False\n",
    "    for i in range(2, int(n**0.5) + 1):\n",
    "        if n % i == 0:\n",
    "            return False\n",
    "    return True\n",
    "\n",
    "def prime_generator():\n",
    "    n = 2\n",
    "    while True:\n",
    "        if is_prime(n):\n",
    "            yield n\n",
    "            \n",
    "        n += 1"
   ]
  },
  {
   "cell_type": "code",
   "execution_count": 15,
   "id": "725c6880-70bd-4389-848a-5aaef19ba442",
   "metadata": {},
   "outputs": [
    {
     "name": "stdout",
     "output_type": "stream",
     "text": [
      "2\n",
      "3\n",
      "5\n",
      "7\n",
      "11\n"
     ]
    }
   ],
   "source": [
    "prime_gen = prime_generator()\n",
    "\n",
    "for _ in range(5):\n",
    "    print(next(prime_gen))"
   ]
  },
  {
   "cell_type": "code",
   "execution_count": null,
   "id": "c0366695-47e1-4680-ad68-1cc350e80497",
   "metadata": {},
   "outputs": [],
   "source": []
  }
 ],
 "metadata": {
  "kernelspec": {
   "display_name": "Python 3 (ipykernel)",
   "language": "python",
   "name": "python3"
  },
  "language_info": {
   "codemirror_mode": {
    "name": "ipython",
    "version": 3
   },
   "file_extension": ".py",
   "mimetype": "text/x-python",
   "name": "python",
   "nbconvert_exporter": "python",
   "pygments_lexer": "ipython3",
   "version": "3.13.0"
  }
 },
 "nbformat": 4,
 "nbformat_minor": 5
}
