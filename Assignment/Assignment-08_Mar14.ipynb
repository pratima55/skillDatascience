{
 "cells": [
  {
   "cell_type": "markdown",
   "metadata": {},
   "source": [
    "\n",
    "# **Assignment: Logistic Regression from Scratch using the Iris Dataset**\n",
    "\n",
    "## **Objective:**\n",
    "Implement Logistic Regression **from scratch** (without using built-in classifiers like those in `sklearn`) to classify flowers in the Iris dataset. Evaluate your model using performance metrics including:\n",
    "\n",
    "- **Confusion Matrix (CM)**\n",
    "- **Precision**\n",
    "- **Recall**\n",
    "- **F1-Score**\n",
    "- **Accuracy**\n",
    "\n",
    "### **Report:**\n",
    "Your final submission should include:\n",
    "\n",
    "- Code (well-commented)\n",
    "- Confusion matrix visualization\n",
    "- Metric values for your trained model\n",
    "- A brief explanation of each step and your results"
   ]
  },
  {
   "cell_type": "markdown",
   "metadata": {},
   "source": [
    "---"
   ]
  },
  {
   "cell_type": "markdown",
   "metadata": {},
   "source": [
    "## **Instructions:**\n",
    "\n",
    "### 1. **Dataset: Iris Dataset**\n",
    "- Download the Iris dataset from Kaggle: [https://www.kaggle.com/datasets/uciml/iris](https://www.kaggle.com/datasets/uciml/iris)\n",
    "- The dataset contains 150 samples with 4 features:\n",
    "  - Sepal Length\n",
    "  - Sepal Width\n",
    "  - Petal Length\n",
    "  - Petal Width\n",
    "- Target classes:\n",
    "  - Setosa\n",
    "  - Versicolor\n",
    "  - Virginica\n",
    "\n",
    "> **Note**: For binary classification, you may choose any two classes (e.g., Setosa vs Versicolor) or implement a one-vs-rest strategy for multiclass.\n",
    "\n",
    "### 2. **Preprocessing:**\n",
    "- Load and inspect the dataset\n",
    "- Normalize or standardize features as needed\n",
    "- Encode labels (e.g., using 0 and 1 for binary classification)\n",
    "\n"
   ]
  },
  {
   "cell_type": "code",
   "execution_count": 20,
   "metadata": {},
   "outputs": [],
   "source": [
    "import pandas as pd\n",
    "import numpy as np\n",
    "import matplotlib.pyplot as plt\n",
    "from sklearn.model_selection import train_test_split\n",
    "from sklearn.preprocessing import StandardScaler, LabelEncoder\n",
    "from sklearn.metrics import confusion_matrix, precision_score, recall_score, f1_score, accuracy_score\n",
    "from sklearn.linear_model import LogisticRegression"
   ]
  },
  {
   "cell_type": "code",
   "execution_count": null,
   "metadata": {},
   "outputs": [],
   "source": []
  },
  {
   "cell_type": "code",
   "execution_count": 21,
   "metadata": {
    "vscode": {
     "languageId": "plaintext"
    }
   },
   "outputs": [
    {
     "data": {
      "text/html": [
       "<div>\n",
       "<style scoped>\n",
       "    .dataframe tbody tr th:only-of-type {\n",
       "        vertical-align: middle;\n",
       "    }\n",
       "\n",
       "    .dataframe tbody tr th {\n",
       "        vertical-align: top;\n",
       "    }\n",
       "\n",
       "    .dataframe thead th {\n",
       "        text-align: right;\n",
       "    }\n",
       "</style>\n",
       "<table border=\"1\" class=\"dataframe\">\n",
       "  <thead>\n",
       "    <tr style=\"text-align: right;\">\n",
       "      <th></th>\n",
       "      <th>SepalLengthCm</th>\n",
       "      <th>SepalWidthCm</th>\n",
       "      <th>PetalLengthCm</th>\n",
       "      <th>PetalWidthCm</th>\n",
       "      <th>Species</th>\n",
       "    </tr>\n",
       "    <tr>\n",
       "      <th>Id</th>\n",
       "      <th></th>\n",
       "      <th></th>\n",
       "      <th></th>\n",
       "      <th></th>\n",
       "      <th></th>\n",
       "    </tr>\n",
       "  </thead>\n",
       "  <tbody>\n",
       "    <tr>\n",
       "      <th>1</th>\n",
       "      <td>5.1</td>\n",
       "      <td>3.5</td>\n",
       "      <td>1.4</td>\n",
       "      <td>0.2</td>\n",
       "      <td>Iris-setosa</td>\n",
       "    </tr>\n",
       "    <tr>\n",
       "      <th>2</th>\n",
       "      <td>4.9</td>\n",
       "      <td>3.0</td>\n",
       "      <td>1.4</td>\n",
       "      <td>0.2</td>\n",
       "      <td>Iris-setosa</td>\n",
       "    </tr>\n",
       "    <tr>\n",
       "      <th>3</th>\n",
       "      <td>4.7</td>\n",
       "      <td>3.2</td>\n",
       "      <td>1.3</td>\n",
       "      <td>0.2</td>\n",
       "      <td>Iris-setosa</td>\n",
       "    </tr>\n",
       "    <tr>\n",
       "      <th>4</th>\n",
       "      <td>4.6</td>\n",
       "      <td>3.1</td>\n",
       "      <td>1.5</td>\n",
       "      <td>0.2</td>\n",
       "      <td>Iris-setosa</td>\n",
       "    </tr>\n",
       "    <tr>\n",
       "      <th>5</th>\n",
       "      <td>5.0</td>\n",
       "      <td>3.6</td>\n",
       "      <td>1.4</td>\n",
       "      <td>0.2</td>\n",
       "      <td>Iris-setosa</td>\n",
       "    </tr>\n",
       "  </tbody>\n",
       "</table>\n",
       "</div>"
      ],
      "text/plain": [
       "    SepalLengthCm  SepalWidthCm  PetalLengthCm  PetalWidthCm      Species\n",
       "Id                                                                       \n",
       "1             5.1           3.5            1.4           0.2  Iris-setosa\n",
       "2             4.9           3.0            1.4           0.2  Iris-setosa\n",
       "3             4.7           3.2            1.3           0.2  Iris-setosa\n",
       "4             4.6           3.1            1.5           0.2  Iris-setosa\n",
       "5             5.0           3.6            1.4           0.2  Iris-setosa"
      ]
     },
     "execution_count": 21,
     "metadata": {},
     "output_type": "execute_result"
    }
   ],
   "source": [
    "df= pd.read_csv(\"Iris.csv\", index_col = \"Id\")\n",
    "df.head()"
   ]
  },
  {
   "cell_type": "code",
   "execution_count": 22,
   "metadata": {},
   "outputs": [
    {
     "data": {
      "text/plain": [
       "array(['Iris-setosa', 'Iris-versicolor', 'Iris-virginica'], dtype=object)"
      ]
     },
     "execution_count": 22,
     "metadata": {},
     "output_type": "execute_result"
    }
   ],
   "source": [
    "df[\"Species\"].unique()"
   ]
  },
  {
   "cell_type": "code",
   "execution_count": 23,
   "metadata": {},
   "outputs": [],
   "source": [
    "df = df[df['Species'].isin(['Iris-setosa', 'Iris-versicolor'])].copy()"
   ]
  },
  {
   "cell_type": "code",
   "execution_count": 24,
   "metadata": {},
   "outputs": [],
   "source": [
    "X = df[['SepalLengthCm', 'SepalWidthCm', 'PetalLengthCm', 'PetalWidthCm']].values\n",
    "y = df['Species'].values"
   ]
  },
  {
   "cell_type": "code",
   "execution_count": 25,
   "metadata": {},
   "outputs": [],
   "source": [
    "#encode\n",
    "label_encoder = LabelEncoder()\n",
    "y = label_encoder.fit_transform(y)\n"
   ]
  },
  {
   "cell_type": "code",
   "execution_count": 26,
   "metadata": {},
   "outputs": [
    {
     "data": {
      "text/plain": [
       "array([0, 0, 0, 0, 0, 0, 0, 0, 0, 0, 0, 0, 0, 0, 0, 0, 0, 0, 0, 0, 0, 0,\n",
       "       0, 0, 0, 0, 0, 0, 0, 0, 0, 0, 0, 0, 0, 0, 0, 0, 0, 0, 0, 0, 0, 0,\n",
       "       0, 0, 0, 0, 0, 0, 1, 1, 1, 1, 1, 1, 1, 1, 1, 1, 1, 1, 1, 1, 1, 1,\n",
       "       1, 1, 1, 1, 1, 1, 1, 1, 1, 1, 1, 1, 1, 1, 1, 1, 1, 1, 1, 1, 1, 1,\n",
       "       1, 1, 1, 1, 1, 1, 1, 1, 1, 1, 1, 1])"
      ]
     },
     "execution_count": 26,
     "metadata": {},
     "output_type": "execute_result"
    }
   ],
   "source": [
    "y"
   ]
  },
  {
   "cell_type": "code",
   "execution_count": 28,
   "metadata": {},
   "outputs": [],
   "source": [
    "#normalize\n",
    "scaler = StandardScaler()\n",
    "X = scaler.fit_transform(X)\n"
   ]
  },
  {
   "cell_type": "code",
   "execution_count": null,
   "metadata": {},
   "outputs": [],
   "source": []
  },
  {
   "cell_type": "code",
   "execution_count": null,
   "metadata": {},
   "outputs": [],
   "source": []
  },
  {
   "cell_type": "markdown",
   "metadata": {},
   "source": [
    "\n",
    "### 3. **Model Implementation: Logistic Regression**\n",
    "- Implement logistic regression from scratch (i.e., use NumPy but **no sklearn classifiers**)\n",
    "- Use the sigmoid function for predictions\n",
    "- Apply gradient descent to minimize the loss function (Binary Cross Entropy)\n",
    "- Train the model on the dataset\n"
   ]
  },
  {
   "cell_type": "code",
   "execution_count": 29,
   "metadata": {
    "vscode": {
     "languageId": "plaintext"
    }
   },
   "outputs": [],
   "source": [
    "# Split into train and test sets\n",
    "X_train, X_test, y_train, y_test = train_test_split(X, y, test_size=0.2, random_state=42)"
   ]
  },
  {
   "cell_type": "code",
   "execution_count": 30,
   "metadata": {},
   "outputs": [],
   "source": [
    "# Sigmoid function\n",
    "def sigmoid(z):\n",
    "    return 1 / (1 + np.exp(-z))"
   ]
  },
  {
   "cell_type": "code",
   "execution_count": 32,
   "metadata": {},
   "outputs": [],
   "source": [
    "# Binary Logistic Regression from Scratch\n",
    "class LogisticRegressionScratch:\n",
    "    def __init__(self, learning_rate=0.1, epochs=2000):\n",
    "        self.learning_rate = learning_rate\n",
    "        self.epochs = epochs\n",
    "        self.weights = None\n",
    "        self.bias = None\n",
    "        self.losses = []\n",
    "\n",
    "    def fit(self, X, y):\n",
    "        samples, features = X.shape\n",
    "        self.weights = np.zeros(features)\n",
    "        self.bias = 0\n",
    "\n",
    "        for _ in range(self.epochs):\n",
    "            linear_model = np.dot(X, self.weights) + self.bias\n",
    "            predictions = sigmoid(linear_model)\n",
    "            \n",
    "            # Compute loss (Binary Cross Entropy)\n",
    "            loss = -np.mean(y * np.log(predictions + 1e-9) + (1 - y) * np.log(1 - predictions + 1e-9))\n",
    "            self.losses.append(loss)\n",
    "\n",
    "            # Compute gradients\n",
    "            dw = (1 / samples) * np.dot(X.T, (predictions - y))\n",
    "            db = (1 / samples) * np.sum(predictions - y)\n",
    "\n",
    "            # Update weights and bias\n",
    "            self.weights -= self.learning_rate * dw\n",
    "            self.bias -= self.learning_rate * db\n",
    "\n",
    "    def predict(self, X):\n",
    "        linear_model = np.dot(X, self.weights) + self.bias\n",
    "        predictions = sigmoid(linear_model)\n",
    "        return [1 if p >= 0.5 else 0 for p in predictions]"
   ]
  },
  {
   "cell_type": "code",
   "execution_count": 33,
   "metadata": {},
   "outputs": [],
   "source": [
    "# Train the custom model\n",
    "model_scratch = LogisticRegressionScratch(learning_rate=0.1, epochs=2000)\n",
    "model_scratch.fit(X_train, y_train)\n",
    "y_pred_scratch = model_scratch.predict(X_test)"
   ]
  },
  {
   "cell_type": "code",
   "execution_count": 34,
   "metadata": {},
   "outputs": [],
   "source": [
    "\n",
    "# Train and compare with sklearn Logistic Regression\n",
    "model_sklearn = LogisticRegression(max_iter=2000)\n",
    "model_sklearn.fit(X_train, y_train)\n",
    "y_pred_sklearn = model_sklearn.predict(X_test)"
   ]
  },
  {
   "cell_type": "code",
   "execution_count": null,
   "metadata": {},
   "outputs": [],
   "source": []
  },
  {
   "cell_type": "code",
   "execution_count": null,
   "metadata": {},
   "outputs": [],
   "source": []
  },
  {
   "cell_type": "code",
   "execution_count": null,
   "metadata": {},
   "outputs": [],
   "source": []
  },
  {
   "cell_type": "code",
   "execution_count": null,
   "metadata": {},
   "outputs": [],
   "source": []
  },
  {
   "cell_type": "code",
   "execution_count": null,
   "metadata": {},
   "outputs": [],
   "source": []
  },
  {
   "cell_type": "markdown",
   "metadata": {},
   "source": [
    "\n",
    "### 4. **Evaluation Metrics:**\n",
    "After training your model, evaluate its performance using the following metrics:\n",
    "\n",
    "- **Confusion Matrix (CM)**: Show a 2x2 table for binary classification.\n",
    "- **Precision**: TP / (TP + FP)\n",
    "- **Recall**: TP / (TP + FN)\n",
    "- **F1-Score**: 2 × (Precision × Recall) / (Precision + Recall)\n",
    "- **Accuracy**: (TP + TN) / (TP + TN + FP + FN)\n",
    "\n",
    "You can implement these metrics manually or use `sklearn.metrics` for validation purposes.\n"
   ]
  },
  {
   "cell_type": "code",
   "execution_count": 35,
   "metadata": {
    "vscode": {
     "languageId": "plaintext"
    }
   },
   "outputs": [],
   "source": [
    "# Evaluate both models\n",
    "metrics = ['Confusion Matrix', 'Precision', 'Recall', 'F1-Score', 'Accuracy']\n",
    "results = {\n",
    "    \"Scratch\": [\n",
    "        confusion_matrix(y_test, y_pred_scratch),\n",
    "        precision_score(y_test, y_pred_scratch),\n",
    "        recall_score(y_test, y_pred_scratch),\n",
    "        f1_score(y_test, y_pred_scratch),\n",
    "        accuracy_score(y_test, y_pred_scratch)\n",
    "    ],\n",
    "    \"Sklearn\": [\n",
    "        confusion_matrix(y_test, y_pred_sklearn),\n",
    "        precision_score(y_test, y_pred_sklearn),\n",
    "        recall_score(y_test, y_pred_sklearn),\n",
    "        f1_score(y_test, y_pred_sklearn),\n",
    "        accuracy_score(y_test, y_pred_sklearn)\n",
    "    ]\n",
    "}"
   ]
  },
  {
   "cell_type": "code",
   "execution_count": 36,
   "metadata": {},
   "outputs": [
    {
     "name": "stdout",
     "output_type": "stream",
     "text": [
      "Confusion Matrix (Scratch):\n",
      " [[12  0]\n",
      " [ 0  8]]\n",
      "Confusion Matrix (Sklearn):\n",
      " [[12  0]\n",
      " [ 0  8]]\n",
      "--------------------------------------------------\n",
      "Precision (Scratch):\n",
      " 1.0\n",
      "Precision (Sklearn):\n",
      " 1.0\n",
      "--------------------------------------------------\n",
      "Recall (Scratch):\n",
      " 1.0\n",
      "Recall (Sklearn):\n",
      " 1.0\n",
      "--------------------------------------------------\n",
      "F1-Score (Scratch):\n",
      " 1.0\n",
      "F1-Score (Sklearn):\n",
      " 1.0\n",
      "--------------------------------------------------\n",
      "Accuracy (Scratch):\n",
      " 1.0\n",
      "Accuracy (Sklearn):\n",
      " 1.0\n",
      "--------------------------------------------------\n"
     ]
    }
   ],
   "source": [
    "# Print metric values\n",
    "for metric, scratch_result, sklearn_result in zip(metrics, results[\"Scratch\"], results[\"Sklearn\"]):\n",
    "    print(f\"{metric} (Scratch):\\n\", scratch_result)\n",
    "    print(f\"{metric} (Sklearn):\\n\", sklearn_result)\n",
    "    print(\"-\" * 50)"
   ]
  },
  {
   "cell_type": "code",
   "execution_count": 38,
   "metadata": {},
   "outputs": [
    {
     "data": {
      "image/png": "[encoded data removed]",
      "text/plain": [
       "<Figure size 700x500 with 1 Axes>"
      ]
     },
     "metadata": {},
     "output_type": "display_data"
    }
   ],
   "source": [
    "# Loss curve visualization\n",
    "plt.figure(figsize=(7, 5))\n",
    "plt.plot(range(len(model_scratch.losses)), model_scratch.losses, label='Loss')\n",
    "plt.xlabel('Epochs')\n",
    "plt.ylabel('Loss')\n",
    "plt.title('Loss Curve for Logistic Regression from Scratch')\n",
    "plt.legend()\n",
    "plt.show()"
   ]
  },
  {
   "cell_type": "markdown",
   "metadata": {},
   "source": [
    "## **Bonus:**\n",
    "- Extend your model to handle **multiclass classification** (one-vs-rest or softmax-based logistic regression)\n",
    "- Compare your implementation's performance to that of `sklearn.linear_model.LogisticRegression`"
   ]
  },
  {
   "cell_type": "code",
   "execution_count": 48,
   "metadata": {},
   "outputs": [],
   "source": [
    "#Encode labels for multiclass classification\n",
    "label_encoder = LabelEncoder()\n",
    "y = label_encoder.fit_transform(y)\n",
    "n_classes = len(label_encoder.classes_)\n",
    "\n",
    "# Normalize the features\n",
    "scaler = StandardScaler()\n",
    "X = scaler.fit_transform(X)\n",
    "\n",
    "# Split into train and test sets\n",
    "X_train, X_test, y_train, y_test = train_test_split(X, y, test_size=0.2, random_state=42)\n",
    "\n",
    "# Sigmoid function\n",
    "def sigmoid(z):\n",
    "    return 1 / (1 + np.exp(-z))"
   ]
  },
  {
   "cell_type": "code",
   "execution_count": 49,
   "metadata": {},
   "outputs": [],
   "source": [
    "# Multiclass Logistic Regression using One-vs-Rest (OvR)\n",
    "class LogisticRegressionScratchOvR:\n",
    "    def __init__(self, learning_rate=0.1, epochs=2000,n_classes=3):\n",
    "        self.learning_rate = learning_rate\n",
    "        self.epochs = epochs\n",
    "        self.n_classes= n_classes\n",
    "        self.models = []\n",
    "        self.losses = []\n",
    "\n",
    "    def fit(self, X, y):\n",
    "        samples, features = X.shape\n",
    "        self.models = []\n",
    "        \n",
    "        for c in range(n_classes):\n",
    "            y_binary = (y == c).astype(int)\n",
    "            weights = np.zeros(features)\n",
    "            bias = 0\n",
    "            losses = []\n",
    "            \n",
    "            for _ in range(self.epochs):\n",
    "                linear_model = np.dot(X, weights) + bias\n",
    "                predictions = sigmoid(linear_model)\n",
    "                \n",
    "                loss = -np.mean(y_binary * np.log(predictions + 1e-9) + (1 - y_binary) * np.log(1 - predictions + 1e-9))\n",
    "                losses.append(loss)\n",
    "                \n",
    "                dw = (1 / samples) * np.dot(X.T, (predictions - y_binary))\n",
    "                db = (1 / samples) * np.sum(predictions - y_binary)\n",
    "                \n",
    "                weights -= self.learning_rate * dw\n",
    "                bias -= self.learning_rate * db\n",
    "            \n",
    "            self.models.append((weights, bias))\n",
    "            self.losses.append(losses)\n",
    "\n",
    "    def predict(self, X):\n",
    "        predictions = []\n",
    "        for weights, bias in self.models:\n",
    "            linear_model = np.dot(X, weights) + bias\n",
    "            predictions.append(sigmoid(linear_model))\n",
    "        return np.argmax(np.array(predictions), axis=0)"
   ]
  },
  {
   "cell_type": "code",
   "execution_count": 50,
   "metadata": {},
   "outputs": [],
   "source": [
    "# Train the custom OvR model\n",
    "model_scratch_ovr = LogisticRegressionScratchOvR(learning_rate=0.1, epochs=2000)\n",
    "model_scratch_ovr.fit(X_train, y_train)\n",
    "y_pred_scratch_ovr = model_scratch_ovr.predict(X_test)"
   ]
  },
  {
   "cell_type": "code",
   "execution_count": 51,
   "metadata": {},
   "outputs": [
    {
     "name": "stderr",
     "output_type": "stream",
     "text": [
      "E:\\pythonds\\skillDatascience\\dsenv\\Lib\\site-packages\\sklearn\\linear_model\\_logistic.py:1256: FutureWarning: 'multi_class' was deprecated in version 1.5 and will be removed in 1.7. Use OneVsRestClassifier(LogisticRegression(..)) instead. Leave it to its default value to avoid this warning.\n",
      "  warnings.warn(\n"
     ]
    }
   ],
   "source": [
    "# Train and compare with sklearn's multiclass Logistic Regression\n",
    "model_sklearn = LogisticRegression(max_iter=2000, multi_class='ovr')\n",
    "model_sklearn.fit(X_train, y_train)\n",
    "y_pred_sklearn = model_sklearn.predict(X_test)"
   ]
  },
  {
   "cell_type": "code",
   "execution_count": 52,
   "metadata": {},
   "outputs": [],
   "source": [
    "# Evaluate both models\n",
    "metrics = ['Confusion Matrix', 'Precision', 'Recall', 'F1-Score', 'Accuracy']\n",
    "results = {\n",
    "    \"Scratch OvR\": [\n",
    "        confusion_matrix(y_test, y_pred_scratch_ovr),\n",
    "        precision_score(y_test, y_pred_scratch_ovr, average='weighted'),\n",
    "        recall_score(y_test, y_pred_scratch_ovr, average='weighted'),\n",
    "        f1_score(y_test, y_pred_scratch_ovr, average='weighted'),\n",
    "        accuracy_score(y_test, y_pred_scratch_ovr)\n",
    "    ],\n",
    "    \"Sklearn OvR\": [\n",
    "        confusion_matrix(y_test, y_pred_sklearn),\n",
    "        precision_score(y_test, y_pred_sklearn, average='weighted'),\n",
    "        recall_score(y_test, y_pred_sklearn, average='weighted'),\n",
    "        f1_score(y_test, y_pred_sklearn, average='weighted'),\n",
    "        accuracy_score(y_test, y_pred_sklearn)\n",
    "    ]\n",
    "}"
   ]
  },
  {
   "cell_type": "code",
   "execution_count": 53,
   "metadata": {},
   "outputs": [
    {
     "name": "stdout",
     "output_type": "stream",
     "text": [
      "Confusion Matrix (Scratch OvR):\n",
      " [[12  0]\n",
      " [ 0  8]]\n",
      "Confusion Matrix (Sklearn OvR):\n",
      " [[12  0]\n",
      " [ 0  8]]\n",
      "--------------------------------------------------\n",
      "Precision (Scratch OvR):\n",
      " 1.0\n",
      "Precision (Sklearn OvR):\n",
      " 1.0\n",
      "--------------------------------------------------\n",
      "Recall (Scratch OvR):\n",
      " 1.0\n",
      "Recall (Sklearn OvR):\n",
      " 1.0\n",
      "--------------------------------------------------\n",
      "F1-Score (Scratch OvR):\n",
      " 1.0\n",
      "F1-Score (Sklearn OvR):\n",
      " 1.0\n",
      "--------------------------------------------------\n",
      "Accuracy (Scratch OvR):\n",
      " 1.0\n",
      "Accuracy (Sklearn OvR):\n",
      " 1.0\n",
      "--------------------------------------------------\n"
     ]
    }
   ],
   "source": [
    "# Print metric values\n",
    "for metric, scratch_result, sklearn_result in zip(metrics, results[\"Scratch OvR\"], results[\"Sklearn OvR\"]):\n",
    "    print(f\"{metric} (Scratch OvR):\\n\", scratch_result)\n",
    "    print(f\"{metric} (Sklearn OvR):\\n\", sklearn_result)\n",
    "    print(\"-\" * 50)"
   ]
  },
  {
   "cell_type": "code",
   "execution_count": 54,
   "metadata": {},
   "outputs": [
    {
     "data": {
      "image/png": "[encoded data removed]",
      "text/plain": [
       "<Figure size 700x500 with 1 Axes>"
      ]
     },
     "metadata": {},
     "output_type": "display_data"
    }
   ],
   "source": [
    "# Loss curve visualization\n",
    "plt.figure(figsize=(7, 5))\n",
    "for i, loss_curve in enumerate(model_scratch_ovr.losses):\n",
    "    plt.plot(range(len(loss_curve)), loss_curve, label=f'Class {i}')\n",
    "plt.xlabel('Epochs')\n",
    "plt.ylabel('Loss')\n",
    "plt.title('Loss Curve for Logistic Regression from Scratch (OvR)')\n",
    "plt.legend()\n",
    "plt.show()"
   ]
  },
  {
   "cell_type": "code",
   "execution_count": null,
   "metadata": {},
   "outputs": [],
   "source": []
  }
 ],
 "metadata": {
  "kernelspec": {
   "display_name": "Python 3 (ipykernel)",
   "language": "python",
   "name": "python3"
  },
  "language_info": {
   "codemirror_mode": {
    "name": "ipython",
    "version": 3
   },
   "file_extension": ".py",
   "mimetype": "text/x-python",
   "name": "python",
   "nbconvert_exporter": "python",
   "pygments_lexer": "ipython3",
   "version": "3.13.0"
  }
 },
 "nbformat": 4,
 "nbformat_minor": 4
}
