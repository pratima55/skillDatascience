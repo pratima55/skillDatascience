{
 "cells": [
  {
   "cell_type": "markdown",
   "id": "7e76d9b4",
   "metadata": {},
   "source": [
    "# Problem Statement\n",
    "\n",
    "We want to build an online shopping cart system that allows users to add products to their cart, calculate the total cost, apply discounts, and generate an invoice. The system should include the following functionalities:\n",
    "\n",
    "- Adding products to the cart\n",
    "- Removing products from the cart\n",
    "- Calculating the total cost\n",
    "- Applying discounts based on user type\n",
    "- Generating an invoice\n",
    "\n",
    "### 1. Create the Product class\n",
    "\n",
    "We create a basic `Product` class with attributes for the product name and price."
   ]
  },
  {
   "cell_type": "code",
   "execution_count": 1,
   "id": "a286f01a",
   "metadata": {},
   "outputs": [],
   "source": [
    "class Product:\n",
    "    def __init__(self, product_name, price):\n",
    "        self.product_name = product_name\n",
    "        self.price = price"
   ]
  },
  {
   "cell_type": "markdown",
   "id": "0c9aa397",
   "metadata": {},
   "source": [
    "### 2.  Implement the User class\n",
    "\n",
    "In this step, we create a `User` class with attributes for the user's name and whether they are a premium member. We then modify the `calculate_total_cost` method in the `ShoppingCart` class to apply a `10%` discount for premium users."
   ]
  },
  {
   "cell_type": "code",
   "execution_count": 2,
   "id": "3393e953",
   "metadata": {},
   "outputs": [],
   "source": [
    "class User:\n",
    "    users = []\n",
    "    \n",
    "    def __init__(self, name, is_premium = False, is_admin= False):\n",
    "        self.name = name\n",
    "        self.is_admin = is_admin\n",
    "        self.cart = ShoppingCart()\n",
    "        self.__is_premium = is_premium\n",
    "        # self.__is_admin = is_admin\n",
    "\n",
    "        User.users.append(self)\n",
    "\n",
    "    @property\n",
    "    def is_premium(self):\n",
    "        return self.__is_premium\n",
    "        "
   ]
  },
  {
   "cell_type": "markdown",
   "id": "3b7e070b",
   "metadata": {},
   "source": [
    "### 3. Create the ShoppingCart class\n",
    "\n",
    "In this step, we create a `ShoppingCart` class with methods for adding and removing products from the cart, as well as calculating the total cost of the items in the cart."
   ]
  },
  {
   "cell_type": "code",
   "execution_count": 3,
   "id": "c0b5196d",
   "metadata": {},
   "outputs": [],
   "source": [
    "\n",
    "def discount_10_percentage(func):\n",
    "    \n",
    "    def wrapper(self,user):\n",
    "        total_cost = func(self, user)\n",
    "        if user.is_premium:\n",
    "            return total_cost, total_cost * 0.1\n",
    "        return total_cost, 0\n",
    "\n",
    "    return wrapper"
   ]
  },
  {
   "cell_type": "markdown",
   "id": "da1f3494",
   "metadata": {},
   "source": [
    "Here, we defined a decorator `discount_10_percent` that applies a `10%` discount to the total cost. We then apply this decorator to the `calculate_total_cost` method in the `ShoppingCart` class."
   ]
  },
  {
   "cell_type": "code",
   "execution_count": 4,
   "id": "70bbec8d",
   "metadata": {},
   "outputs": [],
   "source": [
    "\n",
    "class ShoppingCart:\n",
    "    def __init__(self):\n",
    "        self.products = []\n",
    "\n",
    "    def add_product(self, product):\n",
    "        self.products.append(product)\n",
    "\n",
    "    def remove_product(self, product):\n",
    "        self.products.remove(product)\n",
    "\n",
    "    @discount_10_percentage\n",
    "    def calculate_total_cost(self, user):\n",
    "        return sum(product.price for product in self.products)\n",
    "\n",
    "    def generate_invoice(self, user):\n",
    "        invoice = \"\"  # Initialize the variable\n",
    "\n",
    "        invoice += f\"| Invoice for {user.name}:\\n\"\n",
    "        invoice += \"====================\\n\"\n",
    "        for product in self.products:\n",
    "            invoice += f\"{product.name}: ${product.price}\\n\"\n",
    "        total_cost, discounted = self.calculate_total_cost(user)\n",
    "        invoice += \"-----------------------\\n\"\n",
    "        invoice += f\"Sub-Total: ${total_cost}\\n\"\n",
    "        invoice += f\"Discount (10%): ${discounted}\\n\"\n",
    "        invoice += \"-----------------------\\n\"\n",
    "        invoice += f\"Total: ${total_cost - discounted}\"\n",
    "        return invoice\n",
    "\n",
    "    def get_products(self):\n",
    "        yield from self.products"
   ]
  },
  {
   "cell_type": "markdown",
   "id": "afc26053",
   "metadata": {},
   "source": [
    "### 4. Testing the functionality\n",
    "\n",
    "Now that we have implemented the necessary classes and methods, let's test our online shopping cart system:"
   ]
  },
  {
   "cell_type": "code",
   "execution_count": 5,
   "id": "6186bdcb",
   "metadata": {},
   "outputs": [],
   "source": [
    "user1 = User(\"Pratima\")\n",
    "user2 = User(\"Aanshi\", True)"
   ]
  },
  {
   "cell_type": "code",
   "execution_count": 6,
   "id": "d4d22392-9aac-4b74-a019-8a129e4971d1",
   "metadata": {},
   "outputs": [],
   "source": [
    "prod1 = Product(\"Shirt\", 50)\n",
    "prod2 = Product(\"Shoes\", 100)\n",
    "prod3 = Product(\"Phone\", 1500)"
   ]
  },
  {
   "cell_type": "code",
   "execution_count": 7,
   "id": "168fa7e5-839d-4cf4-af9f-f29a61beffee",
   "metadata": {},
   "outputs": [],
   "source": [
    "user1.cart.add_product(prod1)\n",
    "user1.cart.add_product(prod2)"
   ]
  },
  {
   "cell_type": "code",
   "execution_count": 8,
   "id": "2712ed93-fd4c-438e-b24a-cee172755041",
   "metadata": {},
   "outputs": [
    {
     "data": {
      "text/plain": [
       "[<__main__.Product at 0x1bdffe0c550>, <__main__.Product at 0x1bdffe0ca10>]"
      ]
     },
     "execution_count": 8,
     "metadata": {},
     "output_type": "execute_result"
    }
   ],
   "source": [
    "list(user1.cart.get_products())"
   ]
  },
  {
   "cell_type": "code",
   "execution_count": 9,
   "id": "08860e6f-c479-40b5-a680-28b02739ba0e",
   "metadata": {},
   "outputs": [
    {
     "data": {
      "text/plain": [
       "(150, 0)"
      ]
     },
     "execution_count": 9,
     "metadata": {},
     "output_type": "execute_result"
    }
   ],
   "source": [
    "user1.cart.calculate_total_cost(user1)"
   ]
  },
  {
   "cell_type": "code",
   "execution_count": 10,
   "id": "3b207806-9592-4f3b-927b-90a365d71b9b",
   "metadata": {},
   "outputs": [],
   "source": [
    "\n",
    "user2.cart.add_product(prod1)\n",
    "user2.cart.add_product(prod2)"
   ]
  },
  {
   "cell_type": "code",
   "execution_count": 11,
   "id": "9f790df7-2327-481d-ad08-b2454716d775",
   "metadata": {},
   "outputs": [
    {
     "data": {
      "text/plain": [
       "(150, 15.0)"
      ]
     },
     "execution_count": 11,
     "metadata": {},
     "output_type": "execute_result"
    }
   ],
   "source": [
    "\n",
    "user2.cart.calculate_total_cost(user2)"
   ]
  },
  {
   "cell_type": "code",
   "execution_count": null,
   "id": "8526751f-e40e-40e3-935f-7644b6fe4e0b",
   "metadata": {},
   "outputs": [],
   "source": []
  },
  {
   "cell_type": "markdown",
   "id": "7ea7c96e",
   "metadata": {},
   "source": [
    "### 5. Generating Invoice for a given cart"
   ]
  },
  {
   "cell_type": "code",
   "execution_count": 12,
   "id": "1e1254fd-5ff0-4b80-b442-600b265d0141",
   "metadata": {},
   "outputs": [
    {
     "ename": "AttributeError",
     "evalue": "'Product' object has no attribute 'name'",
     "output_type": "error",
     "traceback": [
      "\u001b[31m---------------------------------------------------------------------------\u001b[39m",
      "\u001b[31mAttributeError\u001b[39m                            Traceback (most recent call last)",
      "\u001b[36mCell\u001b[39m\u001b[36m \u001b[39m\u001b[32mIn[12]\u001b[39m\u001b[32m, line 1\u001b[39m\n\u001b[32m----> \u001b[39m\u001b[32m1\u001b[39m \u001b[38;5;28mprint\u001b[39m(\u001b[43muser1\u001b[49m\u001b[43m.\u001b[49m\u001b[43mcart\u001b[49m\u001b[43m.\u001b[49m\u001b[43mgenerate_invoice\u001b[49m\u001b[43m(\u001b[49m\u001b[43muser1\u001b[49m\u001b[43m)\u001b[49m)\n",
      "\u001b[36mCell\u001b[39m\u001b[36m \u001b[39m\u001b[32mIn[4]\u001b[39m\u001b[32m, line 21\u001b[39m, in \u001b[36mShoppingCart.generate_invoice\u001b[39m\u001b[34m(self, user)\u001b[39m\n\u001b[32m     19\u001b[39m invoice += \u001b[33m\"\u001b[39m\u001b[33m====================\u001b[39m\u001b[38;5;130;01m\\n\u001b[39;00m\u001b[33m\"\u001b[39m\n\u001b[32m     20\u001b[39m \u001b[38;5;28;01mfor\u001b[39;00m product \u001b[38;5;129;01min\u001b[39;00m \u001b[38;5;28mself\u001b[39m.products:\n\u001b[32m---> \u001b[39m\u001b[32m21\u001b[39m     invoice += \u001b[33mf\u001b[39m\u001b[33m\"\u001b[39m\u001b[38;5;132;01m{\u001b[39;00m\u001b[43mproduct\u001b[49m\u001b[43m.\u001b[49m\u001b[43mname\u001b[49m\u001b[38;5;132;01m}\u001b[39;00m\u001b[33m: $\u001b[39m\u001b[38;5;132;01m{\u001b[39;00mproduct.price\u001b[38;5;132;01m}\u001b[39;00m\u001b[38;5;130;01m\\n\u001b[39;00m\u001b[33m\"\u001b[39m\n\u001b[32m     22\u001b[39m total_cost, discounted = \u001b[38;5;28mself\u001b[39m.calculate_total_cost(user)\n\u001b[32m     23\u001b[39m invoice += \u001b[33m\"\u001b[39m\u001b[33m-----------------------\u001b[39m\u001b[38;5;130;01m\\n\u001b[39;00m\u001b[33m\"\u001b[39m\n",
      "\u001b[31mAttributeError\u001b[39m: 'Product' object has no attribute 'name'"
     ]
    }
   ],
   "source": [
    "\n",
    "print(user1.cart.generate_invoice(user1))"
   ]
  },
  {
   "cell_type": "code",
   "execution_count": null,
   "id": "3c12ae69",
   "metadata": {
    "scrolled": true
   },
   "outputs": [],
   "source": [
    "print(user2.cart.generate_invoice(user2))"
   ]
  },
  {
   "cell_type": "markdown",
   "id": "b602d561-09a8-4086-9295-dce1e8dacb71",
   "metadata": {},
   "source": [
    "### 6. Bonus Challenge"
   ]
  },
  {
   "cell_type": "markdown",
   "id": "cd2cf83b",
   "metadata": {},
   "source": [
    "In this case each user share the same cart, which is useless. Also each user can register himself/herself as a premium user, which is not practical again. So, you have to add following two additional features to the above program, to make it more real:\n",
    "\n",
    "1. Cart for a user should be independent from other users\n",
    "2. Add a new admin feature `is_admin` that takes in boolean values `[True, False]`, and only admin should be allowed to create other admins and set `is_premium=True` for other users"
   ]
  },
  {
   "cell_type": "code",
   "execution_count": null,
   "id": "59e0bc19-36f6-4f4f-9d96-994e0dc19b59",
   "metadata": {},
   "outputs": [],
   "source": [
    "\n",
    "def set_premium(self, user):\n",
    "    if self.is_admin:\n",
    "        user.is_premium = True\n",
    "        print(f\"{user.name} is now a premium user!\")\n",
    "    else:\n",
    "        print(f\"Error: {self.name} is not an admin and cannot set premium status.\")\n",
    "\n",
    "def create_admin(self, user):\n",
    "    if self.is_admin:\n",
    "        user.is_admin = True\n",
    "        print(f\"{user.name} is now an admin!\")\n",
    "    else:\n",
    "        print(f\"Error: {self.name} is not an admin and cannot create admins.\")"
   ]
  },
  {
   "cell_type": "code",
   "execution_count": null,
   "id": "d9e3c6cb-fa03-48a3-b1bc-d828afc6315f",
   "metadata": {},
   "outputs": [],
   "source": [
    "admin = User(\"Alice\", is_admin=True)\n",
    "user1 = User(\"Bob\")\n",
    "user2 = User(\"Charlie\")"
   ]
  },
  {
   "cell_type": "code",
   "execution_count": null,
   "id": "5ba5d171-9222-4534-8ec3-fff7634533cf",
   "metadata": {},
   "outputs": [],
   "source": [
    "\n",
    "user1.cart.add_product(type(\"Product\", (), {\"name\": \"Pizza\", \"price\": 15})()) \n",
    "print(user1.cart.generate_invoice(user1))"
   ]
  },
  {
   "cell_type": "code",
   "execution_count": null,
   "id": "1368f838-a886-43bf-9a57-36f984b303f6",
   "metadata": {},
   "outputs": [],
   "source": []
  }
 ],
 "metadata": {
  "kernelspec": {
   "display_name": "Python 3 (ipykernel)",
   "language": "python",
   "name": "python3"
  },
  "language_info": {
   "codemirror_mode": {
    "name": "ipython",
    "version": 3
   },
   "file_extension": ".py",
   "mimetype": "text/x-python",
   "name": "python",
   "nbconvert_exporter": "python",
   "pygments_lexer": "ipython3",
   "version": "3.11.9"
  }
 },
 "nbformat": 4,
 "nbformat_minor": 5
}
