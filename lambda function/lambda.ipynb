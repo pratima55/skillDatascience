{
 "cells": [
  {
   "cell_type": "markdown",
   "id": "95d9f108-ba89-4dd4-850c-8701c0125d22",
   "metadata": {},
   "source": [
    "**python lambda expression**"
   ]
  },
  {
   "cell_type": "markdown",
   "id": "b7ab80fe-192a-44d0-be7b-4a8761cf72ce",
   "metadata": {},
   "source": [
    "lambda arguments : expression\n"
   ]
  },
  {
   "cell_type": "code",
   "execution_count": 2,
   "id": "8b6769c4-8d67-4c64-b3c8-cb5ee97e0df2",
   "metadata": {},
   "outputs": [
    {
     "data": {
      "text/plain": [
       "15"
      ]
     },
     "execution_count": 2,
     "metadata": {},
     "output_type": "execute_result"
    }
   ],
   "source": [
    "def get_sum(a,b,c):\n",
    "    return a+b+c\n",
    "get_sum(4,5,6)    \n"
   ]
  },
  {
   "cell_type": "code",
   "execution_count": null,
   "id": "47a5c593-c8ce-4eac-bbce-ceceea94f7b6",
   "metadata": {},
   "outputs": [],
   "source": []
  },
  {
   "cell_type": "code",
   "execution_count": 3,
   "id": "bdd3caa0-e0aa-4a0a-97df-17a61fb34d5c",
   "metadata": {},
   "outputs": [
    {
     "data": {
      "text/plain": [
       "60"
      ]
     },
     "execution_count": 3,
     "metadata": {},
     "output_type": "execute_result"
    }
   ],
   "source": [
    "get_sum = lambda a,b,c : a+b+c\n",
    "get_sum(10,20,30)"
   ]
  },
  {
   "cell_type": "code",
   "execution_count": 5,
   "id": "377db628-1a84-48a2-8637-43184b6e3aca",
   "metadata": {},
   "outputs": [
    {
     "data": {
      "text/plain": [
       "2200"
      ]
     },
     "execution_count": 5,
     "metadata": {},
     "output_type": "execute_result"
    }
   ],
   "source": [
    "area_of_cubiod = lambda l,b,h : 2*((l*b)+(b*h)+(h*l))\n",
    "area_of_cubiod(10,20,30)"
   ]
  },
  {
   "cell_type": "code",
   "execution_count": null,
   "id": "0c93c064-b8fe-4d99-9783-c77a680e20f1",
   "metadata": {},
   "outputs": [],
   "source": []
  }
 ],
 "metadata": {
  "kernelspec": {
   "display_name": "Python 3 (ipykernel)",
   "language": "python",
   "name": "python3"
  },
  "language_info": {
   "codemirror_mode": {
    "name": "ipython",
    "version": 3
   },
   "file_extension": ".py",
   "mimetype": "text/x-python",
   "name": "python",
   "nbconvert_exporter": "python",
   "pygments_lexer": "ipython3",
   "version": "3.13.0"
  }
 },
 "nbformat": 4,
 "nbformat_minor": 5
}
