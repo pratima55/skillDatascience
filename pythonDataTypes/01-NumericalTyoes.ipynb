{
 "cells": [
  {
   "cell_type": "code",
   "execution_count": 1,
   "id": "a3e7e947-8fcd-4d2d-b5ea-6efd3eedec7d",
   "metadata": {},
   "outputs": [],
   "source": [
    "num = 120354"
   ]
  },
  {
   "cell_type": "code",
   "execution_count": 2,
   "id": "844edb68-1f66-4d9e-8e46-e05991461799",
   "metadata": {},
   "outputs": [
    {
     "name": "stdout",
     "output_type": "stream",
     "text": [
      "120354\n"
     ]
    }
   ],
   "source": [
    "print(num)"
   ]
  },
  {
   "cell_type": "code",
   "execution_count": 4,
   "id": "20de1dbc-d89b-408f-8460-78cedd174cde",
   "metadata": {},
   "outputs": [],
   "source": [
    "z = 1.526e-2"
   ]
  },
  {
   "cell_type": "code",
   "execution_count": 5,
   "id": "b86f97ba-6fe5-4deb-9253-7357b0031492",
   "metadata": {},
   "outputs": [
    {
     "name": "stdout",
     "output_type": "stream",
     "text": [
      "0.01526\n"
     ]
    }
   ],
   "source": [
    "print(z)"
   ]
  },
  {
   "cell_type": "code",
   "execution_count": 6,
   "id": "d7a21c51-259c-4cf8-b9af-4f41c4db8778",
   "metadata": {},
   "outputs": [],
   "source": [
    "x= 6-8j"
   ]
  },
  {
   "cell_type": "code",
   "execution_count": 7,
   "id": "4cfabf12-c269-4331-96d3-ebe98a85f2b9",
   "metadata": {},
   "outputs": [
    {
     "name": "stdout",
     "output_type": "stream",
     "text": [
      "(6-8j)\n"
     ]
    }
   ],
   "source": [
    "print(x)"
   ]
  },
  {
   "cell_type": "code",
   "execution_count": 8,
   "id": "dd54e62a-5245-4fb3-9c5e-8b70bb256c98",
   "metadata": {},
   "outputs": [
    {
     "data": {
      "text/plain": [
       "(33+4j)"
      ]
     },
     "execution_count": 8,
     "metadata": {},
     "output_type": "execute_result"
    }
   ],
   "source": [
    "complex(33,4)"
   ]
  },
  {
   "cell_type": "code",
   "execution_count": 9,
   "id": "c53a2280-d79f-49a2-9ebc-025c1bf025e8",
   "metadata": {},
   "outputs": [
    {
     "data": {
      "text/plain": [
       "(1+3j)"
      ]
     },
     "execution_count": 9,
     "metadata": {},
     "output_type": "execute_result"
    }
   ],
   "source": [
    "complex(1,3)"
   ]
  },
  {
   "cell_type": "code",
   "execution_count": 12,
   "id": "043be646-c299-4290-8708-080dd9098a06",
   "metadata": {},
   "outputs": [],
   "source": [
    "x=20\n",
    "y=2.1"
   ]
  },
  {
   "cell_type": "code",
   "execution_count": 13,
   "id": "efdbe842-1393-46aa-9bfb-a697c36c0419",
   "metadata": {},
   "outputs": [
    {
     "data": {
      "text/plain": [
       "20.0"
      ]
     },
     "execution_count": 13,
     "metadata": {},
     "output_type": "execute_result"
    }
   ],
   "source": [
    "float(x)"
   ]
  },
  {
   "cell_type": "code",
   "execution_count": null,
   "id": "b5045d53-11f4-4313-8250-7d5281b52005",
   "metadata": {},
   "outputs": [],
   "source": []
  },
  {
   "cell_type": "markdown",
   "id": "5cd27b89-96dc-4a21-9b6f-ba779ea79011",
   "metadata": {},
   "source": [
    "Math function\n"
   ]
  },
  {
   "cell_type": "code",
   "execution_count": 14,
   "id": "edcfbb92-a88f-4468-9bdc-a373725640ed",
   "metadata": {},
   "outputs": [],
   "source": [
    "import math\n",
    "\n",
    "#from math import factorial "
   ]
  },
  {
   "cell_type": "code",
   "execution_count": 15,
   "id": "ae5b9add-4758-4543-82fa-56f6d20593dd",
   "metadata": {},
   "outputs": [],
   "source": [
    "x = -22.5"
   ]
  },
  {
   "cell_type": "code",
   "execution_count": 16,
   "id": "4a86302c-8d40-4f55-8f0d-7af47d47b065",
   "metadata": {},
   "outputs": [
    {
     "data": {
      "text/plain": [
       "22.5"
      ]
     },
     "execution_count": 16,
     "metadata": {},
     "output_type": "execute_result"
    }
   ],
   "source": [
    "math.fabs(x)\n"
   ]
  },
  {
   "cell_type": "code",
   "execution_count": 17,
   "id": "188119c2-efbb-412c-ab2b-c28c60d0fa0a",
   "metadata": {},
   "outputs": [
    {
     "data": {
      "text/plain": [
       "5.0"
      ]
     },
     "execution_count": 17,
     "metadata": {},
     "output_type": "execute_result"
    }
   ],
   "source": [
    "math.sqrt(25)"
   ]
  },
  {
   "cell_type": "code",
   "execution_count": 18,
   "id": "a81941ea-0b80-4fe7-8f7d-1f60ce10b631",
   "metadata": {},
   "outputs": [
    {
     "data": {
      "text/plain": [
       "1"
      ]
     },
     "execution_count": 18,
     "metadata": {},
     "output_type": "execute_result"
    }
   ],
   "source": [
    "min(1,4,8)"
   ]
  },
  {
   "cell_type": "code",
   "execution_count": 19,
   "id": "a08ec4d7-67a5-4347-b425-e2ff73c7fa60",
   "metadata": {},
   "outputs": [
    {
     "data": {
      "text/plain": [
       "-0.3048106211022167"
      ]
     },
     "execution_count": 19,
     "metadata": {},
     "output_type": "execute_result"
    }
   ],
   "source": [
    "math.sin(60)"
   ]
  },
  {
   "cell_type": "code",
   "execution_count": 21,
   "id": "6a50aa5a-dd46-4c45-b2f7-ef81106cf2f0",
   "metadata": {},
   "outputs": [
    {
     "data": {
      "text/plain": [
       "210"
      ]
     },
     "execution_count": 21,
     "metadata": {},
     "output_type": "execute_result"
    }
   ],
   "source": [
    "math.comb(10,6)"
   ]
  },
  {
   "cell_type": "code",
   "execution_count": 24,
   "id": "6fca36b3-59c7-47b2-bba0-4e61c21576cc",
   "metadata": {},
   "outputs": [
    {
     "data": {
      "text/plain": [
       "120"
      ]
     },
     "execution_count": 24,
     "metadata": {},
     "output_type": "execute_result"
    }
   ],
   "source": [
    "math.factorial(5)"
   ]
  },
  {
   "cell_type": "code",
   "execution_count": 26,
   "id": "5dbf7905-9b05-4724-82e1-29c3d7b3c30c",
   "metadata": {},
   "outputs": [
    {
     "data": {
      "text/plain": [
       "10"
      ]
     },
     "execution_count": 26,
     "metadata": {},
     "output_type": "execute_result"
    }
   ],
   "source": [
    "math.gcd(50,20)"
   ]
  },
  {
   "cell_type": "code",
   "execution_count": 27,
   "id": "1c5d8e4e-140a-4d7c-8675-9e39210bf032",
   "metadata": {},
   "outputs": [
    {
     "data": {
      "text/plain": [
       "280"
      ]
     },
     "execution_count": 27,
     "metadata": {},
     "output_type": "execute_result"
    }
   ],
   "source": [
    "math.lcm(40,56)"
   ]
  },
  {
   "cell_type": "code",
   "execution_count": 28,
   "id": "c8d9d3b6-a476-413d-b5c3-1df60c5ec5de",
   "metadata": {},
   "outputs": [
    {
     "data": {
      "text/plain": [
       "8"
      ]
     },
     "execution_count": 28,
     "metadata": {},
     "output_type": "execute_result"
    }
   ],
   "source": [
    "math.isqrt(66)"
   ]
  },
  {
   "cell_type": "code",
   "execution_count": 29,
   "id": "30664065-e91b-4e9e-b027-bbe8d52733e3",
   "metadata": {},
   "outputs": [
    {
     "data": {
      "text/plain": [
       "3.14159"
      ]
     },
     "execution_count": 29,
     "metadata": {},
     "output_type": "execute_result"
    }
   ],
   "source": [
    "round(math.pi,5)"
   ]
  },
  {
   "cell_type": "code",
   "execution_count": null,
   "id": "4953de1b-de79-4169-83fa-d4bf88ec71e6",
   "metadata": {},
   "outputs": [],
   "source": []
  }
 ],
 "metadata": {
  "kernelspec": {
   "display_name": "Python 3 (ipykernel)",
   "language": "python",
   "name": "python3"
  },
  "language_info": {
   "codemirror_mode": {
    "name": "ipython",
    "version": 3
   },
   "file_extension": ".py",
   "mimetype": "text/x-python",
   "name": "python",
   "nbconvert_exporter": "python",
   "pygments_lexer": "ipython3",
   "version": "3.13.0"
  }
 },
 "nbformat": 4,
 "nbformat_minor": 5
}
