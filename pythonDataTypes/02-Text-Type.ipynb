{
 "cells": [
  {
   "cell_type": "markdown",
   "id": "b8419339-cbac-43cc-8049-ea46a0ebeac1",
   "metadata": {},
   "source": []
  },
  {
   "cell_type": "code",
   "execution_count": 3,
   "id": "c0df783f-98a7-4bb3-9657-d9dce8384e07",
   "metadata": {},
   "outputs": [],
   "source": [
    "name = '''abc'''"
   ]
  },
  {
   "cell_type": "code",
   "execution_count": 2,
   "id": "5ade4595-ef7c-4932-ba1d-54803c0bf1a1",
   "metadata": {},
   "outputs": [
    {
     "name": "stdout",
     "output_type": "stream",
     "text": [
      "abc\n"
     ]
    }
   ],
   "source": [
    "print(name)"
   ]
  },
  {
   "cell_type": "code",
   "execution_count": 4,
   "id": "8bd60f06-fcb0-447b-868f-49319a08627f",
   "metadata": {},
   "outputs": [],
   "source": [
    "a= \"hello\""
   ]
  },
  {
   "cell_type": "code",
   "execution_count": 5,
   "id": "0c416afd-9be4-4d55-bde5-e51168a49070",
   "metadata": {},
   "outputs": [
    {
     "name": "stdout",
     "output_type": "stream",
     "text": [
      "hello\n"
     ]
    }
   ],
   "source": [
    "print(a)"
   ]
  },
  {
   "cell_type": "code",
   "execution_count": 6,
   "id": "461d7b50-beed-4c0b-8119-108efe26a2e2",
   "metadata": {},
   "outputs": [
    {
     "data": {
      "text/plain": [
       "str"
      ]
     },
     "execution_count": 6,
     "metadata": {},
     "output_type": "execute_result"
    }
   ],
   "source": [
    "type(a)"
   ]
  },
  {
   "cell_type": "markdown",
   "id": "db95fab5-45cc-4751-9a57-5cb2ebb85e97",
   "metadata": {},
   "source": [
    "String method"
   ]
  },
  {
   "cell_type": "code",
   "execution_count": 7,
   "id": "7cef61f1-1d62-4aa7-aaba-768f8b3f42b4",
   "metadata": {},
   "outputs": [],
   "source": [
    "x= \"     .....hello world    \"   "
   ]
  },
  {
   "cell_type": "code",
   "execution_count": 8,
   "id": "c3f50102-5c21-4aa0-8072-f30508a082d8",
   "metadata": {},
   "outputs": [
    {
     "name": "stdout",
     "output_type": "stream",
     "text": [
      "     hello world    \n"
     ]
    }
   ],
   "source": [
    "print(x)"
   ]
  },
  {
   "cell_type": "code",
   "execution_count": 9,
   "id": "f7f39e24-8484-449c-bde5-2072d239ebc2",
   "metadata": {},
   "outputs": [
    {
     "data": {
      "text/plain": [
       "'     HELLO WORLD    '"
      ]
     },
     "execution_count": 9,
     "metadata": {},
     "output_type": "execute_result"
    }
   ],
   "source": [
    "x.upper()"
   ]
  },
  {
   "cell_type": "code",
   "execution_count": 10,
   "id": "2ab63767-e620-46b8-b68a-7553668bd956",
   "metadata": {},
   "outputs": [
    {
     "data": {
      "text/plain": [
       "'     hello world    '"
      ]
     },
     "execution_count": 10,
     "metadata": {},
     "output_type": "execute_result"
    }
   ],
   "source": [
    "x.lower()"
   ]
  },
  {
   "cell_type": "code",
   "execution_count": 11,
   "id": "c94af519-6948-411d-a7bd-33bdcbe8a97e",
   "metadata": {},
   "outputs": [
    {
     "data": {
      "text/plain": [
       "'hello world'"
      ]
     },
     "execution_count": 11,
     "metadata": {},
     "output_type": "execute_result"
    }
   ],
   "source": [
    "x.strip()"
   ]
  },
  {
   "cell_type": "code",
   "execution_count": 12,
   "id": "00486593-5a28-4245-9df1-ebe6fb3a784b",
   "metadata": {},
   "outputs": [
    {
     "data": {
      "text/plain": [
       "['hello', 'world']"
      ]
     },
     "execution_count": 12,
     "metadata": {},
     "output_type": "execute_result"
    }
   ],
   "source": [
    "x.split()"
   ]
  },
  {
   "cell_type": "code",
   "execution_count": 13,
   "id": "149c587a-47f0-4967-b8d2-1f19cbdf65b8",
   "metadata": {},
   "outputs": [
    {
     "data": {
      "text/plain": [
       "'     hello world    '"
      ]
     },
     "execution_count": 13,
     "metadata": {},
     "output_type": "execute_result"
    }
   ],
   "source": [
    "x.capitalize()"
   ]
  },
  {
   "cell_type": "code",
   "execution_count": 14,
   "id": "26501a3b-df3d-4b38-8f40-63ccec3a29e8",
   "metadata": {},
   "outputs": [
    {
     "data": {
      "text/plain": [
       "'     hello world    '"
      ]
     },
     "execution_count": 14,
     "metadata": {},
     "output_type": "execute_result"
    }
   ],
   "source": [
    "x.strip()\n",
    "x.capitalize()"
   ]
  },
  {
   "cell_type": "raw",
   "id": "e475b572-48ed-4579-840d-daec08517440",
   "metadata": {},
   "source": [
    "x.strip(\".....\")"
   ]
  },
  {
   "cell_type": "code",
   "execution_count": 18,
   "id": "f66f4356-f1fa-4404-aa33-ade7c6eac389",
   "metadata": {},
   "outputs": [
    {
     "data": {
      "text/plain": [
       "'     hi world    '"
      ]
     },
     "execution_count": 18,
     "metadata": {},
     "output_type": "execute_result"
    }
   ],
   "source": [
    "x.replace(\"hello\",\"hi\")"
   ]
  },
  {
   "cell_type": "code",
   "execution_count": 19,
   "id": "22afab33-d444-4568-9579-77947450a4b0",
   "metadata": {},
   "outputs": [],
   "source": [
    "email= \"student@gmail.com\""
   ]
  },
  {
   "cell_type": "code",
   "execution_count": 20,
   "id": "5641bd4c-a32c-4671-9b9e-8aa1fa0a1bab",
   "metadata": {},
   "outputs": [
    {
     "data": {
      "text/plain": [
       "True"
      ]
     },
     "execution_count": 20,
     "metadata": {},
     "output_type": "execute_result"
    }
   ],
   "source": [
    "email.endswith(\"@gmail.com\")"
   ]
  },
  {
   "cell_type": "markdown",
   "id": "3d7fd4da-cf17-4554-ba28-54e4baf4767a",
   "metadata": {},
   "source": [
    "String indexing"
   ]
  },
  {
   "cell_type": "code",
   "execution_count": 21,
   "id": "4a004afb-c6c6-44fa-9733-56dfbec6cee7",
   "metadata": {},
   "outputs": [],
   "source": [
    "x= \"hello world\""
   ]
  },
  {
   "cell_type": "code",
   "execution_count": 22,
   "id": "4dfa7d89-4dc6-476d-a1b7-caf630a12060",
   "metadata": {},
   "outputs": [
    {
     "data": {
      "text/plain": [
       "'h'"
      ]
     },
     "execution_count": 22,
     "metadata": {},
     "output_type": "execute_result"
    }
   ],
   "source": [
    "x[0]"
   ]
  },
  {
   "cell_type": "code",
   "execution_count": 24,
   "id": "d857a1af-4e60-480a-a11c-c8719c295d59",
   "metadata": {},
   "outputs": [
    {
     "data": {
      "text/plain": [
       "'hello'"
      ]
     },
     "execution_count": 24,
     "metadata": {},
     "output_type": "execute_result"
    }
   ],
   "source": [
    "x[0:5]"
   ]
  },
  {
   "cell_type": "code",
   "execution_count": 26,
   "id": "ae2d0b0d-58a8-4bf8-a770-76ce2daac912",
   "metadata": {},
   "outputs": [
    {
     "data": {
      "text/plain": [
       "11"
      ]
     },
     "execution_count": 26,
     "metadata": {},
     "output_type": "execute_result"
    }
   ],
   "source": [
    "len(x)"
   ]
  },
  {
   "cell_type": "code",
   "execution_count": 27,
   "id": "4331a48c-7490-4282-ac58-57c20bd91651",
   "metadata": {},
   "outputs": [
    {
     "data": {
      "text/plain": [
       "'world'"
      ]
     },
     "execution_count": 27,
     "metadata": {},
     "output_type": "execute_result"
    }
   ],
   "source": [
    "x[6:]"
   ]
  },
  {
   "cell_type": "markdown",
   "id": "a5ad914e-ce43-42ed-9a90-29f71b1956ab",
   "metadata": {},
   "source": [
    "String slicing"
   ]
  },
  {
   "cell_type": "code",
   "execution_count": null,
   "id": "6c79f0ea-178c-48b4-a637-10d60c0c77ac",
   "metadata": {},
   "outputs": [],
   "source": [
    "#x=[start:stop:step]"
   ]
  },
  {
   "cell_type": "code",
   "execution_count": 28,
   "id": "fa42131d-b724-4564-af99-d4449aea83c3",
   "metadata": {},
   "outputs": [],
   "source": [
    "x=\"hello world\""
   ]
  },
  {
   "cell_type": "code",
   "execution_count": 29,
   "id": "a9e70abe-4ef1-4fba-b965-0c8e48b2808d",
   "metadata": {},
   "outputs": [
    {
     "data": {
      "text/plain": [
       "'hlo'"
      ]
     },
     "execution_count": 29,
     "metadata": {},
     "output_type": "execute_result"
    }
   ],
   "source": [
    "x[0:5:2]"
   ]
  },
  {
   "cell_type": "code",
   "execution_count": 30,
   "id": "b50f2421-6f85-485e-9cd6-888ad941801b",
   "metadata": {},
   "outputs": [
    {
     "data": {
      "text/plain": [
       "'d'"
      ]
     },
     "execution_count": 30,
     "metadata": {},
     "output_type": "execute_result"
    }
   ],
   "source": [
    "x[-1]"
   ]
  },
  {
   "cell_type": "code",
   "execution_count": 31,
   "id": "80e8dd9b-3009-4a05-aade-fd327719bab4",
   "metadata": {},
   "outputs": [],
   "source": [
    "name=\"pratima\""
   ]
  },
  {
   "cell_type": "code",
   "execution_count": 32,
   "id": "6cd8abe5-ea75-4d0c-bffe-13eabb1d3df1",
   "metadata": {},
   "outputs": [
    {
     "data": {
      "text/plain": [
       "'amitarp'"
      ]
     },
     "execution_count": 32,
     "metadata": {},
     "output_type": "execute_result"
    }
   ],
   "source": [
    "name[::-1] #reverse string"
   ]
  },
  {
   "cell_type": "markdown",
   "id": "6f1fbdf0-aaeb-4d68-bb57-ae451805e712",
   "metadata": {},
   "source": [
    "String formatting"
   ]
  },
  {
   "cell_type": "code",
   "execution_count": 33,
   "id": "a9fb05e8-2731-42f5-97ea-eb7628822b17",
   "metadata": {},
   "outputs": [],
   "source": [
    "name = \"john\"\n",
    "age = 25"
   ]
  },
  {
   "cell_type": "code",
   "execution_count": 34,
   "id": "e4fd11a1-a28b-42a7-a903-42dea918f814",
   "metadata": {},
   "outputs": [
    {
     "name": "stdout",
     "output_type": "stream",
     "text": [
      "your name is john and your age is 25\n"
     ]
    }
   ],
   "source": [
    "print(f\"your name is {name} and your age is {age}\")"
   ]
  },
  {
   "cell_type": "code",
   "execution_count": 35,
   "id": "c1c9af95-d104-4147-a3e9-6abc27899f71",
   "metadata": {},
   "outputs": [
    {
     "name": "stdout",
     "output_type": "stream",
     "text": [
      "your name is john and you are 25 old\n"
     ]
    }
   ],
   "source": [
    "print(\"your name is {} and you are {} old\".format(name,age))"
   ]
  },
  {
   "cell_type": "code",
   "execution_count": 36,
   "id": "6cffe6bd-c4c7-41ff-8a5f-398c4a07c96d",
   "metadata": {},
   "outputs": [
    {
     "name": "stdout",
     "output_type": "stream",
     "text": [
      "your name is 25 and you are john old\n"
     ]
    }
   ],
   "source": [
    "print(\"your name is {1} and you are {0} old\".format(name,age))"
   ]
  },
  {
   "cell_type": "code",
   "execution_count": 37,
   "id": "3412c792-f202-4c07-abe8-1d7ed5ae5b81",
   "metadata": {},
   "outputs": [
    {
     "name": "stdout",
     "output_type": "stream",
     "text": [
      "your name is john and you are 25 old\n"
     ]
    }
   ],
   "source": [
    "print(\"your name is {0} and you are {1} old\".format(name,age))"
   ]
  },
  {
   "cell_type": "code",
   "execution_count": 40,
   "id": "1bb56b79-b107-44c4-9990-82baef2fab54",
   "metadata": {},
   "outputs": [],
   "source": [
    "name = \"Pratima\"\n",
    "age = 24\n",
    "gender =\"female\""
   ]
  },
  {
   "cell_type": "code",
   "execution_count": 43,
   "id": "68fc2fac-c52c-4447-a13f-0d064c74c206",
   "metadata": {},
   "outputs": [
    {
     "name": "stdout",
     "output_type": "stream",
     "text": [
      "My name is Pratima and i am 24 years old female\n"
     ]
    }
   ],
   "source": [
    "print(f\"My name is {name} and i am {age} years old {gender}\")"
   ]
  },
  {
   "cell_type": "markdown",
   "id": "8632b7ef-5f97-45e0-a00b-57895fefd037",
   "metadata": {},
   "source": [
    "String concetination"
   ]
  },
  {
   "cell_type": "code",
   "execution_count": 44,
   "id": "3255206a-bb9b-4c24-a76e-22db9835eaa7",
   "metadata": {},
   "outputs": [],
   "source": [
    "x=\"piece\"\n",
    "y=\"of\"\n",
    "z=\"coco\""
   ]
  },
  {
   "cell_type": "code",
   "execution_count": 45,
   "id": "0e080673-3946-4162-920a-a970649ca45e",
   "metadata": {},
   "outputs": [
    {
     "data": {
      "text/plain": [
       "'piece of coco'"
      ]
     },
     "execution_count": 45,
     "metadata": {},
     "output_type": "execute_result"
    }
   ],
   "source": [
    "x+\" \"+y+\" \"+z"
   ]
  },
  {
   "cell_type": "code",
   "execution_count": 47,
   "id": "e5a524c7-0e40-4c44-9ab5-965599205739",
   "metadata": {},
   "outputs": [],
   "source": [
    "concat = f\"{x} {y} {z}\""
   ]
  },
  {
   "cell_type": "code",
   "execution_count": 48,
   "id": "7538f695-7a4a-4ad5-94e0-73876a8644d5",
   "metadata": {},
   "outputs": [
    {
     "data": {
      "text/plain": [
       "'piece of coco'"
      ]
     },
     "execution_count": 48,
     "metadata": {},
     "output_type": "execute_result"
    }
   ],
   "source": [
    "concat"
   ]
  },
  {
   "cell_type": "code",
   "execution_count": 49,
   "id": "9b60337e-1b88-44fb-8911-cd64730397af",
   "metadata": {},
   "outputs": [
    {
     "name": "stdout",
     "output_type": "stream",
     "text": [
      "--------------------\n"
     ]
    }
   ],
   "source": [
    "print(\"-\"*20)"
   ]
  },
  {
   "cell_type": "code",
   "execution_count": 50,
   "id": "3dcd1ebf-e7e4-4f66-9f9f-2f69e6f731ed",
   "metadata": {},
   "outputs": [
    {
     "data": {
      "text/plain": [
       "13"
      ]
     },
     "execution_count": 50,
     "metadata": {},
     "output_type": "execute_result"
    }
   ],
   "source": [
    "len(concat)"
   ]
  },
  {
   "cell_type": "code",
   "execution_count": null,
   "id": "468d48bf-818a-4cb5-9174-37259921dff4",
   "metadata": {},
   "outputs": [],
   "source": []
  },
  {
   "cell_type": "code",
   "execution_count": null,
   "id": "ce3f7aed-6cf4-413e-8185-7b4dd097d704",
   "metadata": {},
   "outputs": [],
   "source": []
  }
 ],
 "metadata": {
  "kernelspec": {
   "display_name": "Python 3 (ipykernel)",
   "language": "python",
   "name": "python3"
  },
  "language_info": {
   "codemirror_mode": {
    "name": "ipython",
    "version": 3
   },
   "file_extension": ".py",
   "mimetype": "text/x-python",
   "name": "python",
   "nbconvert_exporter": "python",
   "pygments_lexer": "ipython3",
   "version": "3.13.0"
  }
 },
 "nbformat": 4,
 "nbformat_minor": 5
}
