{
 "cells": [
  {
   "cell_type": "markdown",
   "id": "3a4725af-0d89-418e-ae39-216cc84333ca",
   "metadata": {},
   "source": [
    "def function_name (parameter1, parameter2,..):\n",
    "\n",
    "    #function body\n",
    "    return output_value\n",
    "    "
   ]
  },
  {
   "cell_type": "code",
   "execution_count": 7,
   "id": "8f7d9988-1733-454b-8c13-4a188d0751a6",
   "metadata": {},
   "outputs": [],
   "source": [
    "def sum_list (input_list):\n",
    "    result = 0\n",
    "    for x in input_list:\n",
    "        result += x\n",
    "    return result  \n",
    "sum_result=sum_list([1,2,3,4])"
   ]
  },
  {
   "cell_type": "code",
   "execution_count": 8,
   "id": "1c77f01e-42ab-4d7a-869d-1cdb50514eb4",
   "metadata": {},
   "outputs": [
    {
     "name": "stdout",
     "output_type": "stream",
     "text": [
      "10\n"
     ]
    }
   ],
   "source": [
    "print(sum_result)"
   ]
  },
  {
   "cell_type": "code",
   "execution_count": 9,
   "id": "cc2df3ed-b811-430b-86e0-9fddec17e9e7",
   "metadata": {},
   "outputs": [],
   "source": [
    "def greet(name, greeting =\"Hello\"):\n",
    "    return f\"{greeting},{name}\""
   ]
  },
  {
   "cell_type": "code",
   "execution_count": 10,
   "id": "fd84d530-3ba2-44d7-84bb-5c276ce9d292",
   "metadata": {},
   "outputs": [
    {
     "data": {
      "text/plain": [
       "'Hello,prateema'"
      ]
     },
     "execution_count": 10,
     "metadata": {},
     "output_type": "execute_result"
    }
   ],
   "source": [
    "greet(\"prateema\")"
   ]
  },
  {
   "cell_type": "code",
   "execution_count": 11,
   "id": "f628bbe0-2aa0-45a4-80ca-368b59683481",
   "metadata": {},
   "outputs": [
    {
     "data": {
      "text/plain": [
       "'hi,bob'"
      ]
     },
     "execution_count": 11,
     "metadata": {},
     "output_type": "execute_result"
    }
   ],
   "source": [
    "greet(\"bob\", \"hi\")"
   ]
  },
  {
   "cell_type": "markdown",
   "id": "4f05d32e-9c85-4de7-8135-664cb3b19e0c",
   "metadata": {},
   "source": [
    "Function in python can also have variable-length arguments lists. These are called *args and **kwargs, and they allow the function to accept any number of arguments and keywords arguments, respectively. Here's an demonstrates how to  define a function with variable-length argument list."
   ]
  },
  {
   "cell_type": "code",
   "execution_count": 1,
   "id": "26296714-b105-4b63-a08b-f1c640749a36",
   "metadata": {},
   "outputs": [],
   "source": [
    "def print_arguments(*args, **kwargs):\n",
    "    for arg in args:\n",
    "        print(arg, end =\" \")\n",
    "       "
   ]
  },
  {
   "cell_type": "code",
   "execution_count": 2,
   "id": "5d12418e-e8d8-401e-bd05-2fcc224e9440",
   "metadata": {},
   "outputs": [
    {
     "name": "stdout",
     "output_type": "stream",
     "text": [
      "ram 1 Hello [4, 5, 6] "
     ]
    }
   ],
   "source": [
    "print_arguments (\"ram\", 1, \"Hello\", [4,5,6])\n"
   ]
  },
  {
   "cell_type": "code",
   "execution_count": 3,
   "id": "00b4f64b-f4a3-490a-b339-bfe78c7b45c8",
   "metadata": {},
   "outputs": [],
   "source": [
    "def print_arguments(*args, **kwargs):\n",
    "    for arg in args:\n",
    "        print(arg, end =\" \")\n",
    "    print(kwargs)    "
   ]
  },
  {
   "cell_type": "code",
   "execution_count": 5,
   "id": "f71a24fc-aa04-4107-aa4f-faa2b8b6084b",
   "metadata": {},
   "outputs": [
    {
     "ename": "SyntaxError",
     "evalue": "positional argument follows keyword argument (2227606449.py, line 1)",
     "output_type": "error",
     "traceback": [
      "\u001b[1;36m  Cell \u001b[1;32mIn[5], line 1\u001b[1;36m\u001b[0m\n\u001b[1;33m    print_arguments(\"ram\", 1, \"Hello\", [4,5,6], greet = \"hello\", time \"5pm\")\u001b[0m\n\u001b[1;37m                                                                           ^\u001b[0m\n\u001b[1;31mSyntaxError\u001b[0m\u001b[1;31m:\u001b[0m positional argument follows keyword argument\n"
     ]
    }
   ],
   "source": [
    "print_arguments(\"ram\", 1, \"Hello\", [4,5,6], greet = \"hello\", time \"5pm\")"
   ]
  },
  {
   "cell_type": "code",
   "execution_count": 24,
   "id": "c30b8fa5-7ad3-43d5-9414-999b2b1085e2",
   "metadata": {},
   "outputs": [],
   "source": [
    " def print_arguments(*args, **kwargs):\n",
    "    print(\"Positional args\")\n",
    "    for arg in args:\n",
    "        print(arg, end = \" \")\n",
    "\n",
    "    print(\"\\n\",\"-\"*30)\n",
    "    print(\"keyword args\")\n",
    "    for key,value in kwargs.items():\n",
    "        print(f\"value for {key} is {value}\")\n",
    "        \n",
    "        "
   ]
  },
  {
   "cell_type": "code",
   "execution_count": 25,
   "id": "01d5c312-dcf0-4459-a123-c876f6796a81",
   "metadata": {},
   "outputs": [
    {
     "name": "stdout",
     "output_type": "stream",
     "text": [
      "Positional args\n",
      "ram 1 hello [4, 5, 6] \n",
      " ------------------------------\n",
      "keyword args\n",
      "value for greet is hello\n",
      "value for time is 6pm\n"
     ]
    }
   ],
   "source": [
    "print_arguments(\"ram\", 1, \"hello\", [4,5,6], greet = \"hello\", time = \"6pm\")"
   ]
  },
  {
   "cell_type": "code",
   "execution_count": 17,
   "id": "18378bd8-2f2d-4ab2-816d-77f67ecff9d1",
   "metadata": {},
   "outputs": [],
   "source": [
    "my_dict = {\"name\": \"prateema\", \"age\":23}"
   ]
  },
  {
   "cell_type": "code",
   "execution_count": 19,
   "id": "8958a6fc-3219-4752-a058-78da1112a785",
   "metadata": {},
   "outputs": [
    {
     "data": {
      "text/plain": [
       "'unknown'"
      ]
     },
     "execution_count": 19,
     "metadata": {},
     "output_type": "execute_result"
    }
   ],
   "source": [
    "my_dict.get(\"address\",\"unknown\")"
   ]
  },
  {
   "cell_type": "code",
   "execution_count": 26,
   "id": "fd0dfbf4-e03b-404d-93c4-7a2c5a82d14c",
   "metadata": {},
   "outputs": [
    {
     "ename": "SyntaxError",
     "evalue": "invalid syntax. Perhaps you forgot a comma? (406311627.py, line 5)",
     "output_type": "error",
     "traceback": [
      "\u001b[1;36m  Cell \u001b[1;32mIn[26], line 5\u001b[1;36m\u001b[0m\n\u001b[1;33m    (\"\"optimizer\",\", \"\"save_path\"\")\u001b[0m\n\u001b[1;37m     ^\u001b[0m\n\u001b[1;31mSyntaxError\u001b[0m\u001b[1;31m:\u001b[0m invalid syntax. Perhaps you forgot a comma?\n"
     ]
    }
   ],
   "source": [
    "\n",
    "    "
   ]
  },
  {
   "cell_type": "code",
   "execution_count": 31,
   "id": "1feefab5-7abf-436a-bdfe-1aee94b544d1",
   "metadata": {},
   "outputs": [],
   "source": [
    "default_values= dict(\n",
    "    epochs = 50, loader = None, optimizer= None, save_path = \"model.pth\"\n",
    ")\n",
    "def train_model (model, **kwargs):\n",
    "    params={**default_values, **user_dict}\n",
    "    epochs = kwargs.get(\"epochs\", 50)\n",
    "    loader = kwargs.get(\"loader\", None)"
   ]
  },
  {
   "cell_type": "code",
   "execution_count": 32,
   "id": "4d6f7565-e1a4-4c99-9ea6-3ac7d6f28c62",
   "metadata": {},
   "outputs": [],
   "source": [
    "user_dict = dict(epochs = 40, optimizer = \"SGD\")"
   ]
  },
  {
   "cell_type": "code",
   "execution_count": 33,
   "id": "c90fb15e-3adb-4f59-9ea9-fed70def373d",
   "metadata": {},
   "outputs": [
    {
     "data": {
      "text/plain": [
       "{'epochs': 40, 'optimizer': 'SGD'}"
      ]
     },
     "execution_count": 33,
     "metadata": {},
     "output_type": "execute_result"
    }
   ],
   "source": [
    "user_dict"
   ]
  },
  {
   "cell_type": "code",
   "execution_count": 30,
   "id": "3114f146-ab2b-4313-b9d5-807bf8b13e98",
   "metadata": {},
   "outputs": [
    {
     "data": {
      "text/plain": [
       "{'epochs': 40, 'loader': None, 'optimizer': 'SGD', 'save_path': 'model.pth'}"
      ]
     },
     "execution_count": 30,
     "metadata": {},
     "output_type": "execute_result"
    }
   ],
   "source": [
    "params={**default_values, **user_dict}"
   ]
  },
  {
   "cell_type": "code",
   "execution_count": null,
   "id": "856236da-5110-4cc7-8b36-8be1bc4529ad",
   "metadata": {},
   "outputs": [],
   "source": [
    " "
   ]
  },
  {
   "cell_type": "markdown",
   "id": "5c1fc564-8b87-4394-ae65-8b8a3bc5219c",
   "metadata": {},
   "source": [
    "**Documentation in Function**"
   ]
  },
  {
   "cell_type": "markdown",
   "id": "b64d39fb-3d4f-4d0f-810e-3d5d8c8ff0b7",
   "metadata": {},
   "source": [
    "Python docstrings are the string literals that appear right afther the defination of a function, method, class, or module. Let's take an example.\n",
    "Refer:Programiz Docs"
   ]
  },
  {
   "cell_type": "code",
   "execution_count": 34,
   "id": "63962973-f0c1-40df-960b-d1a932c4c481",
   "metadata": {},
   "outputs": [],
   "source": [
    "def square(n):\n",
    "    \"\"\"\n",
    "    Give square of a number.\n",
    "\n",
    "    parameter:\n",
    "        n(int):user input number\n",
    "        return:\n",
    "           int: square of input number\n",
    "    \n",
    "    \"\"\"\n",
    "    return n**2"
   ]
  },
  {
   "cell_type": "code",
   "execution_count": 35,
   "id": "01f0446e-097f-4dc6-959f-19592e79b1d2",
   "metadata": {},
   "outputs": [
    {
     "data": {
      "text/plain": [
       "16"
      ]
     },
     "execution_count": 35,
     "metadata": {},
     "output_type": "execute_result"
    }
   ],
   "source": [
    "square(4)"
   ]
  },
  {
   "cell_type": "code",
   "execution_count": 38,
   "id": "8b8b5dc3-7ecb-4bf0-a5fe-c7ebebe58463",
   "metadata": {},
   "outputs": [
    {
     "name": "stdout",
     "output_type": "stream",
     "text": [
      "\n",
      "Give square of a number.\n",
      "\n",
      "parameter:\n",
      "    n(int):user input number\n",
      "    return:\n",
      "       int: square of input number\n",
      "\n",
      "\n"
     ]
    }
   ],
   "source": [
    "print(square.__doc__) #print documentation of square function"
   ]
  },
  {
   "cell_type": "code",
   "execution_count": null,
   "id": "db525a4e-6034-44b5-a8d4-f51b437cbfaf",
   "metadata": {},
   "outputs": [],
   "source": []
  },
  {
   "cell_type": "markdown",
   "id": "d2e8feab-8dea-4f95-9e05-d438a63a5f9e",
   "metadata": {},
   "source": [
    "**Write a Program to Define a Function `power`**\n",
    "\n",
    "\n",
    "Write a Program to Define a Function `power` that takes two arguments, `base` and `exp`. The function should return `base` raised to the power of `exp`.\n",
    " \n",
    "If `exp` is not provided, it should default to 2. Call this function with and without the second argument and print the results.\n",
    " "
   ]
  },
  {
   "cell_type": "code",
   "execution_count": 41,
   "id": "6c762218-0ce3-4ff1-ab78-eb5fbd2d1970",
   "metadata": {},
   "outputs": [
    {
     "name": "stdout",
     "output_type": "stream",
     "text": [
      "8\n",
      "4\n"
     ]
    }
   ],
   "source": [
    "def power(base , exp=2):\n",
    "    return base ** exp\n",
    "    \n",
    "\n",
    "wexp= power(2,3)\n",
    "woutexp = power(2)\n",
    "\n",
    "print(wexp)\n",
    "print(woutexp)\n"
   ]
  },
  {
   "cell_type": "markdown",
   "id": "8cf9ba8a-63c2-47e4-b83f-5eacbb90df3a",
   "metadata": {},
   "source": [
    "**Question : Calculate Std. Deviation of given list**"
   ]
  },
  {
   "cell_type": "markdown",
   "id": "013bc17c-ac4c-4fb3-8aec-879585635292",
   "metadata": {},
   "source": [
    "**Standard Deviation**\n",
    " \n",
    "\n",
    "Standard Deviation : $\\sqrt{\\frac{\\sum{(X - \\bar{X})}^2}{N}}$"
   ]
  },
  {
   "cell_type": "code",
   "execution_count": 42,
   "id": "b24a7030-f1a3-4638-8561-f13a0668ba65",
   "metadata": {},
   "outputs": [],
   "source": [
    "from math import sqrt\n",
    "def std_deviation(inp_list : list) -> float :\n",
    "    N = len(inp_list)\n",
    "    mean = sum(inp_list) / N\n",
    "    summation = sum ([(x-mean) **2 for x in inp_list])\n",
    "    result =  sqrt(summation /N)\n",
    "    return result"
   ]
  },
  {
   "cell_type": "code",
   "execution_count": 43,
   "id": "40ec829b-81cc-4954-9755-cb48acb6afc5",
   "metadata": {},
   "outputs": [
    {
     "data": {
      "text/plain": [
       "2.29128784747792"
      ]
     },
     "execution_count": 43,
     "metadata": {},
     "output_type": "execute_result"
    }
   ],
   "source": [
    "std_deviation([2,3,4,5,6,7,8,9])"
   ]
  },
  {
   "cell_type": "code",
   "execution_count": 45,
   "id": "c23c0962-8f8a-4ab5-8fb8-51e4e91325c2",
   "metadata": {},
   "outputs": [
    {
     "data": {
      "text/plain": [
       "115.17812292271479"
      ]
     },
     "execution_count": 45,
     "metadata": {},
     "output_type": "execute_result"
    }
   ],
   "source": [
    "std_deviation(list(range(1,400,3)))"
   ]
  },
  {
   "cell_type": "code",
   "execution_count": null,
   "id": "89fac702-d0ee-4935-a62b-1c9e6e895bc0",
   "metadata": {},
   "outputs": [],
   "source": []
  },
  {
   "cell_type": "markdown",
   "id": "e3d87a99-a4c0-4665-9a61-b3dbcddbe6ea",
   "metadata": {},
   "source": [
    "## Question : calculate mean error\n",
    "\n",
    "create a function that takes any number of error value and find their mean"
   ]
  },
  {
   "cell_type": "code",
   "execution_count": 6,
   "id": "c5a1b9e7-3be5-481b-a678-890c6f5b5e96",
   "metadata": {},
   "outputs": [
    {
     "name": "stdout",
     "output_type": "stream",
     "text": [
      "1.9600000000000002\n"
     ]
    }
   ],
   "source": [
    "#mean_error(2.3,5.4,2.2,3.1,2.4)\n",
    "#result => mean error is 3.2\n",
    "\n",
    "def mean_error(*error):\n",
    "    return sum(error) / len(error)\n",
    "\n",
    "print(mean_error(*[1.1,2.1,3.1,2.2,1.3]))\n",
    "\n",
    "    \n",
    "     "
   ]
  },
  {
   "cell_type": "code",
   "execution_count": null,
   "id": "1a2a3035-bca1-4593-b16f-62abe80f995c",
   "metadata": {},
   "outputs": [],
   "source": []
  }
 ],
 "metadata": {
  "kernelspec": {
   "display_name": "Python 3 (ipykernel)",
   "language": "python",
   "name": "python3"
  },
  "language_info": {
   "codemirror_mode": {
    "name": "ipython",
    "version": 3
   },
   "file_extension": ".py",
   "mimetype": "text/x-python",
   "name": "python",
   "nbconvert_exporter": "python",
   "pygments_lexer": "ipython3",
   "version": "3.13.0"
  }
 },
 "nbformat": 4,
 "nbformat_minor": 5
}
