{
 "cells": [
  {
   "cell_type": "markdown",
   "id": "41f2f19a-1fc4-4772-a21c-aa23b02e546f",
   "metadata": {},
   "source": [
    "**Python Function**"
   ]
  },
  {
   "cell_type": "markdown",
   "id": "3c9d1c5f-ec53-47d2-9fa2-9fc1c523e53f",
   "metadata": {},
   "source": [
    "syntax:\n",
    "\n",
    "def <function_name>(parameter):\n",
    "\n",
    "    do something\n",
    "    '\n",
    "    '\n",
    "    '\n",
    "    retrun <result>"
   ]
  },
  {
   "cell_type": "code",
   "execution_count": 1,
   "id": "a20dee26-1d79-4f9d-b3be-c7ad7e70a828",
   "metadata": {},
   "outputs": [],
   "source": [
    "def calculate_sum(num1,num2):\n",
    "    summation = num1 + num2\n",
    "    return summation\n",
    "    "
   ]
  },
  {
   "cell_type": "code",
   "execution_count": 2,
   "id": "adcf9b41-6b4f-40bf-8b20-5da076b23340",
   "metadata": {},
   "outputs": [
    {
     "data": {
      "text/plain": [
       "6"
      ]
     },
     "execution_count": 2,
     "metadata": {},
     "output_type": "execute_result"
    }
   ],
   "source": [
    "calculate_sum(2,4)"
   ]
  },
  {
   "cell_type": "code",
   "execution_count": 12,
   "id": "150870bd-ff34-4be2-9b46-352316249da4",
   "metadata": {},
   "outputs": [],
   "source": [
    "def square_root(num):\n",
    "    output = num ** (1/2)\n",
    "    return output\n",
    "square_root(9)\n"
   ]
  },
  {
   "cell_type": "code",
   "execution_count": 17,
   "id": "4c44ac40-9953-4310-96d5-79750ea3cd6c",
   "metadata": {},
   "outputs": [
    {
     "data": {
      "text/plain": [
       "7.0"
      ]
     },
     "execution_count": 17,
     "metadata": {},
     "output_type": "execute_result"
    }
   ],
   "source": [
    "\n",
    "from math import sqrt\n",
    "sqrt(49)"
   ]
  },
  {
   "cell_type": "markdown",
   "id": "15ecc7d2-d502-45eb-87ae-fe4a631ba144",
   "metadata": {},
   "source": [
    "**python built-in function**"
   ]
  },
  {
   "cell_type": "code",
   "execution_count": 18,
   "id": "16030a1e-b8f5-4621-9dee-42c06444ebda",
   "metadata": {},
   "outputs": [],
   "source": [
    "x= 5\n",
    "y=x+4\n"
   ]
  },
  {
   "cell_type": "code",
   "execution_count": 19,
   "id": "7db54afc-fd8a-4cec-9e44-382b5f099085",
   "metadata": {},
   "outputs": [
    {
     "name": "stdout",
     "output_type": "stream",
     "text": [
      "the value of y is:  9\n"
     ]
    }
   ],
   "source": [
    "print(\"the value of y is: \",y)"
   ]
  },
  {
   "cell_type": "code",
   "execution_count": 20,
   "id": "5e9e26c8-ac38-48f9-b18e-4a31d8b0334d",
   "metadata": {},
   "outputs": [
    {
     "name": "stdout",
     "output_type": "stream",
     "text": [
      "the value of x is:  5\n"
     ]
    }
   ],
   "source": [
    "print(\"the value of x is: \",x)"
   ]
  },
  {
   "cell_type": "code",
   "execution_count": 21,
   "id": "e8f5ae81-ef26-4096-aabe-dd71b5544f90",
   "metadata": {},
   "outputs": [
    {
     "name": "stdout",
     "output_type": "stream",
     "text": [
      "x is 5 y is  9\n"
     ]
    }
   ],
   "source": [
    "print(\"x is\",x, \"y is \", y)"
   ]
  },
  {
   "cell_type": "code",
   "execution_count": 23,
   "id": "ff29f148-65f6-41d3-9bb3-569d4580040d",
   "metadata": {},
   "outputs": [
    {
     "name": "stdout",
     "output_type": "stream",
     "text": [
      "Hello_World. welcome\n"
     ]
    }
   ],
   "source": [
    "print(\"Hello\",\"World\", sep =\"_\",end =\". \")\n",
    "print(\"welcome\")"
   ]
  },
  {
   "cell_type": "code",
   "execution_count": null,
   "id": "24f576b0-217a-49c8-8817-a34b35e6a221",
   "metadata": {},
   "outputs": [],
   "source": []
  },
  {
   "cell_type": "markdown",
   "id": "78004fd3-18ad-4940-b2b3-e72c98134f7d",
   "metadata": {},
   "source": [
    "**type()**"
   ]
  },
  {
   "cell_type": "code",
   "execution_count": 24,
   "id": "4a786508-8604-4604-8613-d12f3e20ccfc",
   "metadata": {},
   "outputs": [
    {
     "data": {
      "text/plain": [
       "int"
      ]
     },
     "execution_count": 24,
     "metadata": {},
     "output_type": "execute_result"
    }
   ],
   "source": [
    "type(4)"
   ]
  },
  {
   "cell_type": "code",
   "execution_count": 25,
   "id": "f4a17acb-1022-4078-9824-3fa104ba2679",
   "metadata": {},
   "outputs": [
    {
     "data": {
      "text/plain": [
       "int"
      ]
     },
     "execution_count": 25,
     "metadata": {},
     "output_type": "execute_result"
    }
   ],
   "source": [
    "type(100_00_00)\n"
   ]
  },
  {
   "cell_type": "code",
   "execution_count": 26,
   "id": "909d8c2c-e87a-4f05-bf19-e800991d5b22",
   "metadata": {},
   "outputs": [
    {
     "name": "stdout",
     "output_type": "stream",
     "text": [
      "10000\n"
     ]
    }
   ],
   "source": [
    "a=1_00_00\n",
    "print(a)"
   ]
  },
  {
   "cell_type": "code",
   "execution_count": 27,
   "id": "e92873d5-6c02-4d5e-87ae-79598979a76d",
   "metadata": {},
   "outputs": [
    {
     "data": {
      "text/plain": [
       "bool"
      ]
     },
     "execution_count": 27,
     "metadata": {},
     "output_type": "execute_result"
    }
   ],
   "source": [
    "type(True)"
   ]
  },
  {
   "cell_type": "markdown",
   "id": "ac49fd7e-fb6e-46ad-a4ea-256b31ba7b0e",
   "metadata": {},
   "source": [
    "**input()**"
   ]
  },
  {
   "cell_type": "code",
   "execution_count": 31,
   "id": "2f1c0f2b-fc22-462a-8d61-a9b87fc844e5",
   "metadata": {},
   "outputs": [
    {
     "name": "stdin",
     "output_type": "stream",
     "text": [
      "what is your name Pratima\n"
     ]
    },
    {
     "name": "stdout",
     "output_type": "stream",
     "text": [
      "Hello, Pratima !\n"
     ]
    }
   ],
   "source": [
    "name = input(\"what is your name\")\n",
    "print(\"Hello,\", name,\"!\")"
   ]
  },
  {
   "cell_type": "code",
   "execution_count": 32,
   "id": "da4e7d87-3ae7-4928-a2e2-89c303cb140a",
   "metadata": {},
   "outputs": [
    {
     "name": "stdin",
     "output_type": "stream",
     "text": [
      "enter age 24\n"
     ]
    },
    {
     "name": "stdout",
     "output_type": "stream",
     "text": [
      "24\n"
     ]
    }
   ],
   "source": [
    "age = int(input(\"enter age\"))\n",
    "print(age)"
   ]
  },
  {
   "cell_type": "markdown",
   "id": "93c7250b-a59d-4c25-8060-dca02a6aaef7",
   "metadata": {},
   "source": [
    "**len()**"
   ]
  },
  {
   "cell_type": "code",
   "execution_count": 33,
   "id": "eba72916-e411-4c49-81c5-75424d0ba0df",
   "metadata": {},
   "outputs": [
    {
     "data": {
      "text/plain": [
       "5"
      ]
     },
     "execution_count": 33,
     "metadata": {},
     "output_type": "execute_result"
    }
   ],
   "source": [
    "len(\"hello\")"
   ]
  },
  {
   "cell_type": "code",
   "execution_count": 34,
   "id": "6849866e-d234-4548-b848-c717c06d7255",
   "metadata": {},
   "outputs": [
    {
     "data": {
      "text/plain": [
       "3"
      ]
     },
     "execution_count": 34,
     "metadata": {},
     "output_type": "execute_result"
    }
   ],
   "source": [
    "len([1,2,3])"
   ]
  },
  {
   "cell_type": "code",
   "execution_count": 36,
   "id": "9d227327-e10c-47b5-b2ec-8ac143469930",
   "metadata": {},
   "outputs": [
    {
     "data": {
      "text/plain": [
       "2"
      ]
     },
     "execution_count": 36,
     "metadata": {},
     "output_type": "execute_result"
    }
   ],
   "source": [
    "len({1:\"a\",2:\"b\"})"
   ]
  },
  {
   "cell_type": "markdown",
   "id": "ff271e97-871d-459c-b1a3-12bc24f6eb96",
   "metadata": {},
   "source": [
    "**open()**"
   ]
  },
  {
   "cell_type": "code",
   "execution_count": 42,
   "id": "70f07c62-546e-4d26-bcd8-06a8590357c8",
   "metadata": {},
   "outputs": [
    {
     "name": "stdout",
     "output_type": "stream",
     "text": [
      "hello \n",
      "welcome\n",
      "\n"
     ]
    }
   ],
   "source": [
    "file = open(file = \"log.txt\",mode = \"r\")\n",
    "print(file.read())\n",
    "file.close()"
   ]
  },
  {
   "cell_type": "code",
   "execution_count": 43,
   "id": "30248b44-b3b9-4d85-8bbf-04b711650b8e",
   "metadata": {},
   "outputs": [
    {
     "data": {
      "text/plain": [
       "_io.TextIOWrapper"
      ]
     },
     "execution_count": 43,
     "metadata": {},
     "output_type": "execute_result"
    }
   ],
   "source": [
    "type(file)"
   ]
  },
  {
   "cell_type": "code",
   "execution_count": 58,
   "id": "93ebdcdb-e957-40eb-8e56-303d06854e22",
   "metadata": {},
   "outputs": [],
   "source": [
    "file = open(\"message.txt\", mode = \"w\")\n",
    "file.write(\"welcome to DSML course\")\n",
    "file.close()"
   ]
  },
  {
   "cell_type": "code",
   "execution_count": 59,
   "id": "5b404196-56c3-4dd0-9ea3-e0d455850d84",
   "metadata": {},
   "outputs": [],
   "source": [
    "#context manager\n",
    "with open(\"message.txt\", mode = \"a\") as file : #append at the end \n",
    "    file.write(\"\\nThis is second message\")\n",
    "    "
   ]
  },
  {
   "cell_type": "code",
   "execution_count": 62,
   "id": "616a0103-ba18-47e2-b384-f59ed0953f5c",
   "metadata": {},
   "outputs": [],
   "source": [
    "with open (\"message.txt\", mode = \"r+\") as file: #replace first line\n",
    "    file.write(\"this is first message \\n\")"
   ]
  },
  {
   "cell_type": "code",
   "execution_count": null,
   "id": "566d19da-3af9-4b29-9287-7a593a082731",
   "metadata": {},
   "outputs": [],
   "source": []
  },
  {
   "cell_type": "markdown",
   "id": "a44ea271-e080-4dc6-9bfc-de3cde3d5dc4",
   "metadata": {},
   "source": [
    "**dir()**"
   ]
  },
  {
   "cell_type": "code",
   "execution_count": 63,
   "id": "b795de1c-3935-46c6-8b67-d27b06809ee2",
   "metadata": {},
   "outputs": [],
   "source": [
    "x = \" hello\""
   ]
  },
  {
   "cell_type": "code",
   "execution_count": 64,
   "id": "e5291109-8b8f-447c-8d77-989a880a6fa5",
   "metadata": {},
   "outputs": [
    {
     "data": {
      "text/plain": [
       "['__add__',\n",
       " '__class__',\n",
       " '__contains__',\n",
       " '__delattr__',\n",
       " '__dir__',\n",
       " '__doc__',\n",
       " '__eq__',\n",
       " '__format__',\n",
       " '__ge__',\n",
       " '__getattribute__',\n",
       " '__getitem__',\n",
       " '__getnewargs__',\n",
       " '__getstate__',\n",
       " '__gt__',\n",
       " '__hash__',\n",
       " '__init__',\n",
       " '__init_subclass__',\n",
       " '__iter__',\n",
       " '__le__',\n",
       " '__len__',\n",
       " '__lt__',\n",
       " '__mod__',\n",
       " '__mul__',\n",
       " '__ne__',\n",
       " '__new__',\n",
       " '__reduce__',\n",
       " '__reduce_ex__',\n",
       " '__repr__',\n",
       " '__rmod__',\n",
       " '__rmul__',\n",
       " '__setattr__',\n",
       " '__sizeof__',\n",
       " '__str__',\n",
       " '__subclasshook__',\n",
       " 'capitalize',\n",
       " 'casefold',\n",
       " 'center',\n",
       " 'count',\n",
       " 'encode',\n",
       " 'endswith',\n",
       " 'expandtabs',\n",
       " 'find',\n",
       " 'format',\n",
       " 'format_map',\n",
       " 'index',\n",
       " 'isalnum',\n",
       " 'isalpha',\n",
       " 'isascii',\n",
       " 'isdecimal',\n",
       " 'isdigit',\n",
       " 'isidentifier',\n",
       " 'islower',\n",
       " 'isnumeric',\n",
       " 'isprintable',\n",
       " 'isspace',\n",
       " 'istitle',\n",
       " 'isupper',\n",
       " 'join',\n",
       " 'ljust',\n",
       " 'lower',\n",
       " 'lstrip',\n",
       " 'maketrans',\n",
       " 'partition',\n",
       " 'removeprefix',\n",
       " 'removesuffix',\n",
       " 'replace',\n",
       " 'rfind',\n",
       " 'rindex',\n",
       " 'rjust',\n",
       " 'rpartition',\n",
       " 'rsplit',\n",
       " 'rstrip',\n",
       " 'split',\n",
       " 'splitlines',\n",
       " 'startswith',\n",
       " 'strip',\n",
       " 'swapcase',\n",
       " 'title',\n",
       " 'translate',\n",
       " 'upper',\n",
       " 'zfill']"
      ]
     },
     "execution_count": 64,
     "metadata": {},
     "output_type": "execute_result"
    }
   ],
   "source": [
    "dir(x)"
   ]
  },
  {
   "cell_type": "code",
   "execution_count": 65,
   "id": "15753574-3bb1-43bc-917a-b83946519ac7",
   "metadata": {},
   "outputs": [
    {
     "data": {
      "text/plain": [
       "'HELLO'"
      ]
     },
     "execution_count": 65,
     "metadata": {},
     "output_type": "execute_result"
    }
   ],
   "source": [
    "x.upper()"
   ]
  },
  {
   "cell_type": "code",
   "execution_count": 66,
   "id": "29d3b23a-531c-4e54-b85a-68327a25b541",
   "metadata": {},
   "outputs": [
    {
     "data": {
      "text/plain": [
       "'hello'"
      ]
     },
     "execution_count": 66,
     "metadata": {},
     "output_type": "execute_result"
    }
   ],
   "source": [
    "x.casefold()"
   ]
  },
  {
   "cell_type": "code",
   "execution_count": 67,
   "id": "c013a6b1-8586-41a2-b886-781e3386d546",
   "metadata": {},
   "outputs": [
    {
     "data": {
      "text/plain": [
       "'hello'"
      ]
     },
     "execution_count": 67,
     "metadata": {},
     "output_type": "execute_result"
    }
   ],
   "source": [
    "x.strip()"
   ]
  },
  {
   "cell_type": "code",
   "execution_count": 68,
   "id": "dec87308-cff5-43d2-932c-62c4a41be5a9",
   "metadata": {},
   "outputs": [
    {
     "data": {
      "text/plain": [
       "True"
      ]
     },
     "execution_count": 68,
     "metadata": {},
     "output_type": "execute_result"
    }
   ],
   "source": [
    "x.endswith(\"o\")"
   ]
  },
  {
   "cell_type": "code",
   "execution_count": 72,
   "id": "f0e149de-400e-4b92-afc1-8fe96ae9522a",
   "metadata": {},
   "outputs": [
    {
     "data": {
      "text/plain": [
       "'whelloohellorhellolhellod'"
      ]
     },
     "execution_count": 72,
     "metadata": {},
     "output_type": "execute_result"
    }
   ],
   "source": [
    "x.join(\"world\")"
   ]
  },
  {
   "cell_type": "markdown",
   "id": "bf672422-9df7-4cc2-9eef-56c6f0738051",
   "metadata": {},
   "source": [
    "**enumerate()**"
   ]
  },
  {
   "cell_type": "code",
   "execution_count": 76,
   "id": "3b04836e-a49b-4088-b7f3-bce189e2d4b2",
   "metadata": {},
   "outputs": [
    {
     "name": "stdout",
     "output_type": "stream",
     "text": [
      "0: alice\n",
      "1: bob\n",
      "2: john\n"
     ]
    }
   ],
   "source": [
    "names = [\"alice\",\"bob\",\"john\"]\n",
    "for i, name in enumerate(names):\n",
    "    print(i , name, sep =\": \")"
   ]
  },
  {
   "cell_type": "code",
   "execution_count": 77,
   "id": "159552e3-0562-4c11-bfdc-d08f7e5321cf",
   "metadata": {},
   "outputs": [
    {
     "data": {
      "text/plain": [
       "[(0, 'alice'), (1, 'bob'), (2, 'john')]"
      ]
     },
     "execution_count": 77,
     "metadata": {},
     "output_type": "execute_result"
    }
   ],
   "source": [
    "list(enumerate(names))"
   ]
  },
  {
   "cell_type": "code",
   "execution_count": 79,
   "id": "b6ab478b-74a1-473b-abc1-271cf5d65653",
   "metadata": {},
   "outputs": [
    {
     "name": "stdout",
     "output_type": "stream",
     "text": [
      "1: alice\n",
      "2: bob\n",
      "3: john\n"
     ]
    }
   ],
   "source": [
    "names = [\"alice\",\"bob\",\"john\"]\n",
    "for i, name in enumerate(names, start = 1):\n",
    "    print(i , name, sep =\": \")"
   ]
  },
  {
   "cell_type": "markdown",
   "id": "3771c1e3-73b9-4f93-8348-7d22ef4f2300",
   "metadata": {},
   "source": []
  },
  {
   "cell_type": "markdown",
   "id": "2cb130d0-5785-4821-ae2c-03e265af96d9",
   "metadata": {},
   "source": [
    "**zip()**|"
   ]
  },
  {
   "cell_type": "code",
   "execution_count": 81,
   "id": "f56e1382-e59e-40b8-a11c-45f9998e96ad",
   "metadata": {},
   "outputs": [
    {
     "name": "stdout",
     "output_type": "stream",
     "text": [
      "Age of alice is a\n",
      "Age of bob is a\n",
      "Age of john is a\n"
     ]
    }
   ],
   "source": [
    "names = [\"alice\",\"bob\",\"john\"] \n",
    "age = [34,23,43]\n",
    "for name, a in zip(names , age):\n",
    "    print(f\"Age of {name} is a\")"
   ]
  },
  {
   "cell_type": "markdown",
   "id": "82b7bd1e-d896-4620-8110-3b134716ab37",
   "metadata": {},
   "source": [
    "**example**"
   ]
  },
  {
   "cell_type": "code",
   "execution_count": 82,
   "id": "0a75bc5e-a684-418c-b8ff-cb89321ed382",
   "metadata": {},
   "outputs": [
    {
     "data": {
      "text/plain": [
       "[('h', 2, 'e'), ('a', 3, 'a'), ('r', 4, 'u')]"
      ]
     },
     "execution_count": 82,
     "metadata": {},
     "output_type": "execute_result"
    }
   ],
   "source": [
    "name = \"hari\"\n",
    "list1 = [2,3,4]\n",
    "set1 = {\"a\",\"e\",\"i\",\"o\",\"u\"}\n",
    "list(zip(name,list1,set1))"
   ]
  },
  {
   "cell_type": "code",
   "execution_count": 84,
   "id": "ab4aef26-23b5-43ca-b418-576d112058c5",
   "metadata": {},
   "outputs": [
    {
     "name": "stdout",
     "output_type": "stream",
     "text": [
      "h-2-e\n",
      "a-3-a\n",
      "r-4-u\n"
     ]
    }
   ],
   "source": [
    "for n ,l ,s in zip(name,list1,set1):\n",
    "    print(n, l, s, sep =\"-\")"
   ]
  },
  {
   "cell_type": "code",
   "execution_count": null,
   "id": "6db0d7ff-9d87-436b-bd2d-02c0c9bb6be3",
   "metadata": {},
   "outputs": [],
   "source": []
  },
  {
   "cell_type": "code",
   "execution_count": null,
   "id": "3a1a9499-658e-4289-a9fc-53505821e3b8",
   "metadata": {},
   "outputs": [],
   "source": []
  },
  {
   "cell_type": "code",
   "execution_count": 85,
   "id": "294b4bba-1c5d-478c-b7c2-6a5a89f885d0",
   "metadata": {},
   "outputs": [],
   "source": [
    "def mul(x):\n",
    "    return x*2"
   ]
  },
  {
   "cell_type": "markdown",
   "id": "ac3b60c7-76ab-4bda-a1d1-1a9eb0ef8d47",
   "metadata": {},
   "source": [
    "**map()**"
   ]
  },
  {
   "cell_type": "markdown",
   "id": "a150b102-2ca2-4757-969b-9690bea02875",
   "metadata": {},
   "source": [
    "syntax:\n",
    "\n",
    "map(function, iterable)"
   ]
  },
  {
   "cell_type": "code",
   "execution_count": 87,
   "id": "d415a695-f878-4cd6-99b3-81511ecf8a13",
   "metadata": {},
   "outputs": [],
   "source": [
    "my_list = [2,3,5,6,2,1,7]\n",
    "map_obj = map(mul, my_list)\n"
   ]
  },
  {
   "cell_type": "code",
   "execution_count": 89,
   "id": "8efaf795-0b4b-4fe2-a916-726e7db4e0d8",
   "metadata": {},
   "outputs": [
    {
     "data": {
      "text/plain": [
       "[4, 6, 10, 12, 4, 2, 14]"
      ]
     },
     "execution_count": 89,
     "metadata": {},
     "output_type": "execute_result"
    }
   ],
   "source": [
    "[a for a in map_obj]"
   ]
  },
  {
   "cell_type": "code",
   "execution_count": null,
   "id": "ebcee6d6-89de-4858-90ef-ddef36505339",
   "metadata": {},
   "outputs": [],
   "source": []
  },
  {
   "cell_type": "markdown",
   "id": "5270e0b9-69f5-4b15-b0ca-b8882c171d98",
   "metadata": {},
   "source": [
    "**reduce()**"
   ]
  },
  {
   "cell_type": "markdown",
   "id": "c58e5b13-8ca4-49ed-8e56-ecd07c95270c",
   "metadata": {},
   "source": [
    "syntax:\n",
    "\n",
    "reduce(function, iterable[, initilizer])"
   ]
  },
  {
   "cell_type": "code",
   "execution_count": 90,
   "id": "3bb66cea-5ef9-429b-85a6-22e476fc43be",
   "metadata": {},
   "outputs": [],
   "source": [
    "from functools import reduce"
   ]
  },
  {
   "cell_type": "code",
   "execution_count": 92,
   "id": "2bd70d23-5a0d-47f7-b150-e7da997034a5",
   "metadata": {},
   "outputs": [],
   "source": [
    "reduce_obj = reduce(lambda x,y: x+y, my_list)"
   ]
  },
  {
   "cell_type": "code",
   "execution_count": 93,
   "id": "110f37a4-f1cd-4b3b-8ba2-5807d7e8bb08",
   "metadata": {},
   "outputs": [
    {
     "data": {
      "text/plain": [
       "26"
      ]
     },
     "execution_count": 93,
     "metadata": {},
     "output_type": "execute_result"
    }
   ],
   "source": [
    "reduce_obj"
   ]
  },
  {
   "cell_type": "code",
   "execution_count": null,
   "id": "34483225-7b34-4180-b944-a9ae35dd74fe",
   "metadata": {},
   "outputs": [],
   "source": []
  },
  {
   "cell_type": "markdown",
   "id": "1e068f11-d763-4137-ae41-62fca44ad629",
   "metadata": {},
   "source": [
    "**filter()**"
   ]
  },
  {
   "cell_type": "markdown",
   "id": "786be3f8-3336-43c9-8447-4001e9a91513",
   "metadata": {},
   "source": [
    "syntax:\n",
    "\n",
    "filter(function, iterable)"
   ]
  },
  {
   "cell_type": "code",
   "execution_count": 95,
   "id": "650a189d-4cdf-4f52-aa6f-9c56c6ecd5d8",
   "metadata": {},
   "outputs": [],
   "source": [
    "filter_obj = filter(lambda x:x%2==0, range(1,20))"
   ]
  },
  {
   "cell_type": "code",
   "execution_count": 96,
   "id": "2eaa2666-c5e6-4ed7-a176-9984d577c03b",
   "metadata": {},
   "outputs": [
    {
     "data": {
      "text/plain": [
       "[2, 4, 6, 8, 10, 12, 14, 16, 18]"
      ]
     },
     "execution_count": 96,
     "metadata": {},
     "output_type": "execute_result"
    }
   ],
   "source": [
    "list(filter_obj)"
   ]
  },
  {
   "cell_type": "code",
   "execution_count": 103,
   "id": "22a7d6cd-e9e2-4a11-8783-f77726fabed6",
   "metadata": {},
   "outputs": [],
   "source": [
    "my_list = [\"\",\"egg\",\"\",\"milk\" ]\n",
    "filter_obj = filter(lambda x : x !=\" \", my_list)\n"
   ]
  },
  {
   "cell_type": "code",
   "execution_count": 104,
   "id": "6cbdfdf3-5d78-4d8e-91e7-0062d1100ec8",
   "metadata": {},
   "outputs": [
    {
     "data": {
      "text/plain": [
       "['', 'egg', '', 'milk']"
      ]
     },
     "execution_count": 104,
     "metadata": {},
     "output_type": "execute_result"
    }
   ],
   "source": [
    "list(filter_obj)"
   ]
  },
  {
   "cell_type": "code",
   "execution_count": 105,
   "id": "84c3cd7d-4a23-4775-b282-1c88b41d9837",
   "metadata": {},
   "outputs": [
    {
     "data": {
      "text/plain": [
       "['egg', 'milk']"
      ]
     },
     "execution_count": 105,
     "metadata": {},
     "output_type": "execute_result"
    }
   ],
   "source": [
    "filter_obj = filter(lambda x : len(x) >0, my_list)\n",
    "list(filter_obj)"
   ]
  },
  {
   "cell_type": "code",
   "execution_count": null,
   "id": "09b8bb5b-04ca-4a9c-92cd-7642c60a1adb",
   "metadata": {},
   "outputs": [],
   "source": []
  },
  {
   "cell_type": "code",
   "execution_count": null,
   "id": "a71a305f-5521-4eff-b235-3a92dc9c3765",
   "metadata": {},
   "outputs": [],
   "source": []
  }
 ],
 "metadata": {
  "kernelspec": {
   "display_name": "Python 3 (ipykernel)",
   "language": "python",
   "name": "python3"
  },
  "language_info": {
   "codemirror_mode": {
    "name": "ipython",
    "version": 3
   },
   "file_extension": ".py",
   "mimetype": "text/x-python",
   "name": "python",
   "nbconvert_exporter": "python",
   "pygments_lexer": "ipython3",
   "version": "3.13.0"
  }
 },
 "nbformat": 4,
 "nbformat_minor": 5
}
