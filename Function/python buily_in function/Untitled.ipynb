{
 "cells": [
  {
   "cell_type": "code",
   "execution_count": null,
   "id": "d6900a42-54e9-477e-ab5b-6d9aee75f9de",
   "metadata": {},
   "outputs": [],
   "source": []
  }
 ],
 "metadata": {
  "kernelspec": {
   "display_name": "",
   "name": ""
  },
  "language_info": {
   "name": ""
  }
 },
 "nbformat": 4,
 "nbformat_minor": 5
}
