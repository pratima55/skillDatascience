{
 "cells": [
  {
   "cell_type": "markdown",
   "id": "fd38a0eb-23cc-4e1a-94c4-12e05b97d877",
   "metadata": {},
   "source": [
    "## Recursive function"
   ]
  },
  {
   "cell_type": "markdown",
   "id": "a9bbe247-c120-4351-863e-ca3e8f3fa208",
   "metadata": {},
   "source": [
    "Question : fibonacci series "
   ]
  },
  {
   "cell_type": "code",
   "execution_count": 2,
   "id": "750ec2d3-704c-4c33-93dc-702db7f270f8",
   "metadata": {},
   "outputs": [],
   "source": [
    "def fib(n):\n",
    "    #Base case\n",
    "    if n == 0:\n",
    "        return 0\n",
    "    elif n ==1 :\n",
    "        return 1\n",
    "    else:\n",
    "        #recursive case\n",
    "        return fib(n-1) + fib (n-2)\n",
    "        "
   ]
  },
  {
   "cell_type": "code",
   "execution_count": 6,
   "id": "421d5a30-266c-4c71-aa93-f6456139e263",
   "metadata": {},
   "outputs": [
    {
     "data": {
      "text/plain": [
       "8"
      ]
     },
     "execution_count": 6,
     "metadata": {},
     "output_type": "execute_result"
    }
   ],
   "source": [
    "fib(6)\n",
    "\n"
   ]
  },
  {
   "cell_type": "code",
   "execution_count": 7,
   "id": "3a19b8e0-81f1-4e4d-a312-d372825709fc",
   "metadata": {},
   "outputs": [
    {
     "name": "stdout",
     "output_type": "stream",
     "text": [
      "[0, 1, 1, 2, 3, 5, 8, 13, 21, 34]\n"
     ]
    }
   ],
   "source": [
    "def fibonacci_tab(n):\n",
    "    if n <= 1:\n",
    "        return n\n",
    "    fib = [0, 1]\n",
    "    for i in range(2, n + 1):\n",
    "        fib.append(fib[i - 1] + fib[i - 2])\n",
    "    return fib[n]\n",
    "\n",
    "# Example\n",
    "print([fibonacci_tab(i) for i in range(10)])\n"
   ]
  },
  {
   "cell_type": "markdown",
   "id": "7398d2cc-0956-47f3-8218-0f1d004b494c",
   "metadata": {},
   "source": [
    "## 1. Using Memoization (Top-Down Dynamic Programming)\n",
    "This method stores previously computed values to avoid redundant calculations."
   ]
  },
  {
   "cell_type": "code",
   "execution_count": 8,
   "id": "d67ad031-8632-4b5a-8454-fe4fa59b2653",
   "metadata": {},
   "outputs": [
    {
     "name": "stdout",
     "output_type": "stream",
     "text": [
      "[0, 1, 1, 2, 3, 5, 8, 13, 21, 34]\n"
     ]
    }
   ],
   "source": [
    "def fibonacci_memo(n, memo={}):\n",
    "    if n in memo:\n",
    "        return memo[n]\n",
    "    if n <= 1:\n",
    "        return n\n",
    "    memo[n] = fibonacci_memo(n - 1, memo) + fibonacci_memo(n - 2, memo)\n",
    "    return memo[n]\n",
    "\n",
    "# Example\n",
    "print([fibonacci_memo(i) for i in range(10)])  # First 10 Fibonacci numbers\n"
   ]
  },
  {
   "cell_type": "code",
   "execution_count": 10,
   "id": "11e870d4-a481-4d60-a508-3f63003e03ef",
   "metadata": {},
   "outputs": [],
   "source": [
    "cache = {0:0, 1:1}\n",
    "def fib(n):\n",
    "    if n in cache :\n",
    "        return cache[n]\n",
    "    else:\n",
    "        #recursive case\n",
    "        cache[n] = fib(n-1) + fib(n-2)\n",
    "        return cache[n]"
   ]
  },
  {
   "cell_type": "code",
   "execution_count": 17,
   "id": "e936f00a-0477-419e-b0d5-f5ba0279c1b5",
   "metadata": {},
   "outputs": [
    {
     "name": "stdout",
     "output_type": "stream",
     "text": [
      "[0, 1, 1, 2, 3, 5, 8, 13, 21, 34, 55, 89, 144, 233, 377, 610, 987, 1597, 2584, 4181, 6765, 10946, 17711, 28657, 46368, 75025, 121393, 196418, 317811, 514229, 832040, 1346269, 2178309, 3524578, 5702887, 9227465, 14930352, 24157817, 39088169, 63245986]\n",
      "CPU times: total: 0 ns\n",
      "Wall time: 134 μs\n"
     ]
    }
   ],
   "source": [
    "%%time\n",
    "fib(40)\n",
    "print([fib(n) for n in range(40)])"
   ]
  },
  {
   "cell_type": "code",
   "execution_count": null,
   "id": "3ed52416-5040-4622-ac21-8d26d5d2c601",
   "metadata": {},
   "outputs": [],
   "source": []
  }
 ],
 "metadata": {
  "kernelspec": {
   "display_name": "Python 3 (ipykernel)",
   "language": "python",
   "name": "python3"
  },
  "language_info": {
   "codemirror_mode": {
    "name": "ipython",
    "version": 3
   },
   "file_extension": ".py",
   "mimetype": "text/x-python",
   "name": "python",
   "nbconvert_exporter": "python",
   "pygments_lexer": "ipython3",
   "version": "3.13.0"
  }
 },
 "nbformat": 4,
 "nbformat_minor": 5
}
