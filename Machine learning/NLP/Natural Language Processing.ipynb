{
 "cells": [
  {
   "cell_type": "code",
   "execution_count": 1,
   "id": "d97470ac-fd16-4f0a-9207-76d942c3ea3c",
   "metadata": {},
   "outputs": [
    {
     "name": "stdout",
     "output_type": "stream",
     "text": [
      "Requirement already satisfied: nltk in e:\\pythonds\\dsenv\\lib\\site-packages (3.9.1)\n",
      "Requirement already satisfied: click in e:\\pythonds\\dsenv\\lib\\site-packages (from nltk) (8.1.8)\n",
      "Requirement already satisfied: joblib in e:\\pythonds\\dsenv\\lib\\site-packages (from nltk) (1.4.2)\n",
      "Requirement already satisfied: regex>=2021.8.3 in e:\\pythonds\\dsenv\\lib\\site-packages (from nltk) (2024.11.6)\n",
      "Requirement already satisfied: tqdm in e:\\pythonds\\dsenv\\lib\\site-packages (from nltk) (4.67.1)\n",
      "Requirement already satisfied: colorama in e:\\pythonds\\dsenv\\lib\\site-packages (from click->nltk) (0.4.6)\n"
     ]
    },
    {
     "name": "stderr",
     "output_type": "stream",
     "text": [
      "\n",
      "[notice] A new release of pip is available: 24.0 -> 25.0.1\n",
      "[notice] To update, run: python.exe -m pip install --upgrade pip\n"
     ]
    }
   ],
   "source": [
    "!pip install nltk"
   ]
  },
  {
   "cell_type": "markdown",
   "id": "39dcf04d-6326-4460-aab8-3819461bbbf4",
   "metadata": {},
   "source": [
    "# Text Preprocessing"
   ]
  },
  {
   "cell_type": "code",
   "execution_count": null,
   "id": "3a6de4dd-4c5f-49fe-8684-3a8e0dc66f52",
   "metadata": {},
   "outputs": [],
   "source": []
  },
  {
   "cell_type": "markdown",
   "id": "c6b93900-e1f2-48d6-84f9-f3547867abde",
   "metadata": {},
   "source": [
    "## Lowercasing"
   ]
  },
  {
   "cell_type": "code",
   "execution_count": null,
   "id": "58da17e3-8ff6-4f08-a571-e2fb4968eb6e",
   "metadata": {},
   "outputs": [],
   "source": []
  },
  {
   "cell_type": "code",
   "execution_count": 2,
   "id": "183f4662-01a2-4c5c-9bb6-fcab913bbbed",
   "metadata": {},
   "outputs": [],
   "source": [
    "sent = \"Hello, i am AI sathi R@3#\""
   ]
  },
  {
   "cell_type": "code",
   "execution_count": 3,
   "id": "1398fc31-7d1c-45c7-bc93-871c2af28bc8",
   "metadata": {},
   "outputs": [
    {
     "data": {
      "text/plain": [
       "'hello, i am ai sathi r@3#'"
      ]
     },
     "execution_count": 3,
     "metadata": {},
     "output_type": "execute_result"
    }
   ],
   "source": [
    "lower_sent = sent.lower()\n",
    "lower_sent"
   ]
  },
  {
   "cell_type": "markdown",
   "id": "59f2254c-3689-4154-ad80-23bf3484c25c",
   "metadata": {},
   "source": [
    "## Removal of punctuation and specical character"
   ]
  },
  {
   "cell_type": "code",
   "execution_count": 4,
   "id": "d5127095-c921-4e6e-93d3-b85e960cb5e1",
   "metadata": {},
   "outputs": [],
   "source": [
    "common_punctuation = ['.', ',', ':',';','!', '?', '(',')', '\"','\"\"']"
   ]
  },
  {
   "cell_type": "code",
   "execution_count": 5,
   "id": "199c571a-ac7c-40d0-96d3-31efe4830089",
   "metadata": {},
   "outputs": [
    {
     "data": {
      "text/plain": [
       "' hello i am ai sathi r@3#'"
      ]
     },
     "execution_count": 5,
     "metadata": {},
     "output_type": "execute_result"
    }
   ],
   "source": [
    "result = \" \"\n",
    "for each in lower_sent:\n",
    "    if each not in common_punctuation:\n",
    "        result += each\n",
    "result        "
   ]
  },
  {
   "cell_type": "code",
   "execution_count": 6,
   "id": "b6ed1047-2cb2-43e4-8937-d1d64a29582d",
   "metadata": {},
   "outputs": [
    {
     "data": {
      "text/plain": [
       "'hello i am ai sathi r3'"
      ]
     },
     "execution_count": 6,
     "metadata": {},
     "output_type": "execute_result"
    }
   ],
   "source": [
    "import re\n",
    "cleaned = re.sub(r'[^\\w\\s]','', lower_sent)\n",
    "cleaned"
   ]
  },
  {
   "cell_type": "code",
   "execution_count": null,
   "id": "608a243c-eca9-49f2-ab46-4f49135a0b57",
   "metadata": {},
   "outputs": [],
   "source": []
  },
  {
   "cell_type": "code",
   "execution_count": null,
   "id": "2b3d11d9-be5f-46c5-949e-09effae3c44c",
   "metadata": {},
   "outputs": [],
   "source": []
  },
  {
   "cell_type": "markdown",
   "id": "3a862148-2714-467a-a5a5-785c5be5eeb9",
   "metadata": {},
   "source": [
    "## Stop Word removal"
   ]
  },
  {
   "cell_type": "code",
   "execution_count": null,
   "id": "f2dfa70b-e608-41e4-bc91-687fbc845ee9",
   "metadata": {},
   "outputs": [],
   "source": []
  },
  {
   "cell_type": "code",
   "execution_count": 7,
   "id": "6f1821be-b3e6-443e-adec-ec02689de888",
   "metadata": {},
   "outputs": [
    {
     "name": "stderr",
     "output_type": "stream",
     "text": [
      "[nltk_data] Downloading package stopwords to\n",
      "[nltk_data]     C:\\Users\\prate\\AppData\\Roaming\\nltk_data...\n",
      "[nltk_data]   Package stopwords is already up-to-date!\n"
     ]
    },
    {
     "data": {
      "text/plain": [
       "True"
      ]
     },
     "execution_count": 7,
     "metadata": {},
     "output_type": "execute_result"
    }
   ],
   "source": [
    "import nltk\n",
    "nltk.download(\"stopwords\")"
   ]
  },
  {
   "cell_type": "code",
   "execution_count": 8,
   "id": "9881c199-422b-4ff6-9acc-200b9152681f",
   "metadata": {},
   "outputs": [],
   "source": [
    "from nltk.corpus import stopwords"
   ]
  },
  {
   "cell_type": "code",
   "execution_count": 9,
   "id": "638a80df-5b62-4134-b98c-5a1b2f7091e3",
   "metadata": {},
   "outputs": [],
   "source": [
    "stopwords_eng = stopwords.words(\"english\")"
   ]
  },
  {
   "cell_type": "code",
   "execution_count": 10,
   "id": "18f50daf-f09d-4e57-a10d-db51217a08a0",
   "metadata": {
    "scrolled": true
   },
   "outputs": [
    {
     "data": {
      "text/plain": [
       "['a',\n",
       " 'about',\n",
       " 'above',\n",
       " 'after',\n",
       " 'again',\n",
       " 'against',\n",
       " 'ain',\n",
       " 'all',\n",
       " 'am',\n",
       " 'an',\n",
       " 'and',\n",
       " 'any',\n",
       " 'are',\n",
       " 'aren',\n",
       " \"aren't\",\n",
       " 'as',\n",
       " 'at',\n",
       " 'be',\n",
       " 'because',\n",
       " 'been',\n",
       " 'before',\n",
       " 'being',\n",
       " 'below',\n",
       " 'between',\n",
       " 'both',\n",
       " 'but',\n",
       " 'by',\n",
       " 'can',\n",
       " 'couldn',\n",
       " \"couldn't\",\n",
       " 'd',\n",
       " 'did',\n",
       " 'didn',\n",
       " \"didn't\",\n",
       " 'do',\n",
       " 'does',\n",
       " 'doesn',\n",
       " \"doesn't\",\n",
       " 'doing',\n",
       " 'don',\n",
       " \"don't\",\n",
       " 'down',\n",
       " 'during',\n",
       " 'each',\n",
       " 'few',\n",
       " 'for',\n",
       " 'from',\n",
       " 'further',\n",
       " 'had',\n",
       " 'hadn',\n",
       " \"hadn't\",\n",
       " 'has',\n",
       " 'hasn',\n",
       " \"hasn't\",\n",
       " 'have',\n",
       " 'haven',\n",
       " \"haven't\",\n",
       " 'having',\n",
       " 'he',\n",
       " \"he'd\",\n",
       " \"he'll\",\n",
       " 'her',\n",
       " 'here',\n",
       " 'hers',\n",
       " 'herself',\n",
       " \"he's\",\n",
       " 'him',\n",
       " 'himself',\n",
       " 'his',\n",
       " 'how',\n",
       " 'i',\n",
       " \"i'd\",\n",
       " 'if',\n",
       " \"i'll\",\n",
       " \"i'm\",\n",
       " 'in',\n",
       " 'into',\n",
       " 'is',\n",
       " 'isn',\n",
       " \"isn't\",\n",
       " 'it',\n",
       " \"it'd\",\n",
       " \"it'll\",\n",
       " \"it's\",\n",
       " 'its',\n",
       " 'itself',\n",
       " \"i've\",\n",
       " 'just',\n",
       " 'll',\n",
       " 'm',\n",
       " 'ma',\n",
       " 'me',\n",
       " 'mightn',\n",
       " \"mightn't\",\n",
       " 'more',\n",
       " 'most',\n",
       " 'mustn',\n",
       " \"mustn't\",\n",
       " 'my',\n",
       " 'myself',\n",
       " 'needn',\n",
       " \"needn't\",\n",
       " 'no',\n",
       " 'nor',\n",
       " 'not',\n",
       " 'now',\n",
       " 'o',\n",
       " 'of',\n",
       " 'off',\n",
       " 'on',\n",
       " 'once',\n",
       " 'only',\n",
       " 'or',\n",
       " 'other',\n",
       " 'our',\n",
       " 'ours',\n",
       " 'ourselves',\n",
       " 'out',\n",
       " 'over',\n",
       " 'own',\n",
       " 're',\n",
       " 's',\n",
       " 'same',\n",
       " 'shan',\n",
       " \"shan't\",\n",
       " 'she',\n",
       " \"she'd\",\n",
       " \"she'll\",\n",
       " \"she's\",\n",
       " 'should',\n",
       " 'shouldn',\n",
       " \"shouldn't\",\n",
       " \"should've\",\n",
       " 'so',\n",
       " 'some',\n",
       " 'such',\n",
       " 't',\n",
       " 'than',\n",
       " 'that',\n",
       " \"that'll\",\n",
       " 'the',\n",
       " 'their',\n",
       " 'theirs',\n",
       " 'them',\n",
       " 'themselves',\n",
       " 'then',\n",
       " 'there',\n",
       " 'these',\n",
       " 'they',\n",
       " \"they'd\",\n",
       " \"they'll\",\n",
       " \"they're\",\n",
       " \"they've\",\n",
       " 'this',\n",
       " 'those',\n",
       " 'through',\n",
       " 'to',\n",
       " 'too',\n",
       " 'under',\n",
       " 'until',\n",
       " 'up',\n",
       " 've',\n",
       " 'very',\n",
       " 'was',\n",
       " 'wasn',\n",
       " \"wasn't\",\n",
       " 'we',\n",
       " \"we'd\",\n",
       " \"we'll\",\n",
       " \"we're\",\n",
       " 'were',\n",
       " 'weren',\n",
       " \"weren't\",\n",
       " \"we've\",\n",
       " 'what',\n",
       " 'when',\n",
       " 'where',\n",
       " 'which',\n",
       " 'while',\n",
       " 'who',\n",
       " 'whom',\n",
       " 'why',\n",
       " 'will',\n",
       " 'with',\n",
       " 'won',\n",
       " \"won't\",\n",
       " 'wouldn',\n",
       " \"wouldn't\",\n",
       " 'y',\n",
       " 'you',\n",
       " \"you'd\",\n",
       " \"you'll\",\n",
       " 'your',\n",
       " \"you're\",\n",
       " 'yours',\n",
       " 'yourself',\n",
       " 'yourselves',\n",
       " \"you've\"]"
      ]
     },
     "execution_count": 10,
     "metadata": {},
     "output_type": "execute_result"
    }
   ],
   "source": [
    "stopwords_eng"
   ]
  },
  {
   "cell_type": "code",
   "execution_count": 11,
   "id": "65c456a6-88c4-4a24-96d3-280e83756c8e",
   "metadata": {},
   "outputs": [],
   "source": [
    "filtered = [word for word in cleaned.split(\" \") if word not in stopwords_eng]"
   ]
  },
  {
   "cell_type": "code",
   "execution_count": 12,
   "id": "6558a33f-90cf-4316-ba83-9c6ee36695c4",
   "metadata": {},
   "outputs": [],
   "source": [
    "filtered = \" \".join(filtered)"
   ]
  },
  {
   "cell_type": "code",
   "execution_count": null,
   "id": "1d45b379-93ff-4755-81d4-01e684cf6fee",
   "metadata": {},
   "outputs": [],
   "source": []
  },
  {
   "cell_type": "markdown",
   "id": "5bcf990f-00df-43ae-9d9f-73db78ce0529",
   "metadata": {},
   "source": [
    "## Tokenization"
   ]
  },
  {
   "cell_type": "markdown",
   "id": "2f60a780-9c19-4d81-a3a9-ba111292db22",
   "metadata": {},
   "source": [
    "### 1 Word tokenization"
   ]
  },
  {
   "cell_type": "code",
   "execution_count": 13,
   "id": "907d5f83-a0ec-46f3-a99c-3e7df1ea7dd8",
   "metadata": {},
   "outputs": [
    {
     "name": "stderr",
     "output_type": "stream",
     "text": [
      "[nltk_data] Downloading package punkt to\n",
      "[nltk_data]     C:\\Users\\prate\\AppData\\Roaming\\nltk_data...\n",
      "[nltk_data]   Package punkt is already up-to-date!\n",
      "[nltk_data] Downloading package punkt_tab to\n",
      "[nltk_data]     C:\\Users\\prate\\AppData\\Roaming\\nltk_data...\n",
      "[nltk_data]   Package punkt_tab is already up-to-date!\n"
     ]
    },
    {
     "data": {
      "text/plain": [
       "True"
      ]
     },
     "execution_count": 13,
     "metadata": {},
     "output_type": "execute_result"
    }
   ],
   "source": [
    "import nltk \n",
    "nltk.download('punkt')\n",
    "nltk.download('punkt_tab')"
   ]
  },
  {
   "cell_type": "code",
   "execution_count": 14,
   "id": "5046f587-6280-43dc-9cd3-cbea2bb6cdb2",
   "metadata": {},
   "outputs": [
    {
     "data": {
      "text/plain": [
       "['hello', 'ai', 'sathi', 'r3']"
      ]
     },
     "execution_count": 14,
     "metadata": {},
     "output_type": "execute_result"
    }
   ],
   "source": [
    "tokens = nltk.word_tokenize(filtered)\n",
    "tokens"
   ]
  },
  {
   "cell_type": "code",
   "execution_count": null,
   "id": "5dbfa663-fc2d-4cb5-a3e2-713c6c667a0b",
   "metadata": {},
   "outputs": [],
   "source": []
  },
  {
   "cell_type": "markdown",
   "id": "5f5bc0db-a281-44ba-a408-a85f11d813e6",
   "metadata": {},
   "source": [
    "### 2 Stemming and Lemmatization"
   ]
  },
  {
   "cell_type": "markdown",
   "id": "8d1f25d8-5596-4e63-91cd-4cf2dc5236e2",
   "metadata": {},
   "source": [
    "#### stemming"
   ]
  },
  {
   "cell_type": "code",
   "execution_count": 15,
   "id": "4b7f2fb8-848d-4488-8d72-5813999afa43",
   "metadata": {},
   "outputs": [
    {
     "name": "stderr",
     "output_type": "stream",
     "text": [
      "[nltk_data] Downloading package wordnet to\n",
      "[nltk_data]     C:\\Users\\prate\\AppData\\Roaming\\nltk_data...\n",
      "[nltk_data]   Package wordnet is already up-to-date!\n"
     ]
    },
    {
     "data": {
      "text/plain": [
       "True"
      ]
     },
     "execution_count": 15,
     "metadata": {},
     "output_type": "execute_result"
    }
   ],
   "source": [
    "nltk.download('wordnet')"
   ]
  },
  {
   "cell_type": "code",
   "execution_count": 16,
   "id": "9b81dc06-26c3-4e94-a2dc-315f4e14b140",
   "metadata": {},
   "outputs": [],
   "source": [
    "from nltk import LancasterStemmer, PorterStemmer, SnowballStemmer "
   ]
  },
  {
   "cell_type": "code",
   "execution_count": 17,
   "id": "08e3022e-15c3-494c-ab94-f8f08bd008b4",
   "metadata": {},
   "outputs": [
    {
     "data": {
      "text/plain": [
       "'lem'"
      ]
     },
     "execution_count": 17,
     "metadata": {},
     "output_type": "execute_result"
    }
   ],
   "source": [
    "\n",
    "stemmer = LancasterStemmer()\n",
    "stemmer.stem(\"lemmatization\")"
   ]
  },
  {
   "cell_type": "markdown",
   "id": "eb1ffcce-6aa6-4138-b8db-7a834431e872",
   "metadata": {},
   "source": [
    "#### Lemmatization"
   ]
  },
  {
   "cell_type": "code",
   "execution_count": 18,
   "id": "42b5d3e3-951c-4227-b03f-660dd63b833c",
   "metadata": {},
   "outputs": [],
   "source": [
    "from nltk.stem import WordNetLemmatizer"
   ]
  },
  {
   "cell_type": "code",
   "execution_count": 19,
   "id": "ac163859-f855-419c-aaa9-b1824d32434b",
   "metadata": {},
   "outputs": [
    {
     "data": {
      "text/plain": [
       "'tasty'"
      ]
     },
     "execution_count": 19,
     "metadata": {},
     "output_type": "execute_result"
    }
   ],
   "source": [
    "lemmatizer = WordNetLemmatizer()\n",
    "lemmatizer.lemmatize('tasty')"
   ]
  },
  {
   "cell_type": "code",
   "execution_count": null,
   "id": "b4a16318-de2a-4c6f-bdfe-ab016a513896",
   "metadata": {},
   "outputs": [],
   "source": []
  },
  {
   "cell_type": "markdown",
   "id": "1277ad5f-fcca-463b-b94a-a0b717b4d1df",
   "metadata": {},
   "source": [
    "### 3 Word Embeddings"
   ]
  },
  {
   "cell_type": "code",
   "execution_count": null,
   "id": "0953d691-00fc-4f4c-9964-0b6134989cff",
   "metadata": {},
   "outputs": [],
   "source": []
  },
  {
   "cell_type": "code",
   "execution_count": null,
   "id": "24b32906-9bb3-4c65-ba74-7c01b946aaab",
   "metadata": {},
   "outputs": [],
   "source": []
  },
  {
   "cell_type": "markdown",
   "id": "8e9c5d37-68a6-4921-bd4f-41e68e2310ba",
   "metadata": {},
   "source": [
    "### Bag of Word (BoW)"
   ]
  },
  {
   "cell_type": "code",
   "execution_count": 20,
   "id": "7297d183-bedf-4e08-b1c7-c6f7e5b60f06",
   "metadata": {},
   "outputs": [],
   "source": [
    "from sklearn.feature_extraction.text import CountVectorizer"
   ]
  },
  {
   "cell_type": "code",
   "execution_count": 21,
   "id": "b0466164-1882-4559-8222-58e847140301",
   "metadata": {},
   "outputs": [],
   "source": [
    "corpus = [\n",
    "    \"This product is good and is affordable.\",\n",
    "    \"This product is not good and affordable.\",\n",
    "    \"This product is good and cheap.\"\n",
    "]\n",
    "vectorizer = CountVectorizer()\n",
    "matrix = vectorizer.fit_transform(corpus)"
   ]
  },
  {
   "cell_type": "code",
   "execution_count": 22,
   "id": "0cb7a507-a7ad-44ac-a588-bc302eafd422",
   "metadata": {},
   "outputs": [
    {
     "data": {
      "text/plain": [
       "array([[1, 1, 0, 1, 2, 0, 1, 1],\n",
       "       [1, 1, 0, 1, 1, 1, 1, 1],\n",
       "       [0, 1, 1, 1, 1, 0, 1, 1]], dtype=int64)"
      ]
     },
     "execution_count": 22,
     "metadata": {},
     "output_type": "execute_result"
    }
   ],
   "source": [
    "matrix.toarray()"
   ]
  },
  {
   "cell_type": "code",
   "execution_count": null,
   "id": "ffbb5e33-4308-4c46-9f91-256cca018e50",
   "metadata": {},
   "outputs": [],
   "source": []
  },
  {
   "cell_type": "markdown",
   "id": "f6425641-2783-4783-a320-37d3e2d767ba",
   "metadata": {},
   "source": [
    "### TF-IDF"
   ]
  },
  {
   "cell_type": "code",
   "execution_count": 23,
   "id": "f2b1518b-2fb1-4b80-b5c4-66f8e7400e3d",
   "metadata": {},
   "outputs": [],
   "source": [
    "from sklearn.feature_extraction.text import TfidfVectorizer"
   ]
  },
  {
   "cell_type": "code",
   "execution_count": 24,
   "id": "1fc13e6b-ebc9-4db7-a12c-9bb5edfe199d",
   "metadata": {},
   "outputs": [],
   "source": [
    "corpus = [\n",
    "    \"This product is good and is affordable.\",\n",
    "    \"This product is not good and affordable.\",\n",
    "    \"This product is good and cheap.\"\n",
    "]\n",
    "vectorizer = TfidfVectorizer()\n",
    "matrix = vectorizer.fit_transform(corpus)"
   ]
  },
  {
   "cell_type": "code",
   "execution_count": 25,
   "id": "eb987bd8-cdce-45fb-accb-735c97709d9b",
   "metadata": {},
   "outputs": [
    {
     "data": {
      "text/plain": [
       "array([[0.41434513, 0.32177595, 0.        , 0.32177595, 0.64355191,\n",
       "        0.        , 0.32177595, 0.32177595],\n",
       "       [0.4172334 , 0.32401895, 0.        , 0.32401895, 0.32401895,\n",
       "        0.54861178, 0.32401895, 0.32401895],\n",
       "       [0.        , 0.35653519, 0.60366655, 0.35653519, 0.35653519,\n",
       "        0.        , 0.35653519, 0.35653519]])"
      ]
     },
     "execution_count": 25,
     "metadata": {},
     "output_type": "execute_result"
    }
   ],
   "source": [
    "matrix.toarray()"
   ]
  },
  {
   "cell_type": "code",
   "execution_count": null,
   "id": "e8f2e569-3423-4909-871b-bd28fe8923fa",
   "metadata": {},
   "outputs": [],
   "source": []
  },
  {
   "cell_type": "markdown",
   "id": "c1d401a7-be83-4f45-a84f-9ea4190ef018",
   "metadata": {},
   "source": [
    "### Word2Vec"
   ]
  },
  {
   "cell_type": "code",
   "execution_count": 26,
   "id": "c9313376-291b-4ed4-bc97-9e96102e4092",
   "metadata": {},
   "outputs": [],
   "source": [
    "from gensim.models import Word2Vec"
   ]
  },
  {
   "cell_type": "code",
   "execution_count": 27,
   "id": "ceb646f7-e399-42ab-842b-fa5ea50b2ac5",
   "metadata": {},
   "outputs": [],
   "source": [
    "corpus = [\n",
    "    \"I love cats\",\n",
    "    \"I adore felines\",\n",
    "    \"Dogs are loyal\",\n",
    "    \"Cats and dogs are pets\",\n",
    "    \"The sun is shining\"\n",
    "]\n",
    "\n",
    "tokenized = [sent.lower().split() for sent in corpus]"
   ]
  },
  {
   "cell_type": "code",
   "execution_count": 28,
   "id": "e8236a81-c999-45ca-9739-2bd8485ca8c2",
   "metadata": {},
   "outputs": [
    {
     "data": {
      "text/plain": [
       "[['i', 'love', 'cats'],\n",
       " ['i', 'adore', 'felines'],\n",
       " ['dogs', 'are', 'loyal'],\n",
       " ['cats', 'and', 'dogs', 'are', 'pets'],\n",
       " ['the', 'sun', 'is', 'shining']]"
      ]
     },
     "execution_count": 28,
     "metadata": {},
     "output_type": "execute_result"
    }
   ],
   "source": [
    "tokenized"
   ]
  },
  {
   "cell_type": "code",
   "execution_count": 29,
   "id": "fb9c83d7-3dae-4acc-a65d-7259bda4c37b",
   "metadata": {},
   "outputs": [],
   "source": [
    "cbow_model = Word2Vec(sentences=tokenized, vector_size=100, sg = 0, min_count=1)\n",
    "sg_model = Word2Vec(sentences=tokenized, vector_size=100, sg = 1, min_count=1)\n"
   ]
  },
  {
   "cell_type": "code",
   "execution_count": 30,
   "id": "41f7a9cc-e716-49f3-a2bb-1f8b3012537d",
   "metadata": {},
   "outputs": [
    {
     "data": {
      "text/plain": [
       "[('shining', 0.25290459394454956),\n",
       " ('dogs', 0.13725271821022034),\n",
       " ('is', 0.04410674050450325),\n",
       " ('sun', 0.01273240614682436),\n",
       " ('i', 0.006598459556698799),\n",
       " ('loyal', -0.0011978191323578358),\n",
       " ('the', -0.025461023673415184),\n",
       " ('are', -0.04125342145562172),\n",
       " ('adore', -0.07639002799987793),\n",
       " ('and', -0.10619832575321198)]"
      ]
     },
     "execution_count": 30,
     "metadata": {},
     "output_type": "execute_result"
    }
   ],
   "source": [
    "cbow_model.wv.most_similar(['love'])"
   ]
  },
  {
   "cell_type": "code",
   "execution_count": 31,
   "id": "abaca61e-1b2b-475d-8679-202dc28b0be6",
   "metadata": {},
   "outputs": [
    {
     "data": {
      "text/plain": [
       "[('shining', 0.25290459394454956),\n",
       " ('dogs', 0.13725271821022034),\n",
       " ('is', 0.04410674050450325),\n",
       " ('sun', 0.012810827232897282),\n",
       " ('i', 0.006598459556698799),\n",
       " ('loyal', -0.0011978191323578358),\n",
       " ('the', -0.025461023673415184),\n",
       " ('are', -0.04125342145562172),\n",
       " ('adore', -0.07639002799987793),\n",
       " ('and', -0.10619832575321198)]"
      ]
     },
     "execution_count": 31,
     "metadata": {},
     "output_type": "execute_result"
    }
   ],
   "source": [
    "sg_model.wv.most_similar(['love'])"
   ]
  },
  {
   "cell_type": "code",
   "execution_count": null,
   "id": "947522e8-bedb-43fb-ad26-4cf753dcded4",
   "metadata": {},
   "outputs": [],
   "source": []
  },
  {
   "cell_type": "markdown",
   "id": "fe4423f4-15ed-4f1f-8d98-78c9bda35ebb",
   "metadata": {},
   "source": [
    "### BERT (Bidirectional Encoder Representation  from Tranformers)"
   ]
  },
  {
   "cell_type": "code",
   "execution_count": 1,
   "id": "1a69d377-7d0b-4b3b-8997-9978959b9980",
   "metadata": {},
   "outputs": [],
   "source": [
    "from transformers import BertTokenizer, BertModel"
   ]
  },
  {
   "cell_type": "code",
   "execution_count": 2,
   "id": "aa482cba-0b11-4fb6-8560-1af14df62624",
   "metadata": {},
   "outputs": [
    {
     "data": {
      "application/vnd.jupyter.widget-view+json": {
       "model_id": "2f62bbfa6994481a9aaf6e3081c05752",
       "version_major": 2,
       "version_minor": 0
      },
      "text/plain": [
       "tokenizer_config.json:   0%|          | 0.00/48.0 [00:00<?, ?B/s]"
      ]
     },
     "metadata": {},
     "output_type": "display_data"
    },
    {
     "name": "stderr",
     "output_type": "stream",
     "text": [
      "E:\\pythonds\\dsenv\\Lib\\site-packages\\huggingface_hub\\file_download.py:142: UserWarning: `huggingface_hub` cache-system uses symlinks by default to efficiently store duplicated files but your machine does not support them in C:\\Users\\prate\\.cache\\huggingface\\hub\\models--bert-base-uncased. Caching files will still work but in a degraded version that might require more space on your disk. This warning can be disabled by setting the `HF_HUB_DISABLE_SYMLINKS_WARNING` environment variable. For more details, see https://huggingface.co/docs/huggingface_hub/how-to-cache#limitations.\n",
      "To support symlinks on Windows, you either need to activate Developer Mode or to run Python as an administrator. In order to activate developer mode, see this article: https://docs.microsoft.com/en-us/windows/apps/get-started/enable-your-device-for-development\n",
      "  warnings.warn(message)\n"
     ]
    },
    {
     "data": {
      "application/vnd.jupyter.widget-view+json": {
       "model_id": "cc51059b20fb436883ef1c2653451943",
       "version_major": 2,
       "version_minor": 0
      },
      "text/plain": [
       "vocab.txt:   0%|          | 0.00/232k [00:00<?, ?B/s]"
      ]
     },
     "metadata": {},
     "output_type": "display_data"
    },
    {
     "data": {
      "application/vnd.jupyter.widget-view+json": {
       "model_id": "c47e3fb10c5342c0b9cf285ddf81cd47",
       "version_major": 2,
       "version_minor": 0
      },
      "text/plain": [
       "tokenizer.json:   0%|          | 0.00/466k [00:00<?, ?B/s]"
      ]
     },
     "metadata": {},
     "output_type": "display_data"
    },
    {
     "data": {
      "application/vnd.jupyter.widget-view+json": {
       "model_id": "01c7ffa07a3f40f090547716722a25f5",
       "version_major": 2,
       "version_minor": 0
      },
      "text/plain": [
       "config.json:   0%|          | 0.00/570 [00:00<?, ?B/s]"
      ]
     },
     "metadata": {},
     "output_type": "display_data"
    },
    {
     "data": {
      "application/vnd.jupyter.widget-view+json": {
       "model_id": "4e84d2dce9bc41e7a6e075118fa80fbe",
       "version_major": 2,
       "version_minor": 0
      },
      "text/plain": [
       "model.safetensors:   0%|          | 0.00/440M [00:00<?, ?B/s]"
      ]
     },
     "metadata": {},
     "output_type": "display_data"
    }
   ],
   "source": [
    "tokenizer = BertTokenizer.from_pretrained('bert-base-uncased')\n",
    "model = BertModel.from_pretrained('bert-base-uncased')"
   ]
  },
  {
   "cell_type": "code",
   "execution_count": 4,
   "id": "1b6a41c9-2f10-445c-ab8f-2799006362cc",
   "metadata": {},
   "outputs": [],
   "source": [
    "tokens = tokenizer(text = \"The quick brown fox jumps over the lazy dog.\",return_tensors = 'pt')\n"
   ]
  },
  {
   "cell_type": "code",
   "execution_count": 5,
   "id": "078ae347-5d3e-4c76-b550-7ec2de8c1592",
   "metadata": {},
   "outputs": [
    {
     "data": {
      "text/plain": [
       "{'input_ids': tensor([[  101,  1996,  4248,  2829,  4419, 14523,  2058,  1996, 13971,  3899,\n",
       "          1012,   102]]), 'token_type_ids': tensor([[0, 0, 0, 0, 0, 0, 0, 0, 0, 0, 0, 0]]), 'attention_mask': tensor([[1, 1, 1, 1, 1, 1, 1, 1, 1, 1, 1, 1]])}"
      ]
     },
     "execution_count": 5,
     "metadata": {},
     "output_type": "execute_result"
    }
   ],
   "source": [
    "tokens"
   ]
  },
  {
   "cell_type": "code",
   "execution_count": 6,
   "id": "cbddde1a-e8c4-41a5-81ad-5ecc44a89676",
   "metadata": {},
   "outputs": [],
   "source": [
    "embeddings = model(**tokens).last_hidden_state"
   ]
  },
  {
   "cell_type": "code",
   "execution_count": 7,
   "id": "2b6320d7-aef8-4bef-902b-3d65acccb030",
   "metadata": {},
   "outputs": [
    {
     "data": {
      "text/plain": [
       "torch.Size([1, 12, 768])"
      ]
     },
     "execution_count": 7,
     "metadata": {},
     "output_type": "execute_result"
    }
   ],
   "source": [
    "embeddings.shape"
   ]
  },
  {
   "cell_type": "code",
   "execution_count": null,
   "id": "c0cb2761-54a0-4664-9150-7207f0e8c743",
   "metadata": {},
   "outputs": [],
   "source": []
  }
 ],
 "metadata": {
  "kernelspec": {
   "display_name": "Python 3 (ipykernel)",
   "language": "python",
   "name": "python3"
  },
  "language_info": {
   "codemirror_mode": {
    "name": "ipython",
    "version": 3
   },
   "file_extension": ".py",
   "mimetype": "text/x-python",
   "name": "python",
   "nbconvert_exporter": "python",
   "pygments_lexer": "ipython3",
   "version": "3.11.9"
  }
 },
 "nbformat": 4,
 "nbformat_minor": 5
}
