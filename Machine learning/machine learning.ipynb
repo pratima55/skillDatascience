{
 "cells": [
  {
   "cell_type": "markdown",
   "id": "9194a204-9a83-4f51-aeb3-d9e776a947c3",
   "metadata": {},
   "source": [
    "# Machine Learning"
   ]
  },
  {
   "cell_type": "markdown",
   "id": "dc47059a-70a7-48f5-a716-a1f48bcf1afc",
   "metadata": {},
   "source": [
    "# Machine Learning\n",
    "\n",
    "Machine learning is a branch of artificial intelligence (AI) that involves developing algorithms and statistical models that enable computers to automatically learn from data without being explicitly programmed. In machine learning, algorithms use data to identify patterns and make decisions with minimal human intervention. Machine learning is used in a wide range of applications, from self-driving cars and facial recognition technology to medical diagnosis and natural language processing."
   ]
  },
  {
   "cell_type": "markdown",
   "id": "b12c9997-da63-4ff6-bf53-c3aa88e35702",
   "metadata": {},
   "source": [
    "### Major Approaches of ML\n",
    "\n",
    "1. **Supervised learning:** This approach involves using a labeled dataset to train a model that can predict output values for new input data. It is called \"supervised\" because the training data includes the correct answers, and the goal is for the model to learn how to produce the correct output for new, unseen data."
   ]
  },
  {
   "cell_type": "markdown",
   "id": "71e4df19-aed3-4254-ad9b-7405e05b80fa",
   "metadata": {},
   "source": [
    "2. **Unsupervised learning:** This approach involves using an unlabeled dataset to train a model that can identify patterns or structure in the data. There is no \"correct answer\" to learn from, so the model is typically used for tasks like clustering, where similar data points are grouped together."
   ]
  },
  {
   "cell_type": "markdown",
   "id": "e4a51222-4ede-4f3e-aa6d-990ffb52b1c8",
   "metadata": {},
   "source": [
    "3. **Reinforcement learning:** This approach involves training a model to make decisions based on rewards or penalties received in response to its actions. The goal is for the model to learn to take actions that maximize its cumulative reward over time. This approach is often used in areas like game-playing and robotics, where an agent must learn to navigate an environment and make decisions based on feedback."
   ]
  },
  {
   "cell_type": "markdown",
   "id": "6777d841-3c56-48b5-b311-4606a545fc12",
   "metadata": {},
   "source": [
    "## Terminology\n",
    "\n",
    "1. Dataset\n",
    "2. Training and Testing Set"
   ]
  },
  {
   "cell_type": "markdown",
   "id": "f5185974-4f63-4160-ab00-2a007725280a",
   "metadata": {},
   "source": [
    "## Supervised Learning\n",
    "\n",
    "1. Regression Algo\n",
    "   * Linear Regression\n",
    "   * Neural Regression\n",
    "   * SVM\n",
    "\n",
    "2. Classification Algo\n",
    "    * Logistic Regression\n",
    "    * Naive Bayes\n",
    "    * Decision Trees\n",
    "    * Neural Classification"
   ]
  },
  {
   "cell_type": "markdown",
   "id": "c3c343c6-a211-4f14-ba0c-65ab2637cc44",
   "metadata": {},
   "source": []
  }
 ],
 "metadata": {
  "kernelspec": {
   "display_name": "Python 3 (ipykernel)",
   "language": "python",
   "name": "python3"
  },
  "language_info": {
   "codemirror_mode": {
    "name": "ipython",
    "version": 3
   },
   "file_extension": ".py",
   "mimetype": "text/x-python",
   "name": "python",
   "nbconvert_exporter": "python",
   "pygments_lexer": "ipython3",
   "version": "3.13.0"
  }
 },
 "nbformat": 4,
 "nbformat_minor": 5
}
