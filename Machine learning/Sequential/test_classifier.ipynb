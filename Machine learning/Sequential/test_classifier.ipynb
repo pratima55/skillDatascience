{
 "cells": [
  {
   "cell_type": "code",
   "execution_count": 1,
   "id": "6b9db955-b056-4b52-8833-3bac8eb86d21",
   "metadata": {},
   "outputs": [
    {
     "name": "stderr",
     "output_type": "stream",
     "text": [
      "2025-03-24 08:22:39.342788: I tensorflow/core/util/port.cc:153] oneDNN custom operations are on. You may see slightly different numerical results due to floating-point round-off errors from different computation orders. To turn them off, set the environment variable `TF_ENABLE_ONEDNN_OPTS=0`.\n",
      "2025-03-24 08:22:39.351438: E external/local_xla/xla/stream_executor/cuda/cuda_fft.cc:477] Unable to register cuFFT factory: Attempting to register factory for plugin cuFFT when one has already been registered\n",
      "WARNING: All log messages before absl::InitializeLog() is called are written to STDERR\n",
      "E0000 00:00:1742783859.361495   17089 cuda_dnn.cc:8310] Unable to register cuDNN factory: Attempting to register factory for plugin cuDNN when one has already been registered\n",
      "E0000 00:00:1742783859.364701   17089 cuda_blas.cc:1418] Unable to register cuBLAS factory: Attempting to register factory for plugin cuBLAS when one has already been registered\n",
      "2025-03-24 08:22:39.374938: I tensorflow/core/platform/cpu_feature_guard.cc:210] This TensorFlow binary is optimized to use available CPU instructions in performance-critical operations.\n",
      "To enable the following instructions: AVX2 AVX_VNNI FMA, in other operations, rebuild TensorFlow with the appropriate compiler flags.\n"
     ]
    }
   ],
   "source": [
    "import pickle\n",
    "import numpy as np\n",
    "import tensorflow as tf\n",
    "from tensorflow.keras.models import load_model\n"
   ]
  },
  {
   "cell_type": "code",
   "execution_count": 2,
   "id": "bfa3c70a-7e06-46a1-8e83-743dc87239e8",
   "metadata": {},
   "outputs": [
    {
     "name": "stderr",
     "output_type": "stream",
     "text": [
      "I0000 00:00:1742783904.845916   17089 gpu_device.cc:2022] Created device /job:localhost/replica:0/task:0/device:GPU:0 with 100 MB memory:  -> device: 0, name: NVIDIA GeForce RTX 3060 Laptop GPU, pci bus id: 0000:01:00.0, compute capability: 8.6\n",
      "2025-03-24 08:23:24.854623: I external/local_xla/xla/stream_executor/cuda/cuda_driver.cc:1193] failed to allocate 100.88MiB (105775104 bytes) from device: RESOURCE_EXHAUSTED: : CUDA_ERROR_OUT_OF_MEMORY: out of memory\n"
     ]
    }
   ],
   "source": [
    "model = load_model(\"iris_class_tf.keras\")"
   ]
  },
  {
   "cell_type": "code",
   "execution_count": 3,
   "id": "6494f2cb-641e-4dbc-900b-8fbeb96cbcce",
   "metadata": {},
   "outputs": [],
   "source": [
    "with open(\"iris_processor.pkl\", \"rb\") as file:\n",
    "    preprocessor = pickle.load(file)"
   ]
  },
  {
   "cell_type": "code",
   "execution_count": null,
   "id": "b60b3387-3015-475c-94e2-2b02079d45ee",
   "metadata": {},
   "outputs": [],
   "source": []
  },
  {
   "cell_type": "code",
   "execution_count": null,
   "id": "0b87c14b-29b9-4224-8f5d-d86def6eb92e",
   "metadata": {},
   "outputs": [],
   "source": []
  },
  {
   "cell_type": "code",
   "execution_count": 4,
   "id": "af55c2ab-5c70-4b0f-94d3-1b49b4a66e8b",
   "metadata": {},
   "outputs": [],
   "source": [
    "new_data = [[4.6,3.1, 1.6, 0.11]]"
   ]
  },
  {
   "cell_type": "code",
   "execution_count": 5,
   "id": "6f2f609c-1825-4b41-846c-6034a8138e7b",
   "metadata": {},
   "outputs": [],
   "source": [
    "scaled_data = preprocessor['scaler'].transform(new_data)"
   ]
  },
  {
   "cell_type": "code",
   "execution_count": 6,
   "id": "1e251e41-f7e3-40bb-bdf6-b2d86603b6e5",
   "metadata": {},
   "outputs": [
    {
     "name": "stdout",
     "output_type": "stream",
     "text": [
      "\u001b[1m1/1\u001b[0m \u001b[32m━━━━━━━━━━━━━━━━━━━━\u001b[0m\u001b[37m\u001b[0m \u001b[1m0s\u001b[0m 34ms/step\n"
     ]
    }
   ],
   "source": [
    "y_pred = tf.one_hot(\n",
    "    np.argmax(model.predict(scaled_data), axis =1),\n",
    "    depth = 3\n",
    ").numpy()"
   ]
  },
  {
   "cell_type": "code",
   "execution_count": 7,
   "id": "70b1d22d-798a-4188-8ab9-51c2ef868068",
   "metadata": {},
   "outputs": [
    {
     "data": {
      "text/plain": [
       "'Iris-setosa'"
      ]
     },
     "execution_count": 7,
     "metadata": {},
     "output_type": "execute_result"
    }
   ],
   "source": [
    "preprocessor['encoder'].inverse_transform(y_pred)[0][0]"
   ]
  },
  {
   "cell_type": "code",
   "execution_count": null,
   "id": "f0c3bef1-4923-49f9-9305-f0feafef173a",
   "metadata": {},
   "outputs": [],
   "source": []
  }
 ],
 "metadata": {
  "kernelspec": {
   "display_name": "Python 3 (ipykernel)",
   "language": "python",
   "name": "python3"
  },
  "language_info": {
   "codemirror_mode": {
    "name": "ipython",
    "version": 3
   },
   "file_extension": ".py",
   "mimetype": "text/x-python",
   "name": "python",
   "nbconvert_exporter": "python",
   "pygments_lexer": "ipython3",
   "version": "3.10.12"
  }
 },
 "nbformat": 4,
 "nbformat_minor": 5
}
