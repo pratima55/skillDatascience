{
 "cells": [
  {
   "cell_type": "markdown",
   "id": "db9d32f8-a76e-493d-9921-8c3ba19f8fed",
   "metadata": {},
   "source": [
    "## Python Property Decorator"
   ]
  },
  {
   "cell_type": "markdown",
   "id": "2357b506-b6b7-406c-96ac-a2f62c1729e5",
   "metadata": {},
   "source": [
    "# Getter\n",
    "\n",
    "a getter m,ethod is used to get the value of an attribute. it is called automatically when the attribute is accessed. In python, we can define a getter method using the @property decorator"
   ]
  },
  {
   "cell_type": "code",
   "execution_count": 8,
   "id": "ba27c07d-a132-4ce3-845a-55c12357bea8",
   "metadata": {},
   "outputs": [],
   "source": [
    "class Person:\n",
    "    def __init__(self,name):\n",
    "        self.__name = name\n",
    "\n",
    "    @property\n",
    "    def name(self):\n",
    "        print(\"getting name\")\n",
    "        return self.__name\n",
    "\n",
    "person = Person(\"Han solo\")\n"
   ]
  },
  {
   "cell_type": "code",
   "execution_count": 9,
   "id": "0e634d12-313e-4544-a698-76b5da8f61b2",
   "metadata": {},
   "outputs": [
    {
     "name": "stdout",
     "output_type": "stream",
     "text": [
      "getting name\n"
     ]
    },
    {
     "data": {
      "text/plain": [
       "'Han solo'"
      ]
     },
     "execution_count": 9,
     "metadata": {},
     "output_type": "execute_result"
    }
   ],
   "source": [
    "person.name"
   ]
  },
  {
   "cell_type": "markdown",
   "id": "7f7a83a6-5023-42bb-9b49-498021e07797",
   "metadata": {},
   "source": [
    "# Setter\n",
    "\n",
    "a setter method is used to set the value of attribute. it is called automatically when attribute is assigned a new value. In python, we can define a setter method using the @property decoator with the @setter decorator"
   ]
  },
  {
   "cell_type": "code",
   "execution_count": 10,
   "id": "feca82d6-956b-4eb5-9030-857def6ba652",
   "metadata": {},
   "outputs": [],
   "source": [
    "class Person:\n",
    "    def __init__(self,name):\n",
    "        self.__name = name\n",
    "\n",
    "    @property\n",
    "    def name(self):\n",
    "        print(\"getting name\")\n",
    "        return self.__name\n",
    "\n",
    "    @name.setter\n",
    "    def name(self,value):\n",
    "        print(\"setting value\")\n",
    "        self.__name = value\n",
    "        \n",
    "\n",
    "person = Person(\"Han solo\")"
   ]
  },
  {
   "cell_type": "code",
   "execution_count": 11,
   "id": "21c109f5-a08c-449e-8110-7309ed15dd90",
   "metadata": {},
   "outputs": [],
   "source": [
    "person= Person(\"Han solo\")"
   ]
  },
  {
   "cell_type": "code",
   "execution_count": 12,
   "id": "0071d663-c4bf-43af-a854-c32c2becb161",
   "metadata": {},
   "outputs": [
    {
     "name": "stdout",
     "output_type": "stream",
     "text": [
      "getting name\n"
     ]
    },
    {
     "data": {
      "text/plain": [
       "'Han solo'"
      ]
     },
     "execution_count": 12,
     "metadata": {},
     "output_type": "execute_result"
    }
   ],
   "source": [
    "person.name"
   ]
  },
  {
   "cell_type": "code",
   "execution_count": 13,
   "id": "02bae2fe-4079-44a3-9bc4-8f1affd682c8",
   "metadata": {},
   "outputs": [
    {
     "name": "stdout",
     "output_type": "stream",
     "text": [
      "setting value\n"
     ]
    }
   ],
   "source": [
    "person.name = \"prateema\""
   ]
  },
  {
   "cell_type": "markdown",
   "id": "5cbfbac8-b9ce-4172-a533-aea39588e3a0",
   "metadata": {},
   "source": [
    "# Deletter\n",
    "\n",
    "We can define method usinf @property decorator with the @deleter decorator"
   ]
  },
  {
   "cell_type": "code",
   "execution_count": 18,
   "id": "58ce1dd1-9f3c-4421-8ca3-2f29fb77347e",
   "metadata": {},
   "outputs": [],
   "source": [
    "class Person:\n",
    "    def __init__(self,name):\n",
    "        self.__name = name\n",
    "\n",
    "    @property\n",
    "    def name(self):\n",
    "        print(\"getting name\")\n",
    "        return self.__name\n",
    "\n",
    "    @name.setter\n",
    "    def name(self,value):\n",
    "        print(\"setting value\")\n",
    "        self.__name = value\n",
    "\n",
    "    @name.deleter\n",
    "    def name(self):\n",
    "        print(\"deleting name..\")\n",
    "        return self.__name\n",
    "        \n",
    "\n",
    "person = Person(\"Han solo\")"
   ]
  },
  {
   "cell_type": "code",
   "execution_count": 21,
   "id": "ca3e52a8-bf28-4e94-b7f5-0b0cef56f4b4",
   "metadata": {},
   "outputs": [
    {
     "name": "stdout",
     "output_type": "stream",
     "text": [
      "getting name\n"
     ]
    },
    {
     "data": {
      "text/plain": [
       "'Han solo'"
      ]
     },
     "execution_count": 21,
     "metadata": {},
     "output_type": "execute_result"
    }
   ],
   "source": [
    "person.name"
   ]
  },
  {
   "cell_type": "code",
   "execution_count": 22,
   "id": "c9666a36-607a-4df7-84bf-43efc91a663a",
   "metadata": {},
   "outputs": [
    {
     "name": "stdout",
     "output_type": "stream",
     "text": [
      "deleting name..\n"
     ]
    }
   ],
   "source": [
    "del person.name"
   ]
  },
  {
   "cell_type": "code",
   "execution_count": 23,
   "id": "c46db0de-23d9-416f-9c6c-b397eac40449",
   "metadata": {},
   "outputs": [
    {
     "name": "stdout",
     "output_type": "stream",
     "text": [
      "getting name\n"
     ]
    },
    {
     "data": {
      "text/plain": [
       "'Han solo'"
      ]
     },
     "execution_count": 23,
     "metadata": {},
     "output_type": "execute_result"
    }
   ],
   "source": [
    "person.name"
   ]
  },
  {
   "cell_type": "code",
   "execution_count": null,
   "id": "769cf92a-d5a6-492b-8551-352fbb03f789",
   "metadata": {},
   "outputs": [],
   "source": []
  }
 ],
 "metadata": {
  "kernelspec": {
   "display_name": "Python 3 (ipykernel)",
   "language": "python",
   "name": "python3"
  },
  "language_info": {
   "codemirror_mode": {
    "name": "ipython",
    "version": 3
   },
   "file_extension": ".py",
   "mimetype": "text/x-python",
   "name": "python",
   "nbconvert_exporter": "python",
   "pygments_lexer": "ipython3",
   "version": "3.13.0"
  }
 },
 "nbformat": 4,
 "nbformat_minor": 5
}
