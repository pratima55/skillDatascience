{
 "cells": [
  {
   "cell_type": "markdown",
   "id": "9d77396d-5439-4c25-be73-e19fcd222100",
   "metadata": {},
   "source": [
    "## Python Decorators"
   ]
  },
  {
   "cell_type": "code",
   "execution_count": 1,
   "id": "4bf729f6-db52-4f7a-bbe0-c04ccd190fa0",
   "metadata": {},
   "outputs": [],
   "source": [
    "def decorator(func): #Take greet() as parameter\n",
    "\n",
    "    def wrapper():\n",
    "        print(\"Before calling the function\")\n",
    "        func()\n",
    "        print(\"After calling the function\")\n",
    "\n",
    "    return wrapper    "
   ]
  },
  {
   "cell_type": "code",
   "execution_count": 2,
   "id": "638cb91b-06db-48ca-8742-8c2ec525f232",
   "metadata": {},
   "outputs": [
    {
     "name": "stdout",
     "output_type": "stream",
     "text": [
      "Before calling the function\n",
      "Hello, world!\n",
      "After calling the function\n"
     ]
    }
   ],
   "source": [
    "@decorator\n",
    "def greet():\n",
    "    print(\"Hello, world!\")\n",
    "greet()    "
   ]
  },
  {
   "cell_type": "markdown",
   "id": "b0bec7d8-5478-4bdb-a90d-4f83c4048df5",
   "metadata": {},
   "source": [
    "# check email using decorator\n"
   ]
  },
  {
   "cell_type": "code",
   "execution_count": 3,
   "id": "bae66b83-d3b8-4bb6-8011-ebd0de46af53",
   "metadata": {},
   "outputs": [],
   "source": [
    "def validate_email(func):\n",
    "    def wrapper(user_email):\n",
    "        if user_email.endswith(\"@vriti.com\"):\n",
    "            func(user_email)\n",
    "        else:\n",
    "            print(\"invalid email\")\n",
    "    return wrapper            "
   ]
  },
  {
   "cell_type": "code",
   "execution_count": 6,
   "id": "54925d96-901b-4f3a-8768-91c5fa6eab65",
   "metadata": {},
   "outputs": [],
   "source": [
    "@validate_email\n",
    "def login_user(email):\n",
    "    print(\"logged in\")"
   ]
  },
  {
   "cell_type": "code",
   "execution_count": 7,
   "id": "478f0c9f-7e73-43e5-9a05-4f5f48edba39",
   "metadata": {},
   "outputs": [
    {
     "name": "stdout",
     "output_type": "stream",
     "text": [
      "invalid email\n"
     ]
    }
   ],
   "source": [
    "login_user(\"prateemadhakal555@gmail.com\")"
   ]
  },
  {
   "cell_type": "code",
   "execution_count": null,
   "id": "6d8f2e57-41cc-411a-975f-d45f585a2204",
   "metadata": {},
   "outputs": [],
   "source": []
  },
  {
   "cell_type": "markdown",
   "id": "edf2d47c-32df-46be-945c-26dd7edc2b56",
   "metadata": {},
   "source": [
    "# Function timing decorator\n",
    "\n",
    "write a decorator time_it that measures the time it takes fro a function to execute.\n",
    "\n",
    "Apply it to a function slow_function that sleeeps for 2 seconds and prints \"Done sleeping\""
   ]
  },
  {
   "cell_type": "code",
   "execution_count": 22,
   "id": "ec03e6fc-8468-4aff-ab6c-91e901eefec4",
   "metadata": {},
   "outputs": [],
   "source": [
    "import time\n",
    "def time_it(func):\n",
    "\n",
    "    def wrapper(*args, **kwargs):\n",
    "        st = time.time()\n",
    "        result = func(*args, **kwargs)\n",
    "        et = time.time()\n",
    "        print(f\"Total time taken: {et-st} seconds\")\n",
    "        return result\n",
    "    return wrapper        "
   ]
  },
  {
   "cell_type": "code",
   "execution_count": 23,
   "id": "7b1da2cb-9c85-4082-a3a6-3fe81c1df1de",
   "metadata": {},
   "outputs": [],
   "source": [
    "@time_it\n",
    "def slow_function():\n",
    "    time.sleep(5)\n",
    "    print(\"done sleeping\")\n",
    "\n",
    "@time_it\n",
    "def find_square(x: int):\n",
    "    return x* x\n",
    "    "
   ]
  },
  {
   "cell_type": "code",
   "execution_count": 24,
   "id": "5f5936f1-6a0b-4527-a2e7-7f0ad7901420",
   "metadata": {},
   "outputs": [
    {
     "name": "stdout",
     "output_type": "stream",
     "text": [
      "done sleeping\n",
      "Total time taken: 5.000586748123169 seconds\n"
     ]
    }
   ],
   "source": [
    "slow_function()"
   ]
  },
  {
   "cell_type": "code",
   "execution_count": 25,
   "id": "a032479a-bfdf-4ec4-84a8-3f7ddd406a02",
   "metadata": {},
   "outputs": [
    {
     "name": "stdout",
     "output_type": "stream",
     "text": [
      "Total time taken: 7.152557373046875e-07 seconds\n"
     ]
    },
    {
     "data": {
      "text/plain": [
       "25"
      ]
     },
     "execution_count": 25,
     "metadata": {},
     "output_type": "execute_result"
    }
   ],
   "source": [
    "find_square(5)"
   ]
  },
  {
   "cell_type": "code",
   "execution_count": 26,
   "id": "259850ec-3d76-4fed-8852-7c9bd3de45d2",
   "metadata": {},
   "outputs": [],
   "source": [
    "def cache_result(func):\n",
    "    cache = {0:0, 1:1}\n",
    "    def wrapper(n):\n",
    "        if n in cache:\n",
    "            return cache(n)\n",
    "        result = func(n)\n",
    "        cache[n] = result\n",
    "        return result\n",
    "    return wrapper\n",
    "\n",
    "@cache_result\n",
    "def fibonacci (n: int):\n",
    "    if n <= 1:\n",
    "        return n\n",
    "    else:\n",
    "        return fibonacci(n-1) + fibonacci(n-2)"
   ]
  },
  {
   "cell_type": "code",
   "execution_count": 27,
   "id": "26a4fab0-995f-48d4-9cb4-1a08fd542356",
   "metadata": {},
   "outputs": [
    {
     "ename": "TypeError",
     "evalue": "'dict' object is not callable",
     "output_type": "error",
     "traceback": [
      "\u001b[1;31m---------------------------------------------------------------------------\u001b[0m",
      "\u001b[1;31mTypeError\u001b[0m                                 Traceback (most recent call last)",
      "Cell \u001b[1;32mIn[27], line 1\u001b[0m\n\u001b[1;32m----> 1\u001b[0m \u001b[43mfibonacci\u001b[49m\u001b[43m(\u001b[49m\u001b[38;5;241;43m50\u001b[39;49m\u001b[43m)\u001b[49m\n",
      "Cell \u001b[1;32mIn[26], line 6\u001b[0m, in \u001b[0;36mcache_result.<locals>.wrapper\u001b[1;34m(n)\u001b[0m\n\u001b[0;32m      4\u001b[0m \u001b[38;5;28;01mif\u001b[39;00m n \u001b[38;5;129;01min\u001b[39;00m cache:\n\u001b[0;32m      5\u001b[0m     \u001b[38;5;28;01mreturn\u001b[39;00m cache(n)\n\u001b[1;32m----> 6\u001b[0m result \u001b[38;5;241m=\u001b[39m \u001b[43mfunc\u001b[49m\u001b[43m(\u001b[49m\u001b[43mn\u001b[49m\u001b[43m)\u001b[49m\n\u001b[0;32m      7\u001b[0m cache[n] \u001b[38;5;241m=\u001b[39m result\n\u001b[0;32m      8\u001b[0m \u001b[38;5;28;01mreturn\u001b[39;00m result\n",
      "Cell \u001b[1;32mIn[26], line 16\u001b[0m, in \u001b[0;36mfibonacci\u001b[1;34m(n)\u001b[0m\n\u001b[0;32m     14\u001b[0m     \u001b[38;5;28;01mreturn\u001b[39;00m n\n\u001b[0;32m     15\u001b[0m \u001b[38;5;28;01melse\u001b[39;00m:\n\u001b[1;32m---> 16\u001b[0m     \u001b[38;5;28;01mreturn\u001b[39;00m \u001b[43mfibonacci\u001b[49m\u001b[43m(\u001b[49m\u001b[43mn\u001b[49m\u001b[38;5;241;43m-\u001b[39;49m\u001b[38;5;241;43m1\u001b[39;49m\u001b[43m)\u001b[49m \u001b[38;5;241m+\u001b[39m fibonacci(n\u001b[38;5;241m-\u001b[39m\u001b[38;5;241m2\u001b[39m)\n",
      "Cell \u001b[1;32mIn[26], line 6\u001b[0m, in \u001b[0;36mcache_result.<locals>.wrapper\u001b[1;34m(n)\u001b[0m\n\u001b[0;32m      4\u001b[0m \u001b[38;5;28;01mif\u001b[39;00m n \u001b[38;5;129;01min\u001b[39;00m cache:\n\u001b[0;32m      5\u001b[0m     \u001b[38;5;28;01mreturn\u001b[39;00m cache(n)\n\u001b[1;32m----> 6\u001b[0m result \u001b[38;5;241m=\u001b[39m \u001b[43mfunc\u001b[49m\u001b[43m(\u001b[49m\u001b[43mn\u001b[49m\u001b[43m)\u001b[49m\n\u001b[0;32m      7\u001b[0m cache[n] \u001b[38;5;241m=\u001b[39m result\n\u001b[0;32m      8\u001b[0m \u001b[38;5;28;01mreturn\u001b[39;00m result\n",
      "Cell \u001b[1;32mIn[26], line 16\u001b[0m, in \u001b[0;36mfibonacci\u001b[1;34m(n)\u001b[0m\n\u001b[0;32m     14\u001b[0m     \u001b[38;5;28;01mreturn\u001b[39;00m n\n\u001b[0;32m     15\u001b[0m \u001b[38;5;28;01melse\u001b[39;00m:\n\u001b[1;32m---> 16\u001b[0m     \u001b[38;5;28;01mreturn\u001b[39;00m \u001b[43mfibonacci\u001b[49m\u001b[43m(\u001b[49m\u001b[43mn\u001b[49m\u001b[38;5;241;43m-\u001b[39;49m\u001b[38;5;241;43m1\u001b[39;49m\u001b[43m)\u001b[49m \u001b[38;5;241m+\u001b[39m fibonacci(n\u001b[38;5;241m-\u001b[39m\u001b[38;5;241m2\u001b[39m)\n",
      "    \u001b[1;31m[... skipping similar frames: fibonacci at line 16 (46 times), cache_result.<locals>.wrapper at line 6 (46 times)]\u001b[0m\n",
      "Cell \u001b[1;32mIn[26], line 6\u001b[0m, in \u001b[0;36mcache_result.<locals>.wrapper\u001b[1;34m(n)\u001b[0m\n\u001b[0;32m      4\u001b[0m \u001b[38;5;28;01mif\u001b[39;00m n \u001b[38;5;129;01min\u001b[39;00m cache:\n\u001b[0;32m      5\u001b[0m     \u001b[38;5;28;01mreturn\u001b[39;00m cache(n)\n\u001b[1;32m----> 6\u001b[0m result \u001b[38;5;241m=\u001b[39m \u001b[43mfunc\u001b[49m\u001b[43m(\u001b[49m\u001b[43mn\u001b[49m\u001b[43m)\u001b[49m\n\u001b[0;32m      7\u001b[0m cache[n] \u001b[38;5;241m=\u001b[39m result\n\u001b[0;32m      8\u001b[0m \u001b[38;5;28;01mreturn\u001b[39;00m result\n",
      "Cell \u001b[1;32mIn[26], line 16\u001b[0m, in \u001b[0;36mfibonacci\u001b[1;34m(n)\u001b[0m\n\u001b[0;32m     14\u001b[0m     \u001b[38;5;28;01mreturn\u001b[39;00m n\n\u001b[0;32m     15\u001b[0m \u001b[38;5;28;01melse\u001b[39;00m:\n\u001b[1;32m---> 16\u001b[0m     \u001b[38;5;28;01mreturn\u001b[39;00m \u001b[43mfibonacci\u001b[49m\u001b[43m(\u001b[49m\u001b[43mn\u001b[49m\u001b[38;5;241;43m-\u001b[39;49m\u001b[38;5;241;43m1\u001b[39;49m\u001b[43m)\u001b[49m \u001b[38;5;241m+\u001b[39m fibonacci(n\u001b[38;5;241m-\u001b[39m\u001b[38;5;241m2\u001b[39m)\n",
      "Cell \u001b[1;32mIn[26], line 5\u001b[0m, in \u001b[0;36mcache_result.<locals>.wrapper\u001b[1;34m(n)\u001b[0m\n\u001b[0;32m      3\u001b[0m \u001b[38;5;28;01mdef\u001b[39;00m \u001b[38;5;21mwrapper\u001b[39m(n):\n\u001b[0;32m      4\u001b[0m     \u001b[38;5;28;01mif\u001b[39;00m n \u001b[38;5;129;01min\u001b[39;00m cache:\n\u001b[1;32m----> 5\u001b[0m         \u001b[38;5;28;01mreturn\u001b[39;00m \u001b[43mcache\u001b[49m\u001b[43m(\u001b[49m\u001b[43mn\u001b[49m\u001b[43m)\u001b[49m\n\u001b[0;32m      6\u001b[0m     result \u001b[38;5;241m=\u001b[39m func(n)\n\u001b[0;32m      7\u001b[0m     cache[n] \u001b[38;5;241m=\u001b[39m result\n",
      "\u001b[1;31mTypeError\u001b[0m: 'dict' object is not callable"
     ]
    }
   ],
   "source": [
    "fibonacci(50)"
   ]
  },
  {
   "cell_type": "code",
   "execution_count": null,
   "id": "9532d0eb-f78f-40cf-a225-3ec29b315b30",
   "metadata": {},
   "outputs": [],
   "source": []
  }
 ],
 "metadata": {
  "kernelspec": {
   "display_name": "Python 3 (ipykernel)",
   "language": "python",
   "name": "python3"
  },
  "language_info": {
   "codemirror_mode": {
    "name": "ipython",
    "version": 3
   },
   "file_extension": ".py",
   "mimetype": "text/x-python",
   "name": "python",
   "nbconvert_exporter": "python",
   "pygments_lexer": "ipython3",
   "version": "3.13.0"
  }
 },
 "nbformat": 4,
 "nbformat_minor": 5
}
