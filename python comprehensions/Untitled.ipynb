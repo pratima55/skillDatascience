{
 "cells": [
  {
   "cell_type": "markdown",
   "id": "0ad684f9-a35f-4c3b-92c3-dfff0833614a",
   "metadata": {},
   "source": [
    "**python comprehensions**"
   ]
  },
  {
   "cell_type": "code",
   "execution_count": null,
   "id": "480af77a-8423-4c9c-ae4b-fa421df11373",
   "metadata": {},
   "outputs": [],
   "source": []
  },
  {
   "cell_type": "code",
   "execution_count": null,
   "id": "bbcf9939-0b35-4c94-be47-57bd3049f0ac",
   "metadata": {},
   "outputs": [],
   "source": []
  },
  {
   "cell_type": "code",
   "execution_count": null,
   "id": "efae63e6-f658-4920-b710-ab0c50e529d1",
   "metadata": {},
   "outputs": [],
   "source": []
  },
  {
   "cell_type": "code",
   "execution_count": null,
   "id": "bb546736-d7e3-4148-a673-10f949035f07",
   "metadata": {},
   "outputs": [],
   "source": []
  },
  {
   "cell_type": "code",
   "execution_count": null,
   "id": "fd0d0525-de6a-49d6-b2b3-e5da47176c46",
   "metadata": {},
   "outputs": [],
   "source": []
  },
  {
   "cell_type": "code",
   "execution_count": null,
   "id": "ad60d507-bd97-4de8-a90a-10f9b3908747",
   "metadata": {},
   "outputs": [],
   "source": []
  },
  {
   "cell_type": "code",
   "execution_count": null,
   "id": "8f8a0b43-b842-422f-b3f7-696bc646d9be",
   "metadata": {},
   "outputs": [],
   "source": []
  },
  {
   "cell_type": "code",
   "execution_count": null,
   "id": "f3b4736b-6370-4b19-b5fa-20539407b6c9",
   "metadata": {},
   "outputs": [],
   "source": []
  },
  {
   "cell_type": "code",
   "execution_count": null,
   "id": "788d1937-3cd0-4655-8848-ffb23bf7155d",
   "metadata": {},
   "outputs": [],
   "source": []
  },
  {
   "cell_type": "code",
   "execution_count": null,
   "id": "86ce06eb-1cda-4a28-afc2-b76a6cc80291",
   "metadata": {},
   "outputs": [],
   "source": []
  },
  {
   "cell_type": "code",
   "execution_count": null,
   "id": "585ea013-5339-4d36-86c8-bf43d670e5d5",
   "metadata": {},
   "outputs": [],
   "source": []
  },
  {
   "cell_type": "code",
   "execution_count": null,
   "id": "a6080cc4-8048-4a6d-8fec-b20a0148a598",
   "metadata": {},
   "outputs": [],
   "source": []
  },
  {
   "cell_type": "code",
   "execution_count": null,
   "id": "174af45a-dcd2-4bf5-a6b2-b3ad0d0129cc",
   "metadata": {},
   "outputs": [],
   "source": []
  },
  {
   "cell_type": "code",
   "execution_count": null,
   "id": "0dbaa852-c6c7-45e3-ac5b-5cfec7ce2e47",
   "metadata": {},
   "outputs": [],
   "source": []
  },
  {
   "cell_type": "code",
   "execution_count": null,
   "id": "b8293a75-33d9-4234-86fd-124c0d4c1ad4",
   "metadata": {},
   "outputs": [],
   "source": []
  },
  {
   "cell_type": "code",
   "execution_count": null,
   "id": "afe43b60-b9aa-4461-b8b8-c1ebe417475a",
   "metadata": {},
   "outputs": [],
   "source": []
  },
  {
   "cell_type": "code",
   "execution_count": null,
   "id": "25b36da4-00cc-4a82-b1e7-8d19b6b6c3d7",
   "metadata": {},
   "outputs": [],
   "source": []
  },
  {
   "cell_type": "code",
   "execution_count": null,
   "id": "b0585b7e-7ed1-4381-920d-05976dab4a82",
   "metadata": {},
   "outputs": [],
   "source": []
  },
  {
   "cell_type": "code",
   "execution_count": null,
   "id": "4c5d3f7f-c587-462f-a65d-eb707258a265",
   "metadata": {},
   "outputs": [],
   "source": []
  },
  {
   "cell_type": "code",
   "execution_count": null,
   "id": "ae38d7c4-6a37-48c3-bf81-d25a3b3b12e0",
   "metadata": {},
   "outputs": [],
   "source": []
  },
  {
   "cell_type": "code",
   "execution_count": null,
   "id": "acdccfb1-e7b7-469a-aa0b-ac2b169eb109",
   "metadata": {},
   "outputs": [],
   "source": []
  },
  {
   "cell_type": "code",
   "execution_count": null,
   "id": "650133fd-7b21-46a1-94cd-55bd4d6c4499",
   "metadata": {},
   "outputs": [],
   "source": []
  },
  {
   "cell_type": "code",
   "execution_count": null,
   "id": "7a6f7cb5-8e4e-4be4-b647-0266cc12ff2b",
   "metadata": {},
   "outputs": [],
   "source": []
  },
  {
   "cell_type": "code",
   "execution_count": null,
   "id": "150a2eef-2acd-4a37-9b17-13ef00c5eb32",
   "metadata": {},
   "outputs": [],
   "source": []
  },
  {
   "cell_type": "markdown",
   "id": "92a943c8-4ce6-46b6-8b1c-ac24ad504d09",
   "metadata": {},
   "source": [
    "** 2. Dictionary comprehension**"
   ]
  },
  {
   "cell_type": "markdown",
   "id": "7d92f0eb-5541-45ba-b00e-e486d42685b9",
   "metadata": {},
   "source": [
    "new_dict = {key_expression: value_expression for item in iterable if condition}"
   ]
  },
  {
   "cell_type": "code",
   "execution_count": 3,
   "id": "af96e0cf-6d24-4405-929d-962cfd25a4bb",
   "metadata": {},
   "outputs": [
    {
     "name": "stdout",
     "output_type": "stream",
     "text": [
      "{1: 1, 3: 9, 5: 25, 7: 49, 9: 81, 11: 121, 13: 169, 15: 225, 17: 289, 19: 361}\n"
     ]
    }
   ],
   "source": [
    "#usual dict\n",
    "odd_dict = {}\n",
    "for num in range (1,20,2):\n",
    "    odd_dict[num] = num**2\n",
    "print(odd_dict)    \n",
    "    \n",
    " "
   ]
  },
  {
   "cell_type": "code",
   "execution_count": 6,
   "id": "2dbaf3ff-0c8e-48e2-9b1f-da150d23ce3d",
   "metadata": {},
   "outputs": [
    {
     "name": "stdout",
     "output_type": "stream",
     "text": [
      "{1: 1, 3: 9, 5: 25, 7: 49, 9: 81, 11: 121, 13: 169, 15: 225, 17: 289, 19: 361}\n"
     ]
    }
   ],
   "source": [
    "#dict comprehension\n",
    "odd_dict = {num : num**2 for num in range(1,20,2)}\n",
    "print(odd_dict)"
   ]
  },
  {
   "cell_type": "code",
   "execution_count": 8,
   "id": "49c2f76d-e90b-4ec3-afe0-5d3ee846d473",
   "metadata": {},
   "outputs": [
    {
     "name": "stdout",
     "output_type": "stream",
     "text": [
      "{2: 4, 4: 16, 6: 36, 8: 64, 10: 100, 12: 144, 14: 196, 16: 256, 18: 324}\n"
     ]
    }
   ],
   "source": [
    "#dict comprehension\n",
    "even_dict = {num : num**2 for num in range(1,20) if num%2 == 0}\n",
    "print(even_dict)"
   ]
  },
  {
   "cell_type": "code",
   "execution_count": 17,
   "id": "0fbfafbd-dae3-440f-9b3f-5d2feaa8dc76",
   "metadata": {},
   "outputs": [
    {
     "name": "stdout",
     "output_type": "stream",
     "text": [
      "{'A': 1, 'single': 6, 'training': 8, 'set': 3, 'that': 4, 'has': 3, 'already': 7, 'been': 4, 'processed': 9, 'is': 2, 'usually': 7, 'split': 5, 'into': 4, 'several': 7, 'types': 5, 'of': 2, 'datasets': 8, 'in': 2, 'machine': 7, 'learning': 8, 'which': 5, 'needed': 6, 'to': 2, 'check': 5, 'how': 3, 'well': 4, 'the': 3, 'model': 5, 'went': 4}\n"
     ]
    }
   ],
   "source": [
    "sentence = \"\"\"A single training set that has already been processed is usually split into several types of datasets in machine learning which is needed to check how well the training of the model went\"\"\"\n",
    "output = {word:len(word) for  word in sentence.split(\" \")  }\n",
    "print(output)"
   ]
  },
  {
   "cell_type": "code",
   "execution_count": 18,
   "id": "5d593cc8-34dc-42ce-82f7-8a0e65581e87",
   "metadata": {},
   "outputs": [
    {
     "name": "stdout",
     "output_type": "stream",
     "text": [
      "{'single': 6, 'training': 8, 'already': 7, 'processed': 9, 'usually': 7, 'several': 7, 'datasets': 8, 'machine': 7, 'learning': 8, 'needed': 6}\n"
     ]
    }
   ],
   "source": [
    "sentence = \"\"\"A single training set that has already been processed is usually split into several types of datasets in machine learning which is needed to check how well the training of the model went\"\"\"\n",
    "output = {word:len(word) for  word in sentence.split(\" \") if len(word)>5 }\n",
    "print(output)"
   ]
  },
  {
   "cell_type": "code",
   "execution_count": null,
   "id": "aea74f99-7a98-46bb-b887-64e2b6a14a85",
   "metadata": {},
   "outputs": [],
   "source": []
  },
  {
   "cell_type": "markdown",
   "id": "66a0f5bb-d610-4ec2-844d-104c1e06ba40",
   "metadata": {},
   "source": [
    "**Set comprehension**"
   ]
  },
  {
   "cell_type": "markdown",
   "id": "630a602e-8c85-4734-8bf0-dac36d3cc269",
   "metadata": {},
   "source": [
    "new_set ={expression for item in iterable if condition}"
   ]
  },
  {
   "cell_type": "code",
   "execution_count": 21,
   "id": "da3b11c4-a6df-4550-9f02-4cf5796cdf30",
   "metadata": {},
   "outputs": [
    {
     "name": "stdout",
     "output_type": "stream",
     "text": [
      "{16, 64, 4, 36}\n"
     ]
    }
   ],
   "source": [
    "squared_even = {num**2 for num in range(1,10) if num%2== 0}\n",
    "print(squared_even)"
   ]
  },
  {
   "cell_type": "code",
   "execution_count": 25,
   "id": "9b1d882f-c935-40c7-8e65-92fd359edd0e",
   "metadata": {},
   "outputs": [
    {
     "name": "stdout",
     "output_type": "stream",
     "text": [
      "{'cc', 'ca', 'aa', 'ba', 'bb', 'ab', 'bc', 'cb', 'ac'}\n"
     ]
    }
   ],
   "source": [
    "letters = [\"a\",\"b\",\"c\"]\n",
    "pairs = {let1 + let2 for let1 in letters for let2 in letters}\n",
    "print(pairs)"
   ]
  },
  {
   "cell_type": "markdown",
   "id": "96e4008c-b7bf-4c93-9cc3-f28c94408b62",
   "metadata": {},
   "source": [
    "Unique Vowels in a String\n",
    "Write a Python program that uses set comprehension to create a set of all unique vowels found in the following string: \"Set comprehensions can  be nested\"\n",
    " "
   ]
  },
  {
   "cell_type": "code",
   "execution_count": 34,
   "id": "7a2c878e-3d1a-4f0c-b5ad-51d9528a3a4f",
   "metadata": {},
   "outputs": [
    {
     "name": "stdout",
     "output_type": "stream",
     "text": [
      "{'a', 'o', 'i', 'e'}\n"
     ]
    }
   ],
   "source": [
    "sentence =\"Set comprehensions can also be nested\"\n",
    "vowels =\"aeiou\"\n",
    "list(vowels)\n",
    "vowels_in_sent = {letter for letter in sentence.lower() if letter in vowels}\n",
    "print(vowels_in_sent)"
   ]
  },
  {
   "cell_type": "code",
   "execution_count": null,
   "id": "e2256667-838d-49c4-90dd-d293d06d4203",
   "metadata": {},
   "outputs": [],
   "source": []
  },
  {
   "cell_type": "code",
   "execution_count": null,
   "id": "104861bc-b81b-4dcc-b7fb-ef7502da7055",
   "metadata": {},
   "outputs": [],
   "source": []
  },
  {
   "cell_type": "code",
   "execution_count": 36,
   "id": "2cb3b72b-377b-4c31-ad27-c79516d5f5b2",
   "metadata": {},
   "outputs": [
    {
     "name": "stdout",
     "output_type": "stream",
     "text": [
      "{100: 20000, 400: 120000}\n"
     ]
    }
   ],
   "source": [
    "output={w:w*h for w,h in [(100,200), (400,300)]}\n",
    "print(output)"
   ]
  },
  {
   "cell_type": "code",
   "execution_count": null,
   "id": "ea68ab82-0c0b-44ca-997c-e63a5d1a6ff3",
   "metadata": {},
   "outputs": [],
   "source": []
  }
 ],
 "metadata": {
  "kernelspec": {
   "display_name": "Python 3 (ipykernel)",
   "language": "python",
   "name": "python3"
  },
  "language_info": {
   "codemirror_mode": {
    "name": "ipython",
    "version": 3
   },
   "file_extension": ".py",
   "mimetype": "text/x-python",
   "name": "python",
   "nbconvert_exporter": "python",
   "pygments_lexer": "ipython3",
   "version": "3.13.0"
  }
 },
 "nbformat": 4,
 "nbformat_minor": 5
}
