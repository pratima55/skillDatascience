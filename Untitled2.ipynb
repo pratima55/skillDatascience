{
 "cells": [
  {
   "cell_type": "code",
   "execution_count": null,
   "id": "becdb4ba-4911-4d86-b76d-c96a32c670d0",
   "metadata": {},
   "outputs": [],
   "source": []
  }
 ],
 "metadata": {
  "kernelspec": {
   "display_name": "",
   "name": ""
  },
  "language_info": {
   "name": ""
  }
 },
 "nbformat": 4,
 "nbformat_minor": 5
}
