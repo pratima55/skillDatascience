{
 "cells": [
  {
   "cell_type": "markdown",
   "id": "9f7dfd04-e9e9-4ffb-9d34-a53e1e5e7f18",
   "metadata": {},
   "source": [
    "## Python Date and Time Modules\n"
   ]
  },
  {
   "cell_type": "markdown",
   "id": "0475118b-10a4-4016-abc9-ee8e27d05bf6",
   "metadata": {},
   "source": [
    "Python has several built-in modules for working with date and time. some of the most commonly used modules are:\n",
    "\n",
    "1. datetime : the datetime module provides classes for working with dates and times , including formatting and arithematic operations.\n",
    "\n",
    "2. time: the time modeule provides function for working with time, including formating and arithematic operation."
   ]
  },
  {
   "cell_type": "markdown",
   "id": "9fc3ed84-c857-4ae4-8fa2-1c6ac63cf602",
   "metadata": {},
   "source": [
    "## 1. datetime\n",
    "\n",
    "The datetime module in python is used to work with dates, time, and time intervals. It provides several classes for working with data and time, including date, time, datetime, timedelta, and tzinfo.\n",
    "\n",
    "  1.  datetime.data: This class represents a date(year,month and day) in the Gregorian calender. Dates can be creates using the constructor date(year, month,day)\n",
    "\n",
    "  2. datetime.time : This class represents a time (hour, minute,second,and microsecond). Times can be created using the constructor time(hour=0, minute=0, second=0, microsecond=0)\n",
    "\n",
    "  3. datetime.datetime : This class represents a date and time. Datetimes can be created using the constructor datetime(year,month, day, hour =0, minute = 0, second= 0, microsecond= 0)\n",
    "\n",
    "  4. datetime.timedelta : This class represents a duration or the difference between the dates or times. Timedeltas can be created using the constructor timedelta( days=0, seconds=0, microseconds = 0, minutes = 0, hours = 0, weeks=0).\n",
    "\n",
    "  5. datetime.tzinfo: This is an abstract base class that can be used to define time zones.\n",
    "\n"
   ]
  },
  {
   "cell_type": "code",
   "execution_count": 1,
   "id": "b41a6bee-497d-4b38-8766-2c67be45e68a",
   "metadata": {},
   "outputs": [],
   "source": [
    "import datetime"
   ]
  },
  {
   "cell_type": "code",
   "execution_count": 2,
   "id": "91472b07-5c07-4fc0-ba1b-7177dc63d5a1",
   "metadata": {},
   "outputs": [],
   "source": [
    "date1 = datetime.date(2025,1,29)"
   ]
  },
  {
   "cell_type": "code",
   "execution_count": 4,
   "id": "07ca55ec-3e1d-4dae-a6ea-2ff88d4710be",
   "metadata": {},
   "outputs": [
    {
     "name": "stdout",
     "output_type": "stream",
     "text": [
      "2025-01-29\n"
     ]
    }
   ],
   "source": [
    "print(date1)"
   ]
  },
  {
   "cell_type": "code",
   "execution_count": 5,
   "id": "0608648f-60fc-400b-a3ea-3334102acd69",
   "metadata": {},
   "outputs": [
    {
     "data": {
      "text/plain": [
       "['MAXYEAR',\n",
       " 'MINYEAR',\n",
       " 'UTC',\n",
       " '__all__',\n",
       " '__builtins__',\n",
       " '__cached__',\n",
       " '__doc__',\n",
       " '__file__',\n",
       " '__loader__',\n",
       " '__name__',\n",
       " '__package__',\n",
       " '__spec__',\n",
       " 'date',\n",
       " 'datetime',\n",
       " 'datetime_CAPI',\n",
       " 'time',\n",
       " 'timedelta',\n",
       " 'timezone',\n",
       " 'tzinfo']"
      ]
     },
     "execution_count": 5,
     "metadata": {},
     "output_type": "execute_result"
    }
   ],
   "source": [
    "dir(datetime)"
   ]
  },
  {
   "cell_type": "code",
   "execution_count": 6,
   "id": "fb9c7c98-ad51-43f2-bd5a-5263519a9785",
   "metadata": {},
   "outputs": [
    {
     "name": "stdout",
     "output_type": "stream",
     "text": [
      "05:55:05\n"
     ]
    }
   ],
   "source": [
    "date2 =datetime.time(5,55,5)\n",
    "print(date2)"
   ]
  },
  {
   "cell_type": "code",
   "execution_count": 9,
   "id": "69907e91-3d9a-4850-ac11-8e5220d2290a",
   "metadata": {},
   "outputs": [
    {
     "name": "stdout",
     "output_type": "stream",
     "text": [
      "2057-04-10 07:18:20\n"
     ]
    }
   ],
   "source": [
    "date3 = datetime.datetime(2057,4,10,7,18,20)\n",
    "print(date3)"
   ]
  },
  {
   "cell_type": "code",
   "execution_count": null,
   "id": "d30128b4-dda7-49be-879b-ecc43c2b1a04",
   "metadata": {},
   "outputs": [],
   "source": [
    "\n",
    "d1 = datetime.date(2081,10,13)\n",
    "d2 = datetime.date(2057,4,10)\n",
    "d = d1-d2\n",
    "d2= d1 - timedelta"
   ]
  },
  {
   "cell_type": "code",
   "execution_count": 19,
   "id": "ca8d6d89-7ba0-480a-9af4-135adfe7518d",
   "metadata": {},
   "outputs": [
    {
     "data": {
      "text/plain": [
       "True"
      ]
     },
     "execution_count": 19,
     "metadata": {},
     "output_type": "execute_result"
    }
   ],
   "source": [
    "d1>d2"
   ]
  },
  {
   "cell_type": "code",
   "execution_count": 29,
   "id": "1fbb920b-ae41-48da-b3f6-f8d6441b8778",
   "metadata": {},
   "outputs": [
    {
     "data": {
      "text/plain": [
       "datetime.timedelta(days=8952)"
      ]
     },
     "execution_count": 29,
     "metadata": {},
     "output_type": "execute_result"
    }
   ],
   "source": [
    "d1-d2"
   ]
  },
  {
   "cell_type": "code",
   "execution_count": 18,
   "id": "a70d12cd-a2ce-40ef-93a3-0f89c6441713",
   "metadata": {},
   "outputs": [
    {
     "data": {
      "text/plain": [
       "datetime.date(2025, 1, 29)"
      ]
     },
     "execution_count": 18,
     "metadata": {},
     "output_type": "execute_result"
    }
   ],
   "source": [
    "datetime.date.today()"
   ]
  },
  {
   "cell_type": "code",
   "execution_count": 24,
   "id": "edc1ea30-5049-4333-80b1-8af4e419708a",
   "metadata": {},
   "outputs": [
    {
     "data": {
      "text/plain": [
       "'2025-01-29'"
      ]
     },
     "execution_count": 24,
     "metadata": {},
     "output_type": "execute_result"
    }
   ],
   "source": [
    "date1.strftime(\"%Y-%m-%d\")"
   ]
  },
  {
   "cell_type": "code",
   "execution_count": 25,
   "id": "f92b5af4-551d-40f8-b305-172dc503b3cf",
   "metadata": {},
   "outputs": [
    {
     "data": {
      "text/plain": [
       "2"
      ]
     },
     "execution_count": 25,
     "metadata": {},
     "output_type": "execute_result"
    }
   ],
   "source": [
    "date1.weekday()"
   ]
  },
  {
   "cell_type": "code",
   "execution_count": 26,
   "id": "7a824dd5-9ea9-4889-ba9e-4e656d5b16d8",
   "metadata": {},
   "outputs": [
    {
     "data": {
      "text/plain": [
       "['__add__',\n",
       " '__class__',\n",
       " '__delattr__',\n",
       " '__dir__',\n",
       " '__doc__',\n",
       " '__eq__',\n",
       " '__format__',\n",
       " '__ge__',\n",
       " '__getattribute__',\n",
       " '__getstate__',\n",
       " '__gt__',\n",
       " '__hash__',\n",
       " '__init__',\n",
       " '__init_subclass__',\n",
       " '__le__',\n",
       " '__lt__',\n",
       " '__ne__',\n",
       " '__new__',\n",
       " '__radd__',\n",
       " '__reduce__',\n",
       " '__reduce_ex__',\n",
       " '__replace__',\n",
       " '__repr__',\n",
       " '__rsub__',\n",
       " '__setattr__',\n",
       " '__sizeof__',\n",
       " '__str__',\n",
       " '__sub__',\n",
       " '__subclasshook__',\n",
       " 'ctime',\n",
       " 'day',\n",
       " 'fromisocalendar',\n",
       " 'fromisoformat',\n",
       " 'fromordinal',\n",
       " 'fromtimestamp',\n",
       " 'isocalendar',\n",
       " 'isoformat',\n",
       " 'isoweekday',\n",
       " 'max',\n",
       " 'min',\n",
       " 'month',\n",
       " 'replace',\n",
       " 'resolution',\n",
       " 'strftime',\n",
       " 'timetuple',\n",
       " 'today',\n",
       " 'toordinal',\n",
       " 'weekday',\n",
       " 'year']"
      ]
     },
     "execution_count": 26,
     "metadata": {},
     "output_type": "execute_result"
    }
   ],
   "source": [
    "dir(date1)"
   ]
  },
  {
   "cell_type": "code",
   "execution_count": 27,
   "id": "feb16286-f53a-4f63-81e7-70d3f1b28b13",
   "metadata": {},
   "outputs": [],
   "source": [
    "today_date = datetime.date.today()"
   ]
  },
  {
   "cell_type": "code",
   "execution_count": 28,
   "id": "939257fe-7d18-4fea-8372-8b5509fa270f",
   "metadata": {},
   "outputs": [
    {
     "name": "stdout",
     "output_type": "stream",
     "text": [
      "2025-01-29\n"
     ]
    }
   ],
   "source": [
    "print(today_date)"
   ]
  },
  {
   "cell_type": "code",
   "execution_count": 30,
   "id": "1284b6dd-bdf2-4fde-964b-c8c18ab78bc5",
   "metadata": {},
   "outputs": [],
   "source": [
    "time = datetime.time(8,44,33)"
   ]
  },
  {
   "cell_type": "code",
   "execution_count": 32,
   "id": "0d0c2145-8abe-49d2-a9c3-df85a61c96b0",
   "metadata": {},
   "outputs": [
    {
     "name": "stdout",
     "output_type": "stream",
     "text": [
      "08:44:33\n"
     ]
    }
   ],
   "source": [
    "print(time)"
   ]
  },
  {
   "cell_type": "code",
   "execution_count": 33,
   "id": "314636d5-93a9-4720-bfa7-dfe399d5050a",
   "metadata": {},
   "outputs": [
    {
     "data": {
      "text/plain": [
       "8"
      ]
     },
     "execution_count": 33,
     "metadata": {},
     "output_type": "execute_result"
    }
   ],
   "source": [
    "time.hour"
   ]
  },
  {
   "cell_type": "code",
   "execution_count": 35,
   "id": "6001db4b-675c-43e5-b00a-b37c6821745c",
   "metadata": {},
   "outputs": [
    {
     "data": {
      "text/plain": [
       "44"
      ]
     },
     "execution_count": 35,
     "metadata": {},
     "output_type": "execute_result"
    }
   ],
   "source": [
    "time.minute\n"
   ]
  },
  {
   "cell_type": "code",
   "execution_count": 37,
   "id": "634a4129-7606-4e87-855d-1fa37d4f7d9c",
   "metadata": {},
   "outputs": [
    {
     "data": {
      "text/plain": [
       "'1900/01/01 08:44:33'"
      ]
     },
     "execution_count": 37,
     "metadata": {},
     "output_type": "execute_result"
    }
   ],
   "source": [
    "time.strftime(\"%Y/%m/%d %H:%M:%S\")"
   ]
  },
  {
   "cell_type": "code",
   "execution_count": 38,
   "id": "e77039ae-c30d-4b06-aca9-92ec0b968e22",
   "metadata": {},
   "outputs": [],
   "source": [
    "nst = datetime.timezone(datetime.timedelta(hours=5, minutes= 45))"
   ]
  },
  {
   "cell_type": "code",
   "execution_count": 40,
   "id": "1d496550-da6f-451e-b709-ba000036fb4b",
   "metadata": {},
   "outputs": [
    {
     "name": "stdout",
     "output_type": "stream",
     "text": [
      "UTC+05:45\n"
     ]
    }
   ],
   "source": [
    "print(nst)"
   ]
  },
  {
   "cell_type": "code",
   "execution_count": null,
   "id": "a01a3a25-5531-4c76-add0-ef6a81ab63c2",
   "metadata": {},
   "outputs": [],
   "source": []
  }
 ],
 "metadata": {
  "kernelspec": {
   "display_name": "Python 3 (ipykernel)",
   "language": "python",
   "name": "python3"
  },
  "language_info": {
   "codemirror_mode": {
    "name": "ipython",
    "version": 3
   },
   "file_extension": ".py",
   "mimetype": "text/x-python",
   "name": "python",
   "nbconvert_exporter": "python",
   "pygments_lexer": "ipython3",
   "version": "3.13.0"
  }
 },
 "nbformat": 4,
 "nbformat_minor": 5
}
