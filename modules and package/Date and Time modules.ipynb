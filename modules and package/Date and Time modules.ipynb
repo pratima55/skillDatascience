{
 "cells": [
  {
   "cell_type": "markdown",
   "id": "9f7dfd04-e9e9-4ffb-9d34-a53e1e5e7f18",
   "metadata": {},
   "source": [
    "## Python Date and Time Modules\n"
   ]
  },
  {
   "cell_type": "markdown",
   "id": "0475118b-10a4-4016-abc9-ee8e27d05bf6",
   "metadata": {},
   "source": [
    "Python has several built-in modules for working with date and time. some of the most commonly used modules are:\n",
    "\n",
    "1. datetime : the datetime module provides classes for working with dates and times , including formatting and arithematic operations.\n",
    "\n",
    "2. time: the time modeule provides function for working with time, including formating and arithematic operation."
   ]
  },
  {
   "cell_type": "markdown",
   "id": "9fc3ed84-c857-4ae4-8fa2-1c6ac63cf602",
   "metadata": {},
   "source": [
    "## 1. datetime\n",
    "\n",
    "The datetime module in python is used to work with dates, time, and time intervals. It provides several classes for working with data and time, including date, time, datetime, timedelta, and tzinfo.\n",
    "\n",
    "  1.  datetime.data: This class represents a date(year,month and day) in the Gregorian calender. Dates can be creates using the constructor date(year, month,day)\n",
    "\n",
    "  2. datetime.time : This class represents a time (hour, minute,second,and microsecond). Times can be created using the constructor time(hour=0, minute=0, second=0, microsecond=0)\n",
    "\n",
    "  3. datetime.datetime : This class represents a date and time. Datetimes can be created using the constructor datetime(year,month, day, hour =0, minute = 0, second= 0, microsecond= 0)\n",
    "\n",
    "  4. datetime.timedelta : This class represents a duration or the difference between the dates or times. Timedeltas can be created using the constructor timedelta( days=0, seconds=0, microseconds = 0, minutes = 0, hours = 0, weeks=0).\n",
    "\n",
    "  5. datetime.tzinfo: This is an abstract base class that can be used to define time zones.\n",
    "\n"
   ]
  },
  {
   "cell_type": "code",
   "execution_count": 4,
   "id": "b41a6bee-497d-4b38-8766-2c67be45e68a",
   "metadata": {},
   "outputs": [],
   "source": [
    "import datetime"
   ]
  },
  {
   "cell_type": "code",
   "execution_count": 5,
   "id": "91472b07-5c07-4fc0-ba1b-7177dc63d5a1",
   "metadata": {},
   "outputs": [],
   "source": [
    "date1 = datetime.date(2025,1,29)"
   ]
  },
  {
   "cell_type": "code",
   "execution_count": 6,
   "id": "07ca55ec-3e1d-4dae-a6ea-2ff88d4710be",
   "metadata": {},
   "outputs": [
    {
     "name": "stdout",
     "output_type": "stream",
     "text": [
      "2025-01-29\n"
     ]
    }
   ],
   "source": [
    "print(date1)"
   ]
  },
  {
   "cell_type": "code",
   "execution_count": 7,
   "id": "0608648f-60fc-400b-a3ea-3334102acd69",
   "metadata": {},
   "outputs": [
    {
     "data": {
      "text/plain": [
       "['MAXYEAR',\n",
       " 'MINYEAR',\n",
       " 'UTC',\n",
       " '__all__',\n",
       " '__builtins__',\n",
       " '__cached__',\n",
       " '__doc__',\n",
       " '__file__',\n",
       " '__loader__',\n",
       " '__name__',\n",
       " '__package__',\n",
       " '__spec__',\n",
       " 'date',\n",
       " 'datetime',\n",
       " 'datetime_CAPI',\n",
       " 'time',\n",
       " 'timedelta',\n",
       " 'timezone',\n",
       " 'tzinfo']"
      ]
     },
     "execution_count": 7,
     "metadata": {},
     "output_type": "execute_result"
    }
   ],
   "source": [
    "dir(datetime)"
   ]
  },
  {
   "cell_type": "code",
   "execution_count": 8,
   "id": "fb9c7c98-ad51-43f2-bd5a-5263519a9785",
   "metadata": {},
   "outputs": [
    {
     "name": "stdout",
     "output_type": "stream",
     "text": [
      "05:55:05\n"
     ]
    }
   ],
   "source": [
    "date2 =datetime.time(5,55,5)\n",
    "print(date2)"
   ]
  },
  {
   "cell_type": "code",
   "execution_count": 9,
   "id": "69907e91-3d9a-4850-ac11-8e5220d2290a",
   "metadata": {},
   "outputs": [
    {
     "name": "stdout",
     "output_type": "stream",
     "text": [
      "2057-04-10 07:18:20\n"
     ]
    }
   ],
   "source": [
    "date3 = datetime.datetime(2057,4,10,7,18,20)\n",
    "print(date3)"
   ]
  },
  {
   "cell_type": "code",
   "execution_count": 10,
   "id": "d30128b4-dda7-49be-879b-ecc43c2b1a04",
   "metadata": {},
   "outputs": [
    {
     "ename": "NameError",
     "evalue": "name 'timedelta' is not defined",
     "output_type": "error",
     "traceback": [
      "\u001b[1;31m--------------------------------------------------------\u001b[0m",
      "\u001b[1;31mNameError\u001b[0m              Traceback (most recent call last)",
      "Cell \u001b[1;32mIn[10], line 4\u001b[0m\n\u001b[0;32m      2\u001b[0m d2 \u001b[38;5;241m=\u001b[39m datetime\u001b[38;5;241m.\u001b[39mdate(\u001b[38;5;241m2057\u001b[39m,\u001b[38;5;241m4\u001b[39m,\u001b[38;5;241m10\u001b[39m)\n\u001b[0;32m      3\u001b[0m d \u001b[38;5;241m=\u001b[39m d1\u001b[38;5;241m-\u001b[39md2\n\u001b[1;32m----> 4\u001b[0m d2\u001b[38;5;241m=\u001b[39m d1 \u001b[38;5;241m-\u001b[39m \u001b[43mtimedelta\u001b[49m\n",
      "\u001b[1;31mNameError\u001b[0m: name 'timedelta' is not defined"
     ]
    }
   ],
   "source": [
    "\n",
    "d1 = datetime.date(2081,10,13)\n",
    "d2 = datetime.date(2057,4,10)\n",
    "d = d1-d2\n",
    "d2= d1 - timedelta"
   ]
  },
  {
   "cell_type": "code",
   "execution_count": 11,
   "id": "ca8d6d89-7ba0-480a-9af4-135adfe7518d",
   "metadata": {},
   "outputs": [
    {
     "data": {
      "text/plain": [
       "True"
      ]
     },
     "execution_count": 11,
     "metadata": {},
     "output_type": "execute_result"
    }
   ],
   "source": [
    "d1>d2"
   ]
  },
  {
   "cell_type": "code",
   "execution_count": 12,
   "id": "1fbb920b-ae41-48da-b3f6-f8d6441b8778",
   "metadata": {},
   "outputs": [
    {
     "data": {
      "text/plain": [
       "datetime.timedelta(days=8952)"
      ]
     },
     "execution_count": 12,
     "metadata": {},
     "output_type": "execute_result"
    }
   ],
   "source": [
    "d1-d2"
   ]
  },
  {
   "cell_type": "code",
   "execution_count": 13,
   "id": "a70d12cd-a2ce-40ef-93a3-0f89c6441713",
   "metadata": {},
   "outputs": [
    {
     "data": {
      "text/plain": [
       "datetime.date(2025, 2, 6)"
      ]
     },
     "execution_count": 13,
     "metadata": {},
     "output_type": "execute_result"
    }
   ],
   "source": [
    "datetime.date.today()"
   ]
  },
  {
   "cell_type": "code",
   "execution_count": 14,
   "id": "edc1ea30-5049-4333-80b1-8af4e419708a",
   "metadata": {},
   "outputs": [
    {
     "data": {
      "text/plain": [
       "'2025-01-29'"
      ]
     },
     "execution_count": 14,
     "metadata": {},
     "output_type": "execute_result"
    }
   ],
   "source": [
    "date1.strftime(\"%Y-%m-%d\")"
   ]
  },
  {
   "cell_type": "code",
   "execution_count": 15,
   "id": "f92b5af4-551d-40f8-b305-172dc503b3cf",
   "metadata": {},
   "outputs": [
    {
     "data": {
      "text/plain": [
       "2"
      ]
     },
     "execution_count": 15,
     "metadata": {},
     "output_type": "execute_result"
    }
   ],
   "source": [
    "date1.weekday()"
   ]
  },
  {
   "cell_type": "code",
   "execution_count": 16,
   "id": "7a824dd5-9ea9-4889-ba9e-4e656d5b16d8",
   "metadata": {},
   "outputs": [
    {
     "data": {
      "text/plain": [
       "['__add__',\n",
       " '__class__',\n",
       " '__delattr__',\n",
       " '__dir__',\n",
       " '__doc__',\n",
       " '__eq__',\n",
       " '__format__',\n",
       " '__ge__',\n",
       " '__getattribute__',\n",
       " '__getstate__',\n",
       " '__gt__',\n",
       " '__hash__',\n",
       " '__init__',\n",
       " '__init_subclass__',\n",
       " '__le__',\n",
       " '__lt__',\n",
       " '__ne__',\n",
       " '__new__',\n",
       " '__radd__',\n",
       " '__reduce__',\n",
       " '__reduce_ex__',\n",
       " '__replace__',\n",
       " '__repr__',\n",
       " '__rsub__',\n",
       " '__setattr__',\n",
       " '__sizeof__',\n",
       " '__str__',\n",
       " '__sub__',\n",
       " '__subclasshook__',\n",
       " 'ctime',\n",
       " 'day',\n",
       " 'fromisocalendar',\n",
       " 'fromisoformat',\n",
       " 'fromordinal',\n",
       " 'fromtimestamp',\n",
       " 'isocalendar',\n",
       " 'isoformat',\n",
       " 'isoweekday',\n",
       " 'max',\n",
       " 'min',\n",
       " 'month',\n",
       " 'replace',\n",
       " 'resolution',\n",
       " 'strftime',\n",
       " 'timetuple',\n",
       " 'today',\n",
       " 'toordinal',\n",
       " 'weekday',\n",
       " 'year']"
      ]
     },
     "execution_count": 16,
     "metadata": {},
     "output_type": "execute_result"
    }
   ],
   "source": [
    "dir(date1)"
   ]
  },
  {
   "cell_type": "code",
   "execution_count": 17,
   "id": "feb16286-f53a-4f63-81e7-70d3f1b28b13",
   "metadata": {},
   "outputs": [],
   "source": [
    "today_date = datetime.date.today()"
   ]
  },
  {
   "cell_type": "code",
   "execution_count": 18,
   "id": "939257fe-7d18-4fea-8372-8b5509fa270f",
   "metadata": {},
   "outputs": [
    {
     "name": "stdout",
     "output_type": "stream",
     "text": [
      "2025-02-06\n"
     ]
    }
   ],
   "source": [
    "print(today_date)"
   ]
  },
  {
   "cell_type": "code",
   "execution_count": 19,
   "id": "1284b6dd-bdf2-4fde-964b-c8c18ab78bc5",
   "metadata": {},
   "outputs": [],
   "source": [
    "time = datetime.time(8,44,33)"
   ]
  },
  {
   "cell_type": "code",
   "execution_count": 20,
   "id": "0d0c2145-8abe-49d2-a9c3-df85a61c96b0",
   "metadata": {},
   "outputs": [
    {
     "name": "stdout",
     "output_type": "stream",
     "text": [
      "08:44:33\n"
     ]
    }
   ],
   "source": [
    "print(time)"
   ]
  },
  {
   "cell_type": "code",
   "execution_count": 21,
   "id": "314636d5-93a9-4720-bfa7-dfe399d5050a",
   "metadata": {},
   "outputs": [
    {
     "data": {
      "text/plain": [
       "8"
      ]
     },
     "execution_count": 21,
     "metadata": {},
     "output_type": "execute_result"
    }
   ],
   "source": [
    "time.hour"
   ]
  },
  {
   "cell_type": "code",
   "execution_count": 22,
   "id": "6001db4b-675c-43e5-b00a-b37c6821745c",
   "metadata": {},
   "outputs": [
    {
     "data": {
      "text/plain": [
       "44"
      ]
     },
     "execution_count": 22,
     "metadata": {},
     "output_type": "execute_result"
    }
   ],
   "source": [
    "time.minute\n"
   ]
  },
  {
   "cell_type": "code",
   "execution_count": 23,
   "id": "634a4129-7606-4e87-855d-1fa37d4f7d9c",
   "metadata": {},
   "outputs": [
    {
     "data": {
      "text/plain": [
       "'1900/01/01 08:44:33'"
      ]
     },
     "execution_count": 23,
     "metadata": {},
     "output_type": "execute_result"
    }
   ],
   "source": [
    "time.strftime(\"%Y/%m/%d %H:%M:%S\")"
   ]
  },
  {
   "cell_type": "code",
   "execution_count": 24,
   "id": "e77039ae-c30d-4b06-aca9-92ec0b968e22",
   "metadata": {},
   "outputs": [],
   "source": [
    "nst = datetime.timezone(datetime.timedelta(hours=5, minutes= 45))"
   ]
  },
  {
   "cell_type": "code",
   "execution_count": 25,
   "id": "1d496550-da6f-451e-b709-ba000036fb4b",
   "metadata": {},
   "outputs": [
    {
     "name": "stdout",
     "output_type": "stream",
     "text": [
      "UTC+05:45\n"
     ]
    }
   ],
   "source": [
    "print(nst)"
   ]
  },
  {
   "cell_type": "code",
   "execution_count": 26,
   "id": "1033f8f6-e6e2-4dc2-b446-564c840da339",
   "metadata": {},
   "outputs": [],
   "source": [
    "time1 = datetime.time(8,44,25)\n",
    "time2 = datetime.time(6,44,25)"
   ]
  },
  {
   "cell_type": "code",
   "execution_count": 27,
   "id": "a01a3a25-5531-4c76-add0-ef6a81ab63c2",
   "metadata": {},
   "outputs": [
    {
     "data": {
      "text/plain": [
       "'08:44:25'"
      ]
     },
     "execution_count": 27,
     "metadata": {},
     "output_type": "execute_result"
    }
   ],
   "source": [
    "time1.strftime(\"%H:%M:%S\")"
   ]
  },
  {
   "cell_type": "markdown",
   "id": "88101d5a-5dae-4a85-a15c-87c0330c1751",
   "metadata": {},
   "source": [
    "Each class of `datetime` module is associated with a number of methods. Here are some of the important methods of respective classes in the Python `datetime` module:\n",
    "\n",
    "- **class datetime.date:**\n",
    "    - `today()`: Returns the current date.\n",
    "    - `fromisoformat(date_string)`: Returns a date object corresponding to a date string in the format 'YYYY-MM-DD'.\n",
    "    - `weekday()`: Returns the day of the week as an integer, where Monday is 0 and Sunday is 6.\n",
    "    - `strftime(format)`: Returns a string representing the date according to the format string specified.\n",
    "\n",
    "- **class datetime.time:**\n",
    "    - `hour`: Returns the hour of the time as an integer, in the range 0 to 23.\n",
    "    - `minute`: Returns the minute of the time as an integer, in the range 0 to 59.\n",
    "    - `second`: Returns the second of the time as an integer, in the range 0 to 59.\n",
    "    - `strftime(format)`: Returns a string representing the time according to the format string specified.\n",
    "\n",
    "- **class datetime.datetime:**\n",
    "    - `now([tz])`: Returns the current date and time as a datetime object.\n",
    "    - `fromtimestamp(timestamp[, tz])`: Returns a datetime object corresponding to a POSIX timestamp.\n",
    "    - `ctime()`: Returns a string representing the datetime object in the format 'Day Month Date Time Year'.\n",
    "    - `strftime(format)`: Returns a string representing the datetime object according to the format string specified.\n",
    "\n",
    "- **class datetime.timedelta:**\n",
    "    - `days`: Returns the number of days in the timedelta object.\n",
    "    - `seconds`: Returns the number of seconds in the timedelta object.\n",
    "    - `total_seconds()`: Returns the total number of seconds in the timedelta object.\n",
    "    - `__add__(other)`: Adds two timedelta objects together.\n",
    "    \n",
    "- **class datetime.tzinfo:**\n",
    "    - `utcoffset(self, dt)`: returns the UTC offset for a given datetime object.\n",
    "    - `dst(self, dt)`: returns the daylight saving time (DST) adjustment, if any, for a given datetime object.\n",
    "    - `tzname(self, dt)`: returns the name of the time zone.\n",
    "    - `fromutc(self, dt)`: converts a UTC time to the local time for the time zone.\n",
    "    - `localize(self, dt, is_dst=None)`: attaches the time zone information to a naive datetime object.\n",
    "    - `normalize(self, dt)`: adjusts the date and time for the time zone."
   ]
  },
  {
   "cell_type": "code",
   "execution_count": null,
   "id": "7b8397c1-4e66-43e9-8f28-9a600be40c05",
   "metadata": {},
   "outputs": [],
   "source": []
  },
  {
   "cell_type": "code",
   "execution_count": null,
   "id": "88e9ba90-f60b-4b3f-949d-169d18b855ee",
   "metadata": {},
   "outputs": [],
   "source": []
  },
  {
   "cell_type": "code",
   "execution_count": null,
   "id": "1da1a33f-7a21-4c98-8409-7405e7149c38",
   "metadata": {},
   "outputs": [],
   "source": []
  },
  {
   "cell_type": "code",
   "execution_count": null,
   "id": "e8801ade-1ce3-41ed-9f05-880c22dfe47f",
   "metadata": {},
   "outputs": [],
   "source": []
  },
  {
   "cell_type": "code",
   "execution_count": null,
   "id": "51e1005c-e9e2-4cc0-a0b1-2c0296464a13",
   "metadata": {},
   "outputs": [],
   "source": []
  },
  {
   "cell_type": "code",
   "execution_count": null,
   "id": "a0d38e19-59ee-4de8-bd8d-532e5975870a",
   "metadata": {},
   "outputs": [],
   "source": []
  },
  {
   "cell_type": "code",
   "execution_count": null,
   "id": "987add60-e02e-4c17-8df3-e478452cfd79",
   "metadata": {},
   "outputs": [],
   "source": []
  },
  {
   "cell_type": "code",
   "execution_count": null,
   "id": "c000f66f-20de-4639-8088-d11fdf3363c8",
   "metadata": {},
   "outputs": [],
   "source": []
  },
  {
   "cell_type": "code",
   "execution_count": null,
   "id": "f17f715e-76c4-4e88-891e-095a536a7fb2",
   "metadata": {},
   "outputs": [],
   "source": []
  },
  {
   "cell_type": "code",
   "execution_count": null,
   "id": "e4c9949a-93aa-4b47-aaf2-af8a31010eb6",
   "metadata": {},
   "outputs": [],
   "source": []
  },
  {
   "cell_type": "code",
   "execution_count": null,
   "id": "45d87e1d-6dc0-447f-bcb7-cd2867889efd",
   "metadata": {},
   "outputs": [],
   "source": []
  },
  {
   "cell_type": "code",
   "execution_count": null,
   "id": "7d0eaf3d-820a-410e-b415-a80077f44ccc",
   "metadata": {},
   "outputs": [],
   "source": []
  },
  {
   "cell_type": "code",
   "execution_count": null,
   "id": "352e74f3-52d5-4eb5-bc97-c203c93a0cb1",
   "metadata": {},
   "outputs": [],
   "source": []
  },
  {
   "cell_type": "code",
   "execution_count": null,
   "id": "fc16424c-5995-46a8-be68-b053a6d226e1",
   "metadata": {},
   "outputs": [],
   "source": []
  },
  {
   "cell_type": "code",
   "execution_count": null,
   "id": "4edb2d0a-fe70-4787-9da2-871d9abc4097",
   "metadata": {},
   "outputs": [],
   "source": []
  },
  {
   "cell_type": "code",
   "execution_count": null,
   "id": "57e1a266-279b-4094-b73a-7558b19c41c5",
   "metadata": {},
   "outputs": [],
   "source": []
  },
  {
   "cell_type": "code",
   "execution_count": null,
   "id": "884d50e2-d374-4725-b05b-9b416de5e973",
   "metadata": {},
   "outputs": [],
   "source": []
  },
  {
   "cell_type": "code",
   "execution_count": null,
   "id": "84f4d7b0-b573-463c-8697-58562b0b1748",
   "metadata": {},
   "outputs": [],
   "source": []
  },
  {
   "cell_type": "code",
   "execution_count": null,
   "id": "93fe13e7-ad48-4aef-a031-5fc38cb1e4d9",
   "metadata": {},
   "outputs": [],
   "source": []
  },
  {
   "cell_type": "code",
   "execution_count": null,
   "id": "a8b76961-bba3-4281-ac4f-0569184c0854",
   "metadata": {},
   "outputs": [],
   "source": []
  },
  {
   "cell_type": "code",
   "execution_count": null,
   "id": "182aaf1a-25c3-44d5-9c4f-f2692ca6616d",
   "metadata": {},
   "outputs": [],
   "source": []
  },
  {
   "cell_type": "code",
   "execution_count": null,
   "id": "473ab8c6-6ac7-47d9-86b9-4e708763a7b4",
   "metadata": {},
   "outputs": [],
   "source": []
  },
  {
   "cell_type": "code",
   "execution_count": null,
   "id": "34c24c19-0465-46c4-a6ca-1f398c40562b",
   "metadata": {},
   "outputs": [],
   "source": []
  }
 ],
 "metadata": {
  "kernelspec": {
   "display_name": "Python 3 (ipykernel)",
   "language": "python",
   "name": "python3"
  },
  "language_info": {
   "codemirror_mode": {
    "name": "ipython",
    "version": 3
   },
   "file_extension": ".py",
   "mimetype": "text/x-python",
   "name": "python",
   "nbconvert_exporter": "python",
   "pygments_lexer": "ipython3",
   "version": "3.13.0"
  }
 },
 "nbformat": 4,
 "nbformat_minor": 5
}
