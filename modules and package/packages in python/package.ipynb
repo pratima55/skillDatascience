{
 "cells": [
  {
   "cell_type": "code",
   "execution_count": 4,
   "id": "2f63b0d4-6f3a-4b9e-bf02-ba77c0fdaa5c",
   "metadata": {},
   "outputs": [
    {
     "ename": "ImportError",
     "evalue": "cannot import name 'Sum' from 'my_calculator.add_two' (E:\\pythonds\\skillDatascience\\modules and package\\packages in python\\my_calculator\\add_two.py)",
     "output_type": "error",
     "traceback": [
      "\u001b[1;31m---------------------------------------------------------------------------\u001b[0m",
      "\u001b[1;31mImportError\u001b[0m                               Traceback (most recent call last)",
      "Cell \u001b[1;32mIn[4], line 1\u001b[0m\n\u001b[1;32m----> 1\u001b[0m \u001b[38;5;28;01mfrom\u001b[39;00m \u001b[38;5;21;01mmy_calculator\u001b[39;00m\u001b[38;5;21;01m.\u001b[39;00m\u001b[38;5;21;01madd_two\u001b[39;00m \u001b[38;5;28;01mimport\u001b[39;00m Sum \u001b[38;5;28;01mas\u001b[39;00m add_two_number\n",
      "\u001b[1;31mImportError\u001b[0m: cannot import name 'Sum' from 'my_calculator.add_two' (E:\\pythonds\\skillDatascience\\modules and package\\packages in python\\my_calculator\\add_two.py)"
     ]
    }
   ],
   "source": [
    "from my_calculator.add_two import Sum as add_two_number"
   ]
  },
  {
   "cell_type": "code",
   "execution_count": null,
   "id": "5d39d1cf-850f-43ce-af14-ab0c6bdbd228",
   "metadata": {},
   "outputs": [],
   "source": []
  }
 ],
 "metadata": {
  "kernelspec": {
   "display_name": "Python 3 (ipykernel)",
   "language": "python",
   "name": "python3"
  },
  "language_info": {
   "codemirror_mode": {
    "name": "ipython",
    "version": 3
   },
   "file_extension": ".py",
   "mimetype": "text/x-python",
   "name": "python",
   "nbconvert_exporter": "python",
   "pygments_lexer": "ipython3",
   "version": "3.13.0"
  }
 },
 "nbformat": 4,
 "nbformat_minor": 5
}
