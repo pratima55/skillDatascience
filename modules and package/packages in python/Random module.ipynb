{
 "cells": [
  {
   "cell_type": "markdown",
   "id": "3252577a-2f55-4f21-b234-f30b8f2d8d7e",
   "metadata": {},
   "source": [
    "## Python Random Module"
   ]
  },
  {
   "cell_type": "markdown",
   "id": "e68ba2ef-8a17-4891-991c-2138086ccc49",
   "metadata": {},
   "source": [
    "## Uniform distribution functions\n",
    "\n",
    "These functions geenrate random numbers that are uniformily distributes between two values.\n",
    "1. "
   ]
  },
  {
   "cell_type": "code",
   "execution_count": 2,
   "id": "c1d43632-b809-40fb-87f6-08c4976f68fd",
   "metadata": {},
   "outputs": [],
   "source": [
    "import random"
   ]
  },
  {
   "cell_type": "code",
   "execution_count": 3,
   "id": "129e6f9a-13cc-4e14-9aea-392020c42e57",
   "metadata": {},
   "outputs": [
    {
     "data": {
      "text/plain": [
       "0.8268177643620465"
      ]
     },
     "execution_count": 3,
     "metadata": {},
     "output_type": "execute_result"
    }
   ],
   "source": [
    "random.random()"
   ]
  },
  {
   "cell_type": "code",
   "execution_count": 4,
   "id": "2f5741e5-ffeb-4e4f-95b9-8f6fe5f34344",
   "metadata": {},
   "outputs": [
    {
     "data": {
      "text/plain": [
       "141.10627361290108"
      ]
     },
     "execution_count": 4,
     "metadata": {},
     "output_type": "execute_result"
    }
   ],
   "source": [
    "random.uniform(100,200)"
   ]
  },
  {
   "cell_type": "code",
   "execution_count": 5,
   "id": "cbd5a246-81ef-408d-a2be-f5841c9101d4",
   "metadata": {},
   "outputs": [
    {
     "data": {
      "text/plain": [
       "97"
      ]
     },
     "execution_count": 5,
     "metadata": {},
     "output_type": "execute_result"
    }
   ],
   "source": [
    "random.randint(1,100)"
   ]
  },
  {
   "cell_type": "code",
   "execution_count": 6,
   "id": "5b60a0a4-b596-43fc-8964-3f4faec8bb1f",
   "metadata": {},
   "outputs": [
    {
     "data": {
      "text/plain": [
       "0"
      ]
     },
     "execution_count": 6,
     "metadata": {},
     "output_type": "execute_result"
    }
   ],
   "source": [
    "random.randint(-1,5)"
   ]
  },
  {
   "cell_type": "code",
   "execution_count": 7,
   "id": "a001539e-b782-485b-aa41-f5980c2b09e0",
   "metadata": {},
   "outputs": [
    {
     "data": {
      "text/plain": [
       "90"
      ]
     },
     "execution_count": 7,
     "metadata": {},
     "output_type": "execute_result"
    }
   ],
   "source": [
    "random.randrange(0,101,5)"
   ]
  },
  {
   "cell_type": "code",
   "execution_count": 8,
   "id": "7baff066-2319-46f8-ad80-3f2f625926e8",
   "metadata": {},
   "outputs": [
    {
     "data": {
      "text/plain": [
       "1"
      ]
     },
     "execution_count": 8,
     "metadata": {},
     "output_type": "execute_result"
    }
   ],
   "source": [
    "random.randrange(5)"
   ]
  },
  {
   "cell_type": "code",
   "execution_count": 9,
   "id": "94e90d7b-40a1-4524-a8ad-efcbf1edd687",
   "metadata": {},
   "outputs": [
    {
     "data": {
      "text/plain": [
       "1"
      ]
     },
     "execution_count": 9,
     "metadata": {},
     "output_type": "execute_result"
    }
   ],
   "source": [
    "random.randrange(-1,5)"
   ]
  },
  {
   "cell_type": "code",
   "execution_count": 10,
   "id": "52015430-e77c-49ab-b9c2-40918ac5f217",
   "metadata": {},
   "outputs": [
    {
     "ename": "TypeError",
     "evalue": "'float' object cannot be interpreted as an integer",
     "output_type": "error",
     "traceback": [
      "\u001b[1;31m---------------------------------------------------------------------------\u001b[0m",
      "\u001b[1;31mTypeError\u001b[0m                                 Traceback (most recent call last)",
      "Cell \u001b[1;32mIn[10], line 1\u001b[0m\n\u001b[1;32m----> 1\u001b[0m \u001b[43mrandom\u001b[49m\u001b[38;5;241;43m.\u001b[39;49m\u001b[43mrandrange\u001b[49m\u001b[43m(\u001b[49m\u001b[38;5;241;43m-\u001b[39;49m\u001b[38;5;241;43m5\u001b[39;49m\u001b[43m,\u001b[49m\u001b[38;5;241;43m10.3\u001b[39;49m\u001b[43m)\u001b[49m\n",
      "File \u001b[1;32m~\\AppData\\Local\\Programs\\Python\\Python313\\Lib\\random.py:316\u001b[0m, in \u001b[0;36mRandom.randrange\u001b[1;34m(self, start, stop, step)\u001b[0m\n\u001b[0;32m    313\u001b[0m     \u001b[38;5;28;01mraise\u001b[39;00m \u001b[38;5;167;01mValueError\u001b[39;00m(\u001b[38;5;124m\"\u001b[39m\u001b[38;5;124mempty range for randrange()\u001b[39m\u001b[38;5;124m\"\u001b[39m)\n\u001b[0;32m    315\u001b[0m \u001b[38;5;66;03m# Stop argument supplied.\u001b[39;00m\n\u001b[1;32m--> 316\u001b[0m istop \u001b[38;5;241m=\u001b[39m \u001b[43m_index\u001b[49m\u001b[43m(\u001b[49m\u001b[43mstop\u001b[49m\u001b[43m)\u001b[49m\n\u001b[0;32m    317\u001b[0m width \u001b[38;5;241m=\u001b[39m istop \u001b[38;5;241m-\u001b[39m istart\n\u001b[0;32m    318\u001b[0m istep \u001b[38;5;241m=\u001b[39m _index(step)\n",
      "\u001b[1;31mTypeError\u001b[0m: 'float' object cannot be interpreted as an integer"
     ]
    }
   ],
   "source": [
    "random.randrange(-5,10.3)"
   ]
  },
  {
   "cell_type": "code",
   "execution_count": 12,
   "id": "6a4ac8f1-e738-47d2-972d-ca075090f8ac",
   "metadata": {},
   "outputs": [
    {
     "name": "stdout",
     "output_type": "stream",
     "text": [
      "7\n"
     ]
    }
   ],
   "source": [
    "print(random.randrange(-5,10,3))"
   ]
  },
  {
   "cell_type": "markdown",
   "id": "882bb75e-ec3a-4da3-a72e-7f2f662b1511",
   "metadata": {},
   "source": [
    "## Sequence related functions\n",
    "\n",
    "These function are used to shuffle or shample from sequences.\n",
    "\n",
    "1. random.shuffle(seq, random): Does not return anything, but shuffles the original sequence in place. You can provide an optional random hunction to control the order of the shuffle\n",
    "\n",
    "2. random.sample(population,k): Return a new list that contains k unique elements randomly choosen from the given population(list,tuple, or any other iterable).\n",
    "\n",
    "3. random.choice(seq): Return a random element from the given sequence(list,tuple, or any other iterable)\n",
    "\n",
    "4. random.choices(population, weights= None, *, cum_weights= None, k=1): Returns a list of k elements randomly choosen from the population. You can provide optional weights or cum_weights agrements to specify the probability distribution of the elements."
   ]
  },
  {
   "cell_type": "code",
   "execution_count": 13,
   "id": "2b4c4693-7974-4746-9911-ba5dac5beda1",
   "metadata": {},
   "outputs": [],
   "source": [
    "import random"
   ]
  },
  {
   "cell_type": "code",
   "execution_count": 17,
   "id": "81ff234c-12a8-43ff-9134-d52af5c56079",
   "metadata": {},
   "outputs": [
    {
     "data": {
      "text/plain": [
       "'ace'"
      ]
     },
     "execution_count": 17,
     "metadata": {},
     "output_type": "execute_result"
    }
   ],
   "source": [
    "cards = [\"ace\", \"king\", \"queen\", \"jack\", \"ten\", \"nine\"]\n",
    "random.choice(cards)"
   ]
  },
  {
   "cell_type": "code",
   "execution_count": 24,
   "id": "71e267f4-b634-4c5c-9e54-b852a634a903",
   "metadata": {},
   "outputs": [
    {
     "data": {
      "text/plain": [
       "['ten', 'king', 'ace']"
      ]
     },
     "execution_count": 24,
     "metadata": {},
     "output_type": "execute_result"
    }
   ],
   "source": [
    "random.sample(cards,3)"
   ]
  },
  {
   "cell_type": "code",
   "execution_count": 28,
   "id": "a5d3a75d-4a74-4e07-98f7-d6db50ffaf79",
   "metadata": {},
   "outputs": [
    {
     "data": {
      "text/plain": [
       "['jack', 'ace', 'queen', 'ten', 'king', 'nine']"
      ]
     },
     "execution_count": 28,
     "metadata": {},
     "output_type": "execute_result"
    }
   ],
   "source": [
    "random.shuffle(cards)\n",
    "cards"
   ]
  },
  {
   "cell_type": "code",
   "execution_count": 35,
   "id": "dd79318a-cdd2-44b8-bad5-559c45624fa1",
   "metadata": {},
   "outputs": [
    {
     "data": {
      "text/plain": [
       "['ten', 'king', 'jack', 'ten', 'nine', 'jack', 'jack', 'jack', 'jack', 'nine']"
      ]
     },
     "execution_count": 35,
     "metadata": {},
     "output_type": "execute_result"
    }
   ],
   "source": [
    "weight =[1.0, 0.12 ,0.1, 0.4, 0.25, 0.33]\n",
    "\n",
    "random.choices(cards, weights = weight,  k=10)"
   ]
  },
  {
   "cell_type": "code",
   "execution_count": null,
   "id": "8c7d8f55-2fc3-4933-96cb-d06a15c5a916",
   "metadata": {},
   "outputs": [],
   "source": []
  },
  {
   "cell_type": "markdown",
   "id": "690b2529-730a-48c8-9dfa-90beec0d8044",
   "metadata": {},
   "source": [
    "## Randomness- related functions\n",
    "\n",
    "These functions are used to seed the random number generator or to generate random number using an external source of randomness.\n",
    "\n",
    "1. random.seed(a=None, version=2): Initialize the random number generator. If a is not specified or is NOne, the current system time is used as the seed. This function is useful if you want to generate reproducible random sequences.\n",
    "2. random.getstate(): Returns the current internal state of the random number generator as a tuple. This can be used to capture and save the state of the generator.\n",
    "3. random.setstate(state): Used in conjugation with the getstate(). It is used to restore the state of the random number generator back to the specified state."
   ]
  },
  {
   "cell_type": "code",
   "execution_count": 41,
   "id": "a4ba9b73-e795-47eb-b7e8-5495f4d52e45",
   "metadata": {},
   "outputs": [],
   "source": [
    "random.seed(99)"
   ]
  },
  {
   "cell_type": "code",
   "execution_count": 42,
   "id": "671db924-a25b-4e7a-a1d6-5bb6e8bd7835",
   "metadata": {},
   "outputs": [
    {
     "data": {
      "text/plain": [
       "7"
      ]
     },
     "execution_count": 42,
     "metadata": {},
     "output_type": "execute_result"
    }
   ],
   "source": [
    "random.randint(1,10)"
   ]
  },
  {
   "cell_type": "code",
   "execution_count": 43,
   "id": "9a5f00c7-dad9-48c7-81ef-cf003dd60fb9",
   "metadata": {},
   "outputs": [
    {
     "name": "stdout",
     "output_type": "stream",
     "text": [
      "Package                   Version\n",
      "------------------------- --------------\n",
      "anyio                     4.7.0\n",
      "argon2-cffi               23.1.0\n",
      "argon2-cffi-bindings      21.2.0\n",
      "arrow                     1.3.0\n",
      "asttokens                 3.0.0\n",
      "async-lru                 2.0.4\n",
      "attrs                     24.3.0\n",
      "babel                     2.16.0\n",
      "beautifulsoup4            4.12.3\n",
      "bleach                    6.2.0\n",
      "certifi                   2024.12.14\n",
      "cffi                      1.17.1\n",
      "charset-normalizer        3.4.1\n",
      "colorama                  0.4.6\n",
      "comm                      0.2.2\n",
      "debugpy                   1.8.11\n",
      "decorator                 5.1.1\n",
      "defusedxml                0.7.1\n",
      "executing                 2.1.0\n",
      "fastjsonschema            2.21.1\n",
      "fqdn                      1.5.1\n",
      "h11                       0.14.0\n",
      "httpcore                  1.0.7\n",
      "httpx                     0.28.1\n",
      "idna                      3.10\n",
      "ipykernel                 6.29.5\n",
      "ipython                   8.31.0\n",
      "ipywidgets                8.1.5\n",
      "isoduration               20.11.0\n",
      "jedi                      0.19.2\n",
      "Jinja2                    3.1.5\n",
      "json5                     0.10.0\n",
      "jsonpointer               3.0.0\n",
      "jsonschema                4.23.0\n",
      "jsonschema-specifications 2024.10.1\n",
      "jupyter                   1.1.1\n",
      "jupyter_client            8.6.3\n",
      "jupyter-console           6.6.3\n",
      "jupyter_core              5.7.2\n",
      "jupyter-events            0.11.0\n",
      "jupyter-lsp               2.2.5\n",
      "jupyter_server            2.15.0\n",
      "jupyter_server_terminals  0.5.3\n",
      "jupyterlab                4.3.4\n",
      "jupyterlab_pygments       0.3.0\n",
      "jupyterlab_server         2.27.3\n",
      "jupyterlab_widgets        3.0.13\n",
      "MarkupSafe                3.0.2\n",
      "matplotlib-inline         0.1.7\n",
      "mistune                   3.1.0\n",
      "nbclient                  0.10.2\n",
      "nbconvert                 7.16.5\n",
      "nbformat                  5.10.4\n",
      "nest-asyncio              1.6.0\n",
      "notebook                  7.3.2\n",
      "notebook_shim             0.2.4\n",
      "overrides                 7.7.0\n",
      "packaging                 24.2\n",
      "pandocfilters             1.5.1\n",
      "parso                     0.8.4\n",
      "pip                       24.2\n",
      "platformdirs              4.3.6\n",
      "prometheus_client         0.21.1\n",
      "prompt_toolkit            3.0.48\n",
      "psutil                    6.1.1\n",
      "pure_eval                 0.2.3\n",
      "pycparser                 2.22\n",
      "Pygments                  2.18.0\n",
      "python-dateutil           2.9.0.post0\n",
      "python-json-logger        3.2.1\n",
      "pywin32                   308\n",
      "pywinpty                  2.0.14\n",
      "PyYAML                    6.0.2\n",
      "pyzmq                     26.2.0\n",
      "referencing               0.35.1\n",
      "requests                  2.32.3\n",
      "rfc3339-validator         0.1.4\n",
      "rfc3986-validator         0.1.1\n",
      "rpds-py                   0.22.3\n",
      "Send2Trash                1.8.3\n",
      "setuptools                75.6.0\n",
      "six                       1.17.0\n",
      "sniffio                   1.3.1\n",
      "soupsieve                 2.6\n",
      "stack-data                0.6.3\n",
      "terminado                 0.18.1\n",
      "tinycss2                  1.4.0\n",
      "tornado                   6.4.2\n",
      "traitlets                 5.14.3\n",
      "types-python-dateutil     2.9.0.20241206\n",
      "uri-template              1.3.0\n",
      "urllib3                   2.3.0\n",
      "wcwidth                   0.2.13\n",
      "webcolors                 24.11.1\n",
      "webencodings              0.5.1\n",
      "websocket-client          1.8.0\n",
      "widgetsnbextension        4.0.13\n",
      "Note: you may need to restart the kernel to use updated packages.\n"
     ]
    }
   ],
   "source": [
    "pip list"
   ]
  },
  {
   "cell_type": "code",
   "execution_count": 45,
   "id": "106621ba-a242-4f4a-a553-d9331e222e4a",
   "metadata": {},
   "outputs": [
    {
     "data": {
      "text/plain": [
       "7"
      ]
     },
     "execution_count": 45,
     "metadata": {},
     "output_type": "execute_result"
    }
   ],
   "source": [
    "random.randint(1,10)"
   ]
  },
  {
   "cell_type": "code",
   "execution_count": 48,
   "id": "1cf20257-3404-4915-90bd-c56ad9cebe20",
   "metadata": {},
   "outputs": [
    {
     "name": "stdout",
     "output_type": "stream",
     "text": [
      "4 4 3\n"
     ]
    }
   ],
   "source": [
    "\n",
    "import random\n",
    "#get the state of the random number generator\n",
    "state = random.getstate()\n",
    "\n",
    "#generate some random numbers\n",
    "d= random.randint(1,10)\n",
    "e= random.randint(1,10)\n",
    "f= random.randint(1,10)\n",
    "\n",
    "print(d,e,f)\n"
   ]
  },
  {
   "cell_type": "markdown",
   "id": "5ca5bbfd-fea6-418c-8056-2d86a17c8e7b",
   "metadata": {},
   "source": [
    "## Distribution and probability density functions\n",
    "\n",
    "The random module provides several functions for generating random numebrs from specific probability distributions, such as the normal distribution, the exponential distribution, the gamma distribution.\n",
    "\n",
    "1. random.triangular(low,high, mode): generates random numebrs from a triangular distribution\n",
    "2. random.gauss(mu, sigma): generates a random float from a Gaussian distribution with mean mu and standard deviation sigma\n",
    "3. random.normalvariate(mean, stddev ): generated a random float from a normal(Gaussian) distribution with mean and standard deviation stddev\n",
    "4. random.expovariate(lambd): generates a random float from an exponential distribution with rate parameter lambd\n",
    "5. random.gammavariate(alpha, beta): generated random numbers from a gamma distribution\n",
    "6. random.betavariate(alpha, beta): generates a random float from a beta distribution with parameter alpha and beta\n",
    "7. random.paretovariate(alpha): generates a random float from Pareto distribution with shape parameter\n",
    "8. random.weibullvariate(alpha, beta) :Generates a random float form a Weibull distribution with shape parameter alpha and scale parameter beta"
   ]
  },
  {
   "cell_type": "code",
   "execution_count": 52,
   "id": "b01ee7d8-2112-42a4-9fe3-4c5e8a42ddfb",
   "metadata": {},
   "outputs": [
    {
     "name": "stdout",
     "output_type": "stream",
     "text": [
      "Triangular distribution: 2.76\n",
      "Normal distribution: 1.84\n",
      "Exponential distribution: 0.41\n",
      "Gamma distribution: 2.93\n",
      "Beta distribution: 0.31\n",
      "Pareto distribution: 1.17\n",
      "Weibull distribution: 0.01\n",
      "Gaussian distribution: 1.02\n"
     ]
    }
   ],
   "source": [
    "print(f\"Triangular distribution: {random.triangular(0,10,5):.2f}\")\n",
    "print(f\"Normal distribution: {random.normalvariate(0,1):.2f}\")\n",
    "print(f\"Exponential distribution: {random.expovariate(1):.2f}\")\n",
    "print(f\"Gamma distribution: {random.gammavariate(1,1):.2f}\")\n",
    "print(f\"Beta distribution: {random.betavariate(2,5):.2f}\")\n",
    "print(f\"Pareto distribution: {random.paretovariate(2):.2f}\")\n",
    "print(f\"Weibull distribution: {random.weibullvariate(1,1):.2f}\")\n",
    "print(f\"Gaussian distribution: {random.gauss(0,1):.2f}\")\n"
   ]
  },
  {
   "cell_type": "code",
   "execution_count": null,
   "id": "57cf15b6-eed4-4bc9-8900-4eecd648fb38",
   "metadata": {},
   "outputs": [],
   "source": []
  }
 ],
 "metadata": {
  "kernelspec": {
   "display_name": "Python 3 (ipykernel)",
   "language": "python",
   "name": "python3"
  },
  "language_info": {
   "codemirror_mode": {
    "name": "ipython",
    "version": 3
   },
   "file_extension": ".py",
   "mimetype": "text/x-python",
   "name": "python",
   "nbconvert_exporter": "python",
   "pygments_lexer": "ipython3",
   "version": "3.13.0"
  }
 },
 "nbformat": 4,
 "nbformat_minor": 5
}
