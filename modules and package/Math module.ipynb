{
 "cells": [
  {
   "cell_type": "markdown",
   "id": "02ae65a4-b46a-4f4d-baef-4876b99b5b68",
   "metadata": {},
   "source": [
    "# Math Module"
   ]
  },
  {
   "cell_type": "markdown",
   "id": "e34bc47b-eca9-40ac-8484-f23bac2965bc",
   "metadata": {},
   "source": [
    "## Arithematic functions\n",
    "\n",
    "These are functions that perform  basic arithematic operattions such as addition, substraction, multiplication, and division.\n",
    "\n",
    "1. math.pow(x,y): Returns the yth power of x\n",
    "2. math.sqrt(x): Returns the square root of x\n",
    "3. math.ceil(x): Returns the smallest integer greater than or equal to x\n",
    "4. math.floor(x): Returns the integer after rounding it down towards negative infinity\n",
    "5. math.trunc(x): Returns the integer part of x after rounding it down towards zero\n",
    "6. math.fabs(x): Returns the absolute value of x"
   ]
  },
  {
   "cell_type": "code",
   "execution_count": 1,
   "id": "d0d43ccf-dfe6-47f9-b385-57c2bedadf98",
   "metadata": {},
   "outputs": [
    {
     "data": {
      "text/plain": [
       "2"
      ]
     },
     "execution_count": 1,
     "metadata": {},
     "output_type": "execute_result"
    }
   ],
   "source": [
    "import math\n",
    "math.floor(2.44)"
   ]
  },
  {
   "cell_type": "code",
   "execution_count": 2,
   "id": "c40774c6-374d-4fac-9596-03ec682885a4",
   "metadata": {},
   "outputs": [
    {
     "data": {
      "text/plain": [
       "3"
      ]
     },
     "execution_count": 2,
     "metadata": {},
     "output_type": "execute_result"
    }
   ],
   "source": [
    "math.ceil(2.455)"
   ]
  },
  {
   "cell_type": "code",
   "execution_count": 3,
   "id": "d02ad111-f95a-4008-8ccc-fb2610504c4c",
   "metadata": {},
   "outputs": [
    {
     "data": {
      "text/plain": [
       "2"
      ]
     },
     "execution_count": 3,
     "metadata": {},
     "output_type": "execute_result"
    }
   ],
   "source": [
    "math.trunc(2.9)"
   ]
  },
  {
   "cell_type": "code",
   "execution_count": 4,
   "id": "2025d953-3e76-41d3-b187-299a8ee9d34f",
   "metadata": {},
   "outputs": [
    {
     "data": {
      "text/plain": [
       "3.0"
      ]
     },
     "execution_count": 4,
     "metadata": {},
     "output_type": "execute_result"
    }
   ],
   "source": [
    "math.fabs(-3)"
   ]
  },
  {
   "cell_type": "markdown",
   "id": "fd669365-e98f-40ce-bd95-5bf39b7a5119",
   "metadata": {},
   "source": [
    "## Trigonometric Functions:\n",
    "\n",
    "these are function taht deal with angles and their relationship to each other.\n",
    "\n",
    "1. math.sin(x): return the sine of x (in radians)\n",
    "2. math.cos(x): Returns the cosine of x(in radians)\n",
    "3. math.tan(x): Returns the tan of x(in radians)\n",
    "4. math.radians(x): converts x from degree to radians\n",
    "5. math.degrees(x): converts x from radians to degrees\n",
    "6. math.hypoy(x,y): Returns the length of the hypotenuse of a right triangle with sides x and y"
   ]
  },
  {
   "cell_type": "code",
   "execution_count": 5,
   "id": "21e2e740-b3b4-4e95-befe-b8130bbc0a96",
   "metadata": {},
   "outputs": [
    {
     "data": {
      "text/plain": [
       "0.49999999999999994"
      ]
     },
     "execution_count": 5,
     "metadata": {},
     "output_type": "execute_result"
    }
   ],
   "source": [
    "d_to_r = math.radians(30)\n",
    "math.sin(d_to_r)"
   ]
  },
  {
   "cell_type": "code",
   "execution_count": 8,
   "id": "6352a522-ed65-4745-9edf-eeb7351cbe38",
   "metadata": {},
   "outputs": [
    {
     "data": {
      "text/plain": [
       "5.0"
      ]
     },
     "execution_count": 8,
     "metadata": {},
     "output_type": "execute_result"
    }
   ],
   "source": [
    "math.hypot(3,4)"
   ]
  },
  {
   "cell_type": "code",
   "execution_count": null,
   "id": "4ebd98df-83f0-4c19-a0b5-6d3b85bf15e7",
   "metadata": {},
   "outputs": [],
   "source": []
  },
  {
   "cell_type": "markdown",
   "id": "46371a08-29a2-4bde-8039-e0cea31a9a16",
   "metadata": {},
   "source": [
    "## Exponential and Logarithmic Functions:\n",
    "\n",
    "These are functions that deals with the exponential growth and decay of values over time.\n",
    "\n",
    "1. math.exp(1) : Returns the exponential of x.\n",
    "2. math.log(x) : Returns the natural logarithm of x.\n",
    "3. math.log(x) : Returns the base 10 logarithm  of x."
   ]
  },
  {
   "cell_type": "code",
   "execution_count": 9,
   "id": "4e23250d-b9dc-4814-912a-ac8b681e8617",
   "metadata": {},
   "outputs": [
    {
     "data": {
      "text/plain": [
       "1.0"
      ]
     },
     "execution_count": 9,
     "metadata": {},
     "output_type": "execute_result"
    }
   ],
   "source": [
    "math.log10(10)"
   ]
  },
  {
   "cell_type": "code",
   "execution_count": 10,
   "id": "92b3c0ab-a7bf-427d-b1b1-37b896ddc223",
   "metadata": {},
   "outputs": [
    {
     "data": {
      "text/plain": [
       "3.2188758248682006"
      ]
     },
     "execution_count": 10,
     "metadata": {},
     "output_type": "execute_result"
    }
   ],
   "source": [
    "math.log(25)"
   ]
  },
  {
   "cell_type": "code",
   "execution_count": 11,
   "id": "b1ebc263-3392-4865-992b-14d6ef195efb",
   "metadata": {},
   "outputs": [
    {
     "data": {
      "text/plain": [
       "54.598150033144236"
      ]
     },
     "execution_count": 11,
     "metadata": {},
     "output_type": "execute_result"
    }
   ],
   "source": [
    "math.exp(4)"
   ]
  },
  {
   "cell_type": "code",
   "execution_count": null,
   "id": "f510dab3-985f-427b-8a8c-ceaa1f167cec",
   "metadata": {},
   "outputs": [],
   "source": []
  },
  {
   "cell_type": "markdown",
   "id": "138a0e22-e730-4b55-9ee7-52bdf21d08b0",
   "metadata": {},
   "source": [
    "## Constants:\n",
    "\n",
    "The math module also includes several mathematical constants that are popular among the mathematicians. You may also be familiar with most of the.\n",
    "\n",
    "1. math.pi : Returns the mathematical constant pi\n",
    "2. math.e : Returns the mathematical constant e (2.718281...)\n",
    "3. math.inf: Returns the floating point positive inifinity value\n",
    "4. math.tau: Returns the mathematical constant tau (2*pi)\n",
    "5. math.nan: Returns the floating point not-a-number (NaN) value\n"
   ]
  },
  {
   "cell_type": "code",
   "execution_count": 12,
   "id": "03932ae9-917e-452e-9b26-f2f0d3774368",
   "metadata": {},
   "outputs": [
    {
     "data": {
      "text/plain": [
       "3.141592653589793"
      ]
     },
     "execution_count": 12,
     "metadata": {},
     "output_type": "execute_result"
    }
   ],
   "source": [
    "math.pi\n"
   ]
  },
  {
   "cell_type": "code",
   "execution_count": 13,
   "id": "333b909c-7bbf-4811-b9dd-422240368072",
   "metadata": {},
   "outputs": [
    {
     "data": {
      "text/plain": [
       "2.718281828459045"
      ]
     },
     "execution_count": 13,
     "metadata": {},
     "output_type": "execute_result"
    }
   ],
   "source": [
    "math.e"
   ]
  },
  {
   "cell_type": "code",
   "execution_count": 14,
   "id": "ac6d9260-c802-4ab7-bd7d-47f96a4cbf6c",
   "metadata": {},
   "outputs": [
    {
     "data": {
      "text/plain": [
       "inf"
      ]
     },
     "execution_count": 14,
     "metadata": {},
     "output_type": "execute_result"
    }
   ],
   "source": [
    "math.inf"
   ]
  },
  {
   "cell_type": "markdown",
   "id": "93658f53-6ea2-4f60-a59a-fa4f9a336d6e",
   "metadata": {},
   "source": [
    "## Special Functions:\n",
    "\n",
    "These are functions that deal with special and more complex mathematical concepts.\n",
    "\n",
    "1. math.factorial(x): Return the factorial of x(x!)\n",
    "2. math.com(n,k): "
   ]
  },
  {
   "cell_type": "code",
   "execution_count": 15,
   "id": "230ff9af-37f1-4d01-9b5a-644d467eabdf",
   "metadata": {},
   "outputs": [
    {
     "data": {
      "text/plain": [
       "1124000727777607680000"
      ]
     },
     "execution_count": 15,
     "metadata": {},
     "output_type": "execute_result"
    }
   ],
   "source": [
    "math.factorial(22)"
   ]
  },
  {
   "cell_type": "code",
   "execution_count": 18,
   "id": "1fe29a3c-6876-42e8-850f-a51610f4f5eb",
   "metadata": {},
   "outputs": [
    {
     "data": {
      "text/plain": [
       "252"
      ]
     },
     "execution_count": 18,
     "metadata": {},
     "output_type": "execute_result"
    }
   ],
   "source": [
    "math.comb(10,5)"
   ]
  },
  {
   "cell_type": "code",
   "execution_count": 19,
   "id": "df81190e-3a53-488f-9241-e8a15a015cc0",
   "metadata": {},
   "outputs": [
    {
     "data": {
      "text/plain": [
       "5.916079783099616"
      ]
     },
     "execution_count": 19,
     "metadata": {},
     "output_type": "execute_result"
    }
   ],
   "source": [
    "math.sqrt(35)"
   ]
  },
  {
   "cell_type": "code",
   "execution_count": 20,
   "id": "56d09e16-3177-428c-9bbc-91629595fab4",
   "metadata": {},
   "outputs": [
    {
     "data": {
      "text/plain": [
       "5"
      ]
     },
     "execution_count": 20,
     "metadata": {},
     "output_type": "execute_result"
    }
   ],
   "source": [
    "math.isqrt(35)"
   ]
  },
  {
   "cell_type": "code",
   "execution_count": 21,
   "id": "48ee1ce0-1b08-4827-b101-f51105663601",
   "metadata": {},
   "outputs": [
    {
     "data": {
      "text/plain": [
       "2.8284271247461903"
      ]
     },
     "execution_count": 21,
     "metadata": {},
     "output_type": "execute_result"
    }
   ],
   "source": [
    "math.dist((4,5), (6,7))"
   ]
  },
  {
   "cell_type": "code",
   "execution_count": 22,
   "id": "7ca82c1c-1799-4ca4-a6ef-bbc347141afa",
   "metadata": {},
   "outputs": [
    {
     "data": {
      "text/plain": [
       "False"
      ]
     },
     "execution_count": 22,
     "metadata": {},
     "output_type": "execute_result"
    }
   ],
   "source": [
    "math.isclose(0.1,0.3)"
   ]
  },
  {
   "cell_type": "code",
   "execution_count": null,
   "id": "58df8049-ddef-4e86-8998-5f4ba3f0bbd5",
   "metadata": {},
   "outputs": [],
   "source": []
  },
  {
   "cell_type": "code",
   "execution_count": 23,
   "id": "667d39d9-0df4-4e76-a568-91abfc53c762",
   "metadata": {},
   "outputs": [
    {
     "data": {
      "text/plain": [
       "True"
      ]
     },
     "execution_count": 23,
     "metadata": {},
     "output_type": "execute_result"
    }
   ],
   "source": [
    "math.isclose(0.1,0.3, rel_tol =0.3, abs_tol = 0.3)"
   ]
  },
  {
   "cell_type": "code",
   "execution_count": 24,
   "id": "eb4ac6ee-e252-43cb-aac1-c19863cdfc7c",
   "metadata": {},
   "outputs": [
    {
     "data": {
      "text/plain": [
       "0.9999779095030014"
      ]
     },
     "execution_count": 24,
     "metadata": {},
     "output_type": "execute_result"
    }
   ],
   "source": [
    "math.erf(3)"
   ]
  },
  {
   "cell_type": "code",
   "execution_count": 28,
   "id": "a07ac8aa-e487-4766-b421-72d2fb919259",
   "metadata": {},
   "outputs": [
    {
     "data": {
      "text/plain": [
       "2.3632718012073544"
      ]
     },
     "execution_count": 28,
     "metadata": {},
     "output_type": "execute_result"
    }
   ],
   "source": [
    "math.gamma(-1.5)\n"
   ]
  },
  {
   "cell_type": "code",
   "execution_count": 29,
   "id": "af193017-577d-4baf-9d5d-e6f5bfe4acd4",
   "metadata": {},
   "outputs": [
    {
     "name": "stdout",
     "output_type": "stream",
     "text": [
      "Python 3.13.0\n"
     ]
    }
   ],
   "source": [
    "!python --version"
   ]
  },
  {
   "cell_type": "code",
   "execution_count": null,
   "id": "f6bebc9f-5667-4fc9-8fcc-689d2942fd40",
   "metadata": {},
   "outputs": [],
   "source": []
  }
 ],
 "metadata": {
  "kernelspec": {
   "display_name": "Python 3 (ipykernel)",
   "language": "python",
   "name": "python3"
  },
  "language_info": {
   "codemirror_mode": {
    "name": "ipython",
    "version": 3
   },
   "file_extension": ".py",
   "mimetype": "text/x-python",
   "name": "python",
   "nbconvert_exporter": "python",
   "pygments_lexer": "ipython3",
   "version": "3.13.0"
  }
 },
 "nbformat": 4,
 "nbformat_minor": 5
}
