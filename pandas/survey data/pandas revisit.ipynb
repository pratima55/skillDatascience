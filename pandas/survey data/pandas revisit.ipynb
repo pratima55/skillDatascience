{
 "cells": [
  {
   "cell_type": "code",
   "execution_count": 1,
   "id": "372f08ba-b06c-4fea-981d-6817f788cbe8",
   "metadata": {},
   "outputs": [],
   "source": [
    "import pandas as pd\n",
    "import seaborn as sns\n",
    "import numpy as np\n",
    "import scipy.stats as stats\n"
   ]
  },
  {
   "cell_type": "code",
   "execution_count": 2,
   "id": "bf134ae5-9732-464b-b82e-3d6c021a186c",
   "metadata": {},
   "outputs": [],
   "source": [
    "columns_name = [\n",
    "    'timestamp','sex','matric_gpa_%' ,'study_year','faculty','gpa_%_2023','accommodation_status',\n",
    "    'monthly_allowance','scholarship','study_hours_week','socialising_week','drinks_night',\n",
    "    'classes_missed','modules_failed','in_relationship','parental_approval','relationship_parents'\n",
    "]\n",
    "\n",
    "student_data  = pd.read_csv(\"Stats survey.csv\", names = columns_name, header = 0)"
   ]
  },
  {
   "cell_type": "code",
   "execution_count": 3,
   "id": "2b036b0b-26a4-4eb8-b488-233f476b0b2c",
   "metadata": {},
   "outputs": [
    {
     "data": {
      "text/html": [
       "<div>\n",
       "<style scoped>\n",
       "    .dataframe tbody tr th:only-of-type {\n",
       "        vertical-align: middle;\n",
       "    }\n",
       "\n",
       "    .dataframe tbody tr th {\n",
       "        vertical-align: top;\n",
       "    }\n",
       "\n",
       "    .dataframe thead th {\n",
       "        text-align: right;\n",
       "    }\n",
       "</style>\n",
       "<table border=\"1\" class=\"dataframe\">\n",
       "  <thead>\n",
       "    <tr style=\"text-align: right;\">\n",
       "      <th></th>\n",
       "      <th>timestamp</th>\n",
       "      <th>sex</th>\n",
       "      <th>matric_gpa_%</th>\n",
       "      <th>study_year</th>\n",
       "      <th>faculty</th>\n",
       "      <th>gpa_%_2023</th>\n",
       "      <th>accommodation_status</th>\n",
       "      <th>monthly_allowance</th>\n",
       "      <th>scholarship</th>\n",
       "      <th>study_hours_week</th>\n",
       "      <th>socialising_week</th>\n",
       "      <th>drinks_night</th>\n",
       "      <th>classes_missed</th>\n",
       "      <th>modules_failed</th>\n",
       "      <th>in_relationship</th>\n",
       "      <th>parental_approval</th>\n",
       "      <th>relationship_parents</th>\n",
       "    </tr>\n",
       "  </thead>\n",
       "  <tbody>\n",
       "    <tr>\n",
       "      <th>0</th>\n",
       "      <td>2024/03/07 5:12:01 pm EET</td>\n",
       "      <td>Female</td>\n",
       "      <td>76.0</td>\n",
       "      <td>2nd Year</td>\n",
       "      <td>Arts &amp; Social Sciences</td>\n",
       "      <td>72.0</td>\n",
       "      <td>Private accommodation/ stay with family/friends</td>\n",
       "      <td>R 4001- R 5000</td>\n",
       "      <td>No</td>\n",
       "      <td>8+</td>\n",
       "      <td>Only weekends</td>\n",
       "      <td>8+</td>\n",
       "      <td>3</td>\n",
       "      <td>0</td>\n",
       "      <td>Yes</td>\n",
       "      <td>Yes</td>\n",
       "      <td>Very close</td>\n",
       "    </tr>\n",
       "    <tr>\n",
       "      <th>1</th>\n",
       "      <td>2024/03/07 5:12:08 pm EET</td>\n",
       "      <td>Male</td>\n",
       "      <td>89.0</td>\n",
       "      <td>2nd Year</td>\n",
       "      <td>Economic &amp; Management Sciences</td>\n",
       "      <td>75.0</td>\n",
       "      <td>Private accommodation/ stay with family/friends</td>\n",
       "      <td>R 7001 - R 8000</td>\n",
       "      <td>Yes (NSFAS, etc...)</td>\n",
       "      <td>8+</td>\n",
       "      <td>Only weekends</td>\n",
       "      <td>3-5</td>\n",
       "      <td>4+</td>\n",
       "      <td>0</td>\n",
       "      <td>No</td>\n",
       "      <td>Yes</td>\n",
       "      <td>Very close</td>\n",
       "    </tr>\n",
       "    <tr>\n",
       "      <th>2</th>\n",
       "      <td>2024/03/07 5:12:25 pm EET</td>\n",
       "      <td>Male</td>\n",
       "      <td>76.0</td>\n",
       "      <td>1st Year</td>\n",
       "      <td>AgriSciences</td>\n",
       "      <td>55.0</td>\n",
       "      <td>Private accommodation/ stay with family/friends</td>\n",
       "      <td>R 4001- R 5000</td>\n",
       "      <td>No</td>\n",
       "      <td>3-5</td>\n",
       "      <td>2</td>\n",
       "      <td>8+</td>\n",
       "      <td>3</td>\n",
       "      <td>0</td>\n",
       "      <td>No</td>\n",
       "      <td>Yes</td>\n",
       "      <td>Very close</td>\n",
       "    </tr>\n",
       "    <tr>\n",
       "      <th>3</th>\n",
       "      <td>2024/03/07 5:12:28 pm EET</td>\n",
       "      <td>Male</td>\n",
       "      <td>89.0</td>\n",
       "      <td>2nd Year</td>\n",
       "      <td>Engineering</td>\n",
       "      <td>84.0</td>\n",
       "      <td>Private accommodation/ stay with family/friends</td>\n",
       "      <td>R 6001 - R 7000</td>\n",
       "      <td>No</td>\n",
       "      <td>3-5</td>\n",
       "      <td>3</td>\n",
       "      <td>8+</td>\n",
       "      <td>2</td>\n",
       "      <td>0</td>\n",
       "      <td>Yes</td>\n",
       "      <td>Yes</td>\n",
       "      <td>Very close</td>\n",
       "    </tr>\n",
       "    <tr>\n",
       "      <th>4</th>\n",
       "      <td>2024/03/07 5:13:00 pm EET</td>\n",
       "      <td>Female</td>\n",
       "      <td>74.0</td>\n",
       "      <td>2nd Year</td>\n",
       "      <td>Arts &amp; Social Sciences</td>\n",
       "      <td>52.0</td>\n",
       "      <td>Private accommodation/ stay with family/friends</td>\n",
       "      <td>R 4001- R 5000</td>\n",
       "      <td>No</td>\n",
       "      <td>3-5</td>\n",
       "      <td>Only weekends</td>\n",
       "      <td>5-8</td>\n",
       "      <td>1</td>\n",
       "      <td>3</td>\n",
       "      <td>No</td>\n",
       "      <td>Yes</td>\n",
       "      <td>Fair</td>\n",
       "    </tr>\n",
       "  </tbody>\n",
       "</table>\n",
       "</div>"
      ],
      "text/plain": [
       "                   timestamp     sex  matric_gpa_% study_year  \\\n",
       "0  2024/03/07 5:12:01 pm EET  Female          76.0   2nd Year   \n",
       "1  2024/03/07 5:12:08 pm EET    Male          89.0   2nd Year   \n",
       "2  2024/03/07 5:12:25 pm EET    Male          76.0   1st Year   \n",
       "3  2024/03/07 5:12:28 pm EET    Male          89.0   2nd Year   \n",
       "4  2024/03/07 5:13:00 pm EET  Female          74.0   2nd Year   \n",
       "\n",
       "                          faculty  gpa_%_2023  \\\n",
       "0          Arts & Social Sciences        72.0   \n",
       "1  Economic & Management Sciences        75.0   \n",
       "2                    AgriSciences        55.0   \n",
       "3                     Engineering        84.0   \n",
       "4          Arts & Social Sciences        52.0   \n",
       "\n",
       "                              accommodation_status monthly_allowance  \\\n",
       "0  Private accommodation/ stay with family/friends    R 4001- R 5000   \n",
       "1  Private accommodation/ stay with family/friends   R 7001 - R 8000   \n",
       "2  Private accommodation/ stay with family/friends    R 4001- R 5000   \n",
       "3  Private accommodation/ stay with family/friends   R 6001 - R 7000   \n",
       "4  Private accommodation/ stay with family/friends    R 4001- R 5000   \n",
       "\n",
       "           scholarship study_hours_week socialising_week drinks_night  \\\n",
       "0                   No               8+    Only weekends           8+   \n",
       "1  Yes (NSFAS, etc...)               8+    Only weekends          3-5   \n",
       "2                   No              3-5                2           8+   \n",
       "3                   No              3-5                3           8+   \n",
       "4                   No              3-5    Only weekends          5-8   \n",
       "\n",
       "  classes_missed modules_failed in_relationship parental_approval  \\\n",
       "0              3              0             Yes               Yes   \n",
       "1             4+              0              No               Yes   \n",
       "2              3              0              No               Yes   \n",
       "3              2              0             Yes               Yes   \n",
       "4              1              3              No               Yes   \n",
       "\n",
       "  relationship_parents  \n",
       "0           Very close  \n",
       "1           Very close  \n",
       "2           Very close  \n",
       "3           Very close  \n",
       "4                 Fair  "
      ]
     },
     "execution_count": 3,
     "metadata": {},
     "output_type": "execute_result"
    }
   ],
   "source": [
    "student_data.head()"
   ]
  },
  {
   "cell_type": "code",
   "execution_count": null,
   "id": "10885e22-b200-496b-9041-12cc35558daa",
   "metadata": {},
   "outputs": [],
   "source": []
  },
  {
   "cell_type": "markdown",
   "id": "5a3295dc-3ca8-4b36-a38d-0e3ffebb27f0",
   "metadata": {},
   "source": [
    "## Exploratory Data Analysis"
   ]
  },
  {
   "cell_type": "code",
   "execution_count": 4,
   "id": "f3cc8539-4739-48da-aa96-e74323e691f4",
   "metadata": {},
   "outputs": [
    {
     "name": "stdout",
     "output_type": "stream",
     "text": [
      "<class 'pandas.core.frame.DataFrame'>\n",
      "RangeIndex: 406 entries, 0 to 405\n",
      "Data columns (total 17 columns):\n",
      " #   Column                Non-Null Count  Dtype  \n",
      "---  ------                --------------  -----  \n",
      " 0   timestamp             406 non-null    object \n",
      " 1   sex                   404 non-null    object \n",
      " 2   matric_gpa_%          399 non-null    float64\n",
      " 3   study_year            333 non-null    object \n",
      " 4   faculty               399 non-null    object \n",
      " 5   gpa_%_2023            320 non-null    float64\n",
      " 6   accommodation_status  383 non-null    object \n",
      " 7   monthly_allowance     375 non-null    object \n",
      " 8   scholarship           398 non-null    object \n",
      " 9   study_hours_week      403 non-null    object \n",
      " 10  socialising_week      404 non-null    object \n",
      " 11  drinks_night          404 non-null    object \n",
      " 12  classes_missed        403 non-null    object \n",
      " 13  modules_failed        403 non-null    object \n",
      " 14  in_relationship       403 non-null    object \n",
      " 15  parental_approval     402 non-null    object \n",
      " 16  relationship_parents  403 non-null    object \n",
      "dtypes: float64(2), object(15)\n",
      "memory usage: 54.1+ KB\n"
     ]
    }
   ],
   "source": [
    "student_data.info()"
   ]
  },
  {
   "cell_type": "code",
   "execution_count": 5,
   "id": "c134f97b-7bc4-4160-8e23-a515dab525ee",
   "metadata": {},
   "outputs": [
    {
     "data": {
      "text/plain": [
       "sex\n",
       "Male      0.534653\n",
       "Female    0.465347\n",
       "Name: proportion, dtype: float64"
      ]
     },
     "execution_count": 5,
     "metadata": {},
     "output_type": "execute_result"
    }
   ],
   "source": [
    "student_data[\"sex\"].value_counts(normalize=True )"
   ]
  },
  {
   "cell_type": "markdown",
   "id": "b54b8f12-8a34-4a8a-8207-920ad0c689ee",
   "metadata": {},
   "source": [
    "In this survey, there is 53% of male and 47% of female population."
   ]
  },
  {
   "cell_type": "code",
   "execution_count": 6,
   "id": "c6e345e7-21d2-4da4-85bc-98a0bee6ff1c",
   "metadata": {},
   "outputs": [
    {
     "data": {
      "text/html": [
       "<div>\n",
       "<style scoped>\n",
       "    .dataframe tbody tr th:only-of-type {\n",
       "        vertical-align: middle;\n",
       "    }\n",
       "\n",
       "    .dataframe tbody tr th {\n",
       "        vertical-align: top;\n",
       "    }\n",
       "\n",
       "    .dataframe thead th {\n",
       "        text-align: right;\n",
       "    }\n",
       "</style>\n",
       "<table border=\"1\" class=\"dataframe\">\n",
       "  <thead>\n",
       "    <tr style=\"text-align: right;\">\n",
       "      <th>relationship_parents</th>\n",
       "      <th>Close</th>\n",
       "      <th>Distant</th>\n",
       "      <th>Fair</th>\n",
       "      <th>Very close</th>\n",
       "    </tr>\n",
       "    <tr>\n",
       "      <th>parental_approval</th>\n",
       "      <th></th>\n",
       "      <th></th>\n",
       "      <th></th>\n",
       "      <th></th>\n",
       "    </tr>\n",
       "  </thead>\n",
       "  <tbody>\n",
       "    <tr>\n",
       "      <th>No</th>\n",
       "      <td>18</td>\n",
       "      <td>1</td>\n",
       "      <td>9</td>\n",
       "      <td>20</td>\n",
       "    </tr>\n",
       "    <tr>\n",
       "      <th>Yes</th>\n",
       "      <td>79</td>\n",
       "      <td>1</td>\n",
       "      <td>25</td>\n",
       "      <td>248</td>\n",
       "    </tr>\n",
       "  </tbody>\n",
       "</table>\n",
       "</div>"
      ],
      "text/plain": [
       "relationship_parents  Close  Distant  Fair  Very close\n",
       "parental_approval                                     \n",
       "No                       18        1     9          20\n",
       "Yes                      79        1    25         248"
      ]
     },
     "execution_count": 6,
     "metadata": {},
     "output_type": "execute_result"
    }
   ],
   "source": [
    "table = pd.crosstab(student_data.parental_approval, student_data.relationship_parents)\n",
    "table"
   ]
  },
  {
   "cell_type": "code",
   "execution_count": 7,
   "id": "4e697153-659f-4f96-88fe-0fd09ce6ca09",
   "metadata": {},
   "outputs": [
    {
     "data": {
      "text/plain": [
       "<Axes: xlabel='relationship_parents'>"
      ]
     },
     "execution_count": 7,
     "metadata": {},
     "output_type": "execute_result"
    },
    {
     "data": {
      "image/png": "[encoded data removed]",
      "text/plain": [
       "<Figure size 640x480 with 1 Axes>"
      ]
     },
     "metadata": {},
     "output_type": "display_data"
    }
   ],
   "source": [
    "table.T.plot.line()"
   ]
  },
  {
   "cell_type": "markdown",
   "id": "4460f112-e234-44ca-b6f2-e44f08139b9b",
   "metadata": {},
   "source": [
    "Description:\n",
    "\n"
   ]
  },
  {
   "cell_type": "code",
   "execution_count": 8,
   "id": "7a02c9a9-716b-4cc1-8e7b-64f3761e4ce8",
   "metadata": {},
   "outputs": [
    {
     "data": {
      "text/plain": [
       "faculty\n",
       "Economic & Management Sciences    211\n",
       "Science                            56\n",
       "Arts & Social Sciences             47\n",
       "Engineering                        37\n",
       "AgriSciences                       22\n",
       "Medicine and Health Services       10\n",
       "Law                                10\n",
       "Education                           6\n",
       "Name: count, dtype: int64"
      ]
     },
     "execution_count": 8,
     "metadata": {},
     "output_type": "execute_result"
    }
   ],
   "source": [
    "student_data.faculty.value_counts()"
   ]
  },
  {
   "cell_type": "code",
   "execution_count": 9,
   "id": "80bae4c9-da07-4b61-b7ab-e6ab639eb0ac",
   "metadata": {},
   "outputs": [],
   "source": [
    "group_faculty= student_data.groupby(by = \"faculty\")\n"
   ]
  },
  {
   "cell_type": "code",
   "execution_count": 10,
   "id": "f8cddcca-6aab-4625-ad45-cfe8a64b1f9d",
   "metadata": {},
   "outputs": [
    {
     "data": {
      "text/html": [
       "<div>\n",
       "<style scoped>\n",
       "    .dataframe tbody tr th:only-of-type {\n",
       "        vertical-align: middle;\n",
       "    }\n",
       "\n",
       "    .dataframe tbody tr th {\n",
       "        vertical-align: top;\n",
       "    }\n",
       "\n",
       "    .dataframe thead th {\n",
       "        text-align: right;\n",
       "    }\n",
       "</style>\n",
       "<table border=\"1\" class=\"dataframe\">\n",
       "  <thead>\n",
       "    <tr style=\"text-align: right;\">\n",
       "      <th></th>\n",
       "      <th>min</th>\n",
       "      <th>max</th>\n",
       "      <th>mean</th>\n",
       "    </tr>\n",
       "    <tr>\n",
       "      <th>faculty</th>\n",
       "      <th></th>\n",
       "      <th></th>\n",
       "      <th></th>\n",
       "    </tr>\n",
       "  </thead>\n",
       "  <tbody>\n",
       "    <tr>\n",
       "      <th>AgriSciences</th>\n",
       "      <td>66.0</td>\n",
       "      <td>86.0</td>\n",
       "      <td>74.772727</td>\n",
       "    </tr>\n",
       "    <tr>\n",
       "      <th>Arts &amp; Social Sciences</th>\n",
       "      <td>60.0</td>\n",
       "      <td>85.0</td>\n",
       "      <td>75.969565</td>\n",
       "    </tr>\n",
       "    <tr>\n",
       "      <th>Economic &amp; Management Sciences</th>\n",
       "      <td>34.0</td>\n",
       "      <td>99.0</td>\n",
       "      <td>76.977095</td>\n",
       "    </tr>\n",
       "    <tr>\n",
       "      <th>Education</th>\n",
       "      <td>71.0</td>\n",
       "      <td>82.0</td>\n",
       "      <td>76.000000</td>\n",
       "    </tr>\n",
       "    <tr>\n",
       "      <th>Engineering</th>\n",
       "      <td>73.0</td>\n",
       "      <td>98.0</td>\n",
       "      <td>83.691667</td>\n",
       "    </tr>\n",
       "    <tr>\n",
       "      <th>Law</th>\n",
       "      <td>72.0</td>\n",
       "      <td>90.0</td>\n",
       "      <td>80.200000</td>\n",
       "    </tr>\n",
       "    <tr>\n",
       "      <th>Medicine and Health Services</th>\n",
       "      <td>73.0</td>\n",
       "      <td>85.0</td>\n",
       "      <td>79.888889</td>\n",
       "    </tr>\n",
       "    <tr>\n",
       "      <th>Science</th>\n",
       "      <td>65.0</td>\n",
       "      <td>92.0</td>\n",
       "      <td>80.294727</td>\n",
       "    </tr>\n",
       "  </tbody>\n",
       "</table>\n",
       "</div>"
      ],
      "text/plain": [
       "                                 min   max       mean\n",
       "faculty                                              \n",
       "AgriSciences                    66.0  86.0  74.772727\n",
       "Arts & Social Sciences          60.0  85.0  75.969565\n",
       "Economic & Management Sciences  34.0  99.0  76.977095\n",
       "Education                       71.0  82.0  76.000000\n",
       "Engineering                     73.0  98.0  83.691667\n",
       "Law                             72.0  90.0  80.200000\n",
       "Medicine and Health Services    73.0  85.0  79.888889\n",
       "Science                         65.0  92.0  80.294727"
      ]
     },
     "execution_count": 10,
     "metadata": {},
     "output_type": "execute_result"
    }
   ],
   "source": [
    "information = group_faculty[\"matric_gpa_%\"].agg((\"min\",\"max\",\"mean\"))\n",
    "information"
   ]
  },
  {
   "cell_type": "code",
   "execution_count": 11,
   "id": "905139fe-ee31-4c77-a205-c599bc133d41",
   "metadata": {},
   "outputs": [
    {
     "data": {
      "text/plain": [
       "<Axes: xlabel='faculty'>"
      ]
     },
     "execution_count": 11,
     "metadata": {},
     "output_type": "execute_result"
    },
    {
     "data": {
      "image/png": "[encoded data removed]",
      "text/plain": [
       "<Figure size 640x480 with 1 Axes>"
      ]
     },
     "metadata": {},
     "output_type": "display_data"
    }
   ],
   "source": [
    "information.plot.bar()"
   ]
  },
  {
   "cell_type": "markdown",
   "id": "d24d96fb-a65f-48bd-bf45-671281450b6d",
   "metadata": {},
   "source": [
    "Description:\n",
    "\n"
   ]
  },
  {
   "cell_type": "code",
   "execution_count": 12,
   "id": "67c08ab8-afb6-401c-9d4b-1e8504dd3313",
   "metadata": {},
   "outputs": [
    {
     "data": {
      "text/plain": [
       "accommodation_status\n",
       "Private accommodation/ stay with family/friends    335\n",
       "Non-private accommodation ie. Res                   48\n",
       "Name: count, dtype: int64"
      ]
     },
     "execution_count": 12,
     "metadata": {},
     "output_type": "execute_result"
    }
   ],
   "source": [
    "student_data.accommodation_status.value_counts()"
   ]
  },
  {
   "cell_type": "code",
   "execution_count": 13,
   "id": "d94e75f6-0168-4fe6-8bbe-07933505811c",
   "metadata": {},
   "outputs": [
    {
     "data": {
      "text/html": [
       "<div>\n",
       "<style scoped>\n",
       "    .dataframe tbody tr th:only-of-type {\n",
       "        vertical-align: middle;\n",
       "    }\n",
       "\n",
       "    .dataframe tbody tr th {\n",
       "        vertical-align: top;\n",
       "    }\n",
       "\n",
       "    .dataframe thead th {\n",
       "        text-align: right;\n",
       "    }\n",
       "</style>\n",
       "<table border=\"1\" class=\"dataframe\">\n",
       "  <thead>\n",
       "    <tr style=\"text-align: right;\">\n",
       "      <th>socialising_week</th>\n",
       "      <th>0</th>\n",
       "      <th>1</th>\n",
       "      <th>2</th>\n",
       "      <th>3</th>\n",
       "      <th>4+</th>\n",
       "      <th>Only weekends</th>\n",
       "    </tr>\n",
       "    <tr>\n",
       "      <th>accommodation_status</th>\n",
       "      <th></th>\n",
       "      <th></th>\n",
       "      <th></th>\n",
       "      <th></th>\n",
       "      <th></th>\n",
       "      <th></th>\n",
       "    </tr>\n",
       "  </thead>\n",
       "  <tbody>\n",
       "    <tr>\n",
       "      <th>Non-private accommodation ie. Res</th>\n",
       "      <td>2</td>\n",
       "      <td>12</td>\n",
       "      <td>15</td>\n",
       "      <td>5</td>\n",
       "      <td>3</td>\n",
       "      <td>11</td>\n",
       "    </tr>\n",
       "    <tr>\n",
       "      <th>Private accommodation/ stay with family/friends</th>\n",
       "      <td>14</td>\n",
       "      <td>89</td>\n",
       "      <td>70</td>\n",
       "      <td>52</td>\n",
       "      <td>13</td>\n",
       "      <td>97</td>\n",
       "    </tr>\n",
       "  </tbody>\n",
       "</table>\n",
       "</div>"
      ],
      "text/plain": [
       "socialising_week                                  0   1   2   3  4+  \\\n",
       "accommodation_status                                                  \n",
       "Non-private accommodation ie. Res                 2  12  15   5   3   \n",
       "Private accommodation/ stay with family/friends  14  89  70  52  13   \n",
       "\n",
       "socialising_week                                 Only weekends  \n",
       "accommodation_status                                            \n",
       "Non-private accommodation ie. Res                           11  \n",
       "Private accommodation/ stay with family/friends             97  "
      ]
     },
     "execution_count": 13,
     "metadata": {},
     "output_type": "execute_result"
    }
   ],
   "source": [
    "table = pd.crosstab(student_data.accommodation_status, student_data.socialising_week)\n",
    "table"
   ]
  },
  {
   "cell_type": "code",
   "execution_count": 14,
   "id": "63e9a7f1-3f34-46b2-a196-969407e5243f",
   "metadata": {},
   "outputs": [
    {
     "data": {
      "text/plain": [
       "<Axes: xlabel='socialising_week', ylabel='accommodation_status'>"
      ]
     },
     "execution_count": 14,
     "metadata": {},
     "output_type": "execute_result"
    },
    {
     "data": {
      "image/png": "[encoded data removed]",
      "text/plain": [
       "<Figure size 640x480 with 2 Axes>"
      ]
     },
     "metadata": {},
     "output_type": "display_data"
    }
   ],
   "source": [
    "sns.heatmap(table, annot = True, cmap = \"twilight\")"
   ]
  },
  {
   "cell_type": "markdown",
   "id": "d95b0996-13b6-4b9b-ac84-6616721c6e9d",
   "metadata": {},
   "source": [
    "* During weekends, **students stating with their friends and family are 9 time more likely** to party compared to hosrelers.\n",
    "* In an average, privately housed stident party more than 7 times than student living in college."
   ]
  },
  {
   "cell_type": "code",
   "execution_count": 15,
   "id": "1ed59bac-fa73-42b1-8b86-bae74f31eacf",
   "metadata": {},
   "outputs": [],
   "source": [
    "# ho = no association\n",
    "# h1 = yes association\n",
    "# p_value < 0.05 == reject ho(null hypothesis) ie.h1 true( alternative hypothesis)"
   ]
  },
  {
   "cell_type": "code",
   "execution_count": 16,
   "id": "a7fb6118-4aed-4034-8e50-cf93e9f0adf7",
   "metadata": {},
   "outputs": [
    {
     "name": "stdout",
     "output_type": "stream",
     "text": [
      "3.9099046455825284\n",
      "0.5624591514521107\n"
     ]
    }
   ],
   "source": [
    "score, p_val, _, _ = stats.chi2_contingency(table)\n",
    "print(score)\n",
    "print(p_val)"
   ]
  },
  {
   "cell_type": "markdown",
   "id": "d7e540d1-1855-4b73-bf87-31356b95392b",
   "metadata": {},
   "source": [
    "since p_val is greater than 0.05, it infer that there is association/ relationship between socialising_week\t and accommodation_status\t"
   ]
  },
  {
   "cell_type": "markdown",
   "id": "e81ae666-2cbb-48f8-a401-016229c9ff90",
   "metadata": {},
   "source": [
    "## Influence of Gender on GPA"
   ]
  },
  {
   "cell_type": "code",
   "execution_count": 17,
   "id": "06f454e2-606f-4382-bb89-6410ce3dd3dc",
   "metadata": {},
   "outputs": [
    {
     "data": {
      "text/html": [
       "<div>\n",
       "<style scoped>\n",
       "    .dataframe tbody tr th:only-of-type {\n",
       "        vertical-align: middle;\n",
       "    }\n",
       "\n",
       "    .dataframe tbody tr th {\n",
       "        vertical-align: top;\n",
       "    }\n",
       "\n",
       "    .dataframe thead th {\n",
       "        text-align: right;\n",
       "    }\n",
       "</style>\n",
       "<table border=\"1\" class=\"dataframe\">\n",
       "  <thead>\n",
       "    <tr style=\"text-align: right;\">\n",
       "      <th></th>\n",
       "      <th>min</th>\n",
       "      <th>max</th>\n",
       "      <th>mean</th>\n",
       "      <th>std</th>\n",
       "      <th>median</th>\n",
       "    </tr>\n",
       "    <tr>\n",
       "      <th>sex</th>\n",
       "      <th></th>\n",
       "      <th></th>\n",
       "      <th></th>\n",
       "      <th></th>\n",
       "      <th></th>\n",
       "    </tr>\n",
       "  </thead>\n",
       "  <tbody>\n",
       "    <tr>\n",
       "      <th>Female</th>\n",
       "      <td>50.0</td>\n",
       "      <td>95.22</td>\n",
       "      <td>67.596067</td>\n",
       "      <td>8.834404</td>\n",
       "      <td>67.0</td>\n",
       "    </tr>\n",
       "    <tr>\n",
       "      <th>Male</th>\n",
       "      <td>30.0</td>\n",
       "      <td>92.00</td>\n",
       "      <td>65.097059</td>\n",
       "      <td>9.284666</td>\n",
       "      <td>64.0</td>\n",
       "    </tr>\n",
       "  </tbody>\n",
       "</table>\n",
       "</div>"
      ],
      "text/plain": [
       "         min    max       mean       std  median\n",
       "sex                                             \n",
       "Female  50.0  95.22  67.596067  8.834404    67.0\n",
       "Male    30.0  92.00  65.097059  9.284666    64.0"
      ]
     },
     "execution_count": 17,
     "metadata": {},
     "output_type": "execute_result"
    }
   ],
   "source": [
    "student_data.groupby(\"sex\")[\"gpa_%_2023\"].agg((\"min\",\"max\",\"mean\",\"std\", \"median\"\n",
    "                                              ))"
   ]
  },
  {
   "cell_type": "code",
   "execution_count": 18,
   "id": "e33ac797-fca5-41c5-97ec-f40f5db3b13d",
   "metadata": {},
   "outputs": [
    {
     "data": {
      "text/plain": [
       "sex\n",
       "Female    Axes(0.125,0.11;0.775x0.77)\n",
       "Male      Axes(0.125,0.11;0.775x0.77)\n",
       "Name: gpa_%_2023, dtype: object"
      ]
     },
     "execution_count": 18,
     "metadata": {},
     "output_type": "execute_result"
    },
    {
     "data": {
      "image/png": "[encoded data removed]",
      "text/plain": [
       "<Figure size 640x480 with 1 Axes>"
      ]
     },
     "metadata": {},
     "output_type": "display_data"
    }
   ],
   "source": [
    "student_data.groupby(\"sex\")[\"gpa_%_2023\"].plot.kde(legend = True)"
   ]
  },
  {
   "cell_type": "code",
   "execution_count": 19,
   "id": "29ccc958-5251-4716-9211-ead0d7821f3f",
   "metadata": {},
   "outputs": [
    {
     "data": {
      "text/plain": [
       "<Axes: xlabel='gpa_%_2023', ylabel='sex'>"
      ]
     },
     "execution_count": 19,
     "metadata": {},
     "output_type": "execute_result"
    },
    {
     "data": {
      "image/png": "[encoded data removed]",
      "text/plain": [
       "<Figure size 640x480 with 1 Axes>"
      ]
     },
     "metadata": {},
     "output_type": "display_data"
    }
   ],
   "source": [
    "sns.boxplot(x =\"gpa_%_2023\", y= \"sex\", data= student_data)"
   ]
  },
  {
   "cell_type": "code",
   "execution_count": null,
   "id": "f14e9830-e9b4-41fd-b23e-24a3f543b059",
   "metadata": {},
   "outputs": [],
   "source": []
  },
  {
   "cell_type": "code",
   "execution_count": null,
   "id": "d2475529-3acc-4ab1-9866-8865fe0cdd64",
   "metadata": {},
   "outputs": [],
   "source": []
  },
  {
   "cell_type": "code",
   "execution_count": 20,
   "id": "42270c4b-5140-48a2-b0cc-d01054e95a6d",
   "metadata": {},
   "outputs": [
    {
     "data": {
      "text/plain": [
       "scholarship\n",
       "No                     352\n",
       "Yes (NSFAS, etc...)     46\n",
       "Name: count, dtype: int64"
      ]
     },
     "execution_count": 20,
     "metadata": {},
     "output_type": "execute_result"
    }
   ],
   "source": [
    "student_data.scholarship.value_counts()"
   ]
  },
  {
   "cell_type": "code",
   "execution_count": 21,
   "id": "43a6e0a0-6eb7-46b2-9e4d-0c9945989fbe",
   "metadata": {},
   "outputs": [],
   "source": [
    "table = pd.crosstab(student_data.scholarship, student_data.modules_failed)\n"
   ]
  },
  {
   "cell_type": "code",
   "execution_count": 22,
   "id": "739d0633-3f30-4e65-8fd1-9ffd838bae57",
   "metadata": {},
   "outputs": [
    {
     "data": {
      "text/plain": [
       "7.6521739130434785"
      ]
     },
     "execution_count": 22,
     "metadata": {},
     "output_type": "execute_result"
    }
   ],
   "source": [
    "352/46"
   ]
  },
  {
   "cell_type": "code",
   "execution_count": 23,
   "id": "575fd0aa-fa83-4e55-baa0-0b19816a337b",
   "metadata": {},
   "outputs": [
    {
     "data": {
      "text/html": [
       "<div>\n",
       "<style scoped>\n",
       "    .dataframe tbody tr th:only-of-type {\n",
       "        vertical-align: middle;\n",
       "    }\n",
       "\n",
       "    .dataframe tbody tr th {\n",
       "        vertical-align: top;\n",
       "    }\n",
       "\n",
       "    .dataframe thead th {\n",
       "        text-align: right;\n",
       "    }\n",
       "</style>\n",
       "<table border=\"1\" class=\"dataframe\">\n",
       "  <thead>\n",
       "    <tr style=\"text-align: right;\">\n",
       "      <th>modules_failed</th>\n",
       "      <th>0</th>\n",
       "      <th>1</th>\n",
       "      <th>2</th>\n",
       "      <th>3</th>\n",
       "      <th>4+</th>\n",
       "    </tr>\n",
       "    <tr>\n",
       "      <th>scholarship</th>\n",
       "      <th></th>\n",
       "      <th></th>\n",
       "      <th></th>\n",
       "      <th></th>\n",
       "      <th></th>\n",
       "    </tr>\n",
       "  </thead>\n",
       "  <tbody>\n",
       "    <tr>\n",
       "      <th>No</th>\n",
       "      <td>230</td>\n",
       "      <td>49</td>\n",
       "      <td>29</td>\n",
       "      <td>20</td>\n",
       "      <td>23</td>\n",
       "    </tr>\n",
       "    <tr>\n",
       "      <th>Yes (NSFAS, etc...)</th>\n",
       "      <td>27</td>\n",
       "      <td>9</td>\n",
       "      <td>2</td>\n",
       "      <td>4</td>\n",
       "      <td>4</td>\n",
       "    </tr>\n",
       "  </tbody>\n",
       "</table>\n",
       "</div>"
      ],
      "text/plain": [
       "modules_failed         0   1   2   3  4+\n",
       "scholarship                             \n",
       "No                   230  49  29  20  23\n",
       "Yes (NSFAS, etc...)   27   9   2   4   4"
      ]
     },
     "execution_count": 23,
     "metadata": {},
     "output_type": "execute_result"
    }
   ],
   "source": [
    "table"
   ]
  },
  {
   "cell_type": "code",
   "execution_count": 24,
   "id": "ddaae5b1-dbc5-414f-975a-ab3f81260b0a",
   "metadata": {},
   "outputs": [
    {
     "data": {
      "text/plain": [
       "<Axes: xlabel='modules_failed', ylabel='scholarship'>"
      ]
     },
     "execution_count": 24,
     "metadata": {},
     "output_type": "execute_result"
    },
    {
     "data": {
      "image/png": "[encoded data removed]",
      "text/plain": [
       "<Figure size 640x480 with 2 Axes>"
      ]
     },
     "metadata": {},
     "output_type": "display_data"
    }
   ],
   "source": [
    "sns.heatmap(table, annot = True, cmap = \"twilight\")"
   ]
  },
  {
   "cell_type": "code",
   "execution_count": 25,
   "id": "d5fac8ad-25d2-429a-8908-ed302aa39c24",
   "metadata": {},
   "outputs": [
    {
     "name": "stdout",
     "output_type": "stream",
     "text": [
      "2.844930360651007\n",
      "0.5841020962470809\n"
     ]
    }
   ],
   "source": [
    "score, p_val, _, _ = stats.chi2_contingency(table)\n",
    "print(score)\n",
    "print(p_val)"
   ]
  },
  {
   "cell_type": "code",
   "execution_count": 26,
   "id": "0bf62354-7b09-436a-a070-4be42bb79f05",
   "metadata": {},
   "outputs": [
    {
     "data": {
      "text/plain": [
       "<Axes: xlabel='matric_gpa_%', ylabel='gpa_%_2023'>"
      ]
     },
     "execution_count": 26,
     "metadata": {},
     "output_type": "execute_result"
    },
    {
     "data": {
      "image/png": "[encoded data removed]",
      "text/plain": [
       "<Figure size 640x480 with 1 Axes>"
      ]
     },
     "metadata": {},
     "output_type": "display_data"
    }
   ],
   "source": [
    "#student_data.plot.scatter(\"matric_gpa_%\", \"gpa_%_2023\")\n",
    "sns.regplot(x =\"matric_gpa_%\", y = \"gpa_%_2023\", data = student_data)"
   ]
  },
  {
   "cell_type": "code",
   "execution_count": 27,
   "id": "6f7c34da-57a0-4a5a-9254-758f726b3d53",
   "metadata": {},
   "outputs": [
    {
     "data": {
      "text/html": [
       "<div>\n",
       "<style scoped>\n",
       "    .dataframe tbody tr th:only-of-type {\n",
       "        vertical-align: middle;\n",
       "    }\n",
       "\n",
       "    .dataframe tbody tr th {\n",
       "        vertical-align: top;\n",
       "    }\n",
       "\n",
       "    .dataframe thead th {\n",
       "        text-align: right;\n",
       "    }\n",
       "</style>\n",
       "<table border=\"1\" class=\"dataframe\">\n",
       "  <thead>\n",
       "    <tr style=\"text-align: right;\">\n",
       "      <th></th>\n",
       "      <th>matric_gpa_%</th>\n",
       "      <th>gpa_%_2023</th>\n",
       "    </tr>\n",
       "  </thead>\n",
       "  <tbody>\n",
       "    <tr>\n",
       "      <th>matric_gpa_%</th>\n",
       "      <td>1.000000</td>\n",
       "      <td>0.299104</td>\n",
       "    </tr>\n",
       "    <tr>\n",
       "      <th>gpa_%_2023</th>\n",
       "      <td>0.299104</td>\n",
       "      <td>1.000000</td>\n",
       "    </tr>\n",
       "  </tbody>\n",
       "</table>\n",
       "</div>"
      ],
      "text/plain": [
       "              matric_gpa_%  gpa_%_2023\n",
       "matric_gpa_%      1.000000    0.299104\n",
       "gpa_%_2023        0.299104    1.000000"
      ]
     },
     "execution_count": 27,
     "metadata": {},
     "output_type": "execute_result"
    }
   ],
   "source": [
    "student_data[[\"matric_gpa_%\", \"gpa_%_2023\"]].corr()"
   ]
  },
  {
   "cell_type": "markdown",
   "id": "0a103a31-f6ed-49e5-b0bf-d006d129ee9c",
   "metadata": {},
   "source": []
  },
  {
   "cell_type": "code",
   "execution_count": 28,
   "id": "ce436e73-ddad-418c-bb98-dc4f881a771d",
   "metadata": {},
   "outputs": [
    {
     "data": {
      "text/plain": [
       "timestamp                0\n",
       "sex                      2\n",
       "matric_gpa_%             7\n",
       "study_year              73\n",
       "faculty                  7\n",
       "gpa_%_2023              86\n",
       "accommodation_status    23\n",
       "monthly_allowance       31\n",
       "scholarship              8\n",
       "study_hours_week         3\n",
       "socialising_week         2\n",
       "drinks_night             2\n",
       "classes_missed           3\n",
       "modules_failed           3\n",
       "in_relationship          3\n",
       "parental_approval        4\n",
       "relationship_parents     3\n",
       "dtype: int64"
      ]
     },
     "execution_count": 28,
     "metadata": {},
     "output_type": "execute_result"
    }
   ],
   "source": [
    "student_data.isna().sum()"
   ]
  },
  {
   "cell_type": "markdown",
   "id": "e439b8fb-e357-4fad-b17d-3fb0bc112830",
   "metadata": {},
   "source": [
    "# Manipulation and /or Cleaning Data\n"
   ]
  },
  {
   "cell_type": "markdown",
   "id": "78fe6e82-ef1f-413f-a2ab-3586323df595",
   "metadata": {},
   "source": [
    "* remove unnecessary columns\n",
    "* NUll value handling <- imputation\n",
    "* handling outliers\n",
    "* Feature selection\n",
    "* \n"
   ]
  },
  {
   "cell_type": "code",
   "execution_count": 29,
   "id": "a34f8236-41fc-4f54-b2f4-5379f4757447",
   "metadata": {},
   "outputs": [
    {
     "data": {
      "text/html": [
       "<div>\n",
       "<style scoped>\n",
       "    .dataframe tbody tr th:only-of-type {\n",
       "        vertical-align: middle;\n",
       "    }\n",
       "\n",
       "    .dataframe tbody tr th {\n",
       "        vertical-align: top;\n",
       "    }\n",
       "\n",
       "    .dataframe thead th {\n",
       "        text-align: right;\n",
       "    }\n",
       "</style>\n",
       "<table border=\"1\" class=\"dataframe\">\n",
       "  <thead>\n",
       "    <tr style=\"text-align: right;\">\n",
       "      <th></th>\n",
       "      <th>timestamp</th>\n",
       "      <th>sex</th>\n",
       "      <th>matric_gpa_%</th>\n",
       "      <th>study_year</th>\n",
       "      <th>faculty</th>\n",
       "      <th>gpa_%_2023</th>\n",
       "      <th>accommodation_status</th>\n",
       "      <th>monthly_allowance</th>\n",
       "      <th>scholarship</th>\n",
       "      <th>study_hours_week</th>\n",
       "      <th>socialising_week</th>\n",
       "      <th>drinks_night</th>\n",
       "      <th>classes_missed</th>\n",
       "      <th>modules_failed</th>\n",
       "      <th>in_relationship</th>\n",
       "      <th>parental_approval</th>\n",
       "      <th>relationship_parents</th>\n",
       "    </tr>\n",
       "  </thead>\n",
       "  <tbody>\n",
       "    <tr>\n",
       "      <th>0</th>\n",
       "      <td>2024/03/07 5:12:01 pm EET</td>\n",
       "      <td>Female</td>\n",
       "      <td>76.0</td>\n",
       "      <td>2nd Year</td>\n",
       "      <td>Arts &amp; Social Sciences</td>\n",
       "      <td>72.0</td>\n",
       "      <td>Private accommodation/ stay with family/friends</td>\n",
       "      <td>R 4001- R 5000</td>\n",
       "      <td>No</td>\n",
       "      <td>8+</td>\n",
       "      <td>Only weekends</td>\n",
       "      <td>8+</td>\n",
       "      <td>3</td>\n",
       "      <td>0</td>\n",
       "      <td>Yes</td>\n",
       "      <td>Yes</td>\n",
       "      <td>Very close</td>\n",
       "    </tr>\n",
       "    <tr>\n",
       "      <th>1</th>\n",
       "      <td>2024/03/07 5:12:08 pm EET</td>\n",
       "      <td>Male</td>\n",
       "      <td>89.0</td>\n",
       "      <td>2nd Year</td>\n",
       "      <td>Economic &amp; Management Sciences</td>\n",
       "      <td>75.0</td>\n",
       "      <td>Private accommodation/ stay with family/friends</td>\n",
       "      <td>R 7001 - R 8000</td>\n",
       "      <td>Yes (NSFAS, etc...)</td>\n",
       "      <td>8+</td>\n",
       "      <td>Only weekends</td>\n",
       "      <td>3-5</td>\n",
       "      <td>4+</td>\n",
       "      <td>0</td>\n",
       "      <td>No</td>\n",
       "      <td>Yes</td>\n",
       "      <td>Very close</td>\n",
       "    </tr>\n",
       "    <tr>\n",
       "      <th>2</th>\n",
       "      <td>2024/03/07 5:12:25 pm EET</td>\n",
       "      <td>Male</td>\n",
       "      <td>76.0</td>\n",
       "      <td>1st Year</td>\n",
       "      <td>AgriSciences</td>\n",
       "      <td>55.0</td>\n",
       "      <td>Private accommodation/ stay with family/friends</td>\n",
       "      <td>R 4001- R 5000</td>\n",
       "      <td>No</td>\n",
       "      <td>3-5</td>\n",
       "      <td>2</td>\n",
       "      <td>8+</td>\n",
       "      <td>3</td>\n",
       "      <td>0</td>\n",
       "      <td>No</td>\n",
       "      <td>Yes</td>\n",
       "      <td>Very close</td>\n",
       "    </tr>\n",
       "    <tr>\n",
       "      <th>3</th>\n",
       "      <td>2024/03/07 5:12:28 pm EET</td>\n",
       "      <td>Male</td>\n",
       "      <td>89.0</td>\n",
       "      <td>2nd Year</td>\n",
       "      <td>Engineering</td>\n",
       "      <td>84.0</td>\n",
       "      <td>Private accommodation/ stay with family/friends</td>\n",
       "      <td>R 6001 - R 7000</td>\n",
       "      <td>No</td>\n",
       "      <td>3-5</td>\n",
       "      <td>3</td>\n",
       "      <td>8+</td>\n",
       "      <td>2</td>\n",
       "      <td>0</td>\n",
       "      <td>Yes</td>\n",
       "      <td>Yes</td>\n",
       "      <td>Very close</td>\n",
       "    </tr>\n",
       "    <tr>\n",
       "      <th>4</th>\n",
       "      <td>2024/03/07 5:13:00 pm EET</td>\n",
       "      <td>Female</td>\n",
       "      <td>74.0</td>\n",
       "      <td>2nd Year</td>\n",
       "      <td>Arts &amp; Social Sciences</td>\n",
       "      <td>52.0</td>\n",
       "      <td>Private accommodation/ stay with family/friends</td>\n",
       "      <td>R 4001- R 5000</td>\n",
       "      <td>No</td>\n",
       "      <td>3-5</td>\n",
       "      <td>Only weekends</td>\n",
       "      <td>5-8</td>\n",
       "      <td>1</td>\n",
       "      <td>3</td>\n",
       "      <td>No</td>\n",
       "      <td>Yes</td>\n",
       "      <td>Fair</td>\n",
       "    </tr>\n",
       "  </tbody>\n",
       "</table>\n",
       "</div>"
      ],
      "text/plain": [
       "                   timestamp     sex  matric_gpa_% study_year  \\\n",
       "0  2024/03/07 5:12:01 pm EET  Female          76.0   2nd Year   \n",
       "1  2024/03/07 5:12:08 pm EET    Male          89.0   2nd Year   \n",
       "2  2024/03/07 5:12:25 pm EET    Male          76.0   1st Year   \n",
       "3  2024/03/07 5:12:28 pm EET    Male          89.0   2nd Year   \n",
       "4  2024/03/07 5:13:00 pm EET  Female          74.0   2nd Year   \n",
       "\n",
       "                          faculty  gpa_%_2023  \\\n",
       "0          Arts & Social Sciences        72.0   \n",
       "1  Economic & Management Sciences        75.0   \n",
       "2                    AgriSciences        55.0   \n",
       "3                     Engineering        84.0   \n",
       "4          Arts & Social Sciences        52.0   \n",
       "\n",
       "                              accommodation_status monthly_allowance  \\\n",
       "0  Private accommodation/ stay with family/friends    R 4001- R 5000   \n",
       "1  Private accommodation/ stay with family/friends   R 7001 - R 8000   \n",
       "2  Private accommodation/ stay with family/friends    R 4001- R 5000   \n",
       "3  Private accommodation/ stay with family/friends   R 6001 - R 7000   \n",
       "4  Private accommodation/ stay with family/friends    R 4001- R 5000   \n",
       "\n",
       "           scholarship study_hours_week socialising_week drinks_night  \\\n",
       "0                   No               8+    Only weekends           8+   \n",
       "1  Yes (NSFAS, etc...)               8+    Only weekends          3-5   \n",
       "2                   No              3-5                2           8+   \n",
       "3                   No              3-5                3           8+   \n",
       "4                   No              3-5    Only weekends          5-8   \n",
       "\n",
       "  classes_missed modules_failed in_relationship parental_approval  \\\n",
       "0              3              0             Yes               Yes   \n",
       "1             4+              0              No               Yes   \n",
       "2              3              0              No               Yes   \n",
       "3              2              0             Yes               Yes   \n",
       "4              1              3              No               Yes   \n",
       "\n",
       "  relationship_parents  \n",
       "0           Very close  \n",
       "1           Very close  \n",
       "2           Very close  \n",
       "3           Very close  \n",
       "4                 Fair  "
      ]
     },
     "execution_count": 29,
     "metadata": {},
     "output_type": "execute_result"
    }
   ],
   "source": [
    "student_data.head()"
   ]
  },
  {
   "cell_type": "code",
   "execution_count": 30,
   "id": "f3bbfdef-7b9a-4f54-9b3b-839b49545e07",
   "metadata": {},
   "outputs": [],
   "source": [
    "# deleting timestamp column\n",
    "student_data.drop(\"timestamp\", axis = 1, inplace = True)"
   ]
  },
  {
   "cell_type": "code",
   "execution_count": 31,
   "id": "2076aea0-0055-42db-b819-0fb61f185b85",
   "metadata": {},
   "outputs": [
    {
     "name": "stdout",
     "output_type": "stream",
     "text": [
      "<class 'pandas.core.frame.DataFrame'>\n",
      "RangeIndex: 406 entries, 0 to 405\n",
      "Data columns (total 16 columns):\n",
      " #   Column                Non-Null Count  Dtype  \n",
      "---  ------                --------------  -----  \n",
      " 0   sex                   404 non-null    object \n",
      " 1   matric_gpa_%          399 non-null    float64\n",
      " 2   study_year            333 non-null    object \n",
      " 3   faculty               399 non-null    object \n",
      " 4   gpa_%_2023            320 non-null    float64\n",
      " 5   accommodation_status  383 non-null    object \n",
      " 6   monthly_allowance     375 non-null    object \n",
      " 7   scholarship           398 non-null    object \n",
      " 8   study_hours_week      403 non-null    object \n",
      " 9   socialising_week      404 non-null    object \n",
      " 10  drinks_night          404 non-null    object \n",
      " 11  classes_missed        403 non-null    object \n",
      " 12  modules_failed        403 non-null    object \n",
      " 13  in_relationship       403 non-null    object \n",
      " 14  parental_approval     402 non-null    object \n",
      " 15  relationship_parents  403 non-null    object \n",
      "dtypes: float64(2), object(14)\n",
      "memory usage: 50.9+ KB\n"
     ]
    }
   ],
   "source": [
    "student_data.info()"
   ]
  },
  {
   "cell_type": "code",
   "execution_count": 32,
   "id": "16ac3b03-e8c2-4004-bfc1-a1d802b92323",
   "metadata": {},
   "outputs": [
    {
     "data": {
      "text/plain": [
       "sex                      2\n",
       "matric_gpa_%             7\n",
       "study_year              73\n",
       "faculty                  7\n",
       "gpa_%_2023              86\n",
       "accommodation_status    23\n",
       "monthly_allowance       31\n",
       "scholarship              8\n",
       "study_hours_week         3\n",
       "socialising_week         2\n",
       "drinks_night             2\n",
       "classes_missed           3\n",
       "modules_failed           3\n",
       "in_relationship          3\n",
       "parental_approval        4\n",
       "relationship_parents     3\n",
       "dtype: int64"
      ]
     },
     "execution_count": 32,
     "metadata": {},
     "output_type": "execute_result"
    }
   ],
   "source": [
    "# Handling null value\n",
    "student_data.isna().sum()"
   ]
  },
  {
   "cell_type": "code",
   "execution_count": 33,
   "id": "c3e0d913-d673-49a5-94f7-7c7d8c56c3ff",
   "metadata": {},
   "outputs": [],
   "source": [
    "# removing conditional null values related to target\n",
    "null_index =student_data[student_data[[\"study_year\", \"gpa_%_2023\"]].isna().sum(axis =1) > 1].index\n",
    "\n",
    "student_data.drop(null_index, axis = 0, inplace=True)"
   ]
  },
  {
   "cell_type": "code",
   "execution_count": 34,
   "id": "d229e801-591f-4087-ac19-b1c77bfe0916",
   "metadata": {},
   "outputs": [],
   "source": [
    "# if more than 5 columns null in a row\n",
    "student_data=student_data[~(student_data.isna().sum(axis = 1) >= 5)]"
   ]
  },
  {
   "cell_type": "code",
   "execution_count": null,
   "id": "9b284dab-1998-41c5-8ad6-9b427d56246e",
   "metadata": {},
   "outputs": [],
   "source": []
  },
  {
   "cell_type": "code",
   "execution_count": null,
   "id": "4dffb91a-8cc1-4155-89f6-5f085c320d68",
   "metadata": {},
   "outputs": [],
   "source": []
  },
  {
   "cell_type": "code",
   "execution_count": 35,
   "id": "9f8376ad-bbff-4632-a286-e20c862ade9d",
   "metadata": {},
   "outputs": [
    {
     "data": {
      "text/plain": [
       "sex                      0\n",
       "matric_gpa_%             3\n",
       "study_year               1\n",
       "faculty                  4\n",
       "gpa_%_2023              14\n",
       "accommodation_status     4\n",
       "monthly_allowance       15\n",
       "scholarship              0\n",
       "study_hours_week         0\n",
       "socialising_week         0\n",
       "drinks_night             0\n",
       "classes_missed           1\n",
       "modules_failed           0\n",
       "in_relationship          1\n",
       "parental_approval        2\n",
       "relationship_parents     1\n",
       "dtype: int64"
      ]
     },
     "execution_count": 35,
     "metadata": {},
     "output_type": "execute_result"
    }
   ],
   "source": [
    "student_data.isna().sum()"
   ]
  },
  {
   "cell_type": "code",
   "execution_count": null,
   "id": "20be885a-d026-4cbf-b542-0b4dec60ac11",
   "metadata": {},
   "outputs": [],
   "source": []
  },
  {
   "cell_type": "code",
   "execution_count": 36,
   "id": "cd87d569-7c63-4745-b041-d4d6c50228b0",
   "metadata": {},
   "outputs": [],
   "source": [
    "# filling categorical columns with mode\n",
    "\n",
    "columns_to_fill =[\n",
    "    'faculty','accommodation_status','monthly_allowance','scholarship','study_hours_week','classes_missed','modules_failed',\n",
    "    'in_relationship','parental_approval','relationship_parents','study_year'\n",
    "]"
   ]
  },
  {
   "cell_type": "code",
   "execution_count": 37,
   "id": "9bcd67b9-c527-444f-ad2b-118fc490e4c6",
   "metadata": {},
   "outputs": [],
   "source": [
    "student_data.fillna(\n",
    "    student_data[columns_to_fill].mode().loc[0], inplace = True\n",
    ")"
   ]
  },
  {
   "cell_type": "code",
   "execution_count": 38,
   "id": "309816db-766c-4592-9a18-f83955f9a6f0",
   "metadata": {},
   "outputs": [
    {
     "data": {
      "text/plain": [
       "sex                      0\n",
       "matric_gpa_%             3\n",
       "study_year               0\n",
       "faculty                  0\n",
       "gpa_%_2023              14\n",
       "accommodation_status     0\n",
       "monthly_allowance        0\n",
       "scholarship              0\n",
       "study_hours_week         0\n",
       "socialising_week         0\n",
       "drinks_night             0\n",
       "classes_missed           0\n",
       "modules_failed           0\n",
       "in_relationship          0\n",
       "parental_approval        0\n",
       "relationship_parents     0\n",
       "dtype: int64"
      ]
     },
     "execution_count": 38,
     "metadata": {},
     "output_type": "execute_result"
    }
   ],
   "source": [
    "student_data.isna().sum()"
   ]
  },
  {
   "cell_type": "code",
   "execution_count": 39,
   "id": "ab08361a-d205-422c-a5d9-2e68d357fd4b",
   "metadata": {},
   "outputs": [
    {
     "data": {
      "text/plain": [
       "<Axes: ylabel='Density'>"
      ]
     },
     "execution_count": 39,
     "metadata": {},
     "output_type": "execute_result"
    },
    {
     "data": {
      "image/png": "[encoded data removed]",
      "text/plain": [
       "<Figure size 640x480 with 1 Axes>"
      ]
     },
     "metadata": {},
     "output_type": "display_data"
    }
   ],
   "source": [
    "student_data[\"matric_gpa_%\"].plot.kde()"
   ]
  },
  {
   "cell_type": "code",
   "execution_count": 40,
   "id": "79062af7-f01c-40c0-84cd-47c945a4ee2e",
   "metadata": {},
   "outputs": [
    {
     "name": "stderr",
     "output_type": "stream",
     "text": [
      "C:\\Users\\prate\\AppData\\Local\\Temp\\ipykernel_10632\\2744312669.py:7: FutureWarning: A value is trying to be set on a copy of a DataFrame or Series through chained assignment using an inplace method.\n",
      "The behavior will change in pandas 3.0. This inplace method will never work because the intermediate object on which we are setting values always behaves as a copy.\n",
      "\n",
      "For example, when doing 'df[col].method(value, inplace=True)', try using 'df.method({col: value}, inplace=True)' or df[col] = df[col].method(value) instead, to perform the operation inplace on the original object.\n",
      "\n",
      "\n",
      "  student_data[\"gpa_%_2023\"].fillna(mean_gpa, inplace = True)\n"
     ]
    }
   ],
   "source": [
    "# imputing continous numerical value\n",
    "\n",
    "mean_gpa =student_data[\"matric_gpa_%\"].mean()\n",
    "student_data[\"matric_gpa_%\"].fillna(mean_gpa, inplace = True)\n",
    "\n",
    "mean_gpa =student_data[\"gpa_%_2023\"].mean()\n",
    "student_data[\"gpa_%_2023\"].fillna(mean_gpa, inplace = True)"
   ]
  },
  {
   "cell_type": "code",
   "execution_count": 41,
   "id": "80bc5460-83f9-4bf2-8f35-1062e4573c7d",
   "metadata": {},
   "outputs": [
    {
     "data": {
      "text/plain": [
       "sex                     0\n",
       "matric_gpa_%            0\n",
       "study_year              0\n",
       "faculty                 0\n",
       "gpa_%_2023              0\n",
       "accommodation_status    0\n",
       "monthly_allowance       0\n",
       "scholarship             0\n",
       "study_hours_week        0\n",
       "socialising_week        0\n",
       "drinks_night            0\n",
       "classes_missed          0\n",
       "modules_failed          0\n",
       "in_relationship         0\n",
       "parental_approval       0\n",
       "relationship_parents    0\n",
       "dtype: int64"
      ]
     },
     "execution_count": 41,
     "metadata": {},
     "output_type": "execute_result"
    }
   ],
   "source": [
    "student_data.isna().sum()"
   ]
  },
  {
   "cell_type": "code",
   "execution_count": 42,
   "id": "80d891f7-e873-40d2-b164-b70fb64a5e6e",
   "metadata": {},
   "outputs": [],
   "source": [
    "#student_data[student_data[[\"study_year\", \"gpa_%_2023\"]].isna().sum(axis =1) > 1] "
   ]
  },
  {
   "cell_type": "code",
   "execution_count": 43,
   "id": "a3b6346c-427f-48bd-acb7-5db02e9671c3",
   "metadata": {},
   "outputs": [],
   "source": [
    "#student_data[\"study_year\"].value_counts()"
   ]
  },
  {
   "cell_type": "code",
   "execution_count": 52,
   "id": "2779beba-249d-4e13-9af8-68787edc3232",
   "metadata": {},
   "outputs": [
    {
     "data": {
      "text/plain": [
       "<Axes: >"
      ]
     },
     "execution_count": 52,
     "metadata": {},
     "output_type": "execute_result"
    },
    {
     "data": {
      "image/png": "[encoded data removed]",
      "text/plain": [
       "<Figure size 640x480 with 1 Axes>"
      ]
     },
     "metadata": {},
     "output_type": "display_data"
    }
   ],
   "source": [
    "# outliers Handling\n",
    "student_data[[\"matric_gpa_%\",\"gpa_%_2023\"]].plot.box()"
   ]
  },
  {
   "cell_type": "code",
   "execution_count": 53,
   "id": "2d15b2ae-18e4-4d6a-8341-da628f27fc68",
   "metadata": {},
   "outputs": [],
   "source": [
    "# handling outlier with IQR\n",
    "def handle_outlier(\n",
    "    dataframe : pd.DataFrame, columns : list[str]\n",
    "):\n",
    "    for each_col in columns:\n",
    "        print(f\"working for {each_col} column\")\n",
    "        series =dataframe[each_col]\n",
    "        q1 =  series.quantile(0.25)\n",
    "        q3 =  series.quantile(0.75)\n",
    "        iqr = q3 - q1\n",
    "        max_v = q3 + 1.5 *iqr\n",
    "        min_v = q1 - 1.5 *iqr\n",
    "\n",
    "        to_drop =  series[ (series > max_v) | ( series < min_v)].index\n",
    "        print(f\"Dropping {to_drop} indexes\")\n",
    "        dataframe = dataframe.drop(to_drop, axis = 0, inplace = False)\n",
    "\n",
    "    return dataframe        "
   ]
  },
  {
   "cell_type": "code",
   "execution_count": 54,
   "id": "ceb06d45-7e21-4fbc-826a-12bc83d2f0b0",
   "metadata": {},
   "outputs": [
    {
     "name": "stdout",
     "output_type": "stream",
     "text": [
      "working for matric_gpa_% column\n",
      "Dropping Index([38, 54, 73, 203, 268, 335, 358], dtype='int64') indexes\n",
      "working for gpa_%_2023 column\n",
      "Dropping Index([303], dtype='int64') indexes\n"
     ]
    }
   ],
   "source": [
    "student_data_no_outlier = handle_outlier(student_data, [\"matric_gpa_%\",\"gpa_%_2023\"])\n"
   ]
  },
  {
   "cell_type": "code",
   "execution_count": null,
   "id": "c341872e-ac42-4077-be8a-2e9bf749c19b",
   "metadata": {},
   "outputs": [],
   "source": []
  },
  {
   "cell_type": "code",
   "execution_count": 50,
   "id": "36c3124a-38e4-4aa8-950f-109777be6c27",
   "metadata": {},
   "outputs": [
    {
     "name": "stdout",
     "output_type": "stream",
     "text": [
      "<class 'pandas.core.frame.DataFrame'>\n",
      "Index: 326 entries, 0 to 405\n",
      "Data columns (total 16 columns):\n",
      " #   Column                Non-Null Count  Dtype  \n",
      "---  ------                --------------  -----  \n",
      " 0   sex                   326 non-null    object \n",
      " 1   matric_gpa_%          326 non-null    float64\n",
      " 2   study_year            326 non-null    object \n",
      " 3   faculty               326 non-null    object \n",
      " 4   gpa_%_2023            326 non-null    float64\n",
      " 5   accommodation_status  326 non-null    object \n",
      " 6   monthly_allowance     326 non-null    object \n",
      " 7   scholarship           326 non-null    object \n",
      " 8   study_hours_week      326 non-null    object \n",
      " 9   socialising_week      326 non-null    object \n",
      " 10  drinks_night          326 non-null    object \n",
      " 11  classes_missed        326 non-null    object \n",
      " 12  modules_failed        326 non-null    object \n",
      " 13  in_relationship       326 non-null    object \n",
      " 14  parental_approval     326 non-null    object \n",
      " 15  relationship_parents  326 non-null    object \n",
      "dtypes: float64(2), object(14)\n",
      "memory usage: 43.3+ KB\n"
     ]
    }
   ],
   "source": [
    "student_data_no_outlier.info()"
   ]
  },
  {
   "cell_type": "code",
   "execution_count": 55,
   "id": "52e5c2b5-c46a-4f53-9e4e-6ee853c6e868",
   "metadata": {},
   "outputs": [],
   "source": [
    "student_data_no_outlier.to_csv(\"student_survey_clean.csv\", index = False)"
   ]
  },
  {
   "cell_type": "code",
   "execution_count": null,
   "id": "9ae23161-d51a-46db-955e-d28a6a431b3a",
   "metadata": {},
   "outputs": [],
   "source": []
  }
 ],
 "metadata": {
  "kernelspec": {
   "display_name": "Python 3 (ipykernel)",
   "language": "python",
   "name": "python3"
  },
  "language_info": {
   "codemirror_mode": {
    "name": "ipython",
    "version": 3
   },
   "file_extension": ".py",
   "mimetype": "text/x-python",
   "name": "python",
   "nbconvert_exporter": "python",
   "pygments_lexer": "ipython3",
   "version": "3.13.0"
  }
 },
 "nbformat": 4,
 "nbformat_minor": 5
}
