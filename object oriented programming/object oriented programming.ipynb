{
 "cells": [
  {
   "cell_type": "markdown",
   "id": "81b793e8-f9f5-4b7d-bd19-aafd29343e60",
   "metadata": {},
   "source": [
    "## Object Oriented Programming"
   ]
  },
  {
   "cell_type": "markdown",
   "id": "bb99ba44-37c4-4631-b845-4bfbb2097c07",
   "metadata": {},
   "source": [
    "** class and object **"
   ]
  },
  {
   "cell_type": "markdown",
   "id": "7c6bacd6-7951-4bcd-bf23-66a7a37a692b",
   "metadata": {},
   "source": [
    "syntax:\n",
    "\n",
    "class ClassName:\n",
    "\n",
    "    def methods:\n",
    "    \n",
    "        ..\n",
    "        "
   ]
  },
  {
   "cell_type": "code",
   "execution_count": 1,
   "id": "2a91e0c3-90bc-481a-82b5-018738f68aee",
   "metadata": {},
   "outputs": [],
   "source": [
    "class Calculator:\n",
    "    def __init__(self,num1,num2):\n",
    "        self.num1 = num1\n",
    "        self.num2 = num2\n",
    "\n",
    "    def sum(self):\n",
    "        return self.num1 + self.num2\n",
    "\n",
    "    def product(self):\n",
    "        return self.num1 * self.num2\n",
    "    "
   ]
  },
  {
   "cell_type": "code",
   "execution_count": 2,
   "id": "3376adcf-20a1-447d-93cc-e88b4e74d7ce",
   "metadata": {},
   "outputs": [],
   "source": [
    "cal_obj = Calculator(2,3)"
   ]
  },
  {
   "cell_type": "code",
   "execution_count": 3,
   "id": "c7fc8d1e-b6ed-44b7-b019-6529d928521f",
   "metadata": {},
   "outputs": [
    {
     "data": {
      "text/plain": [
       "5"
      ]
     },
     "execution_count": 3,
     "metadata": {},
     "output_type": "execute_result"
    }
   ],
   "source": [
    "cal_obj.sum()"
   ]
  },
  {
   "cell_type": "code",
   "execution_count": 4,
   "id": "b7c8308f-a051-43d0-8d1c-e359ef77d011",
   "metadata": {},
   "outputs": [
    {
     "data": {
      "text/plain": [
       "2"
      ]
     },
     "execution_count": 4,
     "metadata": {},
     "output_type": "execute_result"
    }
   ],
   "source": [
    "cal_obj.num1"
   ]
  },
  {
   "cell_type": "code",
   "execution_count": 5,
   "id": "c5fc29ae-466e-46f3-afa7-a1875401071c",
   "metadata": {},
   "outputs": [
    {
     "data": {
      "text/plain": [
       "['__class__',\n",
       " '__delattr__',\n",
       " '__dict__',\n",
       " '__dir__',\n",
       " '__doc__',\n",
       " '__eq__',\n",
       " '__firstlineno__',\n",
       " '__format__',\n",
       " '__ge__',\n",
       " '__getattribute__',\n",
       " '__getstate__',\n",
       " '__gt__',\n",
       " '__hash__',\n",
       " '__init__',\n",
       " '__init_subclass__',\n",
       " '__le__',\n",
       " '__lt__',\n",
       " '__module__',\n",
       " '__ne__',\n",
       " '__new__',\n",
       " '__reduce__',\n",
       " '__reduce_ex__',\n",
       " '__repr__',\n",
       " '__setattr__',\n",
       " '__sizeof__',\n",
       " '__static_attributes__',\n",
       " '__str__',\n",
       " '__subclasshook__',\n",
       " '__weakref__',\n",
       " 'num1',\n",
       " 'num2',\n",
       " 'product',\n",
       " 'sum']"
      ]
     },
     "execution_count": 5,
     "metadata": {},
     "output_type": "execute_result"
    }
   ],
   "source": [
    "dir(cal_obj)\n"
   ]
  },
  {
   "cell_type": "code",
   "execution_count": 6,
   "id": "e340997f-9a7d-4397-96fd-23d773cf606d",
   "metadata": {},
   "outputs": [
    {
     "data": {
      "text/plain": [
       "6"
      ]
     },
     "execution_count": 6,
     "metadata": {},
     "output_type": "execute_result"
    }
   ],
   "source": [
    "cal_obj.product()"
   ]
  },
  {
   "cell_type": "code",
   "execution_count": 16,
   "id": "1c48a6bf-e0c1-48cc-90a9-e8cc47713d36",
   "metadata": {},
   "outputs": [
    {
     "name": "stdout",
     "output_type": "stream",
     "text": [
      "Rocky is barking\n"
     ]
    },
    {
     "data": {
      "text/plain": [
       "3"
      ]
     },
     "execution_count": 16,
     "metadata": {},
     "output_type": "execute_result"
    }
   ],
   "source": [
    "class Dog:\n",
    "    count=0 #class attribute\n",
    "    def __init__(self,name, age= 3):\n",
    "        self.name = name\n",
    "        self.age = age\n",
    "\n",
    "        Dog.count += 1\n",
    "\n",
    "    def bark(self):\n",
    "        return (f\"{self.name} is barking\")\n",
    "\n",
    "    @classmethod\n",
    "    def get_count(cls):\n",
    "        return cls.count\n",
    "\n",
    "    @staticmethod\n",
    "    def get_vet_info():\n",
    "        return \"name of doc\"\n",
    "\n",
    "\n",
    "dog1 = Dog(\"Rocky\")\n",
    "print(dog1.bark())\n",
    "dog1.age\n",
    "         "
   ]
  },
  {
   "cell_type": "code",
   "execution_count": null,
   "id": "60f2a0f0-cabf-48cb-a454-a85372836206",
   "metadata": {},
   "outputs": [],
   "source": []
  },
  {
   "cell_type": "code",
   "execution_count": null,
   "id": "8a2cb2f5-4294-4e33-a189-611e33d03f0b",
   "metadata": {},
   "outputs": [],
   "source": []
  },
  {
   "cell_type": "code",
   "execution_count": 26,
   "id": "dc3e35ca-5c86-4fff-9d37-dafa330b0d74",
   "metadata": {},
   "outputs": [],
   "source": [
    "class Person:\n",
    "    count = 0\n",
    "\n",
    "    def __init__(self,name,address=\"Kathmandu\"): #constructor/ Initializer\n",
    "        self.name = name\n",
    "        self.address = address\n",
    "\n",
    "        Person.count +=1\n",
    "\n",
    "    def update_name(self,new_name): #instance method\n",
    "        self.name = new_name\n",
    "        print(f\"Name updated to {self.name}\")\n",
    "            \n",
    "    @classmethod\n",
    "    def get_count(cls): #class method\n",
    "        return cls.count\n",
    "\n",
    "    @staticmethod\n",
    "    def create_fullname(firstname, lastname): #static method\n",
    "        return f\"{lastname}, {firstname}\""
   ]
  },
  {
   "cell_type": "code",
   "execution_count": 27,
   "id": "38087d76-2545-481e-a8cd-77cbe173d5d8",
   "metadata": {},
   "outputs": [],
   "source": [
    "Person1 = Person(\"john\")"
   ]
  },
  {
   "cell_type": "code",
   "execution_count": 28,
   "id": "0ccee8f8-a0c5-4a20-b5d9-59f01c59b62c",
   "metadata": {},
   "outputs": [
    {
     "name": "stdout",
     "output_type": "stream",
     "text": [
      "Name updated to Noah\n"
     ]
    }
   ],
   "source": [
    "Person1.update_name(\"Noah\")"
   ]
  },
  {
   "cell_type": "code",
   "execution_count": 29,
   "id": "553081a1-ddf3-40f6-b5ac-b51fe23f6553",
   "metadata": {},
   "outputs": [
    {
     "data": {
      "text/plain": [
       "'Noah'"
      ]
     },
     "execution_count": 29,
     "metadata": {},
     "output_type": "execute_result"
    }
   ],
   "source": [
    "Person1.name"
   ]
  },
  {
   "cell_type": "code",
   "execution_count": 30,
   "id": "c9a89773-567c-43b9-bd74-c4103a529e0b",
   "metadata": {},
   "outputs": [
    {
     "data": {
      "text/plain": [
       "1"
      ]
     },
     "execution_count": 30,
     "metadata": {},
     "output_type": "execute_result"
    }
   ],
   "source": [
    "Person.get_count()"
   ]
  },
  {
   "cell_type": "code",
   "execution_count": 31,
   "id": "4cbf95a0-e6ce-4cde-b40b-e04adace2b92",
   "metadata": {},
   "outputs": [
    {
     "data": {
      "text/plain": [
       "'dhakal, pratima'"
      ]
     },
     "execution_count": 31,
     "metadata": {},
     "output_type": "execute_result"
    }
   ],
   "source": [
    "Person1.create_fullname(\"pratima\",\"dhakal\")"
   ]
  },
  {
   "cell_type": "code",
   "execution_count": 32,
   "id": "36438267-d5e0-44b4-b8ed-fe53affb647f",
   "metadata": {},
   "outputs": [
    {
     "data": {
      "text/plain": [
       "1"
      ]
     },
     "execution_count": 32,
     "metadata": {},
     "output_type": "execute_result"
    }
   ],
   "source": [
    "Person.get_count()"
   ]
  },
  {
   "cell_type": "code",
   "execution_count": 54,
   "id": "7249095d-8c5b-41c5-a206-481a6af45191",
   "metadata": {},
   "outputs": [],
   "source": [
    "class Library:\n",
    "    \"\"\"_summary_\n",
    "    \"\"\"     \n",
    "    def __init__(self):\n",
    "        \"\"\" Constructor to initialize the list of books in the library   \n",
    "        \"\"\" \n",
    "        self.books = [ \n",
    "            (\"The Alchemist\", 25),\n",
    "            (\"The Da Vinci Code\", 30),\n",
    "            (\"A Brief History of Time\", 15),\n",
    "            (\"Angels & Demons\", 0),\n",
    "            (\"The Grand Design\", 0),\n",
    "            (\"1984\", 19)\n",
    "        ]\n",
    "    def can_borrow(self,book_name):\n",
    "        \"\"\"_summary_\n",
    "\n",
    "        Args:\n",
    "            book_name (_type_): _description_\n",
    "        \"\"\"\n",
    "        book_name = book_name.lower()\n",
    "        for book, amt in self.books:\n",
    "            if book_name == book.lower():\n",
    "                if amt>0:\n",
    "                    print(\"can borrow book\")\n",
    "                else:\n",
    "                    print(\" book is not available\")"
   ]
  },
  {
   "cell_type": "code",
   "execution_count": 55,
   "id": "fd698a0b-0641-4c4e-867f-be24b69d921e",
   "metadata": {},
   "outputs": [],
   "source": [
    "#def can_borrow (self, book_name):\n",
    "   # status = [ name for name, quantity in self.books if (name == book_name) & (quantity >0)]\n",
    "\n",
    "   # return \"can borrow\" if status else \"cannot borrow\""
   ]
  },
  {
   "cell_type": "code",
   "execution_count": 56,
   "id": "f99706eb-103b-4d0c-aeb7-b3466501d459",
   "metadata": {},
   "outputs": [],
   "source": [
    "book1=Library()"
   ]
  },
  {
   "cell_type": "code",
   "execution_count": 57,
   "id": "92e0c4e6-df84-47d8-8139-80b265091e85",
   "metadata": {},
   "outputs": [
    {
     "name": "stdout",
     "output_type": "stream",
     "text": [
      " book is not available\n",
      "None\n"
     ]
    }
   ],
   "source": [
    "print(book1.can_borrow(\"The grand Design\"))"
   ]
  },
  {
   "cell_type": "code",
   "execution_count": 58,
   "id": "32cf9e66-3013-43f8-b3ce-5a68e5983cf7",
   "metadata": {},
   "outputs": [
    {
     "name": "stdout",
     "output_type": "stream",
     "text": [
      "can borrow book\n",
      "None\n"
     ]
    }
   ],
   "source": [
    "print(book1.can_borrow(\"The alchemist\"))"
   ]
  },
  {
   "cell_type": "code",
   "execution_count": null,
   "id": "ccba720c-60ee-498a-832a-1501fc7f4e15",
   "metadata": {},
   "outputs": [],
   "source": []
  }
 ],
 "metadata": {
  "kernelspec": {
   "display_name": "Python 3 (ipykernel)",
   "language": "python",
   "name": "python3"
  },
  "language_info": {
   "codemirror_mode": {
    "name": "ipython",
    "version": 3
   },
   "file_extension": ".py",
   "mimetype": "text/x-python",
   "name": "python",
   "nbconvert_exporter": "python",
   "pygments_lexer": "ipython3",
   "version": "3.13.0"
  }
 },
 "nbformat": 4,
 "nbformat_minor": 5
}
