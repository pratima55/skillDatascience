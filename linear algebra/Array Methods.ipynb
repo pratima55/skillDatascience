{
 "cells": [
  {
   "cell_type": "markdown",
   "id": "99672f12-7197-425c-8f7d-2d25d477e261",
   "metadata": {},
   "source": [
    "## NumPy Array Properties and Methods\n",
    "\n",
    "NumPy arrays have several useful properties and methods that can be used to manipulate them.\n",
    "\n",
    "- `shape`: Property that returns the dimensions of the array\n",
    "- `ndim`: Property that returns number of array dimensions\n",
    "- `dtype`: Property that returns data-type of the array’s elements\n",
    "- `T`: Transpose of the array’s elements\n",
    "- -------------------------------------------------------------------\n",
    "- `reshape()`: Method to change the dimensions of an array. The product of old dimensions should match the product of new dimensions\n",
    "- `ravel()`: Method that collapses all values into a single axis or dimension and returns view of original array\n",
    "- `flatten()`: Method that collapses all values into a single axis or dimension and returns an independent copy of original array\n",
    "- `np.concatenate()`: Method to concatenate two or more arrays\n",
    "- `sum()`: Method that returns the sum of all elements in an array\n",
    "- `cumsum()`: Method that returns cumulative sum over given axis\n",
    "- `prod()`: Method that compute product over given axis\n",
    "- `max()`: Method that returns the maximum along a given axis\n",
    "- `argmax()`: Method that returns indeces of the maximum values along a given axis\n",
    "- `clip()`: Clip values beyond range to threshold values\n",
    "- `np.split()`: Method to split an array into multiple sub-arrays\n",
    "- `np.vstack()`: Method to stack arrays vertically\n",
    "- `np.hstack()`: Method to stack arrays horizontally"
   ]
  },
  {
   "cell_type": "code",
   "execution_count": 1,
   "id": "4ea03441-06fc-49b6-b044-f060a0ac1139",
   "metadata": {},
   "outputs": [],
   "source": [
    "import numpy as np"
   ]
  },
  {
   "cell_type": "code",
   "execution_count": 3,
   "id": "b6fd1f48-bbc0-4257-bf3c-72177fc4763f",
   "metadata": {},
   "outputs": [],
   "source": [
    "arr = np.random.randint(10,50, size = (5,2,3))"
   ]
  },
  {
   "cell_type": "code",
   "execution_count": 4,
   "id": "9e947b31-1167-4f84-a073-a3734713da7b",
   "metadata": {},
   "outputs": [
    {
     "data": {
      "text/plain": [
       "array([[[22, 35, 37],\n",
       "        [25, 46, 40]],\n",
       "\n",
       "       [[23, 37, 33],\n",
       "        [10, 45, 27]],\n",
       "\n",
       "       [[36, 37, 20],\n",
       "        [22, 42, 11]],\n",
       "\n",
       "       [[33, 28, 10],\n",
       "        [45, 36, 24]],\n",
       "\n",
       "       [[39, 16, 27],\n",
       "        [31, 16, 26]]], dtype=int32)"
      ]
     },
     "execution_count": 4,
     "metadata": {},
     "output_type": "execute_result"
    }
   ],
   "source": [
    "c = np.random.randint(0,10, (4,2,2))\n",
    "arr"
   ]
  },
  {
   "cell_type": "code",
   "execution_count": 5,
   "id": "14209295-260a-4141-8042-758aa7b0bae0",
   "metadata": {},
   "outputs": [
    {
     "data": {
      "text/plain": [
       "3"
      ]
     },
     "execution_count": 5,
     "metadata": {},
     "output_type": "execute_result"
    }
   ],
   "source": [
    "arr.ndim"
   ]
  },
  {
   "cell_type": "code",
   "execution_count": 6,
   "id": "d902fe11-7949-43f6-b1b9-7c4e091e3f03",
   "metadata": {},
   "outputs": [
    {
     "data": {
      "text/plain": [
       "(5, 2, 3)"
      ]
     },
     "execution_count": 6,
     "metadata": {},
     "output_type": "execute_result"
    }
   ],
   "source": [
    "arr.shape"
   ]
  },
  {
   "cell_type": "code",
   "execution_count": 7,
   "id": "bb80bdff-057e-48ea-92cd-9c684f54feba",
   "metadata": {},
   "outputs": [
    {
     "data": {
      "text/plain": [
       "dtype('int32')"
      ]
     },
     "execution_count": 7,
     "metadata": {},
     "output_type": "execute_result"
    }
   ],
   "source": [
    "arr.dtype"
   ]
  },
  {
   "cell_type": "code",
   "execution_count": 8,
   "id": "dcbf4a38-de59-4822-8f53-d82e4ddf9660",
   "metadata": {},
   "outputs": [
    {
     "data": {
      "text/plain": [
       "array([[[22, 23, 36, 33, 39],\n",
       "        [25, 10, 22, 45, 31]],\n",
       "\n",
       "       [[35, 37, 37, 28, 16],\n",
       "        [46, 45, 42, 36, 16]],\n",
       "\n",
       "       [[37, 33, 20, 10, 27],\n",
       "        [40, 27, 11, 24, 26]]], dtype=int32)"
      ]
     },
     "execution_count": 8,
     "metadata": {},
     "output_type": "execute_result"
    }
   ],
   "source": [
    "arr_T=arr.T\n",
    "arr_T"
   ]
  },
  {
   "cell_type": "code",
   "execution_count": 9,
   "id": "3d0702c0-55b6-4099-b0c1-cbcbde7b334b",
   "metadata": {},
   "outputs": [
    {
     "data": {
      "text/plain": [
       "(3, 2, 5)"
      ]
     },
     "execution_count": 9,
     "metadata": {},
     "output_type": "execute_result"
    }
   ],
   "source": [
    "arr_T.shape"
   ]
  },
  {
   "cell_type": "code",
   "execution_count": 10,
   "id": "1d4c6400-d559-47b2-a36d-9d249f848c43",
   "metadata": {},
   "outputs": [
    {
     "data": {
      "text/plain": [
       "(5, 2, 3)"
      ]
     },
     "execution_count": 10,
     "metadata": {},
     "output_type": "execute_result"
    }
   ],
   "source": [
    "arr.shape"
   ]
  },
  {
   "cell_type": "code",
   "execution_count": 11,
   "id": "a716b9bd-b5d5-4633-bdb2-ddf5413338f9",
   "metadata": {},
   "outputs": [
    {
     "data": {
      "text/plain": [
       "array([[22, 35, 37],\n",
       "       [25, 46, 40],\n",
       "       [23, 37, 33],\n",
       "       [10, 45, 27],\n",
       "       [36, 37, 20],\n",
       "       [22, 42, 11],\n",
       "       [33, 28, 10],\n",
       "       [45, 36, 24],\n",
       "       [39, 16, 27],\n",
       "       [31, 16, 26]], dtype=int32)"
      ]
     },
     "execution_count": 11,
     "metadata": {},
     "output_type": "execute_result"
    }
   ],
   "source": [
    "arr.reshape(10,3)"
   ]
  },
  {
   "cell_type": "code",
   "execution_count": 12,
   "id": "759b3097-f39b-4cc4-a657-9310c16e011e",
   "metadata": {},
   "outputs": [
    {
     "data": {
      "text/plain": [
       "array([[22, 35],\n",
       "       [37, 25],\n",
       "       [46, 40],\n",
       "       [23, 37],\n",
       "       [33, 10],\n",
       "       [45, 27],\n",
       "       [36, 37],\n",
       "       [20, 22],\n",
       "       [42, 11],\n",
       "       [33, 28],\n",
       "       [10, 45],\n",
       "       [36, 24],\n",
       "       [39, 16],\n",
       "       [27, 31],\n",
       "       [16, 26]], dtype=int32)"
      ]
     },
     "execution_count": 12,
     "metadata": {},
     "output_type": "execute_result"
    }
   ],
   "source": [
    "arr.reshape(15,2)"
   ]
  },
  {
   "cell_type": "code",
   "execution_count": 13,
   "id": "4f88a810-9ca8-44e2-aad1-5d4e02e76d86",
   "metadata": {},
   "outputs": [
    {
     "data": {
      "text/plain": [
       "array([22, 35, 37, 25, 46, 40, 23, 37, 33, 10, 45, 27, 36, 37, 20, 22, 42,\n",
       "       11, 33, 28, 10, 45, 36, 24, 39, 16, 27, 31, 16, 26], dtype=int32)"
      ]
     },
     "execution_count": 13,
     "metadata": {},
     "output_type": "execute_result"
    }
   ],
   "source": [
    "arr.flatten()"
   ]
  },
  {
   "cell_type": "markdown",
   "id": "cab6ff96-0a32-4cd3-97b4-d58231f05ccb",
   "metadata": {},
   "source": [
    "### 0 > column wise\n",
    "### 1 > row wise"
   ]
  },
  {
   "cell_type": "code",
   "execution_count": 15,
   "id": "3289b372-d232-4346-a6dd-535ebcb2d042",
   "metadata": {},
   "outputs": [
    {
     "data": {
      "text/plain": [
       "array([[47, 81, 77],\n",
       "       [33, 82, 60],\n",
       "       [58, 79, 31],\n",
       "       [78, 64, 34],\n",
       "       [70, 32, 53]])"
      ]
     },
     "execution_count": 15,
     "metadata": {},
     "output_type": "execute_result"
    }
   ],
   "source": [
    "#arr.sum()\n",
    "arr.sum()\n",
    "arr.sum(axis =1)"
   ]
  },
  {
   "cell_type": "code",
   "execution_count": 16,
   "id": "485e2cc2-4503-4a44-b44e-c8c7f4564f1a",
   "metadata": {},
   "outputs": [
    {
     "data": {
      "text/plain": [
       "array([0, 6])"
      ]
     },
     "execution_count": 16,
     "metadata": {},
     "output_type": "execute_result"
    }
   ],
   "source": [
    "np.sum(\n",
    "    [\n",
    "        [0,1],\n",
    "        [0,5]\n",
    "\n",
    "    ],\n",
    " axis = 0)   "
   ]
  },
  {
   "cell_type": "code",
   "execution_count": 17,
   "id": "9fda63e1-ff2a-4dba-ab6a-e54fa53b0b94",
   "metadata": {},
   "outputs": [
    {
     "data": {
      "text/plain": [
       "array([1, 5])"
      ]
     },
     "execution_count": 17,
     "metadata": {},
     "output_type": "execute_result"
    }
   ],
   "source": [
    "np.sum(\n",
    "    [\n",
    "        [0,1],\n",
    "        [0,5]\n",
    "\n",
    "    ],\n",
    " axis = 1)  "
   ]
  },
  {
   "cell_type": "code",
   "execution_count": 18,
   "id": "d4b866b8-c830-4015-8331-312ee5589f96",
   "metadata": {},
   "outputs": [
    {
     "data": {
      "text/plain": [
       "np.float64(9.45084284472511e+42)"
      ]
     },
     "execution_count": 18,
     "metadata": {},
     "output_type": "execute_result"
    }
   ],
   "source": [
    "arr.prod(dtype = float)"
   ]
  },
  {
   "cell_type": "code",
   "execution_count": 20,
   "id": "188b1833-4c4f-422b-94ce-93c8f72197b9",
   "metadata": {},
   "outputs": [
    {
     "data": {
      "text/plain": [
       "array([[[22, 35, 37],\n",
       "        [25, 46, 40]],\n",
       "\n",
       "       [[23, 37, 33],\n",
       "        [10, 45, 27]],\n",
       "\n",
       "       [[36, 37, 20],\n",
       "        [22, 42, 11]],\n",
       "\n",
       "       [[33, 28, 10],\n",
       "        [45, 36, 24]],\n",
       "\n",
       "       [[39, 16, 27],\n",
       "        [31, 16, 26]]], dtype=int32)"
      ]
     },
     "execution_count": 20,
     "metadata": {},
     "output_type": "execute_result"
    }
   ],
   "source": [
    "arr"
   ]
  },
  {
   "cell_type": "code",
   "execution_count": 19,
   "id": "0ac71114-b51a-48fb-ade4-4d3d4c1f9375",
   "metadata": {},
   "outputs": [
    {
     "data": {
      "text/plain": [
       "array([[23443992, 21465920,  6593400],\n",
       "       [ 7672500, 50077440,  7413120]])"
      ]
     },
     "execution_count": 19,
     "metadata": {},
     "output_type": "execute_result"
    }
   ],
   "source": [
    "arr.prod(axis =0)"
   ]
  },
  {
   "cell_type": "code",
   "execution_count": 21,
   "id": "c796f58c-4cee-4dc6-bf45-36fb22802d49",
   "metadata": {},
   "outputs": [
    {
     "data": {
      "text/plain": [
       "array([ 22,  57,  94, 119, 165, 205, 228, 265, 298, 308, 353, 380, 416,\n",
       "       453, 473, 495, 537, 548, 581, 609, 619, 664, 700, 724, 763, 779,\n",
       "       806, 837, 853, 879])"
      ]
     },
     "execution_count": 21,
     "metadata": {},
     "output_type": "execute_result"
    }
   ],
   "source": [
    "arr.cumsum()"
   ]
  },
  {
   "cell_type": "code",
   "execution_count": 22,
   "id": "582a6a21-3a93-4402-9b80-d275e636d4c5",
   "metadata": {},
   "outputs": [
    {
     "data": {
      "text/plain": [
       "np.int32(46)"
      ]
     },
     "execution_count": 22,
     "metadata": {},
     "output_type": "execute_result"
    }
   ],
   "source": [
    "arr.max()"
   ]
  },
  {
   "cell_type": "code",
   "execution_count": 23,
   "id": "2a2cca60-a844-4d53-8311-3525c265ccfc",
   "metadata": {},
   "outputs": [
    {
     "data": {
      "text/plain": [
       "np.int64(4)"
      ]
     },
     "execution_count": 23,
     "metadata": {},
     "output_type": "execute_result"
    }
   ],
   "source": [
    "arr.argmax()\n",
    "#arr.argmax(axis = 0)"
   ]
  },
  {
   "cell_type": "code",
   "execution_count": 25,
   "id": "9af87e95-9bae-4506-a172-5117e52de742",
   "metadata": {},
   "outputs": [
    {
     "data": {
      "text/plain": [
       "array([[[20, 20, 20],\n",
       "        [20, 20, 20]],\n",
       "\n",
       "       [[20, 20, 20],\n",
       "        [10, 20, 20]],\n",
       "\n",
       "       [[20, 20, 20],\n",
       "        [20, 20, 11]],\n",
       "\n",
       "       [[20, 20, 10],\n",
       "        [20, 20, 20]],\n",
       "\n",
       "       [[20, 16, 20],\n",
       "        [20, 16, 20]]], dtype=int32)"
      ]
     },
     "execution_count": 25,
     "metadata": {},
     "output_type": "execute_result"
    }
   ],
   "source": [
    "arr.clip(10,20)"
   ]
  },
  {
   "cell_type": "code",
   "execution_count": 26,
   "id": "3ac91a1a-c644-472f-bea3-386cc9ae19fb",
   "metadata": {},
   "outputs": [],
   "source": [
    "arr1 = np.random.randint(low = -10, high = 10, size = (2,3))\n",
    "arr2 = np.random.randint(low = 0, high = 11, size = (2,3))"
   ]
  },
  {
   "cell_type": "code",
   "execution_count": 27,
   "id": "030b676f-52aa-457d-a120-65344cbee02a",
   "metadata": {},
   "outputs": [
    {
     "data": {
      "text/plain": [
       "(array([[-1, -7,  6],\n",
       "        [ 2,  4,  0]], dtype=int32),\n",
       " array([[7, 2, 7],\n",
       "        [4, 2, 4]], dtype=int32))"
      ]
     },
     "execution_count": 27,
     "metadata": {},
     "output_type": "execute_result"
    }
   ],
   "source": [
    "arr1, arr2"
   ]
  },
  {
   "cell_type": "code",
   "execution_count": 29,
   "id": "cd21d438-18e7-4c6c-bba0-b0d9f5feda94",
   "metadata": {},
   "outputs": [
    {
     "data": {
      "text/plain": [
       "array([[-1, -7,  6],\n",
       "       [ 2,  4,  0],\n",
       "       [ 7,  2,  7],\n",
       "       [ 4,  2,  4]], dtype=int32)"
      ]
     },
     "execution_count": 29,
     "metadata": {},
     "output_type": "execute_result"
    }
   ],
   "source": [
    "np.vstack([arr1, arr2]) #< same columns"
   ]
  },
  {
   "cell_type": "code",
   "execution_count": 30,
   "id": "f293f5b8-270c-498b-ab54-124d5968c6e8",
   "metadata": {},
   "outputs": [
    {
     "data": {
      "text/plain": [
       "array([[-1, -7,  6,  7,  2,  7],\n",
       "       [ 2,  4,  0,  4,  2,  4]], dtype=int32)"
      ]
     },
     "execution_count": 30,
     "metadata": {},
     "output_type": "execute_result"
    }
   ],
   "source": [
    "np.hstack((arr1, arr2)) #< same rows"
   ]
  },
  {
   "cell_type": "code",
   "execution_count": null,
   "id": "63030776-3756-46c6-be24-0a9ff05b2f23",
   "metadata": {},
   "outputs": [],
   "source": []
  }
 ],
 "metadata": {
  "kernelspec": {
   "display_name": "Python 3 (ipykernel)",
   "language": "python",
   "name": "python3"
  },
  "language_info": {
   "codemirror_mode": {
    "name": "ipython",
    "version": 3
   },
   "file_extension": ".py",
   "mimetype": "text/x-python",
   "name": "python",
   "nbconvert_exporter": "python",
   "pygments_lexer": "ipython3",
   "version": "3.13.0"
  }
 },
 "nbformat": 4,
 "nbformat_minor": 5
}
