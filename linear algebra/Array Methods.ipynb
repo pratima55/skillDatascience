{
 "cells": [
  {
   "cell_type": "markdown",
   "id": "99672f12-7197-425c-8f7d-2d25d477e261",
   "metadata": {},
   "source": [
    "## NumPy Array Properties and Methods\n",
    "\n",
    "NumPy arrays have several useful properties and methods that can be used to manipulate them.\n",
    "\n",
    "- `shape`: Property that returns the dimensions of the array\n",
    "- `ndim`: Property that returns number of array dimensions\n",
    "- `dtype`: Property that returns data-type of the array’s elements\n",
    "- `T`: Transpose of the array’s elements\n",
    "- -------------------------------------------------------------------\n",
    "- `reshape()`: Method to change the dimensions of an array. The product of old dimensions should match the product of new dimensions\n",
    "- `ravel()`: Method that collapses all values into a single axis or dimension and returns view of original array\n",
    "- `flatten()`: Method that collapses all values into a single axis or dimension and returns an independent copy of original array\n",
    "- `np.concatenate()`: Method to concatenate two or more arrays\n",
    "- `sum()`: Method that returns the sum of all elements in an array\n",
    "- `cumsum()`: Method that returns cumulative sum over given axis\n",
    "- `prod()`: Method that compute product over given axis\n",
    "- `max()`: Method that returns the maximum along a given axis\n",
    "- `argmax()`: Method that returns indeces of the maximum values along a given axis\n",
    "- `clip()`: Clip values beyond range to threshold values\n",
    "- `np.split()`: Method to split an array into multiple sub-arrays\n",
    "- `np.vstack()`: Method to stack arrays vertically\n",
    "- `np.hstack()`: Method to stack arrays horizontally"
   ]
  },
  {
   "cell_type": "code",
   "execution_count": 5,
   "id": "4ea03441-06fc-49b6-b044-f060a0ac1139",
   "metadata": {},
   "outputs": [],
   "source": [
    "import numpy as np"
   ]
  },
  {
   "cell_type": "code",
   "execution_count": 6,
   "id": "b6fd1f48-bbc0-4257-bf3c-72177fc4763f",
   "metadata": {},
   "outputs": [
    {
     "data": {
      "text/plain": [
       "3"
      ]
     },
     "execution_count": 6,
     "metadata": {},
     "output_type": "execute_result"
    }
   ],
   "source": []
  },
  {
   "cell_type": "code",
   "execution_count": 8,
   "id": "9e947b31-1167-4f84-a073-a3734713da7b",
   "metadata": {},
   "outputs": [
    {
     "data": {
      "text/plain": [
       "array([[[13, 33, 26],\n",
       "        [32, 21, 11]],\n",
       "\n",
       "       [[46, 30, 10],\n",
       "        [17, 40, 20]],\n",
       "\n",
       "       [[35, 15, 11],\n",
       "        [28, 13, 47]],\n",
       "\n",
       "       [[13, 48, 27],\n",
       "        [36, 48, 22]],\n",
       "\n",
       "       [[22, 33, 23],\n",
       "        [41, 14, 15]]], dtype=int32)"
      ]
     },
     "execution_count": 8,
     "metadata": {},
     "output_type": "execute_result"
    }
   ],
   "source": [
    "c = np.random.randint(0,10, (4,2,2))\n",
    "arr"
   ]
  },
  {
   "cell_type": "code",
   "execution_count": 9,
   "id": "14209295-260a-4141-8042-758aa7b0bae0",
   "metadata": {},
   "outputs": [
    {
     "data": {
      "text/plain": [
       "3"
      ]
     },
     "execution_count": 9,
     "metadata": {},
     "output_type": "execute_result"
    }
   ],
   "source": [
    "arr.ndim"
   ]
  },
  {
   "cell_type": "code",
   "execution_count": 10,
   "id": "d902fe11-7949-43f6-b1b9-7c4e091e3f03",
   "metadata": {},
   "outputs": [
    {
     "data": {
      "text/plain": [
       "(5, 2, 3)"
      ]
     },
     "execution_count": 10,
     "metadata": {},
     "output_type": "execute_result"
    }
   ],
   "source": [
    "arr.shape"
   ]
  },
  {
   "cell_type": "code",
   "execution_count": 11,
   "id": "bb80bdff-057e-48ea-92cd-9c684f54feba",
   "metadata": {},
   "outputs": [
    {
     "data": {
      "text/plain": [
       "dtype('int32')"
      ]
     },
     "execution_count": 11,
     "metadata": {},
     "output_type": "execute_result"
    }
   ],
   "source": [
    "arr.dtype"
   ]
  },
  {
   "cell_type": "code",
   "execution_count": 14,
   "id": "dcbf4a38-de59-4822-8f53-d82e4ddf9660",
   "metadata": {},
   "outputs": [
    {
     "data": {
      "text/plain": [
       "array([[[13, 46, 35, 13, 22],\n",
       "        [32, 17, 28, 36, 41]],\n",
       "\n",
       "       [[33, 30, 15, 48, 33],\n",
       "        [21, 40, 13, 48, 14]],\n",
       "\n",
       "       [[26, 10, 11, 27, 23],\n",
       "        [11, 20, 47, 22, 15]]], dtype=int32)"
      ]
     },
     "execution_count": 14,
     "metadata": {},
     "output_type": "execute_result"
    }
   ],
   "source": [
    "arr_T=arr.T\n",
    "arr_T"
   ]
  },
  {
   "cell_type": "code",
   "execution_count": 15,
   "id": "3d0702c0-55b6-4099-b0c1-cbcbde7b334b",
   "metadata": {},
   "outputs": [
    {
     "data": {
      "text/plain": [
       "(3, 2, 5)"
      ]
     },
     "execution_count": 15,
     "metadata": {},
     "output_type": "execute_result"
    }
   ],
   "source": [
    "arr_T.shape"
   ]
  },
  {
   "cell_type": "code",
   "execution_count": 16,
   "id": "1d4c6400-d559-47b2-a36d-9d249f848c43",
   "metadata": {},
   "outputs": [
    {
     "data": {
      "text/plain": [
       "(5, 2, 3)"
      ]
     },
     "execution_count": 16,
     "metadata": {},
     "output_type": "execute_result"
    }
   ],
   "source": [
    "arr.shape"
   ]
  },
  {
   "cell_type": "code",
   "execution_count": 17,
   "id": "a716b9bd-b5d5-4633-bdb2-ddf5413338f9",
   "metadata": {},
   "outputs": [
    {
     "data": {
      "text/plain": [
       "array([[13, 33, 26],\n",
       "       [32, 21, 11],\n",
       "       [46, 30, 10],\n",
       "       [17, 40, 20],\n",
       "       [35, 15, 11],\n",
       "       [28, 13, 47],\n",
       "       [13, 48, 27],\n",
       "       [36, 48, 22],\n",
       "       [22, 33, 23],\n",
       "       [41, 14, 15]], dtype=int32)"
      ]
     },
     "execution_count": 17,
     "metadata": {},
     "output_type": "execute_result"
    }
   ],
   "source": [
    "arr.reshape(10,3)"
   ]
  },
  {
   "cell_type": "code",
   "execution_count": 19,
   "id": "759b3097-f39b-4cc4-a657-9310c16e011e",
   "metadata": {},
   "outputs": [
    {
     "data": {
      "text/plain": [
       "array([[13, 33],\n",
       "       [26, 32],\n",
       "       [21, 11],\n",
       "       [46, 30],\n",
       "       [10, 17],\n",
       "       [40, 20],\n",
       "       [35, 15],\n",
       "       [11, 28],\n",
       "       [13, 47],\n",
       "       [13, 48],\n",
       "       [27, 36],\n",
       "       [48, 22],\n",
       "       [22, 33],\n",
       "       [23, 41],\n",
       "       [14, 15]], dtype=int32)"
      ]
     },
     "execution_count": 19,
     "metadata": {},
     "output_type": "execute_result"
    }
   ],
   "source": [
    "arr.reshape(15,2)"
   ]
  },
  {
   "cell_type": "code",
   "execution_count": null,
   "id": "4f88a810-9ca8-44e2-aad1-5d4e02e76d86",
   "metadata": {},
   "outputs": [],
   "source": []
  }
 ],
 "metadata": {
  "kernelspec": {
   "display_name": "Python 3 (ipykernel)",
   "language": "python",
   "name": "python3"
  },
  "language_info": {
   "codemirror_mode": {
    "name": "ipython",
    "version": 3
   },
   "file_extension": ".py",
   "mimetype": "text/x-python",
   "name": "python",
   "nbconvert_exporter": "python",
   "pygments_lexer": "ipython3",
   "version": "3.13.0"
  }
 },
 "nbformat": 4,
 "nbformat_minor": 5
}
