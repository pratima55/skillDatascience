{
 "cells": [
  {
   "cell_type": "markdown",
   "id": "fd546213-207b-46cc-bf42-39d146b758f6",
   "metadata": {},
   "source": [
    "NumPy arrays can be created in several ways. Here are some of the most common methods:\n",
    "\n",
    "- `array()`: Creates NumPy arrays from Python lists\n",
    "- `zeros()`: Creates NumPy arrays with all elements initialized to 0\n",
    "- `ones()`: Creates NumPy arrays with all elements initialized to 1\n",
    "- `full()`: Creates an array with all elements initialized to same user-specified value\n",
    "- `arange()`: Creates NumPy arrays with a sequence of values (similar to python range() function)\n",
    "- `linspace()`: Creates NumPy arrays with a sequence of evenly spaced values\n",
    "- `diag()`: Creates NumPy array with the provided list of numbers as the diagonal elements and zeros elsewhere\n",
    "- `eye()`: Creates NumPy array with ones on the diagonal and zeros elsewhere\n",
    "- `identity()`: Creates an identity matrix\n",
    "- `random.rand()`: Creates NumPy array of random numbers sampled from a uniform distribution"
   ]
  },
  {
   "cell_type": "code",
   "execution_count": 3,
   "id": "c08a7ad3-ad50-4ca7-9c8f-da4be9fd52c2",
   "metadata": {},
   "outputs": [],
   "source": [
    "import numpy as np\n"
   ]
  },
  {
   "cell_type": "code",
   "execution_count": 4,
   "id": "71fd111b-41f6-4f9f-9fb2-60cf76f13505",
   "metadata": {},
   "outputs": [
    {
     "data": {
      "text/plain": [
       "array([[0., 0., 0.],\n",
       "       [0., 0., 0.],\n",
       "       [0., 0., 0.],\n",
       "       [0., 0., 0.],\n",
       "       [0., 0., 0.]])"
      ]
     },
     "execution_count": 4,
     "metadata": {},
     "output_type": "execute_result"
    }
   ],
   "source": [
    "np.zeros(shape = (5,3))"
   ]
  },
  {
   "cell_type": "code",
   "execution_count": 6,
   "id": "8a7dea1c-88f5-4de4-977c-fe2f77a5f5dc",
   "metadata": {},
   "outputs": [
    {
     "data": {
      "text/plain": [
       "array([[1., 1., 1., 1.],\n",
       "       [1., 1., 1., 1.],\n",
       "       [1., 1., 1., 1.]])"
      ]
     },
     "execution_count": 6,
     "metadata": {},
     "output_type": "execute_result"
    }
   ],
   "source": [
    "np.ones(shape=(3,4))"
   ]
  },
  {
   "cell_type": "code",
   "execution_count": 8,
   "id": "b686d0b7-cc2b-43a4-b641-501f2d66ae4f",
   "metadata": {},
   "outputs": [
    {
     "data": {
      "text/plain": [
       "array([[1., 0., 0., 0., 0., 0., 0., 0., 0., 0.],\n",
       "       [0., 1., 0., 0., 0., 0., 0., 0., 0., 0.],\n",
       "       [0., 0., 1., 0., 0., 0., 0., 0., 0., 0.],\n",
       "       [0., 0., 0., 1., 0., 0., 0., 0., 0., 0.],\n",
       "       [0., 0., 0., 0., 1., 0., 0., 0., 0., 0.],\n",
       "       [0., 0., 0., 0., 0., 1., 0., 0., 0., 0.],\n",
       "       [0., 0., 0., 0., 0., 0., 1., 0., 0., 0.],\n",
       "       [0., 0., 0., 0., 0., 0., 0., 1., 0., 0.],\n",
       "       [0., 0., 0., 0., 0., 0., 0., 0., 1., 0.],\n",
       "       [0., 0., 0., 0., 0., 0., 0., 0., 0., 1.]])"
      ]
     },
     "execution_count": 8,
     "metadata": {},
     "output_type": "execute_result"
    }
   ],
   "source": [
    "np.identity(10)"
   ]
  },
  {
   "cell_type": "code",
   "execution_count": 10,
   "id": "b80097be-a10c-4b68-b27a-c1c7e1551561",
   "metadata": {},
   "outputs": [
    {
     "data": {
      "text/plain": [
       "array([[4.5, 4.5],\n",
       "       [4.5, 4.5]])"
      ]
     },
     "execution_count": 10,
     "metadata": {},
     "output_type": "execute_result"
    }
   ],
   "source": [
    "np.full((2,2), 4.5)"
   ]
  },
  {
   "cell_type": "code",
   "execution_count": 11,
   "id": "d4bb7ab4-39fe-4665-9102-bb6cf1d23d17",
   "metadata": {},
   "outputs": [
    {
     "data": {
      "text/plain": [
       "array([[3.4, 3.4, 3.4, 3.4],\n",
       "       [3.4, 3.4, 3.4, 3.4],\n",
       "       [3.4, 3.4, 3.4, 3.4]])"
      ]
     },
     "execution_count": 11,
     "metadata": {},
     "output_type": "execute_result"
    }
   ],
   "source": [
    "np.full((3,4), 3.4)"
   ]
  },
  {
   "cell_type": "code",
   "execution_count": 12,
   "id": "db8fce39-c9e8-4fb2-971d-d1949eb3d471",
   "metadata": {},
   "outputs": [
    {
     "data": {
      "text/plain": [
       "array([[0.96534884, 0.2151039 , 0.54088798],\n",
       "       [0.16445818, 0.26591347, 0.12635585]])"
      ]
     },
     "execution_count": 12,
     "metadata": {},
     "output_type": "execute_result"
    }
   ],
   "source": [
    "np.random.rand(2,3)"
   ]
  },
  {
   "cell_type": "code",
   "execution_count": 13,
   "id": "a1381b3f-40aa-4f17-879d-a41107845558",
   "metadata": {},
   "outputs": [
    {
     "data": {
      "text/plain": [
       "array([[26, 14],\n",
       "       [25, 18]], dtype=int32)"
      ]
     },
     "execution_count": 13,
     "metadata": {},
     "output_type": "execute_result"
    }
   ],
   "source": [
    "np.random.randint(low = 4, high = 30, size= (2,2))"
   ]
  },
  {
   "cell_type": "code",
   "execution_count": 15,
   "id": "02901ae3-8657-4dc2-91fb-7d0a84141f92",
   "metadata": {},
   "outputs": [
    {
     "data": {
      "text/plain": [
       "array([ 0. ,  2.5,  5. ,  7.5, 10. ])"
      ]
     },
     "execution_count": 15,
     "metadata": {},
     "output_type": "execute_result"
    }
   ],
   "source": [
    "np.linspace(start = 0, stop = 10, num = 5)"
   ]
  },
  {
   "cell_type": "code",
   "execution_count": 16,
   "id": "76505510-4537-41db-8b44-1be5338ae784",
   "metadata": {},
   "outputs": [
    {
     "data": {
      "text/plain": [
       "array([[ 0.  ,  1.  ,  2.  ],\n",
       "       [ 2.5 ,  5.75,  9.  ],\n",
       "       [ 5.  , 10.5 , 16.  ],\n",
       "       [ 7.5 , 15.25, 23.  ],\n",
       "       [10.  , 20.  , 30.  ]])"
      ]
     },
     "execution_count": 16,
     "metadata": {},
     "output_type": "execute_result"
    }
   ],
   "source": [
    "np.linspace(start = (0,1,2), stop =(10,20,30), num=5, axis=0)"
   ]
  },
  {
   "cell_type": "code",
   "execution_count": 4,
   "id": "f21166ee-4331-47c8-8742-eea2b2b99950",
   "metadata": {},
   "outputs": [
    {
     "data": {
      "text/plain": [
       "array([[ 0.  ,  2.5 ,  5.  ,  7.5 , 10.  ],\n",
       "       [ 1.  ,  5.75, 10.5 , 15.25, 20.  ],\n",
       "       [ 2.  ,  9.  , 16.  , 23.  , 30.  ]])"
      ]
     },
     "execution_count": 4,
     "metadata": {},
     "output_type": "execute_result"
    }
   ],
   "source": [
    "np.linspace(start = (0,1,2), stop =(10,20,30), num=5, axis=1)"
   ]
  },
  {
   "cell_type": "markdown",
   "id": "cb2e554b-10ec-4be9-8303-0d38e4e6054d",
   "metadata": {},
   "source": [
    "## Accessing an Array"
   ]
  },
  {
   "cell_type": "markdown",
   "id": "5d826d67-aa32-4d68-bf78-aa4639b57fc7",
   "metadata": {},
   "source": [
    "## Indexing and Slicing NumPy Arrays\n",
    "\n",
    "NumPy arrays can be indexed and sliced in several ways depending on the number of dimensions.\n",
    "\n",
    "### Indexing:\n",
    "\n",
    "Indexing follows a simple rule that we may have encountered before. Let's give it a try.\n",
    "\n",
    "- 1D Array: array_name[idx] (Similar to Python list)\n",
    "- 2D Array: array_name[row_idx, col_idx] (Similar to Matrix)\n",
    "- ND Array: array_name[dim1_idx, dim2_idx, ..., dimN_idx]\n",
    "\n",
    "**OR**\n",
    "\n",
    "- 2D Array: array_name[row_idx][col_idx]\n",
    "- ND Array: array_name[dim1_idx][dim2_idx] ... [dimN_idx]\n",
    "\n",
    "\n",
    " ### Slicing:\n",
    "\n",
    "Slicing follows the same rule as indexing. The only difference is that for each dimension we provide it with a range of indeces and sometimes (optional) step size (similar to arange() function discussed above).\n",
    "\n",
    "- 1D Array: array_name[idx1:idx2:step]\n",
    "- 2D Array: array_name[row_idx1:row_idx2:step1, col_idx1:col_idx2:step2]\n",
    "- ND Array: array_name[dim1_idx1:dim1_idx2:step1, ..., dimN_idx1:dimN_idx2:stepN]"
   ]
  },
  {
   "cell_type": "code",
   "execution_count": 5,
   "id": "16ced51c-cc45-42fd-8c3d-a07b475ef4ae",
   "metadata": {},
   "outputs": [],
   "source": [
    "#1D\n",
    "a = np.array([1,2,3,4,5])"
   ]
  },
  {
   "cell_type": "code",
   "execution_count": 6,
   "id": "0cb6544b-9eb7-4226-aaa1-2573f48569b7",
   "metadata": {},
   "outputs": [
    {
     "data": {
      "text/plain": [
       "np.int64(1)"
      ]
     },
     "execution_count": 6,
     "metadata": {},
     "output_type": "execute_result"
    }
   ],
   "source": [
    "a[0]"
   ]
  },
  {
   "cell_type": "code",
   "execution_count": 7,
   "id": "a3477e69-fae3-427d-a4e8-e7a1bc765c31",
   "metadata": {},
   "outputs": [
    {
     "data": {
      "text/plain": [
       "np.int64(5)"
      ]
     },
     "execution_count": 7,
     "metadata": {},
     "output_type": "execute_result"
    }
   ],
   "source": [
    "a[-1]"
   ]
  },
  {
   "cell_type": "code",
   "execution_count": 22,
   "id": "2c928a6e-643e-4569-b84c-678a6846f7b3",
   "metadata": {},
   "outputs": [
    {
     "data": {
      "text/plain": [
       "array([3, 5])"
      ]
     },
     "execution_count": 22,
     "metadata": {},
     "output_type": "execute_result"
    }
   ],
   "source": [
    "a[2:10:2]"
   ]
  },
  {
   "cell_type": "code",
   "execution_count": null,
   "id": "fde347bf-b169-47a3-8629-2692771dbd59",
   "metadata": {},
   "outputs": [],
   "source": []
  },
  {
   "cell_type": "code",
   "execution_count": 23,
   "id": "a44c6293-ea17-4704-8b96-6318935ec4b3",
   "metadata": {},
   "outputs": [],
   "source": [
    "#2D\n",
    "b = np.random.randint(0,10,(5,5))"
   ]
  },
  {
   "cell_type": "code",
   "execution_count": 24,
   "id": "57385ab4-d681-42f4-a3dd-7ab2e15fd597",
   "metadata": {},
   "outputs": [
    {
     "data": {
      "text/plain": [
       "array([[6, 8, 2, 5, 4],\n",
       "       [1, 5, 4, 3, 8],\n",
       "       [4, 4, 2, 4, 1],\n",
       "       [8, 7, 6, 1, 1],\n",
       "       [0, 4, 8, 1, 0]], dtype=int32)"
      ]
     },
     "execution_count": 24,
     "metadata": {},
     "output_type": "execute_result"
    }
   ],
   "source": [
    "b"
   ]
  },
  {
   "cell_type": "code",
   "execution_count": 25,
   "id": "da42ff35-71f5-479c-a05e-e039748949da",
   "metadata": {},
   "outputs": [
    {
     "data": {
      "text/plain": [
       "array([[6, 8, 2, 5, 4],\n",
       "       [4, 4, 2, 4, 1],\n",
       "       [0, 4, 8, 1, 0]], dtype=int32)"
      ]
     },
     "execution_count": 25,
     "metadata": {},
     "output_type": "execute_result"
    }
   ],
   "source": [
    "b[::2]"
   ]
  },
  {
   "cell_type": "code",
   "execution_count": 26,
   "id": "0d17df30-75ca-4566-90e3-d5ad89be8773",
   "metadata": {},
   "outputs": [
    {
     "data": {
      "text/plain": [
       "array([4, 4, 2, 4, 1], dtype=int32)"
      ]
     },
     "execution_count": 26,
     "metadata": {},
     "output_type": "execute_result"
    }
   ],
   "source": [
    "b[::2][1]"
   ]
  },
  {
   "cell_type": "code",
   "execution_count": 28,
   "id": "90b09b33-198d-4895-9058-5d3fcd6438f6",
   "metadata": {},
   "outputs": [
    {
     "data": {
      "text/plain": [
       "array([[8, 2, 5],\n",
       "       [4, 2, 4],\n",
       "       [4, 8, 1]], dtype=int32)"
      ]
     },
     "execution_count": 28,
     "metadata": {},
     "output_type": "execute_result"
    }
   ],
   "source": [
    "#slicing 2D array : array [ <row_slice, column_slice>]\n",
    "b[::2, 1:4]"
   ]
  },
  {
   "cell_type": "code",
   "execution_count": 10,
   "id": "23000716-33ff-4661-b96a-0c92552d9c05",
   "metadata": {},
   "outputs": [
    {
     "data": {
      "text/plain": [
       "array([9, 3], dtype=int32)"
      ]
     },
     "execution_count": 10,
     "metadata": {},
     "output_type": "execute_result"
    }
   ],
   "source": [
    "b[0]"
   ]
  },
  {
   "cell_type": "code",
   "execution_count": 11,
   "id": "e04dbb2a-931b-4c87-a59f-a8d0639b47f5",
   "metadata": {},
   "outputs": [
    {
     "data": {
      "text/plain": [
       "np.int32(9)"
      ]
     },
     "execution_count": 11,
     "metadata": {},
     "output_type": "execute_result"
    }
   ],
   "source": [
    "b[0][0]"
   ]
  },
  {
   "cell_type": "code",
   "execution_count": 12,
   "id": "d5706281-7677-4f70-b475-180294eb423f",
   "metadata": {},
   "outputs": [
    {
     "data": {
      "text/plain": [
       "np.int32(5)"
      ]
     },
     "execution_count": 12,
     "metadata": {},
     "output_type": "execute_result"
    }
   ],
   "source": [
    "b[1][1]"
   ]
  },
  {
   "cell_type": "code",
   "execution_count": 13,
   "id": "ac3b1243-c7d7-4564-86e6-9e2fd08adf29",
   "metadata": {},
   "outputs": [],
   "source": [
    "#3D\n",
    "c = np.random.randint(0,10, (4,2,2))"
   ]
  },
  {
   "cell_type": "code",
   "execution_count": 14,
   "id": "2083823e-719a-40ac-8bd5-527197f65204",
   "metadata": {},
   "outputs": [
    {
     "data": {
      "text/plain": [
       "array([[[9, 9],\n",
       "        [1, 1]],\n",
       "\n",
       "       [[0, 0],\n",
       "        [3, 5]],\n",
       "\n",
       "       [[6, 7],\n",
       "        [3, 5]],\n",
       "\n",
       "       [[5, 4],\n",
       "        [4, 6]]], dtype=int32)"
      ]
     },
     "execution_count": 14,
     "metadata": {},
     "output_type": "execute_result"
    }
   ],
   "source": [
    "c"
   ]
  },
  {
   "cell_type": "code",
   "execution_count": 15,
   "id": "c8c321f6-e164-4c89-aeaa-4d6d8993eb28",
   "metadata": {},
   "outputs": [
    {
     "data": {
      "text/plain": [
       "array([[5, 4],\n",
       "       [4, 6]], dtype=int32)"
      ]
     },
     "execution_count": 15,
     "metadata": {},
     "output_type": "execute_result"
    }
   ],
   "source": [
    "c[-1]"
   ]
  },
  {
   "cell_type": "code",
   "execution_count": 16,
   "id": "a2b68742-7fcb-4957-b938-49fa77f2e6b3",
   "metadata": {},
   "outputs": [
    {
     "data": {
      "text/plain": [
       "array([5, 4], dtype=int32)"
      ]
     },
     "execution_count": 16,
     "metadata": {},
     "output_type": "execute_result"
    }
   ],
   "source": [
    "c[-1][0]"
   ]
  },
  {
   "cell_type": "code",
   "execution_count": 17,
   "id": "84f248d3-bb91-47da-b534-ad8b4d63c92d",
   "metadata": {},
   "outputs": [
    {
     "data": {
      "text/plain": [
       "np.int32(5)"
      ]
     },
     "execution_count": 17,
     "metadata": {},
     "output_type": "execute_result"
    }
   ],
   "source": [
    "c[-1][0][0]"
   ]
  },
  {
   "cell_type": "code",
   "execution_count": 18,
   "id": "2e2ca3e1-15b8-4811-b478-a543534ea03f",
   "metadata": {},
   "outputs": [
    {
     "data": {
      "text/plain": [
       "array([[9, 9],\n",
       "       [1, 1]], dtype=int32)"
      ]
     },
     "execution_count": 18,
     "metadata": {},
     "output_type": "execute_result"
    }
   ],
   "source": [
    "c[0]\n"
   ]
  },
  {
   "cell_type": "code",
   "execution_count": 19,
   "id": "46b26798-ec02-4639-820a-b5a43d03b573",
   "metadata": {},
   "outputs": [
    {
     "data": {
      "text/plain": [
       "np.int32(5)"
      ]
     },
     "execution_count": 19,
     "metadata": {},
     "output_type": "execute_result"
    }
   ],
   "source": [
    "c[1][1][1]"
   ]
  },
  {
   "cell_type": "code",
   "execution_count": 29,
   "id": "f3d9e9c5-6767-40c7-9587-b6f574d9e365",
   "metadata": {},
   "outputs": [
    {
     "data": {
      "text/plain": [
       "array([[[9, 9],\n",
       "        [1, 1]],\n",
       "\n",
       "       [[0, 0],\n",
       "        [3, 5]],\n",
       "\n",
       "       [[6, 7],\n",
       "        [3, 5]],\n",
       "\n",
       "       [[5, 4],\n",
       "        [4, 6]]], dtype=int32)"
      ]
     },
     "execution_count": 29,
     "metadata": {},
     "output_type": "execute_result"
    }
   ],
   "source": [
    "c[::, ::, ::]"
   ]
  },
  {
   "cell_type": "code",
   "execution_count": 30,
   "id": "90984b6b-7eae-4092-99bc-c3e9222edb97",
   "metadata": {},
   "outputs": [
    {
     "data": {
      "text/plain": [
       "array([[[9]],\n",
       "\n",
       "       [[6]]], dtype=int32)"
      ]
     },
     "execution_count": 30,
     "metadata": {},
     "output_type": "execute_result"
    }
   ],
   "source": [
    "c[::2, ::2, ::2]"
   ]
  },
  {
   "cell_type": "code",
   "execution_count": 31,
   "id": "689c4a8a-093a-4aac-a042-ace02b346476",
   "metadata": {},
   "outputs": [],
   "source": [
    "c = np.random.randint(0,10, (4,3,3))"
   ]
  },
  {
   "cell_type": "code",
   "execution_count": 32,
   "id": "5a2884b4-9cce-45b4-95fa-59431d8a79bf",
   "metadata": {},
   "outputs": [
    {
     "data": {
      "text/plain": [
       "array([[[4, 1, 4],\n",
       "        [8, 6, 2],\n",
       "        [6, 9, 7]],\n",
       "\n",
       "       [[5, 2, 6],\n",
       "        [2, 4, 4],\n",
       "        [8, 9, 2]],\n",
       "\n",
       "       [[6, 4, 3],\n",
       "        [1, 8, 3],\n",
       "        [0, 4, 8]],\n",
       "\n",
       "       [[7, 4, 4],\n",
       "        [4, 2, 5],\n",
       "        [2, 9, 9]]], dtype=int32)"
      ]
     },
     "execution_count": 32,
     "metadata": {},
     "output_type": "execute_result"
    }
   ],
   "source": [
    "c"
   ]
  },
  {
   "cell_type": "code",
   "execution_count": 33,
   "id": "f341af40-9d0d-4024-8bbf-eae52e070663",
   "metadata": {},
   "outputs": [
    {
     "data": {
      "text/plain": [
       "array([[[5, 2, 6],\n",
       "        [2, 4, 4]],\n",
       "\n",
       "       [[6, 4, 3],\n",
       "        [1, 8, 3]]], dtype=int32)"
      ]
     },
     "execution_count": 33,
     "metadata": {},
     "output_type": "execute_result"
    }
   ],
   "source": [
    "c[1:3, 0:2, 0:3]\n"
   ]
  },
  {
   "cell_type": "code",
   "execution_count": 35,
   "id": "87d586b4-64d5-4973-aabb-c94ae6f8bad2",
   "metadata": {},
   "outputs": [
    {
     "data": {
      "text/plain": [
       "array([[[6, 2],\n",
       "        [9, 7]],\n",
       "\n",
       "       [[4, 4],\n",
       "        [9, 2]],\n",
       "\n",
       "       [[8, 3],\n",
       "        [4, 8]]], dtype=int32)"
      ]
     },
     "execution_count": 35,
     "metadata": {},
     "output_type": "execute_result"
    }
   ],
   "source": [
    "c[0:3, 1:3, 1:3] "
   ]
  },
  {
   "cell_type": "code",
   "execution_count": 36,
   "id": "3a08da0c-2207-4a37-bf08-255611996a22",
   "metadata": {},
   "outputs": [],
   "source": [
    "c = np.random.randint(0,10, (16,3,500,500))"
   ]
  },
  {
   "cell_type": "code",
   "execution_count": 37,
   "id": "3aa2f646-18d6-49c0-b16e-6d6086b9db3f",
   "metadata": {},
   "outputs": [
    {
     "data": {
      "text/plain": [
       "array([[[[9, 4, 9, ..., 8, 7, 3],\n",
       "         [8, 5, 5, ..., 2, 3, 3],\n",
       "         [6, 0, 0, ..., 9, 7, 9],\n",
       "         ...,\n",
       "         [8, 6, 3, ..., 7, 5, 6],\n",
       "         [1, 8, 0, ..., 9, 2, 9],\n",
       "         [5, 4, 9, ..., 4, 6, 4]],\n",
       "\n",
       "        [[9, 7, 7, ..., 7, 0, 1],\n",
       "         [1, 3, 3, ..., 2, 1, 4],\n",
       "         [6, 1, 9, ..., 9, 2, 4],\n",
       "         ...,\n",
       "         [5, 6, 8, ..., 5, 8, 3],\n",
       "         [4, 8, 8, ..., 9, 3, 8],\n",
       "         [9, 4, 9, ..., 6, 2, 8]],\n",
       "\n",
       "        [[0, 8, 4, ..., 7, 9, 9],\n",
       "         [6, 7, 2, ..., 9, 2, 7],\n",
       "         [9, 2, 8, ..., 7, 2, 6],\n",
       "         ...,\n",
       "         [1, 2, 5, ..., 4, 8, 7],\n",
       "         [6, 5, 3, ..., 8, 6, 0],\n",
       "         [8, 2, 1, ..., 9, 6, 7]]],\n",
       "\n",
       "\n",
       "       [[[8, 4, 2, ..., 9, 5, 8],\n",
       "         [5, 6, 4, ..., 5, 4, 1],\n",
       "         [0, 2, 2, ..., 0, 9, 3],\n",
       "         ...,\n",
       "         [3, 0, 3, ..., 0, 8, 8],\n",
       "         [4, 5, 5, ..., 4, 8, 0],\n",
       "         [7, 6, 9, ..., 1, 2, 4]],\n",
       "\n",
       "        [[9, 3, 8, ..., 3, 0, 5],\n",
       "         [5, 6, 2, ..., 8, 3, 1],\n",
       "         [5, 0, 7, ..., 9, 5, 0],\n",
       "         ...,\n",
       "         [7, 3, 3, ..., 6, 4, 1],\n",
       "         [2, 5, 6, ..., 1, 0, 8],\n",
       "         [4, 0, 3, ..., 6, 9, 4]],\n",
       "\n",
       "        [[5, 9, 4, ..., 4, 1, 1],\n",
       "         [7, 9, 8, ..., 6, 2, 5],\n",
       "         [4, 4, 4, ..., 9, 4, 7],\n",
       "         ...,\n",
       "         [9, 5, 8, ..., 8, 8, 0],\n",
       "         [3, 7, 7, ..., 4, 2, 7],\n",
       "         [6, 0, 4, ..., 2, 1, 1]]],\n",
       "\n",
       "\n",
       "       [[[7, 8, 8, ..., 9, 4, 0],\n",
       "         [3, 1, 6, ..., 0, 1, 3],\n",
       "         [9, 7, 4, ..., 3, 2, 1],\n",
       "         ...,\n",
       "         [3, 2, 4, ..., 8, 0, 5],\n",
       "         [6, 7, 0, ..., 0, 2, 5],\n",
       "         [8, 6, 6, ..., 1, 3, 7]],\n",
       "\n",
       "        [[1, 1, 1, ..., 1, 6, 3],\n",
       "         [4, 1, 7, ..., 3, 0, 4],\n",
       "         [0, 4, 7, ..., 1, 1, 2],\n",
       "         ...,\n",
       "         [5, 6, 2, ..., 4, 3, 7],\n",
       "         [7, 7, 9, ..., 1, 3, 0],\n",
       "         [2, 1, 9, ..., 0, 8, 6]],\n",
       "\n",
       "        [[2, 7, 1, ..., 3, 0, 0],\n",
       "         [6, 5, 4, ..., 2, 6, 9],\n",
       "         [5, 2, 4, ..., 3, 2, 1],\n",
       "         ...,\n",
       "         [1, 7, 9, ..., 0, 9, 6],\n",
       "         [1, 9, 8, ..., 4, 8, 4],\n",
       "         [1, 1, 5, ..., 7, 1, 3]]],\n",
       "\n",
       "\n",
       "       ...,\n",
       "\n",
       "\n",
       "       [[[1, 6, 5, ..., 1, 2, 1],\n",
       "         [6, 2, 2, ..., 6, 4, 4],\n",
       "         [5, 4, 1, ..., 6, 8, 9],\n",
       "         ...,\n",
       "         [6, 1, 8, ..., 2, 2, 5],\n",
       "         [6, 2, 1, ..., 1, 6, 1],\n",
       "         [1, 9, 1, ..., 5, 3, 4]],\n",
       "\n",
       "        [[1, 2, 1, ..., 2, 2, 6],\n",
       "         [6, 0, 8, ..., 1, 7, 3],\n",
       "         [1, 0, 9, ..., 9, 9, 4],\n",
       "         ...,\n",
       "         [8, 2, 4, ..., 6, 3, 1],\n",
       "         [8, 8, 5, ..., 5, 6, 2],\n",
       "         [9, 5, 0, ..., 7, 1, 5]],\n",
       "\n",
       "        [[3, 8, 2, ..., 4, 1, 3],\n",
       "         [4, 5, 1, ..., 7, 3, 5],\n",
       "         [7, 1, 9, ..., 5, 3, 9],\n",
       "         ...,\n",
       "         [2, 3, 6, ..., 1, 3, 1],\n",
       "         [7, 2, 0, ..., 5, 1, 9],\n",
       "         [8, 3, 2, ..., 9, 6, 5]]],\n",
       "\n",
       "\n",
       "       [[[4, 7, 7, ..., 1, 4, 7],\n",
       "         [0, 0, 3, ..., 3, 7, 8],\n",
       "         [1, 1, 0, ..., 6, 4, 5],\n",
       "         ...,\n",
       "         [5, 3, 4, ..., 6, 8, 7],\n",
       "         [0, 5, 7, ..., 4, 5, 8],\n",
       "         [6, 2, 6, ..., 4, 3, 8]],\n",
       "\n",
       "        [[7, 4, 9, ..., 8, 7, 9],\n",
       "         [7, 3, 5, ..., 0, 8, 7],\n",
       "         [0, 4, 9, ..., 4, 2, 6],\n",
       "         ...,\n",
       "         [3, 4, 1, ..., 6, 3, 5],\n",
       "         [3, 5, 5, ..., 2, 6, 4],\n",
       "         [5, 0, 7, ..., 9, 9, 0]],\n",
       "\n",
       "        [[1, 1, 9, ..., 3, 6, 9],\n",
       "         [7, 4, 7, ..., 8, 8, 1],\n",
       "         [3, 8, 8, ..., 2, 2, 2],\n",
       "         ...,\n",
       "         [5, 8, 7, ..., 9, 7, 3],\n",
       "         [9, 7, 5, ..., 0, 3, 9],\n",
       "         [9, 0, 4, ..., 0, 1, 8]]],\n",
       "\n",
       "\n",
       "       [[[3, 4, 3, ..., 2, 6, 0],\n",
       "         [7, 7, 9, ..., 2, 4, 8],\n",
       "         [9, 4, 6, ..., 8, 5, 5],\n",
       "         ...,\n",
       "         [2, 4, 6, ..., 0, 3, 6],\n",
       "         [6, 8, 0, ..., 4, 7, 6],\n",
       "         [9, 2, 3, ..., 1, 7, 5]],\n",
       "\n",
       "        [[6, 9, 3, ..., 8, 4, 0],\n",
       "         [2, 0, 7, ..., 6, 6, 3],\n",
       "         [4, 7, 3, ..., 2, 1, 1],\n",
       "         ...,\n",
       "         [4, 2, 9, ..., 8, 0, 1],\n",
       "         [9, 5, 6, ..., 1, 4, 1],\n",
       "         [8, 3, 5, ..., 8, 9, 0]],\n",
       "\n",
       "        [[4, 6, 7, ..., 4, 7, 1],\n",
       "         [4, 2, 9, ..., 1, 8, 3],\n",
       "         [0, 7, 9, ..., 2, 2, 3],\n",
       "         ...,\n",
       "         [3, 5, 8, ..., 3, 4, 7],\n",
       "         [4, 9, 1, ..., 6, 5, 0],\n",
       "         [5, 6, 0, ..., 4, 3, 4]]]], shape=(16, 3, 500, 500), dtype=int32)"
      ]
     },
     "execution_count": 37,
     "metadata": {},
     "output_type": "execute_result"
    }
   ],
   "source": [
    "c"
   ]
  },
  {
   "cell_type": "code",
   "execution_count": 40,
   "id": "fbb87289-fbd7-489d-9e58-22fd35bfc66f",
   "metadata": {},
   "outputs": [],
   "source": [
    "c = np.random.randint(0,10,(4,3,5,5))"
   ]
  },
  {
   "cell_type": "code",
   "execution_count": 39,
   "id": "47b55e8c-798c-40d1-bff8-d59f9831fbea",
   "metadata": {},
   "outputs": [
    {
     "data": {
      "text/plain": [
       "array([[[[3, 6, 9, 9, 0],\n",
       "         [4, 3, 5, 8, 7],\n",
       "         [0, 3, 6, 6, 1],\n",
       "         [0, 4, 6, 9, 2],\n",
       "         [6, 0, 1, 9, 7]],\n",
       "\n",
       "        [[2, 5, 3, 4, 0],\n",
       "         [6, 8, 8, 3, 8],\n",
       "         [7, 3, 2, 5, 7],\n",
       "         [9, 3, 4, 8, 0],\n",
       "         [0, 7, 1, 1, 6]],\n",
       "\n",
       "        [[9, 2, 3, 8, 2],\n",
       "         [3, 4, 2, 8, 7],\n",
       "         [4, 2, 9, 9, 0],\n",
       "         [2, 6, 8, 8, 8],\n",
       "         [3, 0, 8, 3, 8]]],\n",
       "\n",
       "\n",
       "       [[[8, 6, 6, 7, 7],\n",
       "         [8, 1, 7, 3, 6],\n",
       "         [8, 2, 6, 8, 1],\n",
       "         [1, 6, 4, 4, 9],\n",
       "         [4, 0, 8, 0, 5]],\n",
       "\n",
       "        [[5, 5, 6, 6, 1],\n",
       "         [4, 5, 1, 5, 3],\n",
       "         [6, 5, 2, 4, 4],\n",
       "         [2, 4, 7, 6, 0],\n",
       "         [3, 0, 4, 1, 1]],\n",
       "\n",
       "        [[4, 8, 7, 5, 9],\n",
       "         [2, 9, 8, 5, 6],\n",
       "         [7, 3, 3, 1, 3],\n",
       "         [1, 3, 8, 8, 0],\n",
       "         [0, 3, 0, 2, 4]]],\n",
       "\n",
       "\n",
       "       [[[2, 7, 6, 7, 8],\n",
       "         [4, 8, 2, 1, 1],\n",
       "         [8, 6, 2, 4, 0],\n",
       "         [7, 8, 6, 6, 0],\n",
       "         [6, 4, 7, 7, 0]],\n",
       "\n",
       "        [[5, 7, 5, 4, 2],\n",
       "         [5, 2, 8, 5, 8],\n",
       "         [1, 8, 1, 7, 1],\n",
       "         [0, 8, 1, 5, 9],\n",
       "         [8, 7, 2, 3, 2]],\n",
       "\n",
       "        [[8, 1, 5, 9, 7],\n",
       "         [8, 4, 5, 5, 3],\n",
       "         [5, 9, 5, 2, 8],\n",
       "         [6, 6, 7, 4, 9],\n",
       "         [9, 6, 5, 0, 6]]]], dtype=int32)"
      ]
     },
     "execution_count": 39,
     "metadata": {},
     "output_type": "execute_result"
    }
   ],
   "source": [
    "c"
   ]
  },
  {
   "cell_type": "markdown",
   "id": "df209de8-f018-437a-9fdc-f7af8fe2be0e",
   "metadata": {},
   "source": [
    "## Boolean or Masking Indexing"
   ]
  },
  {
   "cell_type": "code",
   "execution_count": 69,
   "id": "37bddb97-a07d-4822-8790-cc98512eeb94",
   "metadata": {},
   "outputs": [
    {
     "data": {
      "text/plain": [
       "array([[3, 2, 1, 4, 2],\n",
       "       [1, 4, 3, 2, 1],\n",
       "       [5, 6, 4, 1, 2],\n",
       "       [4, 1, 1, 4, 4],\n",
       "       [2, 3, 6, 2, 6]], dtype=int32)"
      ]
     },
     "execution_count": 69,
     "metadata": {},
     "output_type": "execute_result"
    }
   ],
   "source": [
    "a = np.random.randint(1,7,(5,5))\n",
    "a"
   ]
  },
  {
   "cell_type": "code",
   "execution_count": 70,
   "id": "b9e4c7f1-ef33-49e6-9db7-e4814904b880",
   "metadata": {},
   "outputs": [],
   "source": [
    "mask = a >= 4"
   ]
  },
  {
   "cell_type": "code",
   "execution_count": 71,
   "id": "f8d6fa9a-2f1f-44e9-a2c9-bf1feb843933",
   "metadata": {},
   "outputs": [
    {
     "data": {
      "text/plain": [
       "array([4, 4, 5, 6, 4, 4, 4, 4, 6, 6], dtype=int32)"
      ]
     },
     "execution_count": 71,
     "metadata": {},
     "output_type": "execute_result"
    }
   ],
   "source": [
    "a[mask]"
   ]
  },
  {
   "cell_type": "code",
   "execution_count": 72,
   "id": "517c3ff2-9d6b-4f86-9d97-e64b5d7c5efa",
   "metadata": {},
   "outputs": [
    {
     "data": {
      "text/plain": [
       "array([[3, 2, 1, 4, 2],\n",
       "       [1, 4, 3, 2, 1],\n",
       "       [5, 6, 4, 1, 2],\n",
       "       [4, 1, 1, 4, 4],\n",
       "       [2, 3, 6, 2, 6]], dtype=int32)"
      ]
     },
     "execution_count": 72,
     "metadata": {},
     "output_type": "execute_result"
    }
   ],
   "source": [
    "a"
   ]
  },
  {
   "cell_type": "code",
   "execution_count": 73,
   "id": "19b48eba-89db-41a3-a23c-6ef3d6ae4594",
   "metadata": {},
   "outputs": [],
   "source": [
    "mask = [True,False,True,True, False]"
   ]
  },
  {
   "cell_type": "code",
   "execution_count": 76,
   "id": "1d600e43-40f9-42ee-8a9b-cd8e09a9f317",
   "metadata": {},
   "outputs": [
    {
     "data": {
      "text/plain": [
       "array([[3, 2, 1, 4, 2],\n",
       "       [5, 6, 4, 1, 2],\n",
       "       [4, 1, 1, 4, 4]], dtype=int32)"
      ]
     },
     "execution_count": 76,
     "metadata": {},
     "output_type": "execute_result"
    }
   ],
   "source": [
    "a[mask]"
   ]
  },
  {
   "cell_type": "code",
   "execution_count": 77,
   "id": "077e7d8d-f7e7-492c-a9ab-b9a0d0296c45",
   "metadata": {},
   "outputs": [
    {
     "data": {
      "text/plain": [
       "array([3, 4, 4], dtype=int32)"
      ]
     },
     "execution_count": 77,
     "metadata": {},
     "output_type": "execute_result"
    }
   ],
   "source": [
    "a[mask, mask]"
   ]
  },
  {
   "cell_type": "code",
   "execution_count": null,
   "id": "46f5f245-d1ed-4fd1-ad37-9f1073557134",
   "metadata": {},
   "outputs": [],
   "source": []
  }
 ],
 "metadata": {
  "kernelspec": {
   "display_name": "Python 3 (ipykernel)",
   "language": "python",
   "name": "python3"
  },
  "language_info": {
   "codemirror_mode": {
    "name": "ipython",
    "version": 3
   },
   "file_extension": ".py",
   "mimetype": "text/x-python",
   "name": "python",
   "nbconvert_exporter": "python",
   "pygments_lexer": "ipython3",
   "version": "3.13.0"
  }
 },
 "nbformat": 4,
 "nbformat_minor": 5
}
