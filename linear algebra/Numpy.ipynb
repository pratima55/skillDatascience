{
 "cells": [
  {
   "cell_type": "markdown",
   "id": "fd546213-207b-46cc-bf42-39d146b758f6",
   "metadata": {},
   "source": [
    "NumPy arrays can be created in several ways. Here are some of the most common methods:\n",
    "\n",
    "- `array()`: Creates NumPy arrays from Python lists\n",
    "- `zeros()`: Creates NumPy arrays with all elements initialized to 0\n",
    "- `ones()`: Creates NumPy arrays with all elements initialized to 1\n",
    "- `full()`: Creates an array with all elements initialized to same user-specified value\n",
    "- `arange()`: Creates NumPy arrays with a sequence of values (similar to python range() function)\n",
    "- `linspace()`: Creates NumPy arrays with a sequence of evenly spaced values\n",
    "- `diag()`: Creates NumPy array with the provided list of numbers as the diagonal elements and zeros elsewhere\n",
    "- `eye()`: Creates NumPy array with ones on the diagonal and zeros elsewhere\n",
    "- `identity()`: Creates an identity matrix\n",
    "- `random.rand()`: Creates NumPy array of random numbers sampled from a uniform distribution"
   ]
  },
  {
   "cell_type": "code",
   "execution_count": 2,
   "id": "c08a7ad3-ad50-4ca7-9c8f-da4be9fd52c2",
   "metadata": {},
   "outputs": [],
   "source": [
    "import numpy as np\n"
   ]
  },
  {
   "cell_type": "code",
   "execution_count": 4,
   "id": "71fd111b-41f6-4f9f-9fb2-60cf76f13505",
   "metadata": {},
   "outputs": [
    {
     "data": {
      "text/plain": [
       "array([[0., 0., 0.],\n",
       "       [0., 0., 0.],\n",
       "       [0., 0., 0.],\n",
       "       [0., 0., 0.],\n",
       "       [0., 0., 0.]])"
      ]
     },
     "execution_count": 4,
     "metadata": {},
     "output_type": "execute_result"
    }
   ],
   "source": [
    "np.zeros(shape = (5,3))"
   ]
  },
  {
   "cell_type": "code",
   "execution_count": 6,
   "id": "8a7dea1c-88f5-4de4-977c-fe2f77a5f5dc",
   "metadata": {},
   "outputs": [
    {
     "data": {
      "text/plain": [
       "array([[1., 1., 1., 1.],\n",
       "       [1., 1., 1., 1.],\n",
       "       [1., 1., 1., 1.]])"
      ]
     },
     "execution_count": 6,
     "metadata": {},
     "output_type": "execute_result"
    }
   ],
   "source": [
    "np.ones(shape=(3,4))"
   ]
  },
  {
   "cell_type": "code",
   "execution_count": 8,
   "id": "b686d0b7-cc2b-43a4-b641-501f2d66ae4f",
   "metadata": {},
   "outputs": [
    {
     "data": {
      "text/plain": [
       "array([[1., 0., 0., 0., 0., 0., 0., 0., 0., 0.],\n",
       "       [0., 1., 0., 0., 0., 0., 0., 0., 0., 0.],\n",
       "       [0., 0., 1., 0., 0., 0., 0., 0., 0., 0.],\n",
       "       [0., 0., 0., 1., 0., 0., 0., 0., 0., 0.],\n",
       "       [0., 0., 0., 0., 1., 0., 0., 0., 0., 0.],\n",
       "       [0., 0., 0., 0., 0., 1., 0., 0., 0., 0.],\n",
       "       [0., 0., 0., 0., 0., 0., 1., 0., 0., 0.],\n",
       "       [0., 0., 0., 0., 0., 0., 0., 1., 0., 0.],\n",
       "       [0., 0., 0., 0., 0., 0., 0., 0., 1., 0.],\n",
       "       [0., 0., 0., 0., 0., 0., 0., 0., 0., 1.]])"
      ]
     },
     "execution_count": 8,
     "metadata": {},
     "output_type": "execute_result"
    }
   ],
   "source": [
    "np.identity(10)"
   ]
  },
  {
   "cell_type": "code",
   "execution_count": 10,
   "id": "b80097be-a10c-4b68-b27a-c1c7e1551561",
   "metadata": {},
   "outputs": [
    {
     "data": {
      "text/plain": [
       "array([[4.5, 4.5],\n",
       "       [4.5, 4.5]])"
      ]
     },
     "execution_count": 10,
     "metadata": {},
     "output_type": "execute_result"
    }
   ],
   "source": [
    "np.full((2,2), 4.5)"
   ]
  },
  {
   "cell_type": "code",
   "execution_count": 11,
   "id": "d4bb7ab4-39fe-4665-9102-bb6cf1d23d17",
   "metadata": {},
   "outputs": [
    {
     "data": {
      "text/plain": [
       "array([[3.4, 3.4, 3.4, 3.4],\n",
       "       [3.4, 3.4, 3.4, 3.4],\n",
       "       [3.4, 3.4, 3.4, 3.4]])"
      ]
     },
     "execution_count": 11,
     "metadata": {},
     "output_type": "execute_result"
    }
   ],
   "source": [
    "np.full((3,4), 3.4)"
   ]
  },
  {
   "cell_type": "code",
   "execution_count": 12,
   "id": "db8fce39-c9e8-4fb2-971d-d1949eb3d471",
   "metadata": {},
   "outputs": [
    {
     "data": {
      "text/plain": [
       "array([[0.96534884, 0.2151039 , 0.54088798],\n",
       "       [0.16445818, 0.26591347, 0.12635585]])"
      ]
     },
     "execution_count": 12,
     "metadata": {},
     "output_type": "execute_result"
    }
   ],
   "source": [
    "np.random.rand(2,3)"
   ]
  },
  {
   "cell_type": "code",
   "execution_count": 13,
   "id": "a1381b3f-40aa-4f17-879d-a41107845558",
   "metadata": {},
   "outputs": [
    {
     "data": {
      "text/plain": [
       "array([[26, 14],\n",
       "       [25, 18]], dtype=int32)"
      ]
     },
     "execution_count": 13,
     "metadata": {},
     "output_type": "execute_result"
    }
   ],
   "source": [
    "np.random.randint(low = 4, high = 30, size= (2,2))"
   ]
  },
  {
   "cell_type": "code",
   "execution_count": 15,
   "id": "02901ae3-8657-4dc2-91fb-7d0a84141f92",
   "metadata": {},
   "outputs": [
    {
     "data": {
      "text/plain": [
       "array([ 0. ,  2.5,  5. ,  7.5, 10. ])"
      ]
     },
     "execution_count": 15,
     "metadata": {},
     "output_type": "execute_result"
    }
   ],
   "source": [
    "np.linspace(start = 0, stop = 10, num = 5)"
   ]
  },
  {
   "cell_type": "code",
   "execution_count": 16,
   "id": "76505510-4537-41db-8b44-1be5338ae784",
   "metadata": {},
   "outputs": [
    {
     "data": {
      "text/plain": [
       "array([[ 0.  ,  1.  ,  2.  ],\n",
       "       [ 2.5 ,  5.75,  9.  ],\n",
       "       [ 5.  , 10.5 , 16.  ],\n",
       "       [ 7.5 , 15.25, 23.  ],\n",
       "       [10.  , 20.  , 30.  ]])"
      ]
     },
     "execution_count": 16,
     "metadata": {},
     "output_type": "execute_result"
    }
   ],
   "source": [
    "np.linspace(start = (0,1,2), stop =(10,20,30), num=5, axis=0)"
   ]
  },
  {
   "cell_type": "code",
   "execution_count": null,
   "id": "f21166ee-4331-47c8-8742-eea2b2b99950",
   "metadata": {},
   "outputs": [],
   "source": []
  }
 ],
 "metadata": {
  "kernelspec": {
   "display_name": "Python 3 (ipykernel)",
   "language": "python",
   "name": "python3"
  },
  "language_info": {
   "codemirror_mode": {
    "name": "ipython",
    "version": 3
   },
   "file_extension": ".py",
   "mimetype": "text/x-python",
   "name": "python",
   "nbconvert_exporter": "python",
   "pygments_lexer": "ipython3",
   "version": "3.13.0"
  }
 },
 "nbformat": 4,
 "nbformat_minor": 5
}
