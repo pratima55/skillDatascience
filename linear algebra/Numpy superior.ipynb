{
 "cells": [
  {
   "cell_type": "markdown",
   "id": "3cc8a926-399b-4c23-ac87-ff3b7a5ed8e3",
   "metadata": {},
   "source": [
    "## Why Numpy over Python `for` Loop?\n"
   ]
  },
  {
   "cell_type": "markdown",
   "id": "3843a895-c231-4e33-9bf1-2e6aaad678ee",
   "metadata": {},
   "source": [
    "NumPy is faster than Python for loops because it is designed to perform operations on entire arrays rather than individual elements. This allows it to take advantage of lower-level optimizations such as vectorization and caching. Here's an example that illustrates the performance difference between NumPy and Python for loops:"
   ]
  },
  {
   "cell_type": "code",
   "execution_count": 4,
   "id": "76d117f2-03bb-46b8-b140-3ce901360268",
   "metadata": {},
   "outputs": [],
   "source": [
    "import numpy as np\n",
    "import time \n",
    "\n",
    "a = np.random.rand(90_000_000)\n",
    "b = np.random.rand(90_000_000)"
   ]
  },
  {
   "cell_type": "code",
   "execution_count": 5,
   "id": "651ae988-386b-42f6-b458-fc0f0eb1b62b",
   "metadata": {},
   "outputs": [
    {
     "name": "stdout",
     "output_type": "stream",
     "text": [
      "Time Taken by python loop 37.90413188934326 sec\n"
     ]
    }
   ],
   "source": [
    " #Using Pure python\n",
    "\n",
    "lsa = list(a)\n",
    "lsb = list(b)\n",
    "res= []\n",
    "\n",
    "start = time.time()\n",
    "for _a, _b in zip(lsa, lsb):\n",
    "    res.append(_a * _b)\n",
    "\n",
    "end = time.time()\n",
    "print(f\"Time Taken by python loop {end - start} sec\")"
   ]
  },
  {
   "cell_type": "code",
   "execution_count": 6,
   "id": "7f63294f-c916-4c77-a7e8-195c672011b9",
   "metadata": {},
   "outputs": [
    {
     "name": "stdout",
     "output_type": "stream",
     "text": [
      "Time Taken by Comprehension 40.88935971260071 sec\n"
     ]
    }
   ],
   "source": [
    "# Using list comprehensions\n",
    "\n",
    "lsa = list(a)\n",
    "lsb = list(b)\n",
    "\n",
    "start = time.time()\n",
    "res= [_a*_b for _a, _b in zip(lsa, lsb)]\n",
    "end = time.time()\n",
    "\n",
    "print(f\"Time Taken by Comprehension {end - start} sec\")"
   ]
  },
  {
   "cell_type": "code",
   "execution_count": 7,
   "id": "14149ea0-d19f-4dbd-b879-9b2b8a43a6ac",
   "metadata": {},
   "outputs": [
    {
     "name": "stdout",
     "output_type": "stream",
     "text": [
      "Time Taken by Generator 36.654335737228394 sec\n"
     ]
    }
   ],
   "source": [
    "# Using Map Function\n",
    "lsa = list(a)\n",
    "lsb = list(b)\n",
    "\n",
    "start = time.time()\n",
    "gen= map(lambda x, y : x*y ,lsa, lsb)\n",
    "result = list(gen)\n",
    "end = time.time()\n",
    "\n",
    "print(f\"Time Taken by Generator {end - start} sec\")"
   ]
  },
  {
   "cell_type": "code",
   "execution_count": 8,
   "id": "2948a335-3ce7-4b58-a923-dda88274dd63",
   "metadata": {},
   "outputs": [
    {
     "name": "stdout",
     "output_type": "stream",
     "text": [
      "Time Taken by Numpy Operation:  12.735974073410034 sec\n"
     ]
    }
   ],
   "source": [
    "# Using Numpy operation\n",
    "\n",
    "start = time.time()\n",
    "result = a * b\n",
    "end = time.time()\n",
    "\n",
    "print(f\"Time Taken by Numpy Operation:  {end - start} sec\")"
   ]
  },
  {
   "cell_type": "code",
   "execution_count": null,
   "id": "1cda8016-791b-4b8b-a801-4a5653de59cd",
   "metadata": {},
   "outputs": [],
   "source": []
  }
 ],
 "metadata": {
  "kernelspec": {
   "display_name": "Python 3 (ipykernel)",
   "language": "python",
   "name": "python3"
  },
  "language_info": {
   "codemirror_mode": {
    "name": "ipython",
    "version": 3
   },
   "file_extension": ".py",
   "mimetype": "text/x-python",
   "name": "python",
   "nbconvert_exporter": "python",
   "pygments_lexer": "ipython3",
   "version": "3.13.0"
  }
 },
 "nbformat": 4,
 "nbformat_minor": 5
}
