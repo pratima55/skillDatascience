{
 "cells": [
  {
   "cell_type": "markdown",
   "id": "17816df2-1d4f-480b-a71d-d95da1edb3ad",
   "metadata": {},
   "source": [
    "## Types and Type Conversion\n",
    "\n",
    "NumPy supports a wide range of data types for arrays, including numeric, boolean, and string types. Each data type is identified by a unique character code, such as 'i' for integers and 'f' for floating-point numbers, and can have a specific size in bytes.\n",
    "\n",
    "Here are some of the most common data types in NumPy:\n",
    "\n",
    "- `bool`: Boolean (True or False) stored as a byte.\n",
    "- `int8`, `int16`, `int32`, `int64`: Integer with a specific number of bits (8, 16, 32, or 64).\n",
    "- `uint8`, `uint16`, `uint32`, `uint64`: Unsigned integer with a specific number of bits (8, 16, 32, or 64).\n",
    "- `float16`, `float32`, `float64`: Floating-point number with a specific precision (half, single, or double precision).\n",
    "- `complex64`, `complex128`: Complex number with a specific precision (single or double precision).\n",
    "\n",
    "You can create arrays of a specific data type using the dtype argument when you create the array."
   ]
  },
  {
   "cell_type": "code",
   "execution_count": 1,
   "id": "7c3bc98f-e0a2-4966-bcde-e2980b162812",
   "metadata": {},
   "outputs": [],
   "source": [
    "import numpy as np"
   ]
  },
  {
   "cell_type": "code",
   "execution_count": 2,
   "id": "07a967d9-f338-4db9-9166-aedfeac1bc4d",
   "metadata": {},
   "outputs": [],
   "source": [
    "a = np.array([1,127,3], dtype = np.int8)"
   ]
  },
  {
   "cell_type": "code",
   "execution_count": 3,
   "id": "142847c1-299a-4cdb-a877-4c91354f90fe",
   "metadata": {},
   "outputs": [
    {
     "data": {
      "text/plain": [
       "dtype('int8')"
      ]
     },
     "execution_count": 3,
     "metadata": {},
     "output_type": "execute_result"
    }
   ],
   "source": [
    "a.dtype"
   ]
  },
  {
   "cell_type": "code",
   "execution_count": 4,
   "id": "6b148094-c6f5-44fe-8019-ce977654a143",
   "metadata": {},
   "outputs": [],
   "source": [
    "b = a.astype(np.float16)"
   ]
  },
  {
   "cell_type": "code",
   "execution_count": 5,
   "id": "439b902f-173e-4f79-9f2d-78283e2448b0",
   "metadata": {},
   "outputs": [
    {
     "data": {
      "text/plain": [
       "dtype('float16')"
      ]
     },
     "execution_count": 5,
     "metadata": {},
     "output_type": "execute_result"
    }
   ],
   "source": [
    "b.dtype"
   ]
  },
  {
   "cell_type": "code",
   "execution_count": 6,
   "id": "e9e42800-ad90-4966-94cd-0695c9fb6458",
   "metadata": {},
   "outputs": [],
   "source": [
    "b = np.array([4,0,0,1], dtype = np.bool)"
   ]
  },
  {
   "cell_type": "code",
   "execution_count": 7,
   "id": "4965543e-b7b8-472c-bf34-f22344af203e",
   "metadata": {},
   "outputs": [
    {
     "data": {
      "text/plain": [
       "array([ True, False, False,  True])"
      ]
     },
     "execution_count": 7,
     "metadata": {},
     "output_type": "execute_result"
    }
   ],
   "source": [
    "b"
   ]
  },
  {
   "cell_type": "code",
   "execution_count": null,
   "id": "3e51bfc0-4518-46b1-a920-b8be7985c030",
   "metadata": {},
   "outputs": [],
   "source": []
  }
 ],
 "metadata": {
  "kernelspec": {
   "display_name": "Python 3 (ipykernel)",
   "language": "python",
   "name": "python3"
  },
  "language_info": {
   "codemirror_mode": {
    "name": "ipython",
    "version": 3
   },
   "file_extension": ".py",
   "mimetype": "text/x-python",
   "name": "python",
   "nbconvert_exporter": "python",
   "pygments_lexer": "ipython3",
   "version": "3.13.0"
  }
 },
 "nbformat": 4,
 "nbformat_minor": 5
}
