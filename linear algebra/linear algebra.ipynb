{
 "cells": [
  {
   "cell_type": "code",
   "execution_count": 2,
   "id": "8460c57a-7b4b-4bb0-972e-8967937e1bf4",
   "metadata": {},
   "outputs": [
    {
     "name": "stdout",
     "output_type": "stream",
     "text": [
      "Collecting numpy\n",
      "  Downloading numpy-2.2.2-cp313-cp313-win_amd64.whl.metadata (60 kB)\n",
      "Downloading numpy-2.2.2-cp313-cp313-win_amd64.whl (12.6 MB)\n",
      "   ---------------------------------------- 0.0/12.6 MB ? eta -:--:--\n",
      "   ---- ----------------------------------- 1.6/12.6 MB 10.4 MB/s eta 0:00:02\n",
      "   ----------------- ---------------------- 5.5/12.6 MB 16.0 MB/s eta 0:00:01\n",
      "   ------------------------------- -------- 10.0/12.6 MB 17.7 MB/s eta 0:00:01\n",
      "   ---------------------------------------  12.6/12.6 MB 18.0 MB/s eta 0:00:01\n",
      "   ---------------------------------------- 12.6/12.6 MB 16.3 MB/s eta 0:00:00\n",
      "Installing collected packages: numpy\n",
      "Successfully installed numpy-2.2.2\n"
     ]
    },
    {
     "name": "stderr",
     "output_type": "stream",
     "text": [
      "\n",
      "[notice] A new release of pip is available: 24.2 -> 25.0\n",
      "[notice] To update, run: python.exe -m pip install --upgrade pip\n"
     ]
    }
   ],
   "source": [
    "!pip install numpy"
   ]
  },
  {
   "cell_type": "code",
   "execution_count": 3,
   "id": "696b41bc-1787-47d2-a191-4f8db20ad7e5",
   "metadata": {},
   "outputs": [],
   "source": [
    "import numpy as np"
   ]
  },
  {
   "cell_type": "code",
   "execution_count": 4,
   "id": "535f430d-2649-46c7-97d1-8e2df432d420",
   "metadata": {},
   "outputs": [
    {
     "data": {
      "text/plain": [
       "<module 'numpy' from 'E:\\\\pythonds\\\\skillDatascience\\\\dsenv\\\\Lib\\\\site-packages\\\\numpy\\\\__init__.py'>"
      ]
     },
     "execution_count": 4,
     "metadata": {},
     "output_type": "execute_result"
    }
   ],
   "source": [
    "np"
   ]
  },
  {
   "cell_type": "markdown",
   "id": "8373087b-7066-4762-b731-30d39e93a272",
   "metadata": {},
   "source": [
    "## Linear Algebra"
   ]
  },
  {
   "cell_type": "markdown",
   "id": "3de7720d-1978-4e44-aa9b-782ac66224b7",
   "metadata": {},
   "source": [
    "Linear algebra is a branch of mathematics that deals with linear equations, matrices, vectors, and linear transformations. It provides a powerful set of tools for representing, analyzing, and manipulating data, and is widely used in various fields such as physics, engineering, computer science, and data science. Linear algebra involves the study of linear equations and their solutions, matrix operations such as addition, multiplication, and inversion, vector spaces and subspaces, linear transformations, eigenvectors and eigenvalues, and other related concepts.\n",
    "\n",
    "- `Matrix operations`: Matrices are used to represent datasets in data science, and matrix operations such as matrix multiplication, addition, and subtraction are used to perform operations on these datasets.\n",
    "\n",
    "- `Linear transformations`: Linear transformations are used to transform data into new coordinate systems or to represent data in a more concise and informative way.\n",
    "\n",
    "- `Eigenvectors and eigenvalues`: Eigenvectors and eigenvalues are used to analyze the structure of datasets and to identify important features.\n",
    "\n",
    "- `Singular value decomposition (SVD)`: SVD is a powerful technique that is used to reduce the dimensionality of datasets and to identify important patterns in the data.\n",
    "\n",
    "- `Optimization`: Linear algebra is used in optimization problems such as linear programming, which is used to solve problems such as maximizing profits or minimizing costs subject to constraints."
   ]
  },
  {
   "cell_type": "markdown",
   "id": "59c43c3a-5347-4135-9211-ad583406632c",
   "metadata": {},
   "source": [
    "## Creating Numpy Array"
   ]
  },
  {
   "cell_type": "code",
   "execution_count": 5,
   "id": "e8766aee-222d-4346-95c6-534f6b56f9a7",
   "metadata": {},
   "outputs": [],
   "source": [
    "list1 =[2,3,4]\n",
    "\n",
    "arr1 = np.array(list1)\n"
   ]
  },
  {
   "cell_type": "code",
   "execution_count": 6,
   "id": "2e8be75a-f26f-414b-9ba7-353bd0eea4f4",
   "metadata": {},
   "outputs": [
    {
     "data": {
      "text/plain": [
       "array([2, 3, 4])"
      ]
     },
     "execution_count": 6,
     "metadata": {},
     "output_type": "execute_result"
    }
   ],
   "source": [
    "arr1"
   ]
  },
  {
   "cell_type": "code",
   "execution_count": 7,
   "id": "ad5a28a0-104a-47f1-9f8a-56c9c3ed74b6",
   "metadata": {},
   "outputs": [
    {
     "data": {
      "text/plain": [
       "(3,)"
      ]
     },
     "execution_count": 7,
     "metadata": {},
     "output_type": "execute_result"
    }
   ],
   "source": [
    "arr1.shape"
   ]
  },
  {
   "cell_type": "code",
   "execution_count": 9,
   "id": "9dd0e3d9-76d9-495d-a0ab-f1d549a1f749",
   "metadata": {},
   "outputs": [
    {
     "data": {
      "text/plain": [
       "array([[1, 2, 3],\n",
       "       [3, 4, 5]])"
      ]
     },
     "execution_count": 9,
     "metadata": {},
     "output_type": "execute_result"
    }
   ],
   "source": [
    "list2 = [[1,2,3],\n",
    "        [3,4,5]]\n",
    "arr2= np.array(list2)\n",
    "arr2"
   ]
  },
  {
   "cell_type": "code",
   "execution_count": 10,
   "id": "70ee3703-99cd-478a-9cf3-978c40033a2f",
   "metadata": {},
   "outputs": [
    {
     "data": {
      "text/plain": [
       "(2, 3)"
      ]
     },
     "execution_count": 10,
     "metadata": {},
     "output_type": "execute_result"
    }
   ],
   "source": [
    "arr2.shape"
   ]
  },
  {
   "cell_type": "code",
   "execution_count": 12,
   "id": "09ba98d2-f736-48c3-9400-2cef4c4a2e67",
   "metadata": {},
   "outputs": [
    {
     "data": {
      "text/plain": [
       "2"
      ]
     },
     "execution_count": 12,
     "metadata": {},
     "output_type": "execute_result"
    }
   ],
   "source": [
    "arr2.ndim"
   ]
  },
  {
   "cell_type": "code",
   "execution_count": null,
   "id": "517fcc92-fc94-4436-b41a-a8ca81d7f3ed",
   "metadata": {},
   "outputs": [],
   "source": []
  }
 ],
 "metadata": {
  "kernelspec": {
   "display_name": "Python 3 (ipykernel)",
   "language": "python",
   "name": "python3"
  },
  "language_info": {
   "codemirror_mode": {
    "name": "ipython",
    "version": 3
   },
   "file_extension": ".py",
   "mimetype": "text/x-python",
   "name": "python",
   "nbconvert_exporter": "python",
   "pygments_lexer": "ipython3",
   "version": "3.13.0"
  }
 },
 "nbformat": 4,
 "nbformat_minor": 5
}
