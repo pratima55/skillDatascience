{
 "cells": [
  {
   "cell_type": "code",
   "execution_count": 6,
   "id": "a1fa783a-b646-4141-918a-01753145a002",
   "metadata": {},
   "outputs": [
    {
     "name": "stdout",
     "output_type": "stream",
     "text": [
      "[(1, 6, 3), (5, 2, 3)]\n"
     ]
    }
   ],
   "source": [
    "\n",
    "list1 = [1, 5, 7]\n",
    "list2 = [2, 6, 8]\n",
    "list3 = [3, 4, 9]\n",
    "list4 = [(x,y,z) for x in list1 for y in list2 for z in list3 if (x + y + z) == 10]\n",
    "print(list4)"
   ]
  },
  {
   "cell_type": "markdown",
   "id": "c8638543-e9c0-4a62-a6cb-11410506a1d8",
   "metadata": {},
   "source": [
    "Write a Python program that takes user input for age. Create a custom exception InvalidAgeError to handle cases where the age is below 0 or above 120.\n",
    " \n",
    "  Hint: Create new class InvalidAgeError that inherits Exception class"
   ]
  },
  {
   "cell_type": "code",
   "execution_count": 9,
   "id": "a2e3d4e9-d2f9-46da-8b97-9dded461def2",
   "metadata": {},
   "outputs": [
    {
     "name": "stdin",
     "output_type": "stream",
     "text": [
      "Enter your age:  l4\n"
     ]
    },
    {
     "name": "stdout",
     "output_type": "stream",
     "text": [
      "Invalid input! Please enter a valid integer.\n"
     ]
    }
   ],
   "source": [
    "class InvalidAgeError(Exception):\n",
    "    def __init__(self, age, message=\"Age must be between 0 and 120.\"):\n",
    "        self.age = age\n",
    "        self.message = message\n",
    "        super().__init__(self.message)\n",
    "\n",
    "def get_age():\n",
    "    try:\n",
    "        age = int(input(\"Enter your age: \"))\n",
    "        if age < 0 or age > 120:\n",
    "            raise InvalidAgeError(age)\n",
    "        print(f\"Valid age entered: {age}\")\n",
    "    except InvalidAgeError as e:\n",
    "        print(f\"InvalidAgeError: {e}\")\n",
    "    except ValueError:\n",
    "        print(\"Invalid input! Please enter a valid integer.\")\n",
    "\n",
    "\n",
    "get_age()\n"
   ]
  },
  {
   "cell_type": "code",
   "execution_count": null,
   "id": "94c51351-2916-4d67-9556-1df1fc31e0bd",
   "metadata": {},
   "outputs": [],
   "source": []
  }
 ],
 "metadata": {
  "kernelspec": {
   "display_name": "Python 3 (ipykernel)",
   "language": "python",
   "name": "python3"
  },
  "language_info": {
   "codemirror_mode": {
    "name": "ipython",
    "version": 3
   },
   "file_extension": ".py",
   "mimetype": "text/x-python",
   "name": "python",
   "nbconvert_exporter": "python",
   "pygments_lexer": "ipython3",
   "version": "3.13.0"
  }
 },
 "nbformat": 4,
 "nbformat_minor": 5
}
