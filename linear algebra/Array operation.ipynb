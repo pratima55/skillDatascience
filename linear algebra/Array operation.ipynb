{
 "cells": [
  {
   "cell_type": "markdown",
   "id": "a38802fc-a824-4fba-8e9a-de26b55ade11",
   "metadata": {},
   "source": [
    "## 1. Elementwise Operations\n",
    "\n",
    "Refer to : https://numpy.org/doc/1.26/reference/array_api.html#elementwise-functions"
   ]
  },
  {
   "cell_type": "code",
   "execution_count": 1,
   "id": "672cd86b-d9d1-4ddf-9f8b-f94aed465ce3",
   "metadata": {},
   "outputs": [],
   "source": [
    "import numpy as np"
   ]
  },
  {
   "cell_type": "code",
   "execution_count": 2,
   "id": "3dc4d46e-15a5-4125-85e9-814535423928",
   "metadata": {},
   "outputs": [],
   "source": [
    "a = np.array([[4,5,6],[5,7,9]])\n",
    "b = np.array([[1,2,3],[9,8,7]])"
   ]
  },
  {
   "cell_type": "code",
   "execution_count": 3,
   "id": "e7c1fbd3-2f95-4e29-8a55-dd3349d68bef",
   "metadata": {},
   "outputs": [
    {
     "data": {
      "text/plain": [
       "(array([[4, 5, 6],\n",
       "        [5, 7, 9]]),\n",
       " array([[1, 2, 3],\n",
       "        [9, 8, 7]]))"
      ]
     },
     "execution_count": 3,
     "metadata": {},
     "output_type": "execute_result"
    }
   ],
   "source": [
    "a,b"
   ]
  },
  {
   "cell_type": "markdown",
   "id": "f261d41e-035e-423b-b9dd-a80618fb1443",
   "metadata": {},
   "source": [
    "### Arithmetic Operations\n"
   ]
  },
  {
   "cell_type": "code",
   "execution_count": 4,
   "id": "72f2fbb3-162a-457f-ba06-7408a384bbb5",
   "metadata": {},
   "outputs": [
    {
     "data": {
      "text/plain": [
       "array([[ 5,  7,  9],\n",
       "       [14, 15, 16]])"
      ]
     },
     "execution_count": 4,
     "metadata": {},
     "output_type": "execute_result"
    }
   ],
   "source": [
    "# a+b\n",
    "np.add(a,b)"
   ]
  },
  {
   "cell_type": "code",
   "execution_count": 5,
   "id": "606c5870-9d64-48c3-8ba9-a3ee2d1224a1",
   "metadata": {},
   "outputs": [
    {
     "data": {
      "text/plain": [
       "array([[ 3,  3,  3],\n",
       "       [-4, -1,  2]])"
      ]
     },
     "execution_count": 5,
     "metadata": {},
     "output_type": "execute_result"
    }
   ],
   "source": [
    "# a-b\n",
    "np.subtract(a,b)"
   ]
  },
  {
   "cell_type": "code",
   "execution_count": 6,
   "id": "1da674ad-1aaf-430c-b9c3-b0d6652498fa",
   "metadata": {},
   "outputs": [
    {
     "data": {
      "text/plain": [
       "array([[ 4, 10, 18],\n",
       "       [45, 56, 63]])"
      ]
     },
     "execution_count": 6,
     "metadata": {},
     "output_type": "execute_result"
    }
   ],
   "source": [
    "# a *b\n",
    "np.multiply(a,b)"
   ]
  },
  {
   "cell_type": "code",
   "execution_count": 7,
   "id": "9caa0649-3b90-4a9e-a4bc-6edfd51c16dd",
   "metadata": {},
   "outputs": [
    {
     "data": {
      "text/plain": [
       "array([[      4,      25,     216],\n",
       "       [1953125, 5764801, 4782969]])"
      ]
     },
     "execution_count": 7,
     "metadata": {},
     "output_type": "execute_result"
    }
   ],
   "source": [
    "# a ** 2\n",
    "#np.square(b)\n",
    "np.power(a,b)"
   ]
  },
  {
   "cell_type": "code",
   "execution_count": 8,
   "id": "bee6bdf2-7510-436c-bbdc-5e11080c97ae",
   "metadata": {},
   "outputs": [],
   "source": [
    "#a%b\n",
    "quo, rem = np.divmod(a,2)"
   ]
  },
  {
   "cell_type": "code",
   "execution_count": 9,
   "id": "1ffe80c5-45f5-4019-95ca-48e5e9e58e16",
   "metadata": {},
   "outputs": [
    {
     "data": {
      "text/plain": [
       "array([[0, 1, 0],\n",
       "       [1, 1, 1]])"
      ]
     },
     "execution_count": 9,
     "metadata": {},
     "output_type": "execute_result"
    }
   ],
   "source": [
    "rem"
   ]
  },
  {
   "cell_type": "code",
   "execution_count": 10,
   "id": "91febc8a-fd61-4e5a-8ec1-49fd578fbe9a",
   "metadata": {},
   "outputs": [
    {
     "data": {
      "text/plain": [
       "array([[2.        , 2.23606798, 2.44948974],\n",
       "       [2.23606798, 2.64575131, 3.        ]])"
      ]
     },
     "execution_count": 10,
     "metadata": {},
     "output_type": "execute_result"
    }
   ],
   "source": [
    "np.sqrt(a)"
   ]
  },
  {
   "cell_type": "code",
   "execution_count": 11,
   "id": "fe9d175e-e00e-4583-ae50-350e1182aacf",
   "metadata": {},
   "outputs": [
    {
     "data": {
      "text/plain": [
       "array([[2., 3., 3.],\n",
       "       [3., 3., 3.]])"
      ]
     },
     "execution_count": 11,
     "metadata": {},
     "output_type": "execute_result"
    }
   ],
   "source": [
    "np.ceil(np.sqrt(a))"
   ]
  },
  {
   "cell_type": "markdown",
   "id": "cf6db8c9-4b44-420b-a869-8f35827ee73f",
   "metadata": {},
   "source": [
    "### Trignometric"
   ]
  },
  {
   "cell_type": "code",
   "execution_count": 12,
   "id": "2e72ea8c-7d9f-46b5-aa9f-9dfad82af1c9",
   "metadata": {},
   "outputs": [
    {
     "name": "stdout",
     "output_type": "stream",
     "text": [
      "[[-1.32134871 -1.04283521 -3.57889955]\n",
      " [-1.04283521  1.52210106  2.42648664]]\n"
     ]
    }
   ],
   "source": [
    "new = 1 / np.sin(a)\n",
    "print(new)"
   ]
  },
  {
   "cell_type": "code",
   "execution_count": 13,
   "id": "d0f6b6cf-653b-4b55-ab70-78f5b18fe38d",
   "metadata": {},
   "outputs": [
    {
     "data": {
      "text/plain": [
       "array([[ 0.64209262, -0.45765755, -7.01525255],\n",
       "       [-2.21084541, -0.14706506,  1.14751542]])"
      ]
     },
     "execution_count": 13,
     "metadata": {},
     "output_type": "execute_result"
    }
   ],
   "source": [
    "1 / np.tan(b)"
   ]
  },
  {
   "cell_type": "markdown",
   "id": "1d686ed8-990b-4578-8bd9-e791423e69d8",
   "metadata": {},
   "source": [
    "### Rounding operations"
   ]
  },
  {
   "cell_type": "code",
   "execution_count": 14,
   "id": "a3fcd175-4de0-4ba7-9313-bdac56de6128",
   "metadata": {},
   "outputs": [
    {
     "data": {
      "text/plain": [
       "array([[-1.321, -1.043, -3.579],\n",
       "       [-1.043,  1.522,  2.426]])"
      ]
     },
     "execution_count": 14,
     "metadata": {},
     "output_type": "execute_result"
    }
   ],
   "source": [
    "np.round(new, decimals = 3)"
   ]
  },
  {
   "cell_type": "code",
   "execution_count": 15,
   "id": "9e0b56d8-e132-40f3-a30b-ec8312bb5412",
   "metadata": {},
   "outputs": [
    {
     "data": {
      "text/plain": [
       "array([[-1.3213, -1.0428, -3.5789],\n",
       "       [-1.0428,  1.5221,  2.4265]])"
      ]
     },
     "execution_count": 15,
     "metadata": {},
     "output_type": "execute_result"
    }
   ],
   "source": [
    "np.around(new, decimals=4)"
   ]
  },
  {
   "cell_type": "code",
   "execution_count": 16,
   "id": "2e090b38-eb5e-47e4-96e9-304a8027069b",
   "metadata": {},
   "outputs": [
    {
     "data": {
      "text/plain": [
       "array([[-1., -1., -3.],\n",
       "       [-1.,  1.,  2.]])"
      ]
     },
     "execution_count": 16,
     "metadata": {},
     "output_type": "execute_result"
    }
   ],
   "source": [
    "np.fix(new)"
   ]
  },
  {
   "cell_type": "code",
   "execution_count": 17,
   "id": "c567589c-5c03-48a6-9c01-86373003d77e",
   "metadata": {},
   "outputs": [
    {
     "data": {
      "text/plain": [
       "array([[-2., -2., -4.],\n",
       "       [-2.,  1.,  2.]])"
      ]
     },
     "execution_count": 17,
     "metadata": {},
     "output_type": "execute_result"
    }
   ],
   "source": [
    "np.floor(new)"
   ]
  },
  {
   "cell_type": "markdown",
   "id": "bd6e8885-94a4-46a9-aa36-fd39748255b9",
   "metadata": {},
   "source": [
    "## 2. Matrix Operations\n",
    "\n",
    "Refer to : https://numpy.org/doc/1.26/reference/array_api.html#elementwise-functions"
   ]
  },
  {
   "cell_type": "code",
   "execution_count": 21,
   "id": "7c4b1113-dca3-43a2-8e9a-f2d79a95bc8b",
   "metadata": {},
   "outputs": [
    {
     "data": {
      "text/plain": [
       "array([[1, 2, 3],\n",
       "       [9, 8, 7],\n",
       "       [9, 4, 7]])"
      ]
     },
     "execution_count": 21,
     "metadata": {},
     "output_type": "execute_result"
    }
   ],
   "source": [
    "a = np.array([[4,5,6],[5,7,9]])\n",
    "b = np.array([[1,2,3],[9,8,7], [9,4,7]])\n",
    "\n",
    "b\n",
    "\n"
   ]
  },
  {
   "cell_type": "code",
   "execution_count": 22,
   "id": "3a1e48fb-9c2f-4f7e-8d69-1ccf32e23cca",
   "metadata": {},
   "outputs": [
    {
     "data": {
      "text/plain": [
       "array([[103,  72,  89],\n",
       "       [149, 102, 127]])"
      ]
     },
     "execution_count": 22,
     "metadata": {},
     "output_type": "execute_result"
    }
   ],
   "source": [
    "np.dot(a,b)"
   ]
  },
  {
   "cell_type": "code",
   "execution_count": 23,
   "id": "7799a72f-e0d1-4d01-9416-ae74d2ca4e09",
   "metadata": {},
   "outputs": [
    {
     "data": {
      "text/plain": [
       "array([[1, 9, 9],\n",
       "       [2, 8, 4],\n",
       "       [3, 7, 7]])"
      ]
     },
     "execution_count": 23,
     "metadata": {},
     "output_type": "execute_result"
    }
   ],
   "source": [
    "# b.T\n",
    "np.transpose(b)"
   ]
  },
  {
   "cell_type": "code",
   "execution_count": 25,
   "id": "19de9b87-53aa-4e97-90da-f59dbdae444b",
   "metadata": {},
   "outputs": [
    {
     "data": {
      "text/plain": [
       "np.int64(16)"
      ]
     },
     "execution_count": 25,
     "metadata": {},
     "output_type": "execute_result"
    }
   ],
   "source": [
    "np.trace(b) #>- add diagonal (eg : 1+8+7)"
   ]
  },
  {
   "cell_type": "code",
   "execution_count": 26,
   "id": "28f5f9be-562d-4da3-b429-7c242f73a5d9",
   "metadata": {},
   "outputs": [
    {
     "data": {
      "text/plain": [
       "np.float64(-79.99999999999997)"
      ]
     },
     "execution_count": 26,
     "metadata": {},
     "output_type": "execute_result"
    }
   ],
   "source": [
    "np.linalg.det(b)"
   ]
  },
  {
   "cell_type": "code",
   "execution_count": 27,
   "id": "88f63fe8-5439-45fb-97a4-d617d1575a1d",
   "metadata": {},
   "outputs": [
    {
     "data": {
      "text/plain": [
       "array([[ 1., -0.,  0.],\n",
       "       [ 0.,  1.,  0.],\n",
       "       [ 0., -0.,  1.]])"
      ]
     },
     "execution_count": 27,
     "metadata": {},
     "output_type": "execute_result"
    }
   ],
   "source": [
    "# B.B-1 = I\n",
    "np.dot(b, np.linalg.inv(b)\n",
    "      ).round()"
   ]
  },
  {
   "cell_type": "code",
   "execution_count": 30,
   "id": "7427e262-7b24-40b0-8cc8-a5d26723bba3",
   "metadata": {},
   "outputs": [],
   "source": [
    "# Solve Equations: x + 2*y = 1 and 3*x + 5*y = 2\n",
    "a = np.array([[1,2],\n",
    "             [3,5]])\n",
    "\n",
    "b = np.array([1,2])             \n"
   ]
  },
  {
   "cell_type": "code",
   "execution_count": 32,
   "id": "0eeb0361-16af-4934-9c4f-1962c585e841",
   "metadata": {},
   "outputs": [
    {
     "data": {
      "text/plain": [
       "array([-1.,  1.])"
      ]
     },
     "execution_count": 32,
     "metadata": {},
     "output_type": "execute_result"
    }
   ],
   "source": [
    "np.linalg.solve(a,b)"
   ]
  },
  {
   "cell_type": "code",
   "execution_count": null,
   "id": "3d7660b9-99de-4e9b-bd04-13adbd9bb07d",
   "metadata": {},
   "outputs": [],
   "source": []
  }
 ],
 "metadata": {
  "kernelspec": {
   "display_name": "Python 3 (ipykernel)",
   "language": "python",
   "name": "python3"
  },
  "language_info": {
   "codemirror_mode": {
    "name": "ipython",
    "version": 3
   },
   "file_extension": ".py",
   "mimetype": "text/x-python",
   "name": "python",
   "nbconvert_exporter": "python",
   "pygments_lexer": "ipython3",
   "version": "3.13.0"
  }
 },
 "nbformat": 4,
 "nbformat_minor": 5
}
