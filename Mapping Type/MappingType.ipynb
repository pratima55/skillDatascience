{
 "cells": [
  {
   "cell_type": "markdown",
   "id": "062f83bd-3c31-4d07-9293-b5f2a5af829d",
   "metadata": {},
   "source": [
    "**Mapping type**"
   ]
  },
  {
   "cell_type": "markdown",
   "id": "42a159d6-3485-488f-83b1-398a58e77469",
   "metadata": {},
   "source": [
    "Creating dictionary"
   ]
  },
  {
   "cell_type": "markdown",
   "id": "4d415a6e-7604-467e-acbe-1989ae1362e2",
   "metadata": {},
   "source": [
    "dict_one = {key:value , key:value, ....}"
   ]
  },
  {
   "cell_type": "code",
   "execution_count": 1,
   "id": "bfcd561f-8086-4776-9eed-329ee146181b",
   "metadata": {},
   "outputs": [],
   "source": [
    "person ={\n",
    "    \"name\" : \"john\",\n",
    "    \"age\" :22,\n",
    "    \"city\": \"Baltimor\",\n",
    "    \"gender\": \"male\",\n",
    "    \n",
    "}"
   ]
  },
  {
   "cell_type": "code",
   "execution_count": 2,
   "id": "64c4d710-e86d-449e-ba11-57f8545fe396",
   "metadata": {},
   "outputs": [
    {
     "name": "stdout",
     "output_type": "stream",
     "text": [
      "{'name': 'john', 'age': 22, 'city': 'Baltimor', 'gender': 'male'}\n"
     ]
    }
   ],
   "source": [
    "print(person)"
   ]
  },
  {
   "cell_type": "code",
   "execution_count": 3,
   "id": "7dae31ec-286a-4b9d-8a17-8d8d5f6fb7b1",
   "metadata": {},
   "outputs": [],
   "source": [
    "person1 = dict(name = \"sara\" , age = 23, city =\"NYC\", gender =\"female\")\n"
   ]
  },
  {
   "cell_type": "code",
   "execution_count": 4,
   "id": "29995a56-c2fd-4635-bf48-e995a93c62b8",
   "metadata": {},
   "outputs": [
    {
     "name": "stdout",
     "output_type": "stream",
     "text": [
      "{'name': 'sara', 'age': 23, 'city': 'NYC', 'gender': 'female'}\n"
     ]
    }
   ],
   "source": [
    "print(person1)"
   ]
  },
  {
   "cell_type": "code",
   "execution_count": 5,
   "id": "2fd820c2-f200-4041-a0fb-4613fd5dc58e",
   "metadata": {},
   "outputs": [
    {
     "name": "stdout",
     "output_type": "stream",
     "text": [
      "<class 'dict'>\n"
     ]
    }
   ],
   "source": [
    "print(type(person1))"
   ]
  },
  {
   "cell_type": "markdown",
   "id": "aa255d8c-7ace-423b-8e01-57f8692fa4ff",
   "metadata": {},
   "source": [
    "ACCESSING DICTIONARY"
   ]
  },
  {
   "cell_type": "code",
   "execution_count": 6,
   "id": "203fd1da-1ffa-466e-b21c-14663b295d8a",
   "metadata": {},
   "outputs": [
    {
     "data": {
      "text/plain": [
       "'Baltimor'"
      ]
     },
     "execution_count": 6,
     "metadata": {},
     "output_type": "execute_result"
    }
   ],
   "source": [
    "person[\"city\"]"
   ]
  },
  {
   "cell_type": "code",
   "execution_count": 7,
   "id": "4773cdfb-4a8f-4dbe-bde4-50eea5ce87f9",
   "metadata": {},
   "outputs": [
    {
     "data": {
      "text/plain": [
       "'male'"
      ]
     },
     "execution_count": 7,
     "metadata": {},
     "output_type": "execute_result"
    }
   ],
   "source": [
    "person.get(\"gender\",\"unknown\") "
   ]
  },
  {
   "cell_type": "code",
   "execution_count": 8,
   "id": "d565f0a1-50f6-4228-b48c-f09abb4af76b",
   "metadata": {},
   "outputs": [
    {
     "data": {
      "text/plain": [
       "'UNKNOWN'"
      ]
     },
     "execution_count": 8,
     "metadata": {},
     "output_type": "execute_result"
    }
   ],
   "source": [
    "person.get(\"DOB\", \"UNKNOWN\") #REturn unknown if key is not found. and it doesn't give error"
   ]
  },
  {
   "cell_type": "markdown",
   "id": "64dc9e22-e2a5-4fa2-bb03-d342804debf0",
   "metadata": {},
   "source": [
    "**MODIFICATION ELEMENTS**\n"
   ]
  },
  {
   "cell_type": "code",
   "execution_count": 9,
   "id": "ed98f061-956b-4b9d-b9eb-aa9fc060ad85",
   "metadata": {},
   "outputs": [],
   "source": [
    "person ={\n",
    "    \"name\" : \"john\",\n",
    "    \"age\" :22,\n",
    "    \"city\":\"Baltimore\"\n",
    "    \n",
    "}"
   ]
  },
  {
   "cell_type": "code",
   "execution_count": 10,
   "id": "40dd5a5f-06bf-48ba-a47a-9c42f51085a6",
   "metadata": {},
   "outputs": [],
   "source": [
    "person[\"gender\"]= \"male\" #modify by adding key and value"
   ]
  },
  {
   "cell_type": "code",
   "execution_count": 11,
   "id": "a1524143-e6fa-4d13-b3e2-11432804d5ee",
   "metadata": {},
   "outputs": [
    {
     "name": "stdout",
     "output_type": "stream",
     "text": [
      "{'name': 'john', 'age': 22, 'city': 'Baltimore', 'gender': 'male'}\n"
     ]
    }
   ],
   "source": [
    "print(person)"
   ]
  },
  {
   "cell_type": "code",
   "execution_count": 12,
   "id": "75223d2f-3870-40d4-ad05-d0426bb9a7aa",
   "metadata": {},
   "outputs": [],
   "source": [
    "person[\"age\"]= 45 #modify by chnaging value"
   ]
  },
  {
   "cell_type": "code",
   "execution_count": 13,
   "id": "5206da0a-a60d-4fd6-8bc3-e4a82e4837a3",
   "metadata": {},
   "outputs": [
    {
     "name": "stdout",
     "output_type": "stream",
     "text": [
      "{'name': 'john', 'age': 45, 'city': 'Baltimore', 'gender': 'male'}\n"
     ]
    }
   ],
   "source": [
    "print(person)"
   ]
  },
  {
   "cell_type": "code",
   "execution_count": 14,
   "id": "9fe4af46-e407-45f7-adbc-af946205e4b0",
   "metadata": {},
   "outputs": [],
   "source": [
    "del person[\"age\"]"
   ]
  },
  {
   "cell_type": "code",
   "execution_count": 15,
   "id": "199cc581-8c6b-4211-a143-7ed4a2bc6f9f",
   "metadata": {},
   "outputs": [
    {
     "name": "stdout",
     "output_type": "stream",
     "text": [
      "{'name': 'john', 'city': 'Baltimore', 'gender': 'male'}\n"
     ]
    }
   ],
   "source": [
    "print(person)"
   ]
  },
  {
   "cell_type": "markdown",
   "id": "63beea59-972b-4167-a776-23843dbd0212",
   "metadata": {},
   "source": [
    "DICTIONARY METHODS\n",
    "\n",
    "some commonly used methods in python dictionaries are keys(), values(), items(), pop(), copy(), clear()"
   ]
  },
  {
   "cell_type": "code",
   "execution_count": 16,
   "id": "d81342ab-9b2c-483f-89e2-da29036bc9b2",
   "metadata": {},
   "outputs": [
    {
     "name": "stdout",
     "output_type": "stream",
     "text": [
      "{'name': 'john', 'city': 'Baltimore', 'gender': 'male'}\n"
     ]
    }
   ],
   "source": [
    "print(person)"
   ]
  },
  {
   "cell_type": "code",
   "execution_count": 18,
   "id": "40e42ea6-31b9-47ae-af7d-31f42b8708ba",
   "metadata": {},
   "outputs": [
    {
     "name": "stdout",
     "output_type": "stream",
     "text": [
      "dict_keys(['name', 'city', 'gender'])\n"
     ]
    }
   ],
   "source": [
    "print(person.keys())"
   ]
  },
  {
   "cell_type": "code",
   "execution_count": 19,
   "id": "b1aa65ea-a884-412b-a4f1-21e6f93d364c",
   "metadata": {},
   "outputs": [
    {
     "name": "stdout",
     "output_type": "stream",
     "text": [
      "dict_values(['john', 'Baltimore', 'male'])\n"
     ]
    }
   ],
   "source": [
    "print(person.values()) "
   ]
  },
  {
   "cell_type": "code",
   "execution_count": 22,
   "id": "1940350d-1d30-4901-ae95-ba556583fbcc",
   "metadata": {},
   "outputs": [
    {
     "name": "stdout",
     "output_type": "stream",
     "text": [
      "dict_items([('name', 'john'), ('city', 'Baltimore'), ('gender', 'male')])\n"
     ]
    }
   ],
   "source": [
    "print(person.items()) #return a view object that contains key-value pair of the dictionary as tuple"
   ]
  },
  {
   "cell_type": "code",
   "execution_count": 25,
   "id": "e7442713-63bb-4457-8f84-30f59dc9ba51",
   "metadata": {},
   "outputs": [],
   "source": [
    "gender=person.pop(\"gender\")"
   ]
  },
  {
   "cell_type": "code",
   "execution_count": 26,
   "id": "c1593b5f-6e89-49bc-b65f-3d63d0c2da14",
   "metadata": {},
   "outputs": [
    {
     "name": "stdout",
     "output_type": "stream",
     "text": [
      "{'name': 'john', 'city': 'Baltimore'}\n"
     ]
    }
   ],
   "source": [
    "print(person)"
   ]
  },
  {
   "cell_type": "code",
   "execution_count": 27,
   "id": "b52a9cf3-79f3-44c4-8639-b709de973088",
   "metadata": {},
   "outputs": [],
   "source": [
    "age = person.pop(\"age\", \"22\")"
   ]
  },
  {
   "cell_type": "code",
   "execution_count": 40,
   "id": "0e2f25f4-855d-4262-a0be-33d8c365c68d",
   "metadata": {},
   "outputs": [
    {
     "name": "stdout",
     "output_type": "stream",
     "text": [
      "{'name': 'sara', 'age': 23, 'city': 'NYC', 'gender': 'female'}\n"
     ]
    }
   ],
   "source": [
    "print(person)"
   ]
  },
  {
   "cell_type": "code",
   "execution_count": 41,
   "id": "b0bb459d-6f1c-40f5-a99d-e68c78d08464",
   "metadata": {},
   "outputs": [
    {
     "data": {
      "text/plain": [
       "{'name': 'sara', 'age': 23, 'city': 'NYC', 'gender': 'female'}"
      ]
     },
     "execution_count": 41,
     "metadata": {},
     "output_type": "execute_result"
    }
   ],
   "source": [
    "person1"
   ]
  },
  {
   "cell_type": "code",
   "execution_count": null,
   "id": "43857fa2-f77e-4d88-abaa-fda2e981a5c3",
   "metadata": {},
   "outputs": [],
   "source": []
  },
  {
   "cell_type": "markdown",
   "id": "fcf03e4a-1411-44d9-9630-6622b4a28b26",
   "metadata": {},
   "source": [
    "**copy() method**"
   ]
  },
  {
   "cell_type": "code",
   "execution_count": 42,
   "id": "453c710a-4261-4b71-9dac-ce033da18a29",
   "metadata": {},
   "outputs": [
    {
     "name": "stdout",
     "output_type": "stream",
     "text": [
      "{'name': 'sara', 'age': 23, 'city': 'NYC', 'gender': 'female'}\n"
     ]
    }
   ],
   "source": [
    "print(person1)"
   ]
  },
  {
   "cell_type": "code",
   "execution_count": 44,
   "id": "34aa987d-b8f1-4272-aa57-1cf7a8bed427",
   "metadata": {},
   "outputs": [],
   "source": [
    "person2 = person1"
   ]
  },
  {
   "cell_type": "code",
   "execution_count": 45,
   "id": "c06a5afe-020a-4b99-a38e-f5526ca169b4",
   "metadata": {},
   "outputs": [
    {
     "data": {
      "text/plain": [
       "{'name': 'sara', 'age': 23, 'city': 'NYC', 'gender': 'female'}"
      ]
     },
     "execution_count": 45,
     "metadata": {},
     "output_type": "execute_result"
    }
   ],
   "source": [
    "person2\n"
   ]
  },
  {
   "cell_type": "code",
   "execution_count": 46,
   "id": "6d28d8ca-9360-4257-86fa-715c021d92a1",
   "metadata": {},
   "outputs": [],
   "source": [
    "person3 =person1.copy()"
   ]
  },
  {
   "cell_type": "code",
   "execution_count": 47,
   "id": "565fc956-971f-485e-b1f8-df64190d5400",
   "metadata": {},
   "outputs": [
    {
     "data": {
      "text/plain": [
       "{'name': 'sara', 'age': 23, 'city': 'NYC', 'gender': 'female'}"
      ]
     },
     "execution_count": 47,
     "metadata": {},
     "output_type": "execute_result"
    }
   ],
   "source": [
    "person3"
   ]
  },
  {
   "cell_type": "code",
   "execution_count": 48,
   "id": "f32b69f0-d9cf-43f2-b3e7-4d2709bf63ae",
   "metadata": {},
   "outputs": [],
   "source": [
    "person3[\"name\"] = \"lotus\""
   ]
  },
  {
   "cell_type": "code",
   "execution_count": 49,
   "id": "5c1b2689-7d13-4a57-88fa-c9d21262678e",
   "metadata": {},
   "outputs": [
    {
     "data": {
      "text/plain": [
       "{'name': 'lotus', 'age': 23, 'city': 'NYC', 'gender': 'female'}"
      ]
     },
     "execution_count": 49,
     "metadata": {},
     "output_type": "execute_result"
    }
   ],
   "source": [
    "person3"
   ]
  },
  {
   "cell_type": "code",
   "execution_count": 50,
   "id": "35641414-e015-408e-aa8b-5f172671d341",
   "metadata": {},
   "outputs": [
    {
     "data": {
      "text/plain": [
       "{'name': 'sara', 'age': 23, 'city': 'NYC', 'gender': 'female'}"
      ]
     },
     "execution_count": 50,
     "metadata": {},
     "output_type": "execute_result"
    }
   ],
   "source": [
    "person1"
   ]
  },
  {
   "cell_type": "code",
   "execution_count": null,
   "id": "63a85009-e290-4258-a768-4748bc292ef6",
   "metadata": {},
   "outputs": [],
   "source": []
  },
  {
   "cell_type": "markdown",
   "id": "ef8431e3-e1e7-4227-9043-8529e3273468",
   "metadata": {},
   "source": [
    "**sorted() method**"
   ]
  },
  {
   "cell_type": "code",
   "execution_count": 1,
   "id": "6c5558e7-ac17-4a12-ba95-b622aa6675da",
   "metadata": {},
   "outputs": [],
   "source": [
    "person = {'name': 'sara', 'age': 23, 'city': 'NYC', 'gender': 'female'}"
   ]
  },
  {
   "cell_type": "code",
   "execution_count": 6,
   "id": "21db63bb-2cc1-4362-9026-e99612dc3674",
   "metadata": {},
   "outputs": [
    {
     "data": {
      "text/plain": [
       "'name'"
      ]
     },
     "execution_count": 6,
     "metadata": {},
     "output_type": "execute_result"
    }
   ],
   "source": [
    "list(person.items())[0][0]"
   ]
  },
  {
   "cell_type": "code",
   "execution_count": 8,
   "id": "19d36c21-cc9a-4b9e-82cb-84eb166635f1",
   "metadata": {},
   "outputs": [
    {
     "data": {
      "text/plain": [
       "'sara'"
      ]
     },
     "execution_count": 8,
     "metadata": {},
     "output_type": "execute_result"
    }
   ],
   "source": [
    "list(person.items())[0][1]"
   ]
  },
  {
   "cell_type": "code",
   "execution_count": 9,
   "id": "5b361ea1-2b81-467e-a551-3dea383f16e3",
   "metadata": {},
   "outputs": [
    {
     "data": {
      "text/plain": [
       "[('name', 'sara'), ('age', 23), ('city', 'NYC'), ('gender', 'female')]"
      ]
     },
     "execution_count": 9,
     "metadata": {},
     "output_type": "execute_result"
    }
   ],
   "source": [
    "list(person.items())"
   ]
  },
  {
   "cell_type": "code",
   "execution_count": 11,
   "id": "b7cd1bc0-0a17-4419-aec6-b7cfa7d6c073",
   "metadata": {},
   "outputs": [
    {
     "data": {
      "text/plain": [
       "{'age': 23, 'city': 'NYC', 'gender': 'female', 'name': 'sara'}"
      ]
     },
     "execution_count": 11,
     "metadata": {},
     "output_type": "execute_result"
    }
   ],
   "source": [
    "dict(sorted(person.items(), key = lambda item: item[0])) #sort by key\n"
   ]
  },
  {
   "cell_type": "code",
   "execution_count": 10,
   "id": "81e8c33e-fb8b-49c2-81f9-e0f45a4e5cee",
   "metadata": {},
   "outputs": [
    {
     "data": {
      "text/plain": [
       "{'age': 23, 'city': 'NYC', 'gender': 'female', 'name': 'sara'}"
      ]
     },
     "execution_count": 10,
     "metadata": {},
     "output_type": "execute_result"
    }
   ],
   "source": [
    "dict(sorted(person.items(), key = lambda item: item[0])) #sort by value\n"
   ]
  },
  {
   "cell_type": "code",
   "execution_count": null,
   "id": "a16373fa-ca3a-4d03-8a76-e3529731bb0a",
   "metadata": {},
   "outputs": [],
   "source": []
  },
  {
   "cell_type": "code",
   "execution_count": null,
   "id": "4a768847-2169-40dd-b5d7-a18e1046d9e1",
   "metadata": {},
   "outputs": [],
   "source": []
  },
  {
   "cell_type": "markdown",
   "id": "118596c8-d6fb-4bfb-b9aa-e9fad0dcbf08",
   "metadata": {},
   "source": [
    "**Merging two dict**"
   ]
  },
  {
   "cell_type": "code",
   "execution_count": 13,
   "id": "542b1d2c-bc95-44dd-9588-515e7400a5ef",
   "metadata": {},
   "outputs": [],
   "source": [
    "person = {'name': 'sara', 'age': 23, 'city': 'NYC', 'gender': 'female'}\n",
    "address ={\"city\":\"ktm\", \"ward\":\"5\", \"pincode\":445}"
   ]
  },
  {
   "cell_type": "code",
   "execution_count": 16,
   "id": "11322220-b8a2-4a31-9e6d-a9db21f5082c",
   "metadata": {},
   "outputs": [
    {
     "data": {
      "text/plain": [
       "{'name': 'sara',\n",
       " 'age': 23,\n",
       " 'city': 'ktm',\n",
       " 'gender': 'female',\n",
       " 'ward': '5',\n",
       " 'pincode': 445}"
      ]
     },
     "execution_count": 16,
     "metadata": {},
     "output_type": "execute_result"
    }
   ],
   "source": [
    "person | address"
   ]
  },
  {
   "cell_type": "code",
   "execution_count": 17,
   "id": "a03a1bf9-4f84-4ff7-8ca4-be90117d0fb1",
   "metadata": {},
   "outputs": [
    {
     "data": {
      "text/plain": [
       "{'city': 'NYC',\n",
       " 'ward': '5',\n",
       " 'pincode': 445,\n",
       " 'name': 'sara',\n",
       " 'age': 23,\n",
       " 'gender': 'female'}"
      ]
     },
     "execution_count": 17,
     "metadata": {},
     "output_type": "execute_result"
    }
   ],
   "source": [
    "address | person"
   ]
  },
  {
   "cell_type": "code",
   "execution_count": 18,
   "id": "37051630-1bd1-455a-928b-a0fac9dcce7f",
   "metadata": {},
   "outputs": [
    {
     "data": {
      "text/plain": [
       "{'city': 'NYC',\n",
       " 'ward': '5',\n",
       " 'pincode': 445,\n",
       " 'name': 'sara',\n",
       " 'age': 23,\n",
       " 'gender': 'female'}"
      ]
     },
     "execution_count": 18,
     "metadata": {},
     "output_type": "execute_result"
    }
   ],
   "source": [
    "z = {**address, **person}\n",
    "z"
   ]
  },
  {
   "cell_type": "code",
   "execution_count": null,
   "id": "73e67445-5af5-45ac-825b-0be2619716a0",
   "metadata": {},
   "outputs": [],
   "source": []
  }
 ],
 "metadata": {
  "kernelspec": {
   "display_name": "Python 3 (ipykernel)",
   "language": "python",
   "name": "python3"
  },
  "language_info": {
   "codemirror_mode": {
    "name": "ipython",
    "version": 3
   },
   "file_extension": ".py",
   "mimetype": "text/x-python",
   "name": "python",
   "nbconvert_exporter": "python",
   "pygments_lexer": "ipython3",
   "version": "3.13.0"
  }
 },
 "nbformat": 4,
 "nbformat_minor": 5
}
