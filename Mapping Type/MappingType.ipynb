{
 "cells": [
  {
   "cell_type": "markdown",
   "id": "062f83bd-3c31-4d07-9293-b5f2a5af829d",
   "metadata": {},
   "source": [
    "Mapping type"
   ]
  },
  {
   "cell_type": "markdown",
   "id": "42a159d6-3485-488f-83b1-398a58e77469",
   "metadata": {},
   "source": [
    "Creating dictionary"
   ]
  },
  {
   "cell_type": "markdown",
   "id": "4d415a6e-7604-467e-acbe-1989ae1362e2",
   "metadata": {},
   "source": [
    "dict_one = {key:value , key:value, ....}"
   ]
  },
  {
   "cell_type": "code",
   "execution_count": 2,
   "id": "bfcd561f-8086-4776-9eed-329ee146181b",
   "metadata": {},
   "outputs": [],
   "source": [
    "person ={\n",
    "    \"name\" : \"john\",\n",
    "    \"age\" :22,\n",
    "    \"city\": \"Baltimor\",\n",
    "    \"gender\": \"male\",\n",
    "    \n",
    "}"
   ]
  },
  {
   "cell_type": "code",
   "execution_count": 3,
   "id": "64c4d710-e86d-449e-ba11-57f8545fe396",
   "metadata": {},
   "outputs": [
    {
     "name": "stdout",
     "output_type": "stream",
     "text": [
      "{'name': 'john', 'age': 22, 'city': 'Baltimor', 'gender': 'male'}\n"
     ]
    }
   ],
   "source": [
    "print(person)"
   ]
  },
  {
   "cell_type": "code",
   "execution_count": 4,
   "id": "7dae31ec-286a-4b9d-8a17-8d8d5f6fb7b1",
   "metadata": {},
   "outputs": [],
   "source": [
    "person1 = dict(name = \"sara\" , age = 23, city =\"NYC\", gender =\"female\")\n"
   ]
  },
  {
   "cell_type": "code",
   "execution_count": 5,
   "id": "29995a56-c2fd-4635-bf48-e995a93c62b8",
   "metadata": {},
   "outputs": [
    {
     "name": "stdout",
     "output_type": "stream",
     "text": [
      "{'name': 'sara', 'age': 23, 'city': 'NYC', 'gender': 'female'}\n"
     ]
    }
   ],
   "source": [
    "print(person1)"
   ]
  },
  {
   "cell_type": "code",
   "execution_count": 7,
   "id": "2fd820c2-f200-4041-a0fb-4613fd5dc58e",
   "metadata": {},
   "outputs": [
    {
     "name": "stdout",
     "output_type": "stream",
     "text": [
      "<class 'dict'>\n"
     ]
    }
   ],
   "source": [
    "print(type(person1))"
   ]
  },
  {
   "cell_type": "markdown",
   "id": "aa255d8c-7ace-423b-8e01-57f8692fa4ff",
   "metadata": {},
   "source": [
    "ACCESSING DICTIONARY"
   ]
  },
  {
   "cell_type": "code",
   "execution_count": 8,
   "id": "203fd1da-1ffa-466e-b21c-14663b295d8a",
   "metadata": {},
   "outputs": [
    {
     "data": {
      "text/plain": [
       "'Baltimor'"
      ]
     },
     "execution_count": 8,
     "metadata": {},
     "output_type": "execute_result"
    }
   ],
   "source": [
    "person[\"city\"]"
   ]
  },
  {
   "cell_type": "code",
   "execution_count": 12,
   "id": "4773cdfb-4a8f-4dbe-bde4-50eea5ce87f9",
   "metadata": {},
   "outputs": [
    {
     "data": {
      "text/plain": [
       "'male'"
      ]
     },
     "execution_count": 12,
     "metadata": {},
     "output_type": "execute_result"
    }
   ],
   "source": [
    "person.get(\"gender\",\"unknown\") "
   ]
  },
  {
   "cell_type": "code",
   "execution_count": 13,
   "id": "d565f0a1-50f6-4228-b48c-f09abb4af76b",
   "metadata": {},
   "outputs": [
    {
     "data": {
      "text/plain": [
       "'UNKNOWN'"
      ]
     },
     "execution_count": 13,
     "metadata": {},
     "output_type": "execute_result"
    }
   ],
   "source": [
    "person.get(\"DOB\", \"UNKNOWN\") #REturn unknown if key is not found. and it doesn't give error"
   ]
  },
  {
   "cell_type": "code",
   "execution_count": null,
   "id": "89018777-61b5-4ff1-bb4f-8cb36ef46384",
   "metadata": {},
   "outputs": [],
   "source": []
  },
  {
   "cell_type": "code",
   "execution_count": null,
   "id": "7bfc5f3e-d659-4df2-a4fd-1f0f4135483c",
   "metadata": {},
   "outputs": [],
   "source": []
  }
 ],
 "metadata": {
  "kernelspec": {
   "display_name": "Python 3 (ipykernel)",
   "language": "python",
   "name": "python3"
  },
  "language_info": {
   "codemirror_mode": {
    "name": "ipython",
    "version": 3
   },
   "file_extension": ".py",
   "mimetype": "text/x-python",
   "name": "python",
   "nbconvert_exporter": "python",
   "pygments_lexer": "ipython3",
   "version": "3.13.0"
  }
 },
 "nbformat": 4,
 "nbformat_minor": 5
}
