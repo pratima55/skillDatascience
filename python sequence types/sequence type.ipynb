{
 "cells": [
  {
   "cell_type": "markdown",
   "id": "22a1e550-ed03-451e-9c75-2c8a63846472",
   "metadata": {},
   "source": [
    "1.LIST"
   ]
  },
  {
   "cell_type": "code",
   "execution_count": 1,
   "id": "e6842ab7-a9ee-474c-b7ce-fd49fe3471f4",
   "metadata": {},
   "outputs": [],
   "source": [
    "x = [1,2,3,4,5]\n",
    "y =[\"apple\", \"mango\"]\n",
    "z = [1, \"apple\", True, 2.5,-9]\n"
   ]
  },
  {
   "cell_type": "code",
   "execution_count": 2,
   "id": "c822d7e4-ecfa-41fa-928e-2657b42f4d80",
   "metadata": {},
   "outputs": [
    {
     "data": {
      "text/plain": [
       "list"
      ]
     },
     "execution_count": 2,
     "metadata": {},
     "output_type": "execute_result"
    }
   ],
   "source": [
    "type(x)\n",
    "type(y)\n",
    "type(z)"
   ]
  },
  {
   "cell_type": "markdown",
   "id": "0dfb82d3-a4a5-4b92-9451-db633a096107",
   "metadata": {},
   "source": [
    "Accessing List items"
   ]
  },
  {
   "cell_type": "code",
   "execution_count": 3,
   "id": "ee2cebed-0f09-49a6-8eb5-0175a00c0094",
   "metadata": {},
   "outputs": [
    {
     "data": {
      "text/plain": [
       "-9"
      ]
     },
     "execution_count": 3,
     "metadata": {},
     "output_type": "execute_result"
    }
   ],
   "source": [
    "z[-1]"
   ]
  },
  {
   "cell_type": "code",
   "execution_count": 4,
   "id": "4621b7bd-8e15-4be2-94c6-6b81537e7bf4",
   "metadata": {},
   "outputs": [
    {
     "data": {
      "text/plain": [
       "[2, 3]"
      ]
     },
     "execution_count": 4,
     "metadata": {},
     "output_type": "execute_result"
    }
   ],
   "source": [
    "x[1:3]\n"
   ]
  },
  {
   "cell_type": "markdown",
   "id": "0551cc7b-f4ba-4415-b358-4b8aa7d85f6f",
   "metadata": {},
   "source": [
    "Slicing Lists"
   ]
  },
  {
   "cell_type": "code",
   "execution_count": 12,
   "id": "9dc40ff1-2007-4303-8905-7f1877e7b280",
   "metadata": {},
   "outputs": [],
   "source": [
    "numbers = list(range(0,30))"
   ]
  },
  {
   "cell_type": "code",
   "execution_count": 13,
   "id": "7f022a5b-5836-4341-91fe-2add79854495",
   "metadata": {
    "scrolled": true
   },
   "outputs": [
    {
     "name": "stdout",
     "output_type": "stream",
     "text": [
      "[0, 1, 2, 3, 4, 5, 6, 7, 8, 9, 10, 11, 12, 13, 14, 15, 16, 17, 18, 19, 20, 21, 22, 23, 24, 25, 26, 27, 28, 29]\n"
     ]
    }
   ],
   "source": [
    "print(numbers)"
   ]
  },
  {
   "cell_type": "code",
   "execution_count": 14,
   "id": "b1aec912-2869-4b42-bdf2-c5aa6dddd574",
   "metadata": {},
   "outputs": [
    {
     "name": "stdout",
     "output_type": "stream",
     "text": [
      "[2, 4, 6, 8, 10, 12, 14, 16, 18, 20, 22, 24, 26, 28]\n"
     ]
    }
   ],
   "source": [
    "print(numbers[2:29:2])\n"
   ]
  },
  {
   "cell_type": "markdown",
   "id": "a52adf29-078e-4262-82a3-0e26de344fcb",
   "metadata": {},
   "source": [
    "Modifying list"
   ]
  },
  {
   "cell_type": "code",
   "execution_count": 15,
   "id": "8b9c7b02-7e2e-44cb-979b-33ab3cce9fff",
   "metadata": {},
   "outputs": [],
   "source": [
    "x = [\"apple\", \"ball\", \"cat\", \"dog\",25.56]"
   ]
  },
  {
   "cell_type": "code",
   "execution_count": 17,
   "id": "728d31f0-78c1-4046-8422-5c00a8955c31",
   "metadata": {},
   "outputs": [],
   "source": [
    "x[2] = \"tiger\" # replace at any given index"
   ]
  },
  {
   "cell_type": "code",
   "execution_count": 19,
   "id": "610cfdd7-ff31-4ebc-aaf2-9f80c9d3ff59",
   "metadata": {},
   "outputs": [
    {
     "name": "stdout",
     "output_type": "stream",
     "text": [
      "['apple', 'ball', 'tiger', 'dog', 25.56]\n"
     ]
    }
   ],
   "source": [
    "print(x)"
   ]
  },
  {
   "cell_type": "code",
   "execution_count": 21,
   "id": "4021cc29-cbc3-4a43-b9b6-68d6d26c4464",
   "metadata": {},
   "outputs": [],
   "source": [
    "x.append(66)"
   ]
  },
  {
   "cell_type": "code",
   "execution_count": 22,
   "id": "84eefd8f-7cde-4558-aedb-6e3713893d94",
   "metadata": {},
   "outputs": [
    {
     "name": "stdout",
     "output_type": "stream",
     "text": [
      "['apple', 'ball', 'tiger', 'dog', 25.56, 66]\n"
     ]
    }
   ],
   "source": [
    "print(x)"
   ]
  },
  {
   "cell_type": "code",
   "execution_count": 23,
   "id": "3ef2b713-63b8-4e7c-b8b0-9e2a745858aa",
   "metadata": {},
   "outputs": [],
   "source": [
    "x.insert(2,\"cow\") #add "
   ]
  },
  {
   "cell_type": "code",
   "execution_count": 24,
   "id": "43cca322-d108-4e07-8638-e1a81b9b9c31",
   "metadata": {},
   "outputs": [
    {
     "name": "stdout",
     "output_type": "stream",
     "text": [
      "['apple', 'ball', 'cow', 'tiger', 'dog', 25.56, 66]\n"
     ]
    }
   ],
   "source": [
    "print(x)"
   ]
  },
  {
   "cell_type": "code",
   "execution_count": 29,
   "id": "49e1d34d-5d5d-4063-8df6-f52a2b661153",
   "metadata": {},
   "outputs": [],
   "source": [
    "x.remove(25.56)"
   ]
  },
  {
   "cell_type": "code",
   "execution_count": 30,
   "id": "3a96adb0-45ff-442f-bbc5-313709ab7f1a",
   "metadata": {},
   "outputs": [
    {
     "name": "stdout",
     "output_type": "stream",
     "text": [
      "['apple', 'ball', 'cow', 'tiger', 'dog', 66]\n"
     ]
    }
   ],
   "source": [
    "print(x)"
   ]
  },
  {
   "cell_type": "code",
   "execution_count": 35,
   "id": "ec12d25b-320f-4d32-ab42-2df4fac0c9d1",
   "metadata": {},
   "outputs": [],
   "source": [
    "pop_item = x.pop() #pop last item from list\n"
   ]
  },
  {
   "cell_type": "code",
   "execution_count": 33,
   "id": "2baaf01c-62e1-40b6-a193-df5f81673002",
   "metadata": {},
   "outputs": [
    {
     "data": {
      "text/plain": [
       "66"
      ]
     },
     "execution_count": 33,
     "metadata": {},
     "output_type": "execute_result"
    }
   ],
   "source": [
    "pop_item"
   ]
  },
  {
   "cell_type": "code",
   "execution_count": 40,
   "id": "1218d6dd-6f7d-4cd3-bb5a-32d3788bb376",
   "metadata": {},
   "outputs": [],
   "source": [
    "mylist =[1,88,55,24,96,0,3,66,58,10]"
   ]
  },
  {
   "cell_type": "code",
   "execution_count": 41,
   "id": "e7e45760-8ceb-41d9-b68d-3e36cfd5e6c4",
   "metadata": {},
   "outputs": [],
   "source": [
    "mylist.sort() #sorting in acending order"
   ]
  },
  {
   "cell_type": "code",
   "execution_count": 42,
   "id": "16c75224-0de2-4313-9064-130127e02a43",
   "metadata": {},
   "outputs": [
    {
     "name": "stdout",
     "output_type": "stream",
     "text": [
      "[0, 1, 3, 10, 24, 55, 58, 66, 88, 96]\n"
     ]
    }
   ],
   "source": [
    "print(mylist)"
   ]
  },
  {
   "cell_type": "code",
   "execution_count": 43,
   "id": "087054d3-8f33-41db-9365-c37e832ef5c3",
   "metadata": {},
   "outputs": [],
   "source": [
    "mylist.sort(reverse= True) #sorting in decending order"
   ]
  },
  {
   "cell_type": "code",
   "execution_count": 44,
   "id": "28bc64a8-696b-4191-874a-83d9c41cb0a2",
   "metadata": {},
   "outputs": [
    {
     "name": "stdout",
     "output_type": "stream",
     "text": [
      "[96, 88, 66, 58, 55, 24, 10, 3, 1, 0]\n"
     ]
    }
   ],
   "source": [
    "print(mylist)"
   ]
  },
  {
   "cell_type": "code",
   "execution_count": 46,
   "id": "f04f7bc6-3e3c-4c6c-a787-951dfdcdb394",
   "metadata": {},
   "outputs": [
    {
     "data": {
      "text/plain": [
       "1"
      ]
     },
     "execution_count": 46,
     "metadata": {},
     "output_type": "execute_result"
    }
   ],
   "source": [
    "mylist.count(24) #count the occurance in the list"
   ]
  },
  {
   "cell_type": "code",
   "execution_count": 49,
   "id": "f8ba6582-6d95-460f-b402-da5651ff2892",
   "metadata": {},
   "outputs": [],
   "source": [
    "mylist.reverse()"
   ]
  },
  {
   "cell_type": "code",
   "execution_count": 54,
   "id": "3222c300",
   "metadata": {},
   "outputs": [],
   "source": [
    "mylist =[1,88,55,24,96,0,3,66,58,10]"
   ]
  },
  {
   "cell_type": "code",
   "execution_count": 55,
   "id": "3ef105ed",
   "metadata": {},
   "outputs": [],
   "source": [
    "mylist.reverse() #reverse the order oflist"
   ]
  },
  {
   "cell_type": "code",
   "execution_count": 56,
   "id": "f8379977-cc67-433f-a276-a55144a782a4",
   "metadata": {},
   "outputs": [
    {
     "name": "stdout",
     "output_type": "stream",
     "text": [
      "[10, 58, 66, 3, 0, 96, 24, 55, 88, 1]\n"
     ]
    }
   ],
   "source": [
    "print(mylist)"
   ]
  },
  {
   "cell_type": "code",
   "execution_count": 57,
   "id": "26158569-c7eb-4923-b938-84ad2720407c",
   "metadata": {},
   "outputs": [
    {
     "data": {
      "text/plain": [
       "8"
      ]
     },
     "execution_count": 57,
     "metadata": {},
     "output_type": "execute_result"
    }
   ],
   "source": [
    "mylist.index(88) #return the index of the first occurance of the specified item in the list"
   ]
  },
  {
   "cell_type": "code",
   "execution_count": null,
   "id": "997ba2f0-44e7-4b24-8af4-70f59baf2871",
   "metadata": {},
   "outputs": [],
   "source": []
  },
  {
   "cell_type": "markdown",
   "id": "50a3a005-2400-4c89-87d8-7357fc6267ba",
   "metadata": {},
   "source": []
  },
  {
   "cell_type": "code",
   "execution_count": null,
   "id": "36f35b78",
   "metadata": {},
   "outputs": [],
   "source": []
  },
  {
   "cell_type": "markdown",
   "id": "ddab4099-5ec0-4e94-a9a1-93fedbe04f05",
   "metadata": {},
   "source": [
    "2.TUPLE"
   ]
  },
  {
   "cell_type": "markdown",
   "id": "27f643ef-05b3-41d5-8cb1-c4d249087dd5",
   "metadata": {},
   "source": [
    "Creating TUPLE\n",
    "tuple is collection of ordered, immutable objects. once created you cannot modify the contents of a tuple"
   ]
  },
  {
   "cell_type": "code",
   "execution_count": 61,
   "id": "37a11491-9950-48af-b081-b02dcd434bbe",
   "metadata": {},
   "outputs": [],
   "source": [
    "mytuple=(1,2,3,5,9,2,6,7,0)"
   ]
  },
  {
   "cell_type": "code",
   "execution_count": 62,
   "id": "6beae36d-e022-4347-acce-4ca7962bd18e",
   "metadata": {},
   "outputs": [
    {
     "name": "stdout",
     "output_type": "stream",
     "text": [
      "(1, 2, 3, 5, 9, 2, 6, 7, 0)\n"
     ]
    }
   ],
   "source": [
    "print(mytuple)"
   ]
  },
  {
   "cell_type": "markdown",
   "id": "b383b203-3e87-410a-8d7f-534b17a8fd13",
   "metadata": {},
   "source": [
    "ACCESSING TUPLE ELEMENT"
   ]
  },
  {
   "cell_type": "code",
   "execution_count": 63,
   "id": "57e680e5-e3ce-464a-8f57-d6ad7f3fe5e2",
   "metadata": {},
   "outputs": [
    {
     "data": {
      "text/plain": [
       "3"
      ]
     },
     "execution_count": 63,
     "metadata": {},
     "output_type": "execute_result"
    }
   ],
   "source": [
    "mytuple[2]"
   ]
  },
  {
   "cell_type": "markdown",
   "id": "2dd2c7f8-e5b8-4689-9682-4ede6a45c0d9",
   "metadata": {},
   "source": [
    "SLICING TUPLE"
   ]
  },
  {
   "cell_type": "code",
   "execution_count": 64,
   "id": "a1d1a23a-1290-480c-9254-311092323623",
   "metadata": {},
   "outputs": [
    {
     "data": {
      "text/plain": [
       "(1, 3, 9, 6, 0)"
      ]
     },
     "execution_count": 64,
     "metadata": {},
     "output_type": "execute_result"
    }
   ],
   "source": [
    "mytuple[::2]"
   ]
  },
  {
   "cell_type": "code",
   "execution_count": 67,
   "id": "3c595ac2-9bc4-48c8-b89d-c6aa50015526",
   "metadata": {},
   "outputs": [
    {
     "data": {
      "text/plain": [
       "(1, 2, 3, 5, 9, 2, 6, 7, 0)"
      ]
     },
     "execution_count": 67,
     "metadata": {},
     "output_type": "execute_result"
    }
   ],
   "source": [
    "mytuple"
   ]
  },
  {
   "cell_type": "code",
   "execution_count": 68,
   "id": "354bdb05-8b65-4d47-9d22-5928c3aec952",
   "metadata": {},
   "outputs": [
    {
     "data": {
      "text/plain": [
       "1"
      ]
     },
     "execution_count": 68,
     "metadata": {},
     "output_type": "execute_result"
    }
   ],
   "source": [
    "mytuple.count(9)"
   ]
  },
  {
   "cell_type": "code",
   "execution_count": 70,
   "id": "bbfca74d-14c6-4e30-96b5-26e28b71e45c",
   "metadata": {},
   "outputs": [
    {
     "data": {
      "text/plain": [
       "9"
      ]
     },
     "execution_count": 70,
     "metadata": {},
     "output_type": "execute_result"
    }
   ],
   "source": [
    "len(mytuple)"
   ]
  },
  {
   "cell_type": "code",
   "execution_count": 71,
   "id": "598f5364-5fcf-414c-9994-d7048e9c69a2",
   "metadata": {},
   "outputs": [
    {
     "data": {
      "text/plain": [
       "0"
      ]
     },
     "execution_count": 71,
     "metadata": {},
     "output_type": "execute_result"
    }
   ],
   "source": [
    "min(mytuple)"
   ]
  },
  {
   "cell_type": "code",
   "execution_count": 72,
   "id": "707eeb96-492f-4a74-b790-32eed5066cc7",
   "metadata": {},
   "outputs": [
    {
     "data": {
      "text/plain": [
       "9"
      ]
     },
     "execution_count": 72,
     "metadata": {},
     "output_type": "execute_result"
    }
   ],
   "source": [
    "max(mytuple)"
   ]
  },
  {
   "cell_type": "code",
   "execution_count": null,
   "id": "5fe2bc6f-c7f5-48c6-8367-4d0aa5013648",
   "metadata": {},
   "outputs": [],
   "source": []
  }
 ],
 "metadata": {
  "kernelspec": {
   "display_name": "Python 3 (ipykernel)",
   "language": "python",
   "name": "python3"
  },
  "language_info": {
   "codemirror_mode": {
    "name": "ipython",
    "version": 3
   },
   "file_extension": ".py",
   "mimetype": "text/x-python",
   "name": "python",
   "nbconvert_exporter": "python",
   "pygments_lexer": "ipython3",
   "version": "3.13.0"
  }
 },
 "nbformat": 4,
 "nbformat_minor": 5
}
