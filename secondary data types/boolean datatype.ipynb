{
 "cells": [
  {
   "cell_type": "markdown",
   "id": "3c9b41b5-c06d-40ee-ba24-a8560d04cbe4",
   "metadata": {},
   "source": [
    "**Python Boolean Datatype**"
   ]
  },
  {
   "cell_type": "code",
   "execution_count": 6,
   "id": "71ef1a18-0b4d-4603-b31d-e4087e95d23b",
   "metadata": {},
   "outputs": [
    {
     "data": {
      "text/plain": [
       "False"
      ]
     },
     "execution_count": 6,
     "metadata": {},
     "output_type": "execute_result"
    }
   ],
   "source": [
    "a=5\n",
    "b=10\n",
    "a>b"
   ]
  },
  {
   "cell_type": "code",
   "execution_count": 7,
   "id": "a4a7e13c-f0c3-4364-afdf-a40c15ccd00a",
   "metadata": {},
   "outputs": [
    {
     "data": {
      "text/plain": [
       "True"
      ]
     },
     "execution_count": 7,
     "metadata": {},
     "output_type": "execute_result"
    }
   ],
   "source": [
    "b>a"
   ]
  },
  {
   "cell_type": "code",
   "execution_count": 9,
   "id": "f9984df1-e21e-4314-81d9-0b220eeb0adf",
   "metadata": {},
   "outputs": [],
   "source": [
    "x = True\n",
    "y = False"
   ]
  },
  {
   "cell_type": "code",
   "execution_count": 10,
   "id": "7bed4b4e-6281-4237-9907-89d74f7291c0",
   "metadata": {},
   "outputs": [
    {
     "name": "stdout",
     "output_type": "stream",
     "text": [
      "False\n"
     ]
    }
   ],
   "source": [
    "print(x and y)"
   ]
  },
  {
   "cell_type": "code",
   "execution_count": 11,
   "id": "272489e2-f0f4-42ba-a88f-deea9fe3cc8d",
   "metadata": {},
   "outputs": [
    {
     "name": "stdout",
     "output_type": "stream",
     "text": [
      "True\n"
     ]
    }
   ],
   "source": [
    "print(x or y)"
   ]
  },
  {
   "cell_type": "code",
   "execution_count": 12,
   "id": "beccecd2-1a77-44fb-8553-99a4dc7e3128",
   "metadata": {},
   "outputs": [
    {
     "name": "stdout",
     "output_type": "stream",
     "text": [
      "True\n"
     ]
    }
   ],
   "source": [
    "print (x != y)"
   ]
  },
  {
   "cell_type": "code",
   "execution_count": 13,
   "id": "50967650-c7b3-41dc-ac33-a6960423ee1e",
   "metadata": {},
   "outputs": [
    {
     "name": "stdout",
     "output_type": "stream",
     "text": [
      "False\n"
     ]
    }
   ],
   "source": [
    "print( not x)"
   ]
  },
  {
   "cell_type": "code",
   "execution_count": 14,
   "id": "0cc9ff20-e5a4-4100-b9fe-564dfe71c496",
   "metadata": {},
   "outputs": [
    {
     "name": "stdout",
     "output_type": "stream",
     "text": [
      "True\n"
     ]
    }
   ],
   "source": [
    "print(not y)"
   ]
  },
  {
   "cell_type": "markdown",
   "id": "103673f2-1ea0-4b82-8b7f-7cbdfa478f6e",
   "metadata": {},
   "source": [
    "* In python any non0zero, non empty string, non-empty list,non-empty dictionary, or non-None object is consider True. Zero,rmpty strings, empty lists, empty tuple,empty dictionary, and none are considered False*"
   ]
  },
  {
   "cell_type": "code",
   "execution_count": 16,
   "id": "2d78dd54-9e46-4ae8-895b-9e8235fec66c",
   "metadata": {},
   "outputs": [
    {
     "name": "stdout",
     "output_type": "stream",
     "text": [
      "True\n"
     ]
    }
   ],
   "source": [
    "name = \" \" \n",
    "print(bool(name))"
   ]
  },
  {
   "cell_type": "code",
   "execution_count": 19,
   "id": "ccadc413-854a-4e41-abe1-70b481720f51",
   "metadata": {},
   "outputs": [
    {
     "name": "stdout",
     "output_type": "stream",
     "text": [
      "True\n"
     ]
    }
   ],
   "source": [
    "obj = object()\n",
    "print(bool(obj))"
   ]
  },
  {
   "cell_type": "code",
   "execution_count": 20,
   "id": "3d1c137b-7ccd-44b8-8afc-da8cba8c4f69",
   "metadata": {},
   "outputs": [
    {
     "name": "stdout",
     "output_type": "stream",
     "text": [
      "False\n"
     ]
    }
   ],
   "source": [
    "none_obj = None\n",
    "print(bool(none_obj))"
   ]
  },
  {
   "cell_type": "code",
   "execution_count": 21,
   "id": "3287b1cd-acb9-4eec-a5af-8a1c1c56113e",
   "metadata": {},
   "outputs": [
    {
     "name": "stdout",
     "output_type": "stream",
     "text": [
      "False\n"
     ]
    }
   ],
   "source": [
    "s = \"ram\".startswith(\"a\")\n",
    "print(s)"
   ]
  },
  {
   "cell_type": "code",
   "execution_count": null,
   "id": "8694d64d-977a-41fc-8284-6b49d6ade1b8",
   "metadata": {},
   "outputs": [],
   "source": []
  }
 ],
 "metadata": {
  "kernelspec": {
   "display_name": "Python 3 (ipykernel)",
   "language": "python",
   "name": "python3"
  },
  "language_info": {
   "codemirror_mode": {
    "name": "ipython",
    "version": 3
   },
   "file_extension": ".py",
   "mimetype": "text/x-python",
   "name": "python",
   "nbconvert_exporter": "python",
   "pygments_lexer": "ipython3",
   "version": "3.13.0"
  }
 },
 "nbformat": 4,
 "nbformat_minor": 5
}
