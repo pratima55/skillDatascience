{
 "cells": [
  {
   "cell_type": "markdown",
   "id": "0647fe59-dc05-432a-892b-e1927d6ef20f",
   "metadata": {},
   "source": [
    "**Python Binary Type**\n",
    "\n",
    "\n",
    "In python, binary data is represented using the bytes and bytearray"
   ]
  },
  {
   "cell_type": "code",
   "execution_count": 2,
   "id": "3d53ed32-a204-45d4-a0b8-f900a8219aa5",
   "metadata": {},
   "outputs": [],
   "source": [
    "b = b\"\\x00\\x01\\x02\\x03\""
   ]
  },
  {
   "cell_type": "code",
   "execution_count": 3,
   "id": "af876361-c83a-4489-bc2b-64257d8a52f1",
   "metadata": {},
   "outputs": [
    {
     "name": "stdout",
     "output_type": "stream",
     "text": [
      "<class 'bytes'>\n"
     ]
    }
   ],
   "source": [
    "print(type(b))"
   ]
  },
  {
   "cell_type": "code",
   "execution_count": 4,
   "id": "e133e6af-33a7-499e-9c45-c0640347f9f8",
   "metadata": {},
   "outputs": [],
   "source": [
    "b = bytes([0,1,2,3,4])"
   ]
  },
  {
   "cell_type": "code",
   "execution_count": 6,
   "id": "99519664-d639-4405-84d1-a334b995d06a",
   "metadata": {},
   "outputs": [
    {
     "name": "stdout",
     "output_type": "stream",
     "text": [
      "b'\\x00\\x01\\x02\\x03\\x04'\n"
     ]
    }
   ],
   "source": [
    "print( b)"
   ]
  },
  {
   "cell_type": "code",
   "execution_count": 7,
   "id": "ddcb9e2e-d048-4231-845f-3d688f905961",
   "metadata": {},
   "outputs": [],
   "source": [
    "ba = bytearray([0,1,2,3,4])"
   ]
  },
  {
   "cell_type": "code",
   "execution_count": 8,
   "id": "b2983cb4-255a-41a6-9a36-2d0f43c84a82",
   "metadata": {},
   "outputs": [
    {
     "name": "stdout",
     "output_type": "stream",
     "text": [
      "bytearray(b'\\x00\\x01\\x02\\x03\\x04')\n"
     ]
    }
   ],
   "source": [
    "print(ba)"
   ]
  },
  {
   "cell_type": "code",
   "execution_count": 9,
   "id": "ff335920-83ca-4b6a-a667-d9ad7d39fe2a",
   "metadata": {},
   "outputs": [
    {
     "name": "stdout",
     "output_type": "stream",
     "text": [
      "bytearray(b'\\x00\\x01\\x02\\x03')\n"
     ]
    },
    {
     "data": {
      "text/plain": [
       "bytearray"
      ]
     },
     "execution_count": 9,
     "metadata": {},
     "output_type": "execute_result"
    }
   ],
   "source": [
    "ba = bytearray(b\"\\x00\\x01\\x02\\x03\")\n",
    "print(ba)\n",
    "type(ba)"
   ]
  },
  {
   "cell_type": "code",
   "execution_count": null,
   "id": "cf257be1-291e-4859-ade8-fe92a89d59f2",
   "metadata": {},
   "outputs": [],
   "source": []
  }
 ],
 "metadata": {
  "kernelspec": {
   "display_name": "Python 3 (ipykernel)",
   "language": "python",
   "name": "python3"
  },
  "language_info": {
   "codemirror_mode": {
    "name": "ipython",
    "version": 3
   },
   "file_extension": ".py",
   "mimetype": "text/x-python",
   "name": "python",
   "nbconvert_exporter": "python",
   "pygments_lexer": "ipython3",
   "version": "3.13.0"
  }
 },
 "nbformat": 4,
 "nbformat_minor": 5
}
