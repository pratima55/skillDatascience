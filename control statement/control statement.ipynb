{
 "cells": [
  {
   "cell_type": "markdown",
   "id": "39eb23fd-5f74-43b7-9a85-a13d0ba2bac4",
   "metadata": {},
   "source": [
    "**Python conditional statement**"
   ]
  },
  {
   "cell_type": "markdown",
   "id": "fefe821e-4776-4eae-bc3f-50c89539cc48",
   "metadata": {},
   "source": [
    "*syntax*\n",
    "\n",
    "if condition:\n",
    "    do something"
   ]
  },
  {
   "cell_type": "code",
   "execution_count": 1,
   "id": "96e44b12-80d3-4f5d-b465-d91f0aced824",
   "metadata": {},
   "outputs": [
    {
     "name": "stdout",
     "output_type": "stream",
     "text": [
      "x is greater than 0\n"
     ]
    }
   ],
   "source": [
    "x = 45\n",
    "if x>0:\n",
    "    print(f\"x is greater than 0\")"
   ]
  },
  {
   "cell_type": "code",
   "execution_count": 9,
   "id": "878823a4-5b98-46b3-943a-18c5d6b7b15f",
   "metadata": {},
   "outputs": [
    {
     "name": "stdout",
     "output_type": "stream",
     "text": [
      "61\n",
      "out of block\n"
     ]
    }
   ],
   "source": [
    "if x!=0:\n",
    "    print(x)\n",
    "print(\"out of block\")    "
   ]
  },
  {
   "cell_type": "code",
   "execution_count": 5,
   "id": "0d826f8f-bb69-456b-9cbd-85c5ddbe2ee8",
   "metadata": {},
   "outputs": [],
   "source": [
    "x= 5\n",
    "y=-5\n",
    "if (x>0 and y>0):\n",
    "    print(\"both x and y are positive\")\n",
    "    "
   ]
  },
  {
   "cell_type": "code",
   "execution_count": null,
   "id": "a796414a-6089-4539-a327-10a11052cee9",
   "metadata": {},
   "outputs": [],
   "source": []
  },
  {
   "cell_type": "code",
   "execution_count": null,
   "id": "88ed6e91-2791-4fb3-9d4a-5491dd179f2a",
   "metadata": {},
   "outputs": [],
   "source": []
  },
  {
   "cell_type": "code",
   "execution_count": 8,
   "id": "d58bbcea-37f6-42b2-931a-dfa836799095",
   "metadata": {},
   "outputs": [
    {
     "name": "stdout",
     "output_type": "stream",
     "text": [
      "number is odd\n"
     ]
    }
   ],
   "source": [
    "x = 61\n",
    "\n",
    "if x%2==0:\n",
    "    print(\"number is even\")\n",
    "    \n",
    "else:\n",
    "    print(\"number is odd\")\n",
    "\n",
    "    "
   ]
  },
  {
   "cell_type": "code",
   "execution_count": 10,
   "id": "744b09d4-18cc-43a4-bd1d-c4d3de870d9f",
   "metadata": {},
   "outputs": [
    {
     "name": "stdout",
     "output_type": "stream",
     "text": [
      "number is positive\n"
     ]
    }
   ],
   "source": [
    "#check number is positive or negative\n",
    "x = 45\n",
    "if x>0:\n",
    "    print(\"number is positive\")\n",
    "else :\n",
    "    print(\"number is negative\")"
   ]
  },
  {
   "cell_type": "code",
   "execution_count": null,
   "id": "f0998f25-cb89-4f87-a1f3-53fe674782e0",
   "metadata": {},
   "outputs": [],
   "source": []
  },
  {
   "cell_type": "code",
   "execution_count": 14,
   "id": "ebe93462-c936-431f-b31e-1bbc4ec51cb5",
   "metadata": {},
   "outputs": [
    {
     "name": "stdout",
     "output_type": "stream",
     "text": [
      "x is zero\n"
     ]
    }
   ],
   "source": [
    "x = 0\n",
    "if x>0:\n",
    "    print(\"x is positive\")\n",
    "elif x==0:\n",
    "    print(\"x is zero\")\n",
    "else :\n",
    "    print(\"x is negative\")"
   ]
  },
  {
   "cell_type": "markdown",
   "id": "1cf9bc70-bb33-4f8c-9981-67e144ab3a13",
   "metadata": {},
   "source": [
    "###WAP to grade a number (100-80) Grade A, (80-60) Grade B , (60-40) Grade C and less than 40 Grade D. [if and elif control statement]###\n"
   ]
  },
  {
   "cell_type": "code",
   "execution_count": 25,
   "id": "e8f99481-44c1-449b-9606-94015ad83a2a",
   "metadata": {},
   "outputs": [
    {
     "name": "stdin",
     "output_type": "stream",
     "text": [
      "enter your marks 65\n"
     ]
    },
    {
     "name": "stdout",
     "output_type": "stream",
     "text": [
      "Grade B\n"
     ]
    }
   ],
   "source": [
    "marks = int(input(\"enter your marks\"))\n",
    "if marks in range(80,101):\n",
    "    print(\"Grade A\")\n",
    "elif marks in range(60,80):\n",
    "    print(\"Grade B\")\n",
    "elif marks in range ( 40,60):\n",
    "    print( \"Grade C\")\n",
    "elif marks <=40 :\n",
    "    print(\"Grade D\")\n",
    "    "
   ]
  },
  {
   "cell_type": "code",
   "execution_count": null,
   "id": "0b68d065-ae62-41b8-a9e5-cbc6e9b145b4",
   "metadata": {},
   "outputs": [],
   "source": []
  },
  {
   "cell_type": "markdown",
   "id": "c3c9dd61-5d2e-45c2-bc30-ec30efac2933",
   "metadata": {},
   "source": [
    "**Nested loop**"
   ]
  },
  {
   "cell_type": "code",
   "execution_count": 2,
   "id": "73900043-6868-4b26-90dd-490f698dc958",
   "metadata": {},
   "outputs": [
    {
     "name": "stdout",
     "output_type": "stream",
     "text": [
      "Given number -200 is negative\n",
      "Given number -200 is  higher negative\n"
     ]
    }
   ],
   "source": [
    "x= -200\n",
    "if x>0:\n",
    "    print(f\"Given number {x} is positive\")\n",
    "    if x>100:\n",
    "        print(f\"Given number {x} is  higher positive\")\n",
    "    else :\n",
    "        print(f\"Given number {x} is  lower positive\")\n",
    "elif x == 0:\n",
    "    print(f\"Given number {x} is zero\")\n",
    "else:\n",
    "    print(f\"Given number {x} is negative\")\n",
    "    if x<(-100):\n",
    "        print(f\"Given number {x} is  higher negative\")\n",
    "    else :\n",
    "        print(f\"Given number {x} is  lower negative\")\n",
    "    "
   ]
  },
  {
   "cell_type": "code",
   "execution_count": null,
   "id": "e5c3ddc9-fa50-4e13-973d-f4f200ff7e2d",
   "metadata": {},
   "outputs": [],
   "source": []
  }
 ],
 "metadata": {
  "kernelspec": {
   "display_name": "Python 3 (ipykernel)",
   "language": "python",
   "name": "python3"
  },
  "language_info": {
   "codemirror_mode": {
    "name": "ipython",
    "version": 3
   },
   "file_extension": ".py",
   "mimetype": "text/x-python",
   "name": "python",
   "nbconvert_exporter": "python",
   "pygments_lexer": "ipython3",
   "version": "3.13.0"
  }
 },
 "nbformat": 4,
 "nbformat_minor": 5
}
