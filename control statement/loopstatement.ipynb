{
 "cells": [
  {
   "cell_type": "markdown",
   "id": "6ada71f5-72b5-4f4a-b17d-10bf0d4d16e9",
   "metadata": {},
   "source": [
    "**Python loop statement**"
   ]
  },
  {
   "cell_type": "markdown",
   "id": "9b628d5e-7959-4793-b9e7-d02a9e2b20fb",
   "metadata": {},
   "source": [
    "*syntax:*\n",
    "\n",
    "for item in items:\n",
    "\n",
    "    do something"
   ]
  },
  {
   "cell_type": "code",
   "execution_count": 1,
   "id": "4902b1d1-466b-4970-a49f-42f77d9c98ef",
   "metadata": {},
   "outputs": [
    {
     "name": "stdout",
     "output_type": "stream",
     "text": [
      "step 0\n",
      "apple\n",
      "step 1\n",
      "mango\n",
      "step 2\n",
      "cherry\n"
     ]
    }
   ],
   "source": [
    "fruits = [\"apple\", \"mango\", \"cherry\"]\n",
    "i=0\n",
    "for each in fruits:\n",
    "    print(f\"step {i}\")\n",
    "    print(each)\n",
    "    i =i +1"
   ]
  },
  {
   "cell_type": "markdown",
   "id": "3ebdff61-4ae9-4300-b900-755b22dd4c11",
   "metadata": {},
   "source": [
    "**Range**"
   ]
  },
  {
   "cell_type": "code",
   "execution_count": 2,
   "id": "842146ab-58ad-449d-baa2-25ba21973bf3",
   "metadata": {},
   "outputs": [
    {
     "name": "stdout",
     "output_type": "stream",
     "text": [
      "0\n",
      "1\n",
      "2\n",
      "3\n",
      "4\n",
      "5\n",
      "6\n",
      "7\n",
      "8\n",
      "9\n"
     ]
    }
   ],
   "source": [
    "for i in range(0,10):\n",
    "    print(i)"
   ]
  },
  {
   "cell_type": "markdown",
   "id": "9feda439-3ea3-4882-bac7-a81eb3340152",
   "metadata": {},
   "source": [
    "*\n",
    "**\n",
    "***\n",
    "****\n",
    "*****"
   ]
  },
  {
   "cell_type": "code",
   "execution_count": 4,
   "id": "3f304c7e-514a-4454-8d6b-200b2e3f10cc",
   "metadata": {},
   "outputs": [
    {
     "name": "stdout",
     "output_type": "stream",
     "text": [
      "x\n",
      "xx\n",
      "xxx\n",
      "xxxx\n",
      "xxxxx\n"
     ]
    }
   ],
   "source": [
    "for i in range(1,6):\n",
    "    print(\"x\"*i)\n",
    "    "
   ]
  },
  {
   "cell_type": "code",
   "execution_count": null,
   "id": "2ce70205-a188-40f0-99d2-4c0f71275b03",
   "metadata": {},
   "outputs": [],
   "source": []
  }
 ],
 "metadata": {
  "kernelspec": {
   "display_name": "Python 3 (ipykernel)",
   "language": "python",
   "name": "python3"
  },
  "language_info": {
   "codemirror_mode": {
    "name": "ipython",
    "version": 3
   },
   "file_extension": ".py",
   "mimetype": "text/x-python",
   "name": "python",
   "nbconvert_exporter": "python",
   "pygments_lexer": "ipython3",
   "version": "3.13.0"
  }
 },
 "nbformat": 4,
 "nbformat_minor": 5
}
