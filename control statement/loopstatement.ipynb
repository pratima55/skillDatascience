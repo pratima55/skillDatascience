{
 "cells": [
  {
   "cell_type": "markdown",
   "id": "6ada71f5-72b5-4f4a-b17d-10bf0d4d16e9",
   "metadata": {},
   "source": [
    "**Python loop statement**"
   ]
  },
  {
   "cell_type": "markdown",
   "id": "9b628d5e-7959-4793-b9e7-d02a9e2b20fb",
   "metadata": {},
   "source": [
    "*syntax:*\n",
    "\n",
    "for item in items:\n",
    "\n",
    "    do something"
   ]
  },
  {
   "cell_type": "code",
   "execution_count": 1,
   "id": "4902b1d1-466b-4970-a49f-42f77d9c98ef",
   "metadata": {},
   "outputs": [
    {
     "name": "stdout",
     "output_type": "stream",
     "text": [
      "step 0\n",
      "apple\n",
      "step 1\n",
      "mango\n",
      "step 2\n",
      "cherry\n"
     ]
    }
   ],
   "source": [
    "fruits = [\"apple\", \"mango\", \"cherry\"]\n",
    "i=0\n",
    "for each in fruits:\n",
    "    print(f\"step {i}\")\n",
    "    print(each)\n",
    "    i =i +1"
   ]
  },
  {
   "cell_type": "markdown",
   "id": "3ebdff61-4ae9-4300-b900-755b22dd4c11",
   "metadata": {},
   "source": [
    "**Range**"
   ]
  },
  {
   "cell_type": "code",
   "execution_count": 2,
   "id": "842146ab-58ad-449d-baa2-25ba21973bf3",
   "metadata": {},
   "outputs": [
    {
     "name": "stdout",
     "output_type": "stream",
     "text": [
      "0\n",
      "1\n",
      "2\n",
      "3\n",
      "4\n",
      "5\n",
      "6\n",
      "7\n",
      "8\n",
      "9\n"
     ]
    }
   ],
   "source": [
    "for i in range(0,10):\n",
    "    print(i)"
   ]
  },
  {
   "cell_type": "markdown",
   "id": "9feda439-3ea3-4882-bac7-a81eb3340152",
   "metadata": {},
   "source": [
    "*\n",
    "**\n",
    "***\n",
    "****\n",
    "*****"
   ]
  },
  {
   "cell_type": "code",
   "execution_count": 4,
   "id": "3f304c7e-514a-4454-8d6b-200b2e3f10cc",
   "metadata": {},
   "outputs": [
    {
     "name": "stdout",
     "output_type": "stream",
     "text": [
      "x\n",
      "xx\n",
      "xxx\n",
      "xxxx\n",
      "xxxxx\n"
     ]
    }
   ],
   "source": [
    "for i in range(1,6):\n",
    "    print(\"x\"*i)\n",
    "    "
   ]
  },
  {
   "cell_type": "markdown",
   "id": "d539c0c1-6119-4784-a5b4-d6fce0396faf",
   "metadata": {},
   "source": [
    "**Nested loop**\n",
    "\n",
    "loop inside loop"
   ]
  },
  {
   "cell_type": "code",
   "execution_count": 1,
   "id": "758f49b0-2e8c-4065-9db8-56ac4239df89",
   "metadata": {},
   "outputs": [],
   "source": [
    "adjective  = [\"red\", \"big\", \"tasty\"]\n",
    "fruits = [\"apple\", \"banana\", \"grapes\"]\n"
   ]
  },
  {
   "cell_type": "code",
   "execution_count": 2,
   "id": "610f9d77-da48-4f13-805f-78a216f42a67",
   "metadata": {},
   "outputs": [
    {
     "name": "stdout",
     "output_type": "stream",
     "text": [
      "red apple\n",
      "red banana\n",
      "red grapes\n",
      "big apple\n",
      "big banana\n",
      "big grapes\n",
      "tasty apple\n",
      "tasty banana\n",
      "tasty grapes\n"
     ]
    }
   ],
   "source": [
    "for adj in adjective:\n",
    "    for fruit in fruits:\n",
    "        print(adj, fruit)\n",
    "        "
   ]
  },
  {
   "cell_type": "markdown",
   "id": "769a3e89-9437-43a6-b0cc-98c2028b2e00",
   "metadata": {},
   "source": [
    "###Write a Program to Display the Multiplication Table of a Given Number:\n",
    "\n",
    " \n",
    "Create a Python program that asks the user to enter an integer, and then prints the multiplication table for that number from 1 to 10. Use a for loop to generate and display the table.\n",
    " "
   ]
  },
  {
   "cell_type": "code",
   "execution_count": 3,
   "id": "83d98d50-154b-4889-a051-4137c02b3833",
   "metadata": {},
   "outputs": [
    {
     "name": "stdin",
     "output_type": "stream",
     "text": [
      "enter the number:  1\n"
     ]
    },
    {
     "name": "stdout",
     "output_type": "stream",
     "text": [
      "1 * 1 = 1\n",
      "1 * 2 = 2\n",
      "1 * 3 = 3\n",
      "1 * 4 = 4\n",
      "1 * 5 = 5\n",
      "1 * 6 = 6\n",
      "1 * 7 = 7\n",
      "1 * 8 = 8\n",
      "1 * 9 = 9\n",
      "1 * 10 = 10\n"
     ]
    }
   ],
   "source": [
    "nums = int(input(\"enter the number: \"))\n",
    "for i in  range(1,11):\n",
    "    print(f\"{nums} * {i} = {nums *i}\") "
   ]
  },
  {
   "cell_type": "code",
   "execution_count": 1,
   "id": "b6b4540d-86fd-45c0-aef8-4c2e1e6c8686",
   "metadata": {},
   "outputs": [
    {
     "name": "stdout",
     "output_type": "stream",
     "text": [
      "{'e', 'd', 'f', 's', 'r', 'a'}\n",
      "e\n",
      "d\n",
      "f\n",
      "s\n",
      "r\n",
      "a\n"
     ]
    }
   ],
   "source": [
    "word =\"asdrfdseasd\"\n",
    "conv = set(word)\n",
    "print(conv)\n",
    "for  char in conv:\n",
    "    \n",
    "    print(char)"
   ]
  },
  {
   "cell_type": "code",
   "execution_count": 2,
   "id": "38eb7f36-e8b5-493c-8748-44a44ad2d219",
   "metadata": {},
   "outputs": [
    {
     "data": {
      "text/plain": [
       "{'a', 'd', 'e', 'f', 'r', 's'}"
      ]
     },
     "execution_count": 2,
     "metadata": {},
     "output_type": "execute_result"
    }
   ],
   "source": [
    "conv"
   ]
  },
  {
   "cell_type": "code",
   "execution_count": 4,
   "id": "4df59b7b-0b35-4547-b594-6e7f09bb42c0",
   "metadata": {},
   "outputs": [
    {
     "data": {
      "text/plain": [
       "'mango'"
      ]
     },
     "execution_count": 4,
     "metadata": {},
     "output_type": "execute_result"
    }
   ],
   "source": [
    "dd = {5:\"apple\", 3:\"ball\"}\n",
    "dd.get(0,\"mango\")"
   ]
  },
  {
   "cell_type": "markdown",
   "id": "f4bfcf47-b67c-425e-a5fd-f058214530e9",
   "metadata": {},
   "source": [
    "**merging 2 dict**"
   ]
  },
  {
   "cell_type": "code",
   "execution_count": 5,
   "id": "1313eacd-d94b-4231-82d8-7404533b21da",
   "metadata": {},
   "outputs": [],
   "source": [
    "dd = {5:\"apple\", 2:\"ball\"}\n",
    "bb ={3:\"cat\", 4:\"dog\"}"
   ]
  },
  {
   "cell_type": "code",
   "execution_count": 7,
   "id": "1bdb72be-75db-43a1-b58e-20e2fd53a159",
   "metadata": {},
   "outputs": [
    {
     "data": {
      "text/plain": [
       "{5: 'apple', 2: 'ball', 3: 'cat', 4: 'dog'}"
      ]
     },
     "execution_count": 7,
     "metadata": {},
     "output_type": "execute_result"
    }
   ],
   "source": [
    "{**dd, **bb}"
   ]
  },
  {
   "cell_type": "code",
   "execution_count": 9,
   "id": "8f624b25-b681-419b-b884-a16b81b314e7",
   "metadata": {},
   "outputs": [
    {
     "data": {
      "text/plain": [
       "{5: 'apple', 2: 'ball', 3: 'cat', 4: 'dog'}"
      ]
     },
     "execution_count": 9,
     "metadata": {},
     "output_type": "execute_result"
    }
   ],
   "source": [
    "(dd | bb)"
   ]
  },
  {
   "cell_type": "code",
   "execution_count": null,
   "id": "fcb729ee-5a2a-447b-8a50-0d3bdd256b6c",
   "metadata": {},
   "outputs": [],
   "source": []
  },
  {
   "cell_type": "code",
   "execution_count": 13,
   "id": "822db453-4879-459f-aed0-7137d7227b83",
   "metadata": {},
   "outputs": [],
   "source": [
    "list1 = [\"ball\",\"cat\"]\n",
    "\n",
    "list2 =list1.copy()\n"
   ]
  },
  {
   "cell_type": "code",
   "execution_count": 16,
   "id": "0ade4445-1ef1-43ba-8473-ca0e3dfdecd0",
   "metadata": {},
   "outputs": [],
   "source": [
    "list2 =[0]"
   ]
  },
  {
   "cell_type": "code",
   "execution_count": 17,
   "id": "00ae7730-702e-4e2c-876e-d288fed19b10",
   "metadata": {},
   "outputs": [
    {
     "data": {
      "text/plain": [
       "['ball', 'cat']"
      ]
     },
     "execution_count": 17,
     "metadata": {},
     "output_type": "execute_result"
    }
   ],
   "source": [
    "list1"
   ]
  },
  {
   "cell_type": "code",
   "execution_count": 18,
   "id": "f0484549-3ae3-48a7-bdad-1c90b77f6feb",
   "metadata": {},
   "outputs": [
    {
     "data": {
      "text/plain": [
       "[0]"
      ]
     },
     "execution_count": 18,
     "metadata": {},
     "output_type": "execute_result"
    }
   ],
   "source": [
    "list2"
   ]
  },
  {
   "cell_type": "markdown",
   "id": "f0259444-5ddc-4a9a-bca0-5a992c02257e",
   "metadata": {},
   "source": [
    "**loop in dict**"
   ]
  },
  {
   "cell_type": "code",
   "execution_count": 28,
   "id": "05d802fa-582c-4cbd-b493-5ef56dbfb042",
   "metadata": {},
   "outputs": [
    {
     "name": "stdout",
     "output_type": "stream",
     "text": [
      "name\n",
      "john\n",
      "age\n",
      "30\n",
      "city\n",
      "newyork\n",
      "gender\n",
      "male\n"
     ]
    }
   ],
   "source": [
    "person ={\"name\": \"john\", \"age\":\"30\", \"city\":\"newyork\", \"gender\":\"male\"}\n",
    "for key, value in person.items():\n",
    "    print(key)\n",
    "    \n",
    "    print(value)"
   ]
  },
  {
   "cell_type": "code",
   "execution_count": 25,
   "id": "fcac8d0f-c8a2-420f-9224-50657a686d1f",
   "metadata": {},
   "outputs": [
    {
     "name": "stdout",
     "output_type": "stream",
     "text": [
      "male\n"
     ]
    }
   ],
   "source": []
  },
  {
   "cell_type": "code",
   "execution_count": 31,
   "id": "5ab9a57b-c4a5-454a-b207-182d19189ecb",
   "metadata": {},
   "outputs": [
    {
     "name": "stdout",
     "output_type": "stream",
     "text": [
      "1 2\n",
      "3 4\n",
      "5 6\n",
      "7 8\n"
     ]
    }
   ],
   "source": [
    "long_list= [tuple(range(1,5)), tuple(range(5,9))]\n",
    "for a,b,c,d in long_list:\n",
    "    print(a,b)\n",
    "    print(c,d)"
   ]
  },
  {
   "cell_type": "code",
   "execution_count": null,
   "id": "7b1f74c6-36e6-4f3f-a26f-16c8487e1fcd",
   "metadata": {},
   "outputs": [],
   "source": []
  }
 ],
 "metadata": {
  "kernelspec": {
   "display_name": "Python 3 (ipykernel)",
   "language": "python",
   "name": "python3"
  },
  "language_info": {
   "codemirror_mode": {
    "name": "ipython",
    "version": 3
   },
   "file_extension": ".py",
   "mimetype": "text/x-python",
   "name": "python",
   "nbconvert_exporter": "python",
   "pygments_lexer": "ipython3",
   "version": "3.13.0"
  }
 },
 "nbformat": 4,
 "nbformat_minor": 5
}
